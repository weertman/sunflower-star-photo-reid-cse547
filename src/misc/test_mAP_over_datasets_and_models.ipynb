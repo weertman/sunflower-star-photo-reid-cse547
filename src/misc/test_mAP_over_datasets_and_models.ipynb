{
 "cells": [
  {
   "cell_type": "code",
   "execution_count": 26,
   "metadata": {
    "collapsed": true,
    "ExecuteTime": {
     "end_time": "2024-05-30T16:53:28.846632800Z",
     "start_time": "2024-05-30T16:53:28.837634800Z"
    }
   },
   "outputs": [],
   "source": [
    "import torch\n",
    "import numpy as np\n",
    "import pandas as pd\n",
    "from sklearn.metrics import pairwise_distances\n",
    "from src.densenet.densenet import CustomDenseNet\n",
    "from src.densenet.runtime_transforms import RuntimeTransforms\n",
    "import os\n",
    "import glob\n",
    "from PIL import Image\n",
    "from tqdm import tqdm\n",
    "from src.densenet.compute_mAP import compute_mAP_for_ks_numpy\n",
    "import datetime"
   ]
  },
  {
   "cell_type": "code",
   "execution_count": 27,
   "outputs": [
    {
     "data": {
      "text/plain": "'C:\\\\Users\\\\wlwee\\\\OneDrive\\\\Documents\\\\sunflower-star-photo-reid\\\\src\\\\misc'"
     },
     "execution_count": 27,
     "metadata": {},
     "output_type": "execute_result"
    }
   ],
   "source": [
    "os.getcwd()"
   ],
   "metadata": {
    "collapsed": false,
    "ExecuteTime": {
     "end_time": "2024-05-30T16:53:28.893634100Z",
     "start_time": "2024-05-30T16:53:28.843634200Z"
    }
   }
  },
  {
   "cell_type": "code",
   "execution_count": 28,
   "outputs": [
    {
     "name": "stdout",
     "output_type": "stream",
     "text": [
      "C:\\Users\\wlwee\\OneDrive\\Documents\\sunflower-star-photo-reid\\src\\misc\n"
     ]
    }
   ],
   "source": [
    "!cd"
   ],
   "metadata": {
    "collapsed": false,
    "ExecuteTime": {
     "end_time": "2024-05-30T16:53:28.908631800Z",
     "start_time": "2024-05-30T16:53:28.858633Z"
    }
   }
  },
  {
   "cell_type": "code",
   "execution_count": 29,
   "outputs": [
    {
     "name": "stdout",
     "output_type": "stream",
     "text": [
      "found 513 models\n"
     ]
    }
   ],
   "source": [
    "path_models_root = os.path.join('..', '..', 'models', 'reid')\n",
    "path_model_dirs = glob.glob(os.path.join(path_models_root, '*'))\n",
    "print(f'found {len(path_model_dirs)} models')"
   ],
   "metadata": {
    "collapsed": false,
    "ExecuteTime": {
     "end_time": "2024-05-30T16:53:28.915633700Z",
     "start_time": "2024-05-30T16:53:28.903633Z"
    }
   }
  },
  {
   "cell_type": "code",
   "execution_count": 30,
   "outputs": [
    {
     "name": "stdout",
     "output_type": "stream",
     "text": [
      "found 513 settings files\n"
     ]
    }
   ],
   "source": [
    "path_model_settings = [os.path.join(path_model_dir, 'logs', 'settings.txt') for path_model_dir in path_model_dirs]\n",
    "print(f'found {len(path_model_settings)} settings files')"
   ],
   "metadata": {
    "collapsed": false,
    "ExecuteTime": {
     "end_time": "2024-05-30T16:53:28.959632300Z",
     "start_time": "2024-05-30T16:53:28.921633300Z"
    }
   }
  },
  {
   "cell_type": "code",
   "execution_count": 31,
   "outputs": [],
   "source": [
    "def get_number_of_epochs(file_path):\n",
    "    with open(file_path, 'r') as file:\n",
    "        for line in file:\n",
    "            if \"Number of Epochs\" in line:\n",
    "                # Split the line into key and value parts\n",
    "                key, value = line.split(':')\n",
    "                # Return the value part as an integer\n",
    "                return int(value.strip())\n",
    "\n",
    "def get_number_of_head_layers(file_path):\n",
    "    with open(file_path, 'r') as file:\n",
    "        for line in file:\n",
    "            if \"Number of Layers\" in line:\n",
    "                # Split the line into key and value parts\n",
    "                key, value = line.split(':')\n",
    "                # Return the value part as an integer\n",
    "                return int(value.strip())\n",
    "\n",
    "def get_embedding_size(file_path):\n",
    "    with open(file_path, 'r') as file:\n",
    "        for line in file:\n",
    "            if \"Embedding Size\" in line:\n",
    "                # Split the line into key and value parts\n",
    "                key, value = line.split(':')\n",
    "                # Return the value part as an integer\n",
    "                return int(value.strip())"
   ],
   "metadata": {
    "collapsed": false,
    "ExecuteTime": {
     "end_time": "2024-05-30T16:53:28.977633700Z",
     "start_time": "2024-05-30T16:53:28.935632600Z"
    }
   }
  },
  {
   "cell_type": "code",
   "execution_count": 32,
   "outputs": [
    {
     "name": "stdout",
     "output_type": "stream",
     "text": [
      "found 347 settings files\n"
     ]
    }
   ],
   "source": [
    "target_num_epochs = 5\n",
    "path_model_settings = [path for path in path_model_settings if get_number_of_epochs(path) == target_num_epochs]\n",
    "print(f'found {len(path_model_settings)} settings files')"
   ],
   "metadata": {
    "collapsed": false,
    "ExecuteTime": {
     "end_time": "2024-05-30T16:53:30.488634500Z",
     "start_time": "2024-05-30T16:53:28.948635500Z"
    }
   }
  },
  {
   "cell_type": "code",
   "execution_count": 33,
   "outputs": [
    {
     "name": "stdout",
     "output_type": "stream",
     "text": [
      "found 347 models\n"
     ]
    }
   ],
   "source": [
    "path_models = [os.path.join(os.path.dirname(os.path.dirname(path)), 'best_densenet121__PT-True.pth') for path in path_model_settings]\n",
    "print(f'found {len(path_models)} models')"
   ],
   "metadata": {
    "collapsed": false,
    "ExecuteTime": {
     "end_time": "2024-05-30T16:53:30.502633Z",
     "start_time": "2024-05-30T16:53:30.481635Z"
    }
   }
  },
  {
   "cell_type": "code",
   "execution_count": 34,
   "outputs": [
    {
     "name": "stdout",
     "output_type": "stream",
     "text": [
      "True\n"
     ]
    }
   ],
   "source": [
    "datasets_root = os.path.join('..', '..', 'data')\n",
    "print(f'{os.path.exists(datasets_root)}')"
   ],
   "metadata": {
    "collapsed": false,
    "ExecuteTime": {
     "end_time": "2024-05-30T16:53:30.539632100Z",
     "start_time": "2024-05-30T16:53:30.497633800Z"
    }
   }
  },
  {
   "cell_type": "code",
   "execution_count": 35,
   "outputs": [
    {
     "name": "stdout",
     "output_type": "stream",
     "text": [
      "for model ..\\..\\models\\reid\\Other_species_sea-star-re-id-full_event-unaware_training-split_2024-05-03-18-13__2024-05-05-20-04-33__0__densenet121__PT-True\\best_densenet121__PT-True.pth\n",
      "\t dataset is Other_species_sea-star-re-id-full_event-unaware_training-split_2024-05-03-18-13\n",
      "\t dataset path is ..\\..\\data\\Other_species_sea-star-re-id-full_event-unaware_training-split_2024-05-03-18-13\n",
      "for model ..\\..\\models\\reid\\Other_species_sea-star-re-id-full_event-unaware_training-split_2024-05-03-18-13__2024-05-05-20-04-33__1__densenet121__PT-True\\best_densenet121__PT-True.pth\n",
      "\t dataset is Other_species_sea-star-re-id-full_event-unaware_training-split_2024-05-03-18-13\n",
      "\t dataset path is ..\\..\\data\\Other_species_sea-star-re-id-full_event-unaware_training-split_2024-05-03-18-13\n",
      "for model ..\\..\\models\\reid\\Other_species_sea-star-re-id-full_event-unaware_training-split_2024-05-03-18-13__2024-05-06-02-00-08__0__densenet121__PT-True\\best_densenet121__PT-True.pth\n",
      "\t dataset is Other_species_sea-star-re-id-full_event-unaware_training-split_2024-05-03-18-13\n",
      "\t dataset path is ..\\..\\data\\Other_species_sea-star-re-id-full_event-unaware_training-split_2024-05-03-18-13\n",
      "for model ..\\..\\models\\reid\\Other_species_sea-star-re-id-full_event-unaware_training-split_2024-05-03-18-13__2024-05-06-02-00-08__1__densenet121__PT-True\\best_densenet121__PT-True.pth\n",
      "\t dataset is Other_species_sea-star-re-id-full_event-unaware_training-split_2024-05-03-18-13\n",
      "\t dataset path is ..\\..\\data\\Other_species_sea-star-re-id-full_event-unaware_training-split_2024-05-03-18-13\n",
      "for model ..\\..\\models\\reid\\Other_species_sea-star-re-id-full_event-unaware_training-split_2024-05-03-18-13__2024-05-06-07-11-15__0__densenet121__PT-True\\best_densenet121__PT-True.pth\n",
      "\t dataset is Other_species_sea-star-re-id-full_event-unaware_training-split_2024-05-03-18-13\n",
      "\t dataset path is ..\\..\\data\\Other_species_sea-star-re-id-full_event-unaware_training-split_2024-05-03-18-13\n",
      "for model ..\\..\\models\\reid\\Other_species_sea-star-re-id-full_event-unaware_training-split_2024-05-03-18-13__2024-05-06-07-11-15__1__densenet121__PT-True\\best_densenet121__PT-True.pth\n",
      "\t dataset is Other_species_sea-star-re-id-full_event-unaware_training-split_2024-05-03-18-13\n",
      "\t dataset path is ..\\..\\data\\Other_species_sea-star-re-id-full_event-unaware_training-split_2024-05-03-18-13\n",
      "for model ..\\..\\models\\reid\\Other_species_sea-star-re-id-full_event-unaware_training-split_2024-05-03-18-13__2024-05-06-12-57-05__0__densenet121__PT-True\\best_densenet121__PT-True.pth\n",
      "\t dataset is Other_species_sea-star-re-id-full_event-unaware_training-split_2024-05-03-18-13\n",
      "\t dataset path is ..\\..\\data\\Other_species_sea-star-re-id-full_event-unaware_training-split_2024-05-03-18-13\n",
      "for model ..\\..\\models\\reid\\Other_species_sea-star-re-id-full_event-unaware_training-split_2024-05-03-18-13__2024-05-06-12-57-05__1__densenet121__PT-True\\best_densenet121__PT-True.pth\n",
      "\t dataset is Other_species_sea-star-re-id-full_event-unaware_training-split_2024-05-03-18-13\n",
      "\t dataset path is ..\\..\\data\\Other_species_sea-star-re-id-full_event-unaware_training-split_2024-05-03-18-13\n",
      "for model ..\\..\\models\\reid\\Other_species_sea-star-re-id-full_event-unaware_training-split_2024-05-03-18-13__2024-05-06-18-16-27__0__densenet121__PT-True\\best_densenet121__PT-True.pth\n",
      "\t dataset is Other_species_sea-star-re-id-full_event-unaware_training-split_2024-05-03-18-13\n",
      "\t dataset path is ..\\..\\data\\Other_species_sea-star-re-id-full_event-unaware_training-split_2024-05-03-18-13\n",
      "for model ..\\..\\models\\reid\\Other_species_sea-star-re-id-full_event-unaware_training-split_2024-05-03-18-13__2024-05-06-18-16-27__1__densenet121__PT-True\\best_densenet121__PT-True.pth\n",
      "\t dataset is Other_species_sea-star-re-id-full_event-unaware_training-split_2024-05-03-18-13\n",
      "\t dataset path is ..\\..\\data\\Other_species_sea-star-re-id-full_event-unaware_training-split_2024-05-03-18-13\n",
      "for model ..\\..\\models\\reid\\Other_species_sea-star-re-id-full_event-unaware_training-split_2024-05-03-18-13__2024-05-06-23-34-59__0__densenet121__PT-True\\best_densenet121__PT-True.pth\n",
      "\t dataset is Other_species_sea-star-re-id-full_event-unaware_training-split_2024-05-03-18-13\n",
      "\t dataset path is ..\\..\\data\\Other_species_sea-star-re-id-full_event-unaware_training-split_2024-05-03-18-13\n",
      "for model ..\\..\\models\\reid\\Other_species_sea-star-re-id-full_event-unaware_training-split_2024-05-03-18-13__2024-05-06-23-34-59__1__densenet121__PT-True\\best_densenet121__PT-True.pth\n",
      "\t dataset is Other_species_sea-star-re-id-full_event-unaware_training-split_2024-05-03-18-13\n",
      "\t dataset path is ..\\..\\data\\Other_species_sea-star-re-id-full_event-unaware_training-split_2024-05-03-18-13\n",
      "for model ..\\..\\models\\reid\\Other_species_sea-star-re-id-full_event-unaware_training-split_2024-05-03-18-13__2024-05-07-05-21-17__0__densenet121__PT-True\\best_densenet121__PT-True.pth\n",
      "\t dataset is Other_species_sea-star-re-id-full_event-unaware_training-split_2024-05-03-18-13\n",
      "\t dataset path is ..\\..\\data\\Other_species_sea-star-re-id-full_event-unaware_training-split_2024-05-03-18-13\n",
      "for model ..\\..\\models\\reid\\Other_species_sea-star-re-id-full_event-unaware_training-split_2024-05-03-18-13__2024-05-07-05-21-17__1__densenet121__PT-True\\best_densenet121__PT-True.pth\n",
      "\t dataset is Other_species_sea-star-re-id-full_event-unaware_training-split_2024-05-03-18-13\n",
      "\t dataset path is ..\\..\\data\\Other_species_sea-star-re-id-full_event-unaware_training-split_2024-05-03-18-13\n",
      "for model ..\\..\\models\\reid\\Other_species_sea-star-re-id-full_event-unaware_training-split_2024-05-03-18-13__2024-05-07-11-56-11__0__densenet121__PT-True\\best_densenet121__PT-True.pth\n",
      "\t dataset is Other_species_sea-star-re-id-full_event-unaware_training-split_2024-05-03-18-13\n",
      "\t dataset path is ..\\..\\data\\Other_species_sea-star-re-id-full_event-unaware_training-split_2024-05-03-18-13\n",
      "for model ..\\..\\models\\reid\\Other_species_sea-star-re-id-full_event-unaware_training-split_2024-05-03-18-13__2024-05-07-11-56-11__1__densenet121__PT-True\\best_densenet121__PT-True.pth\n",
      "\t dataset is Other_species_sea-star-re-id-full_event-unaware_training-split_2024-05-03-18-13\n",
      "\t dataset path is ..\\..\\data\\Other_species_sea-star-re-id-full_event-unaware_training-split_2024-05-03-18-13\n",
      "for model ..\\..\\models\\reid\\Other_species_sea-star-re-id-full_event-unaware_training-split_2024-05-03-18-13__2024-05-07-18-50-05__1__densenet121__PT-True\\best_densenet121__PT-True.pth\n",
      "\t dataset is Other_species_sea-star-re-id-full_event-unaware_training-split_2024-05-03-18-13\n",
      "\t dataset path is ..\\..\\data\\Other_species_sea-star-re-id-full_event-unaware_training-split_2024-05-03-18-13\n",
      "for model ..\\..\\models\\reid\\Other_species_sea-star-re-id-full_event-unaware_training-split_2024-05-03-18-13__2024-05-07-19-00-47__0__densenet121__PT-True\\best_densenet121__PT-True.pth\n",
      "\t dataset is Other_species_sea-star-re-id-full_event-unaware_training-split_2024-05-03-18-13\n",
      "\t dataset path is ..\\..\\data\\Other_species_sea-star-re-id-full_event-unaware_training-split_2024-05-03-18-13\n",
      "for model ..\\..\\models\\reid\\Other_species_sea-star-re-id-full_event-unaware_training-split_2024-05-03-18-13__2024-05-07-19-00-47__1__densenet121__PT-True\\best_densenet121__PT-True.pth\n",
      "\t dataset is Other_species_sea-star-re-id-full_event-unaware_training-split_2024-05-03-18-13\n",
      "\t dataset path is ..\\..\\data\\Other_species_sea-star-re-id-full_event-unaware_training-split_2024-05-03-18-13\n",
      "for model ..\\..\\models\\reid\\Other_species_sea-star-re-id-full_event-unaware_training-split_2024-05-03-18-13__2024-05-07-19-13-47__0__densenet121__PT-True\\best_densenet121__PT-True.pth\n",
      "\t dataset is Other_species_sea-star-re-id-full_event-unaware_training-split_2024-05-03-18-13\n",
      "\t dataset path is ..\\..\\data\\Other_species_sea-star-re-id-full_event-unaware_training-split_2024-05-03-18-13\n",
      "for model ..\\..\\models\\reid\\Other_species_sea-star-re-id-full_event-unaware_training-split_2024-05-03-18-13__2024-05-07-19-13-47__1__densenet121__PT-True\\best_densenet121__PT-True.pth\n",
      "\t dataset is Other_species_sea-star-re-id-full_event-unaware_training-split_2024-05-03-18-13\n",
      "\t dataset path is ..\\..\\data\\Other_species_sea-star-re-id-full_event-unaware_training-split_2024-05-03-18-13\n",
      "for model ..\\..\\models\\reid\\Other_species_sea-star-re-id-full_event-unaware_training-split_2024-05-03-18-13__2024-05-07-19-26-45__0__densenet121__PT-True\\best_densenet121__PT-True.pth\n",
      "\t dataset is Other_species_sea-star-re-id-full_event-unaware_training-split_2024-05-03-18-13\n",
      "\t dataset path is ..\\..\\data\\Other_species_sea-star-re-id-full_event-unaware_training-split_2024-05-03-18-13\n",
      "for model ..\\..\\models\\reid\\Other_species_sea-star-re-id-full_event-unaware_training-split_2024-05-03-18-13__2024-05-07-19-26-45__1__densenet121__PT-True\\best_densenet121__PT-True.pth\n",
      "\t dataset is Other_species_sea-star-re-id-full_event-unaware_training-split_2024-05-03-18-13\n",
      "\t dataset path is ..\\..\\data\\Other_species_sea-star-re-id-full_event-unaware_training-split_2024-05-03-18-13\n",
      "for model ..\\..\\models\\reid\\Other_species_sea-star-re-id-full_event-unaware_training-split_2024-05-03-18-13__2024-05-07-19-38-37__0__densenet121__PT-True\\best_densenet121__PT-True.pth\n",
      "\t dataset is Other_species_sea-star-re-id-full_event-unaware_training-split_2024-05-03-18-13\n",
      "\t dataset path is ..\\..\\data\\Other_species_sea-star-re-id-full_event-unaware_training-split_2024-05-03-18-13\n",
      "for model ..\\..\\models\\reid\\Other_species_sea-star-re-id-full_event-unaware_training-split_2024-05-03-18-13__2024-05-07-19-38-37__1__densenet121__PT-True\\best_densenet121__PT-True.pth\n",
      "\t dataset is Other_species_sea-star-re-id-full_event-unaware_training-split_2024-05-03-18-13\n",
      "\t dataset path is ..\\..\\data\\Other_species_sea-star-re-id-full_event-unaware_training-split_2024-05-03-18-13\n",
      "for model ..\\..\\models\\reid\\Other_species_sea-star-re-id-full_event-unaware_training-split_2024-05-03-18-13__2024-05-07-19-50-54__0__densenet121__PT-True\\best_densenet121__PT-True.pth\n",
      "\t dataset is Other_species_sea-star-re-id-full_event-unaware_training-split_2024-05-03-18-13\n",
      "\t dataset path is ..\\..\\data\\Other_species_sea-star-re-id-full_event-unaware_training-split_2024-05-03-18-13\n",
      "for model ..\\..\\models\\reid\\Other_species_sea-star-re-id-full_event-unaware_training-split_2024-05-03-18-13__2024-05-07-19-50-54__1__densenet121__PT-True\\best_densenet121__PT-True.pth\n",
      "\t dataset is Other_species_sea-star-re-id-full_event-unaware_training-split_2024-05-03-18-13\n",
      "\t dataset path is ..\\..\\data\\Other_species_sea-star-re-id-full_event-unaware_training-split_2024-05-03-18-13\n",
      "for model ..\\..\\models\\reid\\Other_species_sea-star-re-id-full_event-unaware_training-split_2024-05-03-18-13__2024-05-07-21-45-26__0__densenet121__PT-True\\best_densenet121__PT-True.pth\n",
      "\t dataset is Other_species_sea-star-re-id-full_event-unaware_training-split_2024-05-03-18-13\n",
      "\t dataset path is ..\\..\\data\\Other_species_sea-star-re-id-full_event-unaware_training-split_2024-05-03-18-13\n",
      "for model ..\\..\\models\\reid\\Other_species_sea-star-re-id-full_event-unaware_training-split_2024-05-03-18-13__2024-05-07-21-45-26__1__densenet121__PT-True\\best_densenet121__PT-True.pth\n",
      "\t dataset is Other_species_sea-star-re-id-full_event-unaware_training-split_2024-05-03-18-13\n",
      "\t dataset path is ..\\..\\data\\Other_species_sea-star-re-id-full_event-unaware_training-split_2024-05-03-18-13\n",
      "for model ..\\..\\models\\reid\\Other_species_sea-star-re-id-full_event-unaware_training-split_2024-05-03-18-13__2024-05-08-02-44-13__0__densenet121__PT-True\\best_densenet121__PT-True.pth\n",
      "\t dataset is Other_species_sea-star-re-id-full_event-unaware_training-split_2024-05-03-18-13\n",
      "\t dataset path is ..\\..\\data\\Other_species_sea-star-re-id-full_event-unaware_training-split_2024-05-03-18-13\n",
      "for model ..\\..\\models\\reid\\Other_species_sea-star-re-id-full_event-unaware_training-split_2024-05-03-18-13__2024-05-08-02-44-13__1__densenet121__PT-True\\best_densenet121__PT-True.pth\n",
      "\t dataset is Other_species_sea-star-re-id-full_event-unaware_training-split_2024-05-03-18-13\n",
      "\t dataset path is ..\\..\\data\\Other_species_sea-star-re-id-full_event-unaware_training-split_2024-05-03-18-13\n",
      "for model ..\\..\\models\\reid\\Other_species_sea-star-re-id-full_event-unaware_training-split_2024-05-03-18-13__2024-05-08-06-43-15__0__densenet121__PT-True\\best_densenet121__PT-True.pth\n",
      "\t dataset is Other_species_sea-star-re-id-full_event-unaware_training-split_2024-05-03-18-13\n",
      "\t dataset path is ..\\..\\data\\Other_species_sea-star-re-id-full_event-unaware_training-split_2024-05-03-18-13\n",
      "for model ..\\..\\models\\reid\\Other_species_sea-star-re-id-full_event-unaware_training-split_2024-05-03-18-13__2024-05-08-06-43-15__1__densenet121__PT-True\\best_densenet121__PT-True.pth\n",
      "\t dataset is Other_species_sea-star-re-id-full_event-unaware_training-split_2024-05-03-18-13\n",
      "\t dataset path is ..\\..\\data\\Other_species_sea-star-re-id-full_event-unaware_training-split_2024-05-03-18-13\n",
      "for model ..\\..\\models\\reid\\Other_species_sea-star-re-id-full_event-unaware_training-split_2024-05-03-18-13__2024-05-08-11-03-24__0__densenet121__PT-True\\best_densenet121__PT-True.pth\n",
      "\t dataset is Other_species_sea-star-re-id-full_event-unaware_training-split_2024-05-03-18-13\n",
      "\t dataset path is ..\\..\\data\\Other_species_sea-star-re-id-full_event-unaware_training-split_2024-05-03-18-13\n",
      "for model ..\\..\\models\\reid\\Other_species_sea-star-re-id-full_event-unaware_training-split_2024-05-03-18-13__2024-05-08-11-03-24__1__densenet121__PT-True\\best_densenet121__PT-True.pth\n",
      "\t dataset is Other_species_sea-star-re-id-full_event-unaware_training-split_2024-05-03-18-13\n",
      "\t dataset path is ..\\..\\data\\Other_species_sea-star-re-id-full_event-unaware_training-split_2024-05-03-18-13\n",
      "for model ..\\..\\models\\reid\\Other_species_sea-star-re-id-full_event-unaware_training-split_2024-05-03-18-13__2024-05-08-15-34-20__0__densenet121__PT-True\\best_densenet121__PT-True.pth\n",
      "\t dataset is Other_species_sea-star-re-id-full_event-unaware_training-split_2024-05-03-18-13\n",
      "\t dataset path is ..\\..\\data\\Other_species_sea-star-re-id-full_event-unaware_training-split_2024-05-03-18-13\n",
      "for model ..\\..\\models\\reid\\Other_species_sea-star-re-id-full_event-unaware_training-split_2024-05-03-18-13__2024-05-08-15-34-20__1__densenet121__PT-True\\best_densenet121__PT-True.pth\n",
      "\t dataset is Other_species_sea-star-re-id-full_event-unaware_training-split_2024-05-03-18-13\n",
      "\t dataset path is ..\\..\\data\\Other_species_sea-star-re-id-full_event-unaware_training-split_2024-05-03-18-13\n",
      "for model ..\\..\\models\\reid\\Other_species_sea-star-re-id-full_event-unaware_training-split_2024-05-03-18-13__2024-05-08-20-01-39__0__densenet121__PT-True\\best_densenet121__PT-True.pth\n",
      "\t dataset is Other_species_sea-star-re-id-full_event-unaware_training-split_2024-05-03-18-13\n",
      "\t dataset path is ..\\..\\data\\Other_species_sea-star-re-id-full_event-unaware_training-split_2024-05-03-18-13\n",
      "for model ..\\..\\models\\reid\\Other_species_sea-star-re-id-full_event-unaware_training-split_2024-05-03-18-13__2024-05-08-20-01-39__1__densenet121__PT-True\\best_densenet121__PT-True.pth\n",
      "\t dataset is Other_species_sea-star-re-id-full_event-unaware_training-split_2024-05-03-18-13\n",
      "\t dataset path is ..\\..\\data\\Other_species_sea-star-re-id-full_event-unaware_training-split_2024-05-03-18-13\n",
      "for model ..\\..\\models\\reid\\Other_species_sea-star-re-id-full_event-unaware_training-split_2024-05-03-18-20__2024-05-05-20-17-28__1__densenet121__PT-True\\best_densenet121__PT-True.pth\n",
      "\t dataset is Other_species_sea-star-re-id-full_event-unaware_training-split_2024-05-03-18-20\n",
      "\t dataset path is ..\\..\\data\\Other_species_sea-star-re-id-full_event-unaware_training-split_2024-05-03-18-20\n",
      "for model ..\\..\\models\\reid\\Other_species_sea-star-re-id-full_event-unaware_training-split_2024-05-03-18-20__2024-05-05-20-19-38__0__densenet121__PT-True\\best_densenet121__PT-True.pth\n",
      "\t dataset is Other_species_sea-star-re-id-full_event-unaware_training-split_2024-05-03-18-20\n",
      "\t dataset path is ..\\..\\data\\Other_species_sea-star-re-id-full_event-unaware_training-split_2024-05-03-18-20\n",
      "for model ..\\..\\models\\reid\\Other_species_sea-star-re-id-full_event-unaware_training-split_2024-05-03-18-20__2024-05-06-02-13-47__1__densenet121__PT-True\\best_densenet121__PT-True.pth\n",
      "\t dataset is Other_species_sea-star-re-id-full_event-unaware_training-split_2024-05-03-18-20\n",
      "\t dataset path is ..\\..\\data\\Other_species_sea-star-re-id-full_event-unaware_training-split_2024-05-03-18-20\n",
      "for model ..\\..\\models\\reid\\Other_species_sea-star-re-id-full_event-unaware_training-split_2024-05-03-18-20__2024-05-06-02-14-19__0__densenet121__PT-True\\best_densenet121__PT-True.pth\n",
      "\t dataset is Other_species_sea-star-re-id-full_event-unaware_training-split_2024-05-03-18-20\n",
      "\t dataset path is ..\\..\\data\\Other_species_sea-star-re-id-full_event-unaware_training-split_2024-05-03-18-20\n",
      "for model ..\\..\\models\\reid\\Other_species_sea-star-re-id-full_event-unaware_training-split_2024-05-03-18-20__2024-05-06-07-26-25__1__densenet121__PT-True\\best_densenet121__PT-True.pth\n",
      "\t dataset is Other_species_sea-star-re-id-full_event-unaware_training-split_2024-05-03-18-20\n",
      "\t dataset path is ..\\..\\data\\Other_species_sea-star-re-id-full_event-unaware_training-split_2024-05-03-18-20\n",
      "for model ..\\..\\models\\reid\\Other_species_sea-star-re-id-full_event-unaware_training-split_2024-05-03-18-20__2024-05-06-07-26-55__0__densenet121__PT-True\\best_densenet121__PT-True.pth\n",
      "\t dataset is Other_species_sea-star-re-id-full_event-unaware_training-split_2024-05-03-18-20\n",
      "\t dataset path is ..\\..\\data\\Other_species_sea-star-re-id-full_event-unaware_training-split_2024-05-03-18-20\n",
      "for model ..\\..\\models\\reid\\Other_species_sea-star-re-id-full_event-unaware_training-split_2024-05-03-18-20__2024-05-06-13-09-03__1__densenet121__PT-True\\best_densenet121__PT-True.pth\n",
      "\t dataset is Other_species_sea-star-re-id-full_event-unaware_training-split_2024-05-03-18-20\n",
      "\t dataset path is ..\\..\\data\\Other_species_sea-star-re-id-full_event-unaware_training-split_2024-05-03-18-20\n",
      "for model ..\\..\\models\\reid\\Other_species_sea-star-re-id-full_event-unaware_training-split_2024-05-03-18-20__2024-05-06-13-11-08__0__densenet121__PT-True\\best_densenet121__PT-True.pth\n",
      "\t dataset is Other_species_sea-star-re-id-full_event-unaware_training-split_2024-05-03-18-20\n",
      "\t dataset path is ..\\..\\data\\Other_species_sea-star-re-id-full_event-unaware_training-split_2024-05-03-18-20\n",
      "for model ..\\..\\models\\reid\\Other_species_sea-star-re-id-full_event-unaware_training-split_2024-05-03-18-20__2024-05-06-18-31-00__1__densenet121__PT-True\\best_densenet121__PT-True.pth\n",
      "\t dataset is Other_species_sea-star-re-id-full_event-unaware_training-split_2024-05-03-18-20\n",
      "\t dataset path is ..\\..\\data\\Other_species_sea-star-re-id-full_event-unaware_training-split_2024-05-03-18-20\n",
      "for model ..\\..\\models\\reid\\Other_species_sea-star-re-id-full_event-unaware_training-split_2024-05-03-18-20__2024-05-06-18-31-04__0__densenet121__PT-True\\best_densenet121__PT-True.pth\n",
      "\t dataset is Other_species_sea-star-re-id-full_event-unaware_training-split_2024-05-03-18-20\n",
      "\t dataset path is ..\\..\\data\\Other_species_sea-star-re-id-full_event-unaware_training-split_2024-05-03-18-20\n",
      "for model ..\\..\\models\\reid\\Other_species_sea-star-re-id-full_event-unaware_training-split_2024-05-03-18-20__2024-05-06-23-50-45__0__densenet121__PT-True\\best_densenet121__PT-True.pth\n",
      "\t dataset is Other_species_sea-star-re-id-full_event-unaware_training-split_2024-05-03-18-20\n",
      "\t dataset path is ..\\..\\data\\Other_species_sea-star-re-id-full_event-unaware_training-split_2024-05-03-18-20\n",
      "for model ..\\..\\models\\reid\\Other_species_sea-star-re-id-full_event-unaware_training-split_2024-05-03-18-20__2024-05-06-23-50-56__1__densenet121__PT-True\\best_densenet121__PT-True.pth\n",
      "\t dataset is Other_species_sea-star-re-id-full_event-unaware_training-split_2024-05-03-18-20\n",
      "\t dataset path is ..\\..\\data\\Other_species_sea-star-re-id-full_event-unaware_training-split_2024-05-03-18-20\n",
      "for model ..\\..\\models\\reid\\Other_species_sea-star-re-id-full_event-unaware_training-split_2024-05-03-18-20__2024-05-07-05-35-21__1__densenet121__PT-True\\best_densenet121__PT-True.pth\n",
      "\t dataset is Other_species_sea-star-re-id-full_event-unaware_training-split_2024-05-03-18-20\n",
      "\t dataset path is ..\\..\\data\\Other_species_sea-star-re-id-full_event-unaware_training-split_2024-05-03-18-20\n",
      "for model ..\\..\\models\\reid\\Other_species_sea-star-re-id-full_event-unaware_training-split_2024-05-03-18-20__2024-05-07-05-39-21__0__densenet121__PT-True\\best_densenet121__PT-True.pth\n",
      "\t dataset is Other_species_sea-star-re-id-full_event-unaware_training-split_2024-05-03-18-20\n",
      "\t dataset path is ..\\..\\data\\Other_species_sea-star-re-id-full_event-unaware_training-split_2024-05-03-18-20\n",
      "for model ..\\..\\models\\reid\\Other_species_sea-star-re-id-full_event-unaware_training-split_2024-05-03-18-20__2024-05-07-12-13-10__1__densenet121__PT-True\\best_densenet121__PT-True.pth\n",
      "\t dataset is Other_species_sea-star-re-id-full_event-unaware_training-split_2024-05-03-18-20\n",
      "\t dataset path is ..\\..\\data\\Other_species_sea-star-re-id-full_event-unaware_training-split_2024-05-03-18-20\n",
      "for model ..\\..\\models\\reid\\Other_species_sea-star-re-id-full_event-unaware_training-split_2024-05-03-18-20__2024-05-07-12-14-35__0__densenet121__PT-True\\best_densenet121__PT-True.pth\n",
      "\t dataset is Other_species_sea-star-re-id-full_event-unaware_training-split_2024-05-03-18-20\n",
      "\t dataset path is ..\\..\\data\\Other_species_sea-star-re-id-full_event-unaware_training-split_2024-05-03-18-20\n",
      "for model ..\\..\\models\\reid\\Other_species_sea-star-re-id-full_event-unaware_training-split_2024-05-03-18-20__2024-05-07-21-57-38__1__densenet121__PT-True\\best_densenet121__PT-True.pth\n",
      "\t dataset is Other_species_sea-star-re-id-full_event-unaware_training-split_2024-05-03-18-20\n",
      "\t dataset path is ..\\..\\data\\Other_species_sea-star-re-id-full_event-unaware_training-split_2024-05-03-18-20\n",
      "for model ..\\..\\models\\reid\\Other_species_sea-star-re-id-full_event-unaware_training-split_2024-05-03-18-20__2024-05-07-21-58-52__0__densenet121__PT-True\\best_densenet121__PT-True.pth\n",
      "\t dataset is Other_species_sea-star-re-id-full_event-unaware_training-split_2024-05-03-18-20\n",
      "\t dataset path is ..\\..\\data\\Other_species_sea-star-re-id-full_event-unaware_training-split_2024-05-03-18-20\n",
      "for model ..\\..\\models\\reid\\Other_species_sea-star-re-id-full_event-unaware_training-split_2024-05-03-18-20__2024-05-08-02-54-53__1__densenet121__PT-True\\best_densenet121__PT-True.pth\n",
      "\t dataset is Other_species_sea-star-re-id-full_event-unaware_training-split_2024-05-03-18-20\n",
      "\t dataset path is ..\\..\\data\\Other_species_sea-star-re-id-full_event-unaware_training-split_2024-05-03-18-20\n",
      "for model ..\\..\\models\\reid\\Other_species_sea-star-re-id-full_event-unaware_training-split_2024-05-03-18-20__2024-05-08-02-55-13__0__densenet121__PT-True\\best_densenet121__PT-True.pth\n",
      "\t dataset is Other_species_sea-star-re-id-full_event-unaware_training-split_2024-05-03-18-20\n",
      "\t dataset path is ..\\..\\data\\Other_species_sea-star-re-id-full_event-unaware_training-split_2024-05-03-18-20\n",
      "for model ..\\..\\models\\reid\\Other_species_sea-star-re-id-full_event-unaware_training-split_2024-05-03-18-20__2024-05-08-06-54-24__0__densenet121__PT-True\\best_densenet121__PT-True.pth\n",
      "\t dataset is Other_species_sea-star-re-id-full_event-unaware_training-split_2024-05-03-18-20\n",
      "\t dataset path is ..\\..\\data\\Other_species_sea-star-re-id-full_event-unaware_training-split_2024-05-03-18-20\n",
      "for model ..\\..\\models\\reid\\Other_species_sea-star-re-id-full_event-unaware_training-split_2024-05-03-18-20__2024-05-08-06-55-00__1__densenet121__PT-True\\best_densenet121__PT-True.pth\n",
      "\t dataset is Other_species_sea-star-re-id-full_event-unaware_training-split_2024-05-03-18-20\n",
      "\t dataset path is ..\\..\\data\\Other_species_sea-star-re-id-full_event-unaware_training-split_2024-05-03-18-20\n",
      "for model ..\\..\\models\\reid\\Other_species_sea-star-re-id-full_event-unaware_training-split_2024-05-03-18-20__2024-05-08-11-15-31__0__densenet121__PT-True\\best_densenet121__PT-True.pth\n",
      "\t dataset is Other_species_sea-star-re-id-full_event-unaware_training-split_2024-05-03-18-20\n",
      "\t dataset path is ..\\..\\data\\Other_species_sea-star-re-id-full_event-unaware_training-split_2024-05-03-18-20\n",
      "for model ..\\..\\models\\reid\\Other_species_sea-star-re-id-full_event-unaware_training-split_2024-05-03-18-20__2024-05-08-11-15-52__1__densenet121__PT-True\\best_densenet121__PT-True.pth\n",
      "\t dataset is Other_species_sea-star-re-id-full_event-unaware_training-split_2024-05-03-18-20\n",
      "\t dataset path is ..\\..\\data\\Other_species_sea-star-re-id-full_event-unaware_training-split_2024-05-03-18-20\n",
      "for model ..\\..\\models\\reid\\Other_species_sea-star-re-id-full_event-unaware_training-split_2024-05-03-18-20__2024-05-08-15-45-45__1__densenet121__PT-True\\best_densenet121__PT-True.pth\n",
      "\t dataset is Other_species_sea-star-re-id-full_event-unaware_training-split_2024-05-03-18-20\n",
      "\t dataset path is ..\\..\\data\\Other_species_sea-star-re-id-full_event-unaware_training-split_2024-05-03-18-20\n",
      "for model ..\\..\\models\\reid\\Other_species_sea-star-re-id-full_event-unaware_training-split_2024-05-03-18-20__2024-05-08-15-46-25__0__densenet121__PT-True\\best_densenet121__PT-True.pth\n",
      "\t dataset is Other_species_sea-star-re-id-full_event-unaware_training-split_2024-05-03-18-20\n",
      "\t dataset path is ..\\..\\data\\Other_species_sea-star-re-id-full_event-unaware_training-split_2024-05-03-18-20\n",
      "for model ..\\..\\models\\reid\\Other_species_sea-star-re-id-full_event-unaware_training-split_2024-05-03-18-20__2024-05-08-20-13-26__0__densenet121__PT-True\\best_densenet121__PT-True.pth\n",
      "\t dataset is Other_species_sea-star-re-id-full_event-unaware_training-split_2024-05-03-18-20\n",
      "\t dataset path is ..\\..\\data\\Other_species_sea-star-re-id-full_event-unaware_training-split_2024-05-03-18-20\n",
      "for model ..\\..\\models\\reid\\Other_species_sea-star-re-id-full_event-unaware_training-split_2024-05-03-18-20__2024-05-08-20-13-59__1__densenet121__PT-True\\best_densenet121__PT-True.pth\n",
      "\t dataset is Other_species_sea-star-re-id-full_event-unaware_training-split_2024-05-03-18-20\n",
      "\t dataset path is ..\\..\\data\\Other_species_sea-star-re-id-full_event-unaware_training-split_2024-05-03-18-20\n",
      "for model ..\\..\\models\\reid\\Other_species_sea-star-re-id-full_event-unaware_training-split_2024-05-03-18-28__2024-05-05-20-30-18__1__densenet121__PT-True\\best_densenet121__PT-True.pth\n",
      "\t dataset is Other_species_sea-star-re-id-full_event-unaware_training-split_2024-05-03-18-28\n",
      "\t dataset path is ..\\..\\data\\Other_species_sea-star-re-id-full_event-unaware_training-split_2024-05-03-18-28\n",
      "for model ..\\..\\models\\reid\\Other_species_sea-star-re-id-full_event-unaware_training-split_2024-05-03-18-28__2024-05-05-20-34-38__0__densenet121__PT-True\\best_densenet121__PT-True.pth\n",
      "\t dataset is Other_species_sea-star-re-id-full_event-unaware_training-split_2024-05-03-18-28\n",
      "\t dataset path is ..\\..\\data\\Other_species_sea-star-re-id-full_event-unaware_training-split_2024-05-03-18-28\n",
      "for model ..\\..\\models\\reid\\Other_species_sea-star-re-id-full_event-unaware_training-split_2024-05-03-18-28__2024-05-06-02-27-40__1__densenet121__PT-True\\best_densenet121__PT-True.pth\n",
      "\t dataset is Other_species_sea-star-re-id-full_event-unaware_training-split_2024-05-03-18-28\n",
      "\t dataset path is ..\\..\\data\\Other_species_sea-star-re-id-full_event-unaware_training-split_2024-05-03-18-28\n",
      "for model ..\\..\\models\\reid\\Other_species_sea-star-re-id-full_event-unaware_training-split_2024-05-03-18-28__2024-05-06-02-28-50__0__densenet121__PT-True\\best_densenet121__PT-True.pth\n",
      "\t dataset is Other_species_sea-star-re-id-full_event-unaware_training-split_2024-05-03-18-28\n",
      "\t dataset path is ..\\..\\data\\Other_species_sea-star-re-id-full_event-unaware_training-split_2024-05-03-18-28\n",
      "for model ..\\..\\models\\reid\\Other_species_sea-star-re-id-full_event-unaware_training-split_2024-05-03-18-28__2024-05-06-07-41-07__1__densenet121__PT-True\\best_densenet121__PT-True.pth\n",
      "\t dataset is Other_species_sea-star-re-id-full_event-unaware_training-split_2024-05-03-18-28\n",
      "\t dataset path is ..\\..\\data\\Other_species_sea-star-re-id-full_event-unaware_training-split_2024-05-03-18-28\n",
      "for model ..\\..\\models\\reid\\Other_species_sea-star-re-id-full_event-unaware_training-split_2024-05-03-18-28__2024-05-06-07-42-03__0__densenet121__PT-True\\best_densenet121__PT-True.pth\n",
      "\t dataset is Other_species_sea-star-re-id-full_event-unaware_training-split_2024-05-03-18-28\n",
      "\t dataset path is ..\\..\\data\\Other_species_sea-star-re-id-full_event-unaware_training-split_2024-05-03-18-28\n",
      "for model ..\\..\\models\\reid\\Other_species_sea-star-re-id-full_event-unaware_training-split_2024-05-03-18-28__2024-05-06-13-21-27__1__densenet121__PT-True\\best_densenet121__PT-True.pth\n",
      "\t dataset is Other_species_sea-star-re-id-full_event-unaware_training-split_2024-05-03-18-28\n",
      "\t dataset path is ..\\..\\data\\Other_species_sea-star-re-id-full_event-unaware_training-split_2024-05-03-18-28\n",
      "for model ..\\..\\models\\reid\\Other_species_sea-star-re-id-full_event-unaware_training-split_2024-05-03-18-28__2024-05-06-13-25-31__0__densenet121__PT-True\\best_densenet121__PT-True.pth\n",
      "\t dataset is Other_species_sea-star-re-id-full_event-unaware_training-split_2024-05-03-18-28\n",
      "\t dataset path is ..\\..\\data\\Other_species_sea-star-re-id-full_event-unaware_training-split_2024-05-03-18-28\n",
      "for model ..\\..\\models\\reid\\Other_species_sea-star-re-id-full_event-unaware_training-split_2024-05-03-18-28__2024-05-06-18-45-43__1__densenet121__PT-True\\best_densenet121__PT-True.pth\n",
      "\t dataset is Other_species_sea-star-re-id-full_event-unaware_training-split_2024-05-03-18-28\n",
      "\t dataset path is ..\\..\\data\\Other_species_sea-star-re-id-full_event-unaware_training-split_2024-05-03-18-28\n",
      "for model ..\\..\\models\\reid\\Other_species_sea-star-re-id-full_event-unaware_training-split_2024-05-03-18-28__2024-05-06-18-45-49__0__densenet121__PT-True\\best_densenet121__PT-True.pth\n",
      "\t dataset is Other_species_sea-star-re-id-full_event-unaware_training-split_2024-05-03-18-28\n",
      "\t dataset path is ..\\..\\data\\Other_species_sea-star-re-id-full_event-unaware_training-split_2024-05-03-18-28\n",
      "for model ..\\..\\models\\reid\\Other_species_sea-star-re-id-full_event-unaware_training-split_2024-05-03-18-28__2024-05-07-00-06-30__0__densenet121__PT-True\\best_densenet121__PT-True.pth\n",
      "\t dataset is Other_species_sea-star-re-id-full_event-unaware_training-split_2024-05-03-18-28\n",
      "\t dataset path is ..\\..\\data\\Other_species_sea-star-re-id-full_event-unaware_training-split_2024-05-03-18-28\n",
      "for model ..\\..\\models\\reid\\Other_species_sea-star-re-id-full_event-unaware_training-split_2024-05-03-18-28__2024-05-07-00-06-51__1__densenet121__PT-True\\best_densenet121__PT-True.pth\n",
      "\t dataset is Other_species_sea-star-re-id-full_event-unaware_training-split_2024-05-03-18-28\n",
      "\t dataset path is ..\\..\\data\\Other_species_sea-star-re-id-full_event-unaware_training-split_2024-05-03-18-28\n",
      "for model ..\\..\\models\\reid\\Other_species_sea-star-re-id-full_event-unaware_training-split_2024-05-03-18-28__2024-05-07-05-48-50__1__densenet121__PT-True\\best_densenet121__PT-True.pth\n",
      "\t dataset is Other_species_sea-star-re-id-full_event-unaware_training-split_2024-05-03-18-28\n",
      "\t dataset path is ..\\..\\data\\Other_species_sea-star-re-id-full_event-unaware_training-split_2024-05-03-18-28\n",
      "for model ..\\..\\models\\reid\\Other_species_sea-star-re-id-full_event-unaware_training-split_2024-05-03-18-28__2024-05-07-05-56-58__0__densenet121__PT-True\\best_densenet121__PT-True.pth\n",
      "\t dataset is Other_species_sea-star-re-id-full_event-unaware_training-split_2024-05-03-18-28\n",
      "\t dataset path is ..\\..\\data\\Other_species_sea-star-re-id-full_event-unaware_training-split_2024-05-03-18-28\n",
      "for model ..\\..\\models\\reid\\Other_species_sea-star-re-id-full_event-unaware_training-split_2024-05-03-18-28__2024-05-07-12-29-07__1__densenet121__PT-True\\best_densenet121__PT-True.pth\n",
      "\t dataset is Other_species_sea-star-re-id-full_event-unaware_training-split_2024-05-03-18-28\n",
      "\t dataset path is ..\\..\\data\\Other_species_sea-star-re-id-full_event-unaware_training-split_2024-05-03-18-28\n",
      "for model ..\\..\\models\\reid\\Other_species_sea-star-re-id-full_event-unaware_training-split_2024-05-03-18-28__2024-05-07-12-32-03__0__densenet121__PT-True\\best_densenet121__PT-True.pth\n",
      "\t dataset is Other_species_sea-star-re-id-full_event-unaware_training-split_2024-05-03-18-28\n",
      "\t dataset path is ..\\..\\data\\Other_species_sea-star-re-id-full_event-unaware_training-split_2024-05-03-18-28\n",
      "for model ..\\..\\models\\reid\\Other_species_sea-star-re-id-full_event-unaware_training-split_2024-05-03-18-28__2024-05-07-22-09-54__1__densenet121__PT-True\\best_densenet121__PT-True.pth\n",
      "\t dataset is Other_species_sea-star-re-id-full_event-unaware_training-split_2024-05-03-18-28\n",
      "\t dataset path is ..\\..\\data\\Other_species_sea-star-re-id-full_event-unaware_training-split_2024-05-03-18-28\n",
      "for model ..\\..\\models\\reid\\Other_species_sea-star-re-id-full_event-unaware_training-split_2024-05-03-18-28__2024-05-07-22-12-21__0__densenet121__PT-True\\best_densenet121__PT-True.pth\n",
      "\t dataset is Other_species_sea-star-re-id-full_event-unaware_training-split_2024-05-03-18-28\n",
      "\t dataset path is ..\\..\\data\\Other_species_sea-star-re-id-full_event-unaware_training-split_2024-05-03-18-28\n",
      "for model ..\\..\\models\\reid\\Other_species_sea-star-re-id-full_event-unaware_training-split_2024-05-03-18-28__2024-05-08-03-05-30__1__densenet121__PT-True\\best_densenet121__PT-True.pth\n",
      "\t dataset is Other_species_sea-star-re-id-full_event-unaware_training-split_2024-05-03-18-28\n",
      "\t dataset path is ..\\..\\data\\Other_species_sea-star-re-id-full_event-unaware_training-split_2024-05-03-18-28\n",
      "for model ..\\..\\models\\reid\\Other_species_sea-star-re-id-full_event-unaware_training-split_2024-05-03-18-28__2024-05-08-03-06-10__0__densenet121__PT-True\\best_densenet121__PT-True.pth\n",
      "\t dataset is Other_species_sea-star-re-id-full_event-unaware_training-split_2024-05-03-18-28\n",
      "\t dataset path is ..\\..\\data\\Other_species_sea-star-re-id-full_event-unaware_training-split_2024-05-03-18-28\n",
      "for model ..\\..\\models\\reid\\Other_species_sea-star-re-id-full_event-unaware_training-split_2024-05-03-18-28__2024-05-08-07-05-35__0__densenet121__PT-True\\best_densenet121__PT-True.pth\n",
      "\t dataset is Other_species_sea-star-re-id-full_event-unaware_training-split_2024-05-03-18-28\n",
      "\t dataset path is ..\\..\\data\\Other_species_sea-star-re-id-full_event-unaware_training-split_2024-05-03-18-28\n",
      "for model ..\\..\\models\\reid\\Other_species_sea-star-re-id-full_event-unaware_training-split_2024-05-03-18-28__2024-05-08-07-06-45__1__densenet121__PT-True\\best_densenet121__PT-True.pth\n",
      "\t dataset is Other_species_sea-star-re-id-full_event-unaware_training-split_2024-05-03-18-28\n",
      "\t dataset path is ..\\..\\data\\Other_species_sea-star-re-id-full_event-unaware_training-split_2024-05-03-18-28\n",
      "for model ..\\..\\models\\reid\\Other_species_sea-star-re-id-full_event-unaware_training-split_2024-05-03-18-28__2024-05-08-11-27-36__0__densenet121__PT-True\\best_densenet121__PT-True.pth\n",
      "\t dataset is Other_species_sea-star-re-id-full_event-unaware_training-split_2024-05-03-18-28\n",
      "\t dataset path is ..\\..\\data\\Other_species_sea-star-re-id-full_event-unaware_training-split_2024-05-03-18-28\n",
      "for model ..\\..\\models\\reid\\Other_species_sea-star-re-id-full_event-unaware_training-split_2024-05-03-18-28__2024-05-08-11-28-10__1__densenet121__PT-True\\best_densenet121__PT-True.pth\n",
      "\t dataset is Other_species_sea-star-re-id-full_event-unaware_training-split_2024-05-03-18-28\n",
      "\t dataset path is ..\\..\\data\\Other_species_sea-star-re-id-full_event-unaware_training-split_2024-05-03-18-28\n",
      "for model ..\\..\\models\\reid\\Other_species_sea-star-re-id-full_event-unaware_training-split_2024-05-03-18-28__2024-05-08-15-57-11__1__densenet121__PT-True\\best_densenet121__PT-True.pth\n",
      "\t dataset is Other_species_sea-star-re-id-full_event-unaware_training-split_2024-05-03-18-28\n",
      "\t dataset path is ..\\..\\data\\Other_species_sea-star-re-id-full_event-unaware_training-split_2024-05-03-18-28\n",
      "for model ..\\..\\models\\reid\\Other_species_sea-star-re-id-full_event-unaware_training-split_2024-05-03-18-28__2024-05-08-15-58-32__0__densenet121__PT-True\\best_densenet121__PT-True.pth\n",
      "\t dataset is Other_species_sea-star-re-id-full_event-unaware_training-split_2024-05-03-18-28\n",
      "\t dataset path is ..\\..\\data\\Other_species_sea-star-re-id-full_event-unaware_training-split_2024-05-03-18-28\n",
      "for model ..\\..\\models\\reid\\Other_species_sea-star-re-id-full_event-unaware_training-split_2024-05-03-18-28__2024-05-08-20-25-14__0__densenet121__PT-True\\best_densenet121__PT-True.pth\n",
      "\t dataset is Other_species_sea-star-re-id-full_event-unaware_training-split_2024-05-03-18-28\n",
      "\t dataset path is ..\\..\\data\\Other_species_sea-star-re-id-full_event-unaware_training-split_2024-05-03-18-28\n",
      "for model ..\\..\\models\\reid\\Other_species_sea-star-re-id-full_event-unaware_training-split_2024-05-03-18-28__2024-05-08-20-26-22__1__densenet121__PT-True\\best_densenet121__PT-True.pth\n",
      "\t dataset is Other_species_sea-star-re-id-full_event-unaware_training-split_2024-05-03-18-28\n",
      "\t dataset path is ..\\..\\data\\Other_species_sea-star-re-id-full_event-unaware_training-split_2024-05-03-18-28\n",
      "for model ..\\..\\models\\reid\\Pycnopodia_helianthoides_full_event-unaware_training-split_2024-05-03-18-13__2024-05-05-20-43-02__1__densenet121__PT-True\\best_densenet121__PT-True.pth\n",
      "\t dataset is Pycnopodia_helianthoides_full_event-unaware_training-split_2024-05-03-18-13\n",
      "\t dataset path is ..\\..\\data\\Pycnopodia_helianthoides_full_event-unaware_training-split_2024-05-03-18-13\n",
      "for model ..\\..\\models\\reid\\Pycnopodia_helianthoides_full_event-unaware_training-split_2024-05-03-18-13__2024-05-05-20-49-29__0__densenet121__PT-True\\best_densenet121__PT-True.pth\n",
      "\t dataset is Pycnopodia_helianthoides_full_event-unaware_training-split_2024-05-03-18-13\n",
      "\t dataset path is ..\\..\\data\\Pycnopodia_helianthoides_full_event-unaware_training-split_2024-05-03-18-13\n",
      "for model ..\\..\\models\\reid\\Pycnopodia_helianthoides_full_event-unaware_training-split_2024-05-03-18-13__2024-05-06-02-41-08__1__densenet121__PT-True\\best_densenet121__PT-True.pth\n",
      "\t dataset is Pycnopodia_helianthoides_full_event-unaware_training-split_2024-05-03-18-13\n",
      "\t dataset path is ..\\..\\data\\Pycnopodia_helianthoides_full_event-unaware_training-split_2024-05-03-18-13\n",
      "for model ..\\..\\models\\reid\\Pycnopodia_helianthoides_full_event-unaware_training-split_2024-05-03-18-13__2024-05-06-02-43-02__0__densenet121__PT-True\\best_densenet121__PT-True.pth\n",
      "\t dataset is Pycnopodia_helianthoides_full_event-unaware_training-split_2024-05-03-18-13\n",
      "\t dataset path is ..\\..\\data\\Pycnopodia_helianthoides_full_event-unaware_training-split_2024-05-03-18-13\n",
      "for model ..\\..\\models\\reid\\Pycnopodia_helianthoides_full_event-unaware_training-split_2024-05-03-18-13__2024-05-06-07-56-13__1__densenet121__PT-True\\best_densenet121__PT-True.pth\n",
      "\t dataset is Pycnopodia_helianthoides_full_event-unaware_training-split_2024-05-03-18-13\n",
      "\t dataset path is ..\\..\\data\\Pycnopodia_helianthoides_full_event-unaware_training-split_2024-05-03-18-13\n",
      "for model ..\\..\\models\\reid\\Pycnopodia_helianthoides_full_event-unaware_training-split_2024-05-03-18-13__2024-05-06-07-57-59__0__densenet121__PT-True\\best_densenet121__PT-True.pth\n",
      "\t dataset is Pycnopodia_helianthoides_full_event-unaware_training-split_2024-05-03-18-13\n",
      "\t dataset path is ..\\..\\data\\Pycnopodia_helianthoides_full_event-unaware_training-split_2024-05-03-18-13\n",
      "for model ..\\..\\models\\reid\\Pycnopodia_helianthoides_full_event-unaware_training-split_2024-05-03-18-13__2024-05-06-13-33-54__1__densenet121__PT-True\\best_densenet121__PT-True.pth\n",
      "\t dataset is Pycnopodia_helianthoides_full_event-unaware_training-split_2024-05-03-18-13\n",
      "\t dataset path is ..\\..\\data\\Pycnopodia_helianthoides_full_event-unaware_training-split_2024-05-03-18-13\n",
      "for model ..\\..\\models\\reid\\Pycnopodia_helianthoides_full_event-unaware_training-split_2024-05-03-18-13__2024-05-06-13-39-51__0__densenet121__PT-True\\best_densenet121__PT-True.pth\n",
      "\t dataset is Pycnopodia_helianthoides_full_event-unaware_training-split_2024-05-03-18-13\n",
      "\t dataset path is ..\\..\\data\\Pycnopodia_helianthoides_full_event-unaware_training-split_2024-05-03-18-13\n",
      "for model ..\\..\\models\\reid\\Pycnopodia_helianthoides_full_event-unaware_training-split_2024-05-03-18-13__2024-05-06-19-00-14__1__densenet121__PT-True\\best_densenet121__PT-True.pth\n",
      "\t dataset is Pycnopodia_helianthoides_full_event-unaware_training-split_2024-05-03-18-13\n",
      "\t dataset path is ..\\..\\data\\Pycnopodia_helianthoides_full_event-unaware_training-split_2024-05-03-18-13\n",
      "for model ..\\..\\models\\reid\\Pycnopodia_helianthoides_full_event-unaware_training-split_2024-05-03-18-13__2024-05-06-19-00-33__0__densenet121__PT-True\\best_densenet121__PT-True.pth\n",
      "\t dataset is Pycnopodia_helianthoides_full_event-unaware_training-split_2024-05-03-18-13\n",
      "\t dataset path is ..\\..\\data\\Pycnopodia_helianthoides_full_event-unaware_training-split_2024-05-03-18-13\n",
      "for model ..\\..\\models\\reid\\Pycnopodia_helianthoides_full_event-unaware_training-split_2024-05-03-18-13__2024-05-07-00-22-15__0__densenet121__PT-True\\best_densenet121__PT-True.pth\n",
      "\t dataset is Pycnopodia_helianthoides_full_event-unaware_training-split_2024-05-03-18-13\n",
      "\t dataset path is ..\\..\\data\\Pycnopodia_helianthoides_full_event-unaware_training-split_2024-05-03-18-13\n",
      "for model ..\\..\\models\\reid\\Pycnopodia_helianthoides_full_event-unaware_training-split_2024-05-03-18-13__2024-05-07-00-22-52__1__densenet121__PT-True\\best_densenet121__PT-True.pth\n",
      "\t dataset is Pycnopodia_helianthoides_full_event-unaware_training-split_2024-05-03-18-13\n",
      "\t dataset path is ..\\..\\data\\Pycnopodia_helianthoides_full_event-unaware_training-split_2024-05-03-18-13\n",
      "for model ..\\..\\models\\reid\\Pycnopodia_helianthoides_full_event-unaware_training-split_2024-05-03-18-13__2024-05-07-06-02-07__1__densenet121__PT-True\\best_densenet121__PT-True.pth\n",
      "\t dataset is Pycnopodia_helianthoides_full_event-unaware_training-split_2024-05-03-18-13\n",
      "\t dataset path is ..\\..\\data\\Pycnopodia_helianthoides_full_event-unaware_training-split_2024-05-03-18-13\n",
      "for model ..\\..\\models\\reid\\Pycnopodia_helianthoides_full_event-unaware_training-split_2024-05-03-18-13__2024-05-07-06-15-19__0__densenet121__PT-True\\best_densenet121__PT-True.pth\n",
      "\t dataset is Pycnopodia_helianthoides_full_event-unaware_training-split_2024-05-03-18-13\n",
      "\t dataset path is ..\\..\\data\\Pycnopodia_helianthoides_full_event-unaware_training-split_2024-05-03-18-13\n",
      "for model ..\\..\\models\\reid\\Pycnopodia_helianthoides_full_event-unaware_training-split_2024-05-03-18-13__2024-05-07-12-45-07__1__densenet121__PT-True\\best_densenet121__PT-True.pth\n",
      "\t dataset is Pycnopodia_helianthoides_full_event-unaware_training-split_2024-05-03-18-13\n",
      "\t dataset path is ..\\..\\data\\Pycnopodia_helianthoides_full_event-unaware_training-split_2024-05-03-18-13\n",
      "for model ..\\..\\models\\reid\\Pycnopodia_helianthoides_full_event-unaware_training-split_2024-05-03-18-13__2024-05-07-12-49-30__0__densenet121__PT-True\\best_densenet121__PT-True.pth\n",
      "\t dataset is Pycnopodia_helianthoides_full_event-unaware_training-split_2024-05-03-18-13\n",
      "\t dataset path is ..\\..\\data\\Pycnopodia_helianthoides_full_event-unaware_training-split_2024-05-03-18-13\n",
      "for model ..\\..\\models\\reid\\Pycnopodia_helianthoides_full_event-unaware_training-split_2024-05-03-18-13__2024-05-07-22-22-09__1__densenet121__PT-True\\best_densenet121__PT-True.pth\n",
      "\t dataset is Pycnopodia_helianthoides_full_event-unaware_training-split_2024-05-03-18-13\n",
      "\t dataset path is ..\\..\\data\\Pycnopodia_helianthoides_full_event-unaware_training-split_2024-05-03-18-13\n",
      "for model ..\\..\\models\\reid\\Pycnopodia_helianthoides_full_event-unaware_training-split_2024-05-03-18-13__2024-05-07-22-25-49__0__densenet121__PT-True\\best_densenet121__PT-True.pth\n",
      "\t dataset is Pycnopodia_helianthoides_full_event-unaware_training-split_2024-05-03-18-13\n",
      "\t dataset path is ..\\..\\data\\Pycnopodia_helianthoides_full_event-unaware_training-split_2024-05-03-18-13\n",
      "for model ..\\..\\models\\reid\\Pycnopodia_helianthoides_full_event-unaware_training-split_2024-05-03-18-13__2024-05-08-03-16-10__1__densenet121__PT-True\\best_densenet121__PT-True.pth\n",
      "\t dataset is Pycnopodia_helianthoides_full_event-unaware_training-split_2024-05-03-18-13\n",
      "\t dataset path is ..\\..\\data\\Pycnopodia_helianthoides_full_event-unaware_training-split_2024-05-03-18-13\n",
      "for model ..\\..\\models\\reid\\Pycnopodia_helianthoides_full_event-unaware_training-split_2024-05-03-18-13__2024-05-08-03-17-08__0__densenet121__PT-True\\best_densenet121__PT-True.pth\n",
      "\t dataset is Pycnopodia_helianthoides_full_event-unaware_training-split_2024-05-03-18-13\n",
      "\t dataset path is ..\\..\\data\\Pycnopodia_helianthoides_full_event-unaware_training-split_2024-05-03-18-13\n",
      "for model ..\\..\\models\\reid\\Pycnopodia_helianthoides_full_event-unaware_training-split_2024-05-03-18-13__2024-05-08-07-16-42__0__densenet121__PT-True\\best_densenet121__PT-True.pth\n",
      "\t dataset is Pycnopodia_helianthoides_full_event-unaware_training-split_2024-05-03-18-13\n",
      "\t dataset path is ..\\..\\data\\Pycnopodia_helianthoides_full_event-unaware_training-split_2024-05-03-18-13\n",
      "for model ..\\..\\models\\reid\\Pycnopodia_helianthoides_full_event-unaware_training-split_2024-05-03-18-13__2024-05-08-07-18-36__1__densenet121__PT-True\\best_densenet121__PT-True.pth\n",
      "\t dataset is Pycnopodia_helianthoides_full_event-unaware_training-split_2024-05-03-18-13\n",
      "\t dataset path is ..\\..\\data\\Pycnopodia_helianthoides_full_event-unaware_training-split_2024-05-03-18-13\n",
      "for model ..\\..\\models\\reid\\Pycnopodia_helianthoides_full_event-unaware_training-split_2024-05-03-18-13__2024-05-08-11-39-43__0__densenet121__PT-True\\best_densenet121__PT-True.pth\n",
      "\t dataset is Pycnopodia_helianthoides_full_event-unaware_training-split_2024-05-03-18-13\n",
      "\t dataset path is ..\\..\\data\\Pycnopodia_helianthoides_full_event-unaware_training-split_2024-05-03-18-13\n",
      "for model ..\\..\\models\\reid\\Pycnopodia_helianthoides_full_event-unaware_training-split_2024-05-03-18-13__2024-05-08-11-40-27__1__densenet121__PT-True\\best_densenet121__PT-True.pth\n",
      "\t dataset is Pycnopodia_helianthoides_full_event-unaware_training-split_2024-05-03-18-13\n",
      "\t dataset path is ..\\..\\data\\Pycnopodia_helianthoides_full_event-unaware_training-split_2024-05-03-18-13\n",
      "for model ..\\..\\models\\reid\\Pycnopodia_helianthoides_full_event-unaware_training-split_2024-05-03-18-13__2024-05-08-16-08-47__1__densenet121__PT-True\\best_densenet121__PT-True.pth\n",
      "\t dataset is Pycnopodia_helianthoides_full_event-unaware_training-split_2024-05-03-18-13\n",
      "\t dataset path is ..\\..\\data\\Pycnopodia_helianthoides_full_event-unaware_training-split_2024-05-03-18-13\n",
      "for model ..\\..\\models\\reid\\Pycnopodia_helianthoides_full_event-unaware_training-split_2024-05-03-18-13__2024-05-08-16-10-46__0__densenet121__PT-True\\best_densenet121__PT-True.pth\n",
      "\t dataset is Pycnopodia_helianthoides_full_event-unaware_training-split_2024-05-03-18-13\n",
      "\t dataset path is ..\\..\\data\\Pycnopodia_helianthoides_full_event-unaware_training-split_2024-05-03-18-13\n",
      "for model ..\\..\\models\\reid\\Pycnopodia_helianthoides_full_event-unaware_training-split_2024-05-03-18-13__2024-05-08-20-37-03__0__densenet121__PT-True\\best_densenet121__PT-True.pth\n",
      "\t dataset is Pycnopodia_helianthoides_full_event-unaware_training-split_2024-05-03-18-13\n",
      "\t dataset path is ..\\..\\data\\Pycnopodia_helianthoides_full_event-unaware_training-split_2024-05-03-18-13\n",
      "for model ..\\..\\models\\reid\\Pycnopodia_helianthoides_full_event-unaware_training-split_2024-05-03-18-13__2024-05-08-20-38-41__1__densenet121__PT-True\\best_densenet121__PT-True.pth\n",
      "\t dataset is Pycnopodia_helianthoides_full_event-unaware_training-split_2024-05-03-18-13\n",
      "\t dataset path is ..\\..\\data\\Pycnopodia_helianthoides_full_event-unaware_training-split_2024-05-03-18-13\n",
      "for model ..\\..\\models\\reid\\Pycnopodia_helianthoides_full_event-unaware_training-split_2024-05-03-18-41__2024-05-05-21-18-53__1__densenet121__PT-True\\best_densenet121__PT-True.pth\n",
      "\t dataset is Pycnopodia_helianthoides_full_event-unaware_training-split_2024-05-03-18-41\n",
      "\t dataset path is ..\\..\\data\\Pycnopodia_helianthoides_full_event-unaware_training-split_2024-05-03-18-41\n",
      "for model ..\\..\\models\\reid\\Pycnopodia_helianthoides_full_event-unaware_training-split_2024-05-03-18-41__2024-05-05-21-33-12__0__densenet121__PT-True\\best_densenet121__PT-True.pth\n",
      "\t dataset is Pycnopodia_helianthoides_full_event-unaware_training-split_2024-05-03-18-41\n",
      "\t dataset path is ..\\..\\data\\Pycnopodia_helianthoides_full_event-unaware_training-split_2024-05-03-18-41\n",
      "for model ..\\..\\models\\reid\\Pycnopodia_helianthoides_full_event-unaware_training-split_2024-05-03-18-41__2024-05-06-03-19-05__1__densenet121__PT-True\\best_densenet121__PT-True.pth\n",
      "\t dataset is Pycnopodia_helianthoides_full_event-unaware_training-split_2024-05-03-18-41\n",
      "\t dataset path is ..\\..\\data\\Pycnopodia_helianthoides_full_event-unaware_training-split_2024-05-03-18-41\n",
      "for model ..\\..\\models\\reid\\Pycnopodia_helianthoides_full_event-unaware_training-split_2024-05-03-18-41__2024-05-06-03-22-39__0__densenet121__PT-True\\best_densenet121__PT-True.pth\n",
      "\t dataset is Pycnopodia_helianthoides_full_event-unaware_training-split_2024-05-03-18-41\n",
      "\t dataset path is ..\\..\\data\\Pycnopodia_helianthoides_full_event-unaware_training-split_2024-05-03-18-41\n",
      "for model ..\\..\\models\\reid\\Pycnopodia_helianthoides_full_event-unaware_training-split_2024-05-03-18-41__2024-05-06-08-38-31__1__densenet121__PT-True\\best_densenet121__PT-True.pth\n",
      "\t dataset is Pycnopodia_helianthoides_full_event-unaware_training-split_2024-05-03-18-41\n",
      "\t dataset path is ..\\..\\data\\Pycnopodia_helianthoides_full_event-unaware_training-split_2024-05-03-18-41\n",
      "for model ..\\..\\models\\reid\\Pycnopodia_helianthoides_full_event-unaware_training-split_2024-05-03-18-41__2024-05-06-08-42-15__0__densenet121__PT-True\\best_densenet121__PT-True.pth\n",
      "\t dataset is Pycnopodia_helianthoides_full_event-unaware_training-split_2024-05-03-18-41\n",
      "\t dataset path is ..\\..\\data\\Pycnopodia_helianthoides_full_event-unaware_training-split_2024-05-03-18-41\n",
      "for model ..\\..\\models\\reid\\Pycnopodia_helianthoides_full_event-unaware_training-split_2024-05-03-18-41__2024-05-06-14-07-17__1__densenet121__PT-True\\best_densenet121__PT-True.pth\n",
      "\t dataset is Pycnopodia_helianthoides_full_event-unaware_training-split_2024-05-03-18-41\n",
      "\t dataset path is ..\\..\\data\\Pycnopodia_helianthoides_full_event-unaware_training-split_2024-05-03-18-41\n",
      "for model ..\\..\\models\\reid\\Pycnopodia_helianthoides_full_event-unaware_training-split_2024-05-03-18-41__2024-05-06-14-20-29__0__densenet121__PT-True\\best_densenet121__PT-True.pth\n",
      "\t dataset is Pycnopodia_helianthoides_full_event-unaware_training-split_2024-05-03-18-41\n",
      "\t dataset path is ..\\..\\data\\Pycnopodia_helianthoides_full_event-unaware_training-split_2024-05-03-18-41\n",
      "for model ..\\..\\models\\reid\\Pycnopodia_helianthoides_full_event-unaware_training-split_2024-05-03-18-41__2024-05-06-19-39-41__1__densenet121__PT-True\\best_densenet121__PT-True.pth\n",
      "\t dataset is Pycnopodia_helianthoides_full_event-unaware_training-split_2024-05-03-18-41\n",
      "\t dataset path is ..\\..\\data\\Pycnopodia_helianthoides_full_event-unaware_training-split_2024-05-03-18-41\n",
      "for model ..\\..\\models\\reid\\Pycnopodia_helianthoides_full_event-unaware_training-split_2024-05-03-18-41__2024-05-06-19-40-19__0__densenet121__PT-True\\best_densenet121__PT-True.pth\n",
      "\t dataset is Pycnopodia_helianthoides_full_event-unaware_training-split_2024-05-03-18-41\n",
      "\t dataset path is ..\\..\\data\\Pycnopodia_helianthoides_full_event-unaware_training-split_2024-05-03-18-41\n",
      "for model ..\\..\\models\\reid\\Pycnopodia_helianthoides_full_event-unaware_training-split_2024-05-03-18-41__2024-05-07-01-05-31__0__densenet121__PT-True\\best_densenet121__PT-True.pth\n",
      "\t dataset is Pycnopodia_helianthoides_full_event-unaware_training-split_2024-05-03-18-41\n",
      "\t dataset path is ..\\..\\data\\Pycnopodia_helianthoides_full_event-unaware_training-split_2024-05-03-18-41\n",
      "for model ..\\..\\models\\reid\\Pycnopodia_helianthoides_full_event-unaware_training-split_2024-05-03-18-41__2024-05-07-01-06-28__1__densenet121__PT-True\\best_densenet121__PT-True.pth\n",
      "\t dataset is Pycnopodia_helianthoides_full_event-unaware_training-split_2024-05-03-18-41\n",
      "\t dataset path is ..\\..\\data\\Pycnopodia_helianthoides_full_event-unaware_training-split_2024-05-03-18-41\n",
      "for model ..\\..\\models\\reid\\Pycnopodia_helianthoides_full_event-unaware_training-split_2024-05-03-18-41__2024-05-07-06-40-37__1__densenet121__PT-True\\best_densenet121__PT-True.pth\n",
      "\t dataset is Pycnopodia_helianthoides_full_event-unaware_training-split_2024-05-03-18-41\n",
      "\t dataset path is ..\\..\\data\\Pycnopodia_helianthoides_full_event-unaware_training-split_2024-05-03-18-41\n",
      "for model ..\\..\\models\\reid\\Pycnopodia_helianthoides_full_event-unaware_training-split_2024-05-03-18-41__2024-05-07-07-06-49__0__densenet121__PT-True\\best_densenet121__PT-True.pth\n",
      "\t dataset is Pycnopodia_helianthoides_full_event-unaware_training-split_2024-05-03-18-41\n",
      "\t dataset path is ..\\..\\data\\Pycnopodia_helianthoides_full_event-unaware_training-split_2024-05-03-18-41\n",
      "for model ..\\..\\models\\reid\\Pycnopodia_helianthoides_full_event-unaware_training-split_2024-05-03-18-41__2024-05-07-13-29-53__1__densenet121__PT-True\\best_densenet121__PT-True.pth\n",
      "\t dataset is Pycnopodia_helianthoides_full_event-unaware_training-split_2024-05-03-18-41\n",
      "\t dataset path is ..\\..\\data\\Pycnopodia_helianthoides_full_event-unaware_training-split_2024-05-03-18-41\n",
      "for model ..\\..\\models\\reid\\Pycnopodia_helianthoides_full_event-unaware_training-split_2024-05-03-18-41__2024-05-07-13-38-29__0__densenet121__PT-True\\best_densenet121__PT-True.pth\n",
      "\t dataset is Pycnopodia_helianthoides_full_event-unaware_training-split_2024-05-03-18-41\n",
      "\t dataset path is ..\\..\\data\\Pycnopodia_helianthoides_full_event-unaware_training-split_2024-05-03-18-41\n",
      "for model ..\\..\\models\\reid\\Pycnopodia_helianthoides_full_event-unaware_training-split_2024-05-03-18-41__2024-05-07-22-56-42__1__densenet121__PT-True\\best_densenet121__PT-True.pth\n",
      "\t dataset is Pycnopodia_helianthoides_full_event-unaware_training-split_2024-05-03-18-41\n",
      "\t dataset path is ..\\..\\data\\Pycnopodia_helianthoides_full_event-unaware_training-split_2024-05-03-18-41\n",
      "for model ..\\..\\models\\reid\\Pycnopodia_helianthoides_full_event-unaware_training-split_2024-05-03-18-41__2024-05-07-23-03-58__0__densenet121__PT-True\\best_densenet121__PT-True.pth\n",
      "\t dataset is Pycnopodia_helianthoides_full_event-unaware_training-split_2024-05-03-18-41\n",
      "\t dataset path is ..\\..\\data\\Pycnopodia_helianthoides_full_event-unaware_training-split_2024-05-03-18-41\n",
      "for model ..\\..\\models\\reid\\Pycnopodia_helianthoides_full_event-unaware_training-split_2024-05-03-18-41__2024-05-08-03-45-37__1__densenet121__PT-True\\best_densenet121__PT-True.pth\n",
      "\t dataset is Pycnopodia_helianthoides_full_event-unaware_training-split_2024-05-03-18-41\n",
      "\t dataset path is ..\\..\\data\\Pycnopodia_helianthoides_full_event-unaware_training-split_2024-05-03-18-41\n",
      "for model ..\\..\\models\\reid\\Pycnopodia_helianthoides_full_event-unaware_training-split_2024-05-03-18-41__2024-05-08-03-47-20__0__densenet121__PT-True\\best_densenet121__PT-True.pth\n",
      "\t dataset is Pycnopodia_helianthoides_full_event-unaware_training-split_2024-05-03-18-41\n",
      "\t dataset path is ..\\..\\data\\Pycnopodia_helianthoides_full_event-unaware_training-split_2024-05-03-18-41\n",
      "for model ..\\..\\models\\reid\\Pycnopodia_helianthoides_full_event-unaware_training-split_2024-05-03-18-41__2024-05-08-07-47-50__0__densenet121__PT-True\\best_densenet121__PT-True.pth\n",
      "\t dataset is Pycnopodia_helianthoides_full_event-unaware_training-split_2024-05-03-18-41\n",
      "\t dataset path is ..\\..\\data\\Pycnopodia_helianthoides_full_event-unaware_training-split_2024-05-03-18-41\n",
      "for model ..\\..\\models\\reid\\Pycnopodia_helianthoides_full_event-unaware_training-split_2024-05-03-18-41__2024-05-08-07-51-31__1__densenet121__PT-True\\best_densenet121__PT-True.pth\n",
      "\t dataset is Pycnopodia_helianthoides_full_event-unaware_training-split_2024-05-03-18-41\n",
      "\t dataset path is ..\\..\\data\\Pycnopodia_helianthoides_full_event-unaware_training-split_2024-05-03-18-41\n",
      "for model ..\\..\\models\\reid\\Pycnopodia_helianthoides_full_event-unaware_training-split_2024-05-03-18-41__2024-05-08-12-13-28__0__densenet121__PT-True\\best_densenet121__PT-True.pth\n",
      "\t dataset is Pycnopodia_helianthoides_full_event-unaware_training-split_2024-05-03-18-41\n",
      "\t dataset path is ..\\..\\data\\Pycnopodia_helianthoides_full_event-unaware_training-split_2024-05-03-18-41\n",
      "for model ..\\..\\models\\reid\\Pycnopodia_helianthoides_full_event-unaware_training-split_2024-05-03-18-41__2024-05-08-12-14-51__1__densenet121__PT-True\\best_densenet121__PT-True.pth\n",
      "\t dataset is Pycnopodia_helianthoides_full_event-unaware_training-split_2024-05-03-18-41\n",
      "\t dataset path is ..\\..\\data\\Pycnopodia_helianthoides_full_event-unaware_training-split_2024-05-03-18-41\n",
      "for model ..\\..\\models\\reid\\Pycnopodia_helianthoides_full_event-unaware_training-split_2024-05-03-18-41__2024-05-08-16-41-02__1__densenet121__PT-True\\best_densenet121__PT-True.pth\n",
      "\t dataset is Pycnopodia_helianthoides_full_event-unaware_training-split_2024-05-03-18-41\n",
      "\t dataset path is ..\\..\\data\\Pycnopodia_helianthoides_full_event-unaware_training-split_2024-05-03-18-41\n",
      "for model ..\\..\\models\\reid\\Pycnopodia_helianthoides_full_event-unaware_training-split_2024-05-03-18-41__2024-05-08-16-45-00__0__densenet121__PT-True\\best_densenet121__PT-True.pth\n",
      "\t dataset is Pycnopodia_helianthoides_full_event-unaware_training-split_2024-05-03-18-41\n",
      "\t dataset path is ..\\..\\data\\Pycnopodia_helianthoides_full_event-unaware_training-split_2024-05-03-18-41\n",
      "for model ..\\..\\models\\reid\\Pycnopodia_helianthoides_full_event-unaware_training-split_2024-05-03-18-41__2024-05-08-21-10-15__0__densenet121__PT-True\\best_densenet121__PT-True.pth\n",
      "\t dataset is Pycnopodia_helianthoides_full_event-unaware_training-split_2024-05-03-18-41\n",
      "\t dataset path is ..\\..\\data\\Pycnopodia_helianthoides_full_event-unaware_training-split_2024-05-03-18-41\n",
      "for model ..\\..\\models\\reid\\Pycnopodia_helianthoides_full_event-unaware_training-split_2024-05-03-18-41__2024-05-08-21-13-05__1__densenet121__PT-True\\best_densenet121__PT-True.pth\n",
      "\t dataset is Pycnopodia_helianthoides_full_event-unaware_training-split_2024-05-03-18-41\n",
      "\t dataset path is ..\\..\\data\\Pycnopodia_helianthoides_full_event-unaware_training-split_2024-05-03-18-41\n",
      "for model ..\\..\\models\\reid\\Pycnopodia_helianthoides_full_event-unaware_training-split_2024-05-03-19-10__2024-05-05-21-55-44__1__densenet121__PT-True\\best_densenet121__PT-True.pth\n",
      "\t dataset is Pycnopodia_helianthoides_full_event-unaware_training-split_2024-05-03-19-10\n",
      "\t dataset path is ..\\..\\data\\Pycnopodia_helianthoides_full_event-unaware_training-split_2024-05-03-19-10\n",
      "for model ..\\..\\models\\reid\\Pycnopodia_helianthoides_full_event-unaware_training-split_2024-05-03-19-10__2024-05-05-22-15-51__0__densenet121__PT-True\\best_densenet121__PT-True.pth\n",
      "\t dataset is Pycnopodia_helianthoides_full_event-unaware_training-split_2024-05-03-19-10\n",
      "\t dataset path is ..\\..\\data\\Pycnopodia_helianthoides_full_event-unaware_training-split_2024-05-03-19-10\n",
      "for model ..\\..\\models\\reid\\Pycnopodia_helianthoides_full_event-unaware_training-split_2024-05-03-19-10__2024-05-06-03-55-21__1__densenet121__PT-True\\best_densenet121__PT-True.pth\n",
      "\t dataset is Pycnopodia_helianthoides_full_event-unaware_training-split_2024-05-03-19-10\n",
      "\t dataset path is ..\\..\\data\\Pycnopodia_helianthoides_full_event-unaware_training-split_2024-05-03-19-10\n",
      "for model ..\\..\\models\\reid\\Pycnopodia_helianthoides_full_event-unaware_training-split_2024-05-03-19-10__2024-05-06-04-00-53__0__densenet121__PT-True\\best_densenet121__PT-True.pth\n",
      "\t dataset is Pycnopodia_helianthoides_full_event-unaware_training-split_2024-05-03-19-10\n",
      "\t dataset path is ..\\..\\data\\Pycnopodia_helianthoides_full_event-unaware_training-split_2024-05-03-19-10\n",
      "for model ..\\..\\models\\reid\\Pycnopodia_helianthoides_full_event-unaware_training-split_2024-05-03-19-10__2024-05-06-09-20-41__1__densenet121__PT-True\\best_densenet121__PT-True.pth\n",
      "\t dataset is Pycnopodia_helianthoides_full_event-unaware_training-split_2024-05-03-19-10\n",
      "\t dataset path is ..\\..\\data\\Pycnopodia_helianthoides_full_event-unaware_training-split_2024-05-03-19-10\n",
      "for model ..\\..\\models\\reid\\Pycnopodia_helianthoides_full_event-unaware_training-split_2024-05-03-19-10__2024-05-06-09-26-12__0__densenet121__PT-True\\best_densenet121__PT-True.pth\n",
      "\t dataset is Pycnopodia_helianthoides_full_event-unaware_training-split_2024-05-03-19-10\n",
      "\t dataset path is ..\\..\\data\\Pycnopodia_helianthoides_full_event-unaware_training-split_2024-05-03-19-10\n",
      "for model ..\\..\\models\\reid\\Pycnopodia_helianthoides_full_event-unaware_training-split_2024-05-03-19-10__2024-05-06-14-42-44__1__densenet121__PT-True\\best_densenet121__PT-True.pth\n",
      "\t dataset is Pycnopodia_helianthoides_full_event-unaware_training-split_2024-05-03-19-10\n",
      "\t dataset path is ..\\..\\data\\Pycnopodia_helianthoides_full_event-unaware_training-split_2024-05-03-19-10\n",
      "for model ..\\..\\models\\reid\\Pycnopodia_helianthoides_full_event-unaware_training-split_2024-05-03-19-10__2024-05-06-15-02-43__0__densenet121__PT-True\\best_densenet121__PT-True.pth\n",
      "\t dataset is Pycnopodia_helianthoides_full_event-unaware_training-split_2024-05-03-19-10\n",
      "\t dataset path is ..\\..\\data\\Pycnopodia_helianthoides_full_event-unaware_training-split_2024-05-03-19-10\n",
      "for model ..\\..\\models\\reid\\Pycnopodia_helianthoides_full_event-unaware_training-split_2024-05-03-19-10__2024-05-06-20-18-58__1__densenet121__PT-True\\best_densenet121__PT-True.pth\n",
      "\t dataset is Pycnopodia_helianthoides_full_event-unaware_training-split_2024-05-03-19-10\n",
      "\t dataset path is ..\\..\\data\\Pycnopodia_helianthoides_full_event-unaware_training-split_2024-05-03-19-10\n",
      "for model ..\\..\\models\\reid\\Pycnopodia_helianthoides_full_event-unaware_training-split_2024-05-03-19-10__2024-05-06-20-20-00__0__densenet121__PT-True\\best_densenet121__PT-True.pth\n",
      "\t dataset is Pycnopodia_helianthoides_full_event-unaware_training-split_2024-05-03-19-10\n",
      "\t dataset path is ..\\..\\data\\Pycnopodia_helianthoides_full_event-unaware_training-split_2024-05-03-19-10\n",
      "for model ..\\..\\models\\reid\\Pycnopodia_helianthoides_full_event-unaware_training-split_2024-05-03-19-10__2024-05-07-01-49-18__0__densenet121__PT-True\\best_densenet121__PT-True.pth\n",
      "\t dataset is Pycnopodia_helianthoides_full_event-unaware_training-split_2024-05-03-19-10\n",
      "\t dataset path is ..\\..\\data\\Pycnopodia_helianthoides_full_event-unaware_training-split_2024-05-03-19-10\n",
      "for model ..\\..\\models\\reid\\Pycnopodia_helianthoides_full_event-unaware_training-split_2024-05-03-19-10__2024-05-07-01-50-29__1__densenet121__PT-True\\best_densenet121__PT-True.pth\n",
      "\t dataset is Pycnopodia_helianthoides_full_event-unaware_training-split_2024-05-03-19-10\n",
      "\t dataset path is ..\\..\\data\\Pycnopodia_helianthoides_full_event-unaware_training-split_2024-05-03-19-10\n",
      "for model ..\\..\\models\\reid\\Pycnopodia_helianthoides_full_event-unaware_training-split_2024-05-03-19-10__2024-05-07-07-18-27__1__densenet121__PT-True\\best_densenet121__PT-True.pth\n",
      "\t dataset is Pycnopodia_helianthoides_full_event-unaware_training-split_2024-05-03-19-10\n",
      "\t dataset path is ..\\..\\data\\Pycnopodia_helianthoides_full_event-unaware_training-split_2024-05-03-19-10\n",
      "for model ..\\..\\models\\reid\\Pycnopodia_helianthoides_full_event-unaware_training-split_2024-05-03-19-10__2024-05-07-07-58-17__0__densenet121__PT-True\\best_densenet121__PT-True.pth\n",
      "\t dataset is Pycnopodia_helianthoides_full_event-unaware_training-split_2024-05-03-19-10\n",
      "\t dataset path is ..\\..\\data\\Pycnopodia_helianthoides_full_event-unaware_training-split_2024-05-03-19-10\n",
      "for model ..\\..\\models\\reid\\Pycnopodia_helianthoides_full_event-unaware_training-split_2024-05-03-19-10__2024-05-07-14-14-06__1__densenet121__PT-True\\best_densenet121__PT-True.pth\n",
      "\t dataset is Pycnopodia_helianthoides_full_event-unaware_training-split_2024-05-03-19-10\n",
      "\t dataset path is ..\\..\\data\\Pycnopodia_helianthoides_full_event-unaware_training-split_2024-05-03-19-10\n",
      "for model ..\\..\\models\\reid\\Pycnopodia_helianthoides_full_event-unaware_training-split_2024-05-03-19-10__2024-05-07-14-27-08__0__densenet121__PT-True\\best_densenet121__PT-True.pth\n",
      "\t dataset is Pycnopodia_helianthoides_full_event-unaware_training-split_2024-05-03-19-10\n",
      "\t dataset path is ..\\..\\data\\Pycnopodia_helianthoides_full_event-unaware_training-split_2024-05-03-19-10\n",
      "for model ..\\..\\models\\reid\\Pycnopodia_helianthoides_full_event-unaware_training-split_2024-05-03-19-10__2024-05-07-23-31-17__1__densenet121__PT-True\\best_densenet121__PT-True.pth\n",
      "\t dataset is Pycnopodia_helianthoides_full_event-unaware_training-split_2024-05-03-19-10\n",
      "\t dataset path is ..\\..\\data\\Pycnopodia_helianthoides_full_event-unaware_training-split_2024-05-03-19-10\n",
      "for model ..\\..\\models\\reid\\Pycnopodia_helianthoides_full_event-unaware_training-split_2024-05-03-19-10__2024-05-07-23-42-04__0__densenet121__PT-True\\best_densenet121__PT-True.pth\n",
      "\t dataset is Pycnopodia_helianthoides_full_event-unaware_training-split_2024-05-03-19-10\n",
      "\t dataset path is ..\\..\\data\\Pycnopodia_helianthoides_full_event-unaware_training-split_2024-05-03-19-10\n",
      "for model ..\\..\\models\\reid\\Pycnopodia_helianthoides_full_event-unaware_training-split_2024-05-03-19-10__2024-05-08-04-15-09__1__densenet121__PT-True\\best_densenet121__PT-True.pth\n",
      "\t dataset is Pycnopodia_helianthoides_full_event-unaware_training-split_2024-05-03-19-10\n",
      "\t dataset path is ..\\..\\data\\Pycnopodia_helianthoides_full_event-unaware_training-split_2024-05-03-19-10\n",
      "for model ..\\..\\models\\reid\\Pycnopodia_helianthoides_full_event-unaware_training-split_2024-05-03-19-10__2024-05-08-04-17-43__0__densenet121__PT-True\\best_densenet121__PT-True.pth\n",
      "\t dataset is Pycnopodia_helianthoides_full_event-unaware_training-split_2024-05-03-19-10\n",
      "\t dataset path is ..\\..\\data\\Pycnopodia_helianthoides_full_event-unaware_training-split_2024-05-03-19-10\n",
      "for model ..\\..\\models\\reid\\Pycnopodia_helianthoides_full_event-unaware_training-split_2024-05-03-19-10__2024-05-08-08-18-55__0__densenet121__PT-True\\best_densenet121__PT-True.pth\n",
      "\t dataset is Pycnopodia_helianthoides_full_event-unaware_training-split_2024-05-03-19-10\n",
      "\t dataset path is ..\\..\\data\\Pycnopodia_helianthoides_full_event-unaware_training-split_2024-05-03-19-10\n",
      "for model ..\\..\\models\\reid\\Pycnopodia_helianthoides_full_event-unaware_training-split_2024-05-03-19-10__2024-05-08-08-24-29__1__densenet121__PT-True\\best_densenet121__PT-True.pth\n",
      "\t dataset is Pycnopodia_helianthoides_full_event-unaware_training-split_2024-05-03-19-10\n",
      "\t dataset path is ..\\..\\data\\Pycnopodia_helianthoides_full_event-unaware_training-split_2024-05-03-19-10\n",
      "for model ..\\..\\models\\reid\\Pycnopodia_helianthoides_full_event-unaware_training-split_2024-05-03-19-10__2024-05-08-12-47-01__0__densenet121__PT-True\\best_densenet121__PT-True.pth\n",
      "\t dataset is Pycnopodia_helianthoides_full_event-unaware_training-split_2024-05-03-19-10\n",
      "\t dataset path is ..\\..\\data\\Pycnopodia_helianthoides_full_event-unaware_training-split_2024-05-03-19-10\n",
      "for model ..\\..\\models\\reid\\Pycnopodia_helianthoides_full_event-unaware_training-split_2024-05-03-19-10__2024-05-08-12-49-03__1__densenet121__PT-True\\best_densenet121__PT-True.pth\n",
      "\t dataset is Pycnopodia_helianthoides_full_event-unaware_training-split_2024-05-03-19-10\n",
      "\t dataset path is ..\\..\\data\\Pycnopodia_helianthoides_full_event-unaware_training-split_2024-05-03-19-10\n",
      "for model ..\\..\\models\\reid\\Pycnopodia_helianthoides_full_event-unaware_training-split_2024-05-03-19-10__2024-05-08-17-13-01__1__densenet121__PT-True\\best_densenet121__PT-True.pth\n",
      "\t dataset is Pycnopodia_helianthoides_full_event-unaware_training-split_2024-05-03-19-10\n",
      "\t dataset path is ..\\..\\data\\Pycnopodia_helianthoides_full_event-unaware_training-split_2024-05-03-19-10\n",
      "for model ..\\..\\models\\reid\\Pycnopodia_helianthoides_full_event-unaware_training-split_2024-05-03-19-10__2024-05-08-17-18-50__0__densenet121__PT-True\\best_densenet121__PT-True.pth\n",
      "\t dataset is Pycnopodia_helianthoides_full_event-unaware_training-split_2024-05-03-19-10\n",
      "\t dataset path is ..\\..\\data\\Pycnopodia_helianthoides_full_event-unaware_training-split_2024-05-03-19-10\n",
      "for model ..\\..\\models\\reid\\Pycnopodia_helianthoides_full_event-unaware_training-split_2024-05-03-19-10__2024-05-08-21-43-20__0__densenet121__PT-True\\best_densenet121__PT-True.pth\n",
      "\t dataset is Pycnopodia_helianthoides_full_event-unaware_training-split_2024-05-03-19-10\n",
      "\t dataset path is ..\\..\\data\\Pycnopodia_helianthoides_full_event-unaware_training-split_2024-05-03-19-10\n",
      "for model ..\\..\\models\\reid\\Pycnopodia_helianthoides_full_event-unaware_training-split_2024-05-03-19-10__2024-05-08-21-47-30__1__densenet121__PT-True\\best_densenet121__PT-True.pth\n",
      "\t dataset is Pycnopodia_helianthoides_full_event-unaware_training-split_2024-05-03-19-10\n",
      "\t dataset path is ..\\..\\data\\Pycnopodia_helianthoides_full_event-unaware_training-split_2024-05-03-19-10\n",
      "for model ..\\..\\models\\reid\\Reduced_Pycnopodia_helianthoides_full_event-unaware_training-split_2024-05-03-19-40__2024-05-05-22-31-47__1__densenet121__PT-True\\best_densenet121__PT-True.pth\n",
      "\t dataset is Reduced_Pycnopodia_helianthoides_full_event-unaware_training-split_2024-05-03-19-40\n",
      "\t dataset path is ..\\..\\data\\Reduced_Pycnopodia_helianthoides_full_event-unaware_training-split_2024-05-03-19-40\n",
      "for model ..\\..\\models\\reid\\Reduced_Pycnopodia_helianthoides_full_event-unaware_training-split_2024-05-03-19-40__2024-05-05-23-00-03__0__densenet121__PT-True\\best_densenet121__PT-True.pth\n",
      "\t dataset is Reduced_Pycnopodia_helianthoides_full_event-unaware_training-split_2024-05-03-19-40\n",
      "\t dataset path is ..\\..\\data\\Reduced_Pycnopodia_helianthoides_full_event-unaware_training-split_2024-05-03-19-40\n",
      "for model ..\\..\\models\\reid\\Reduced_Pycnopodia_helianthoides_full_event-unaware_training-split_2024-05-03-19-40__2024-05-06-04-32-20__1__densenet121__PT-True\\best_densenet121__PT-True.pth\n",
      "\t dataset is Reduced_Pycnopodia_helianthoides_full_event-unaware_training-split_2024-05-03-19-40\n",
      "\t dataset path is ..\\..\\data\\Reduced_Pycnopodia_helianthoides_full_event-unaware_training-split_2024-05-03-19-40\n",
      "for model ..\\..\\models\\reid\\Reduced_Pycnopodia_helianthoides_full_event-unaware_training-split_2024-05-03-19-40__2024-05-06-04-39-38__0__densenet121__PT-True\\best_densenet121__PT-True.pth\n",
      "\t dataset is Reduced_Pycnopodia_helianthoides_full_event-unaware_training-split_2024-05-03-19-40\n",
      "\t dataset path is ..\\..\\data\\Reduced_Pycnopodia_helianthoides_full_event-unaware_training-split_2024-05-03-19-40\n",
      "for model ..\\..\\models\\reid\\Reduced_Pycnopodia_helianthoides_full_event-unaware_training-split_2024-05-03-19-40__2024-05-06-10-02-39__1__densenet121__PT-True\\best_densenet121__PT-True.pth\n",
      "\t dataset is Reduced_Pycnopodia_helianthoides_full_event-unaware_training-split_2024-05-03-19-40\n",
      "\t dataset path is ..\\..\\data\\Reduced_Pycnopodia_helianthoides_full_event-unaware_training-split_2024-05-03-19-40\n",
      "for model ..\\..\\models\\reid\\Reduced_Pycnopodia_helianthoides_full_event-unaware_training-split_2024-05-03-19-40__2024-05-06-10-10-03__0__densenet121__PT-True\\best_densenet121__PT-True.pth\n",
      "\t dataset is Reduced_Pycnopodia_helianthoides_full_event-unaware_training-split_2024-05-03-19-40\n",
      "\t dataset path is ..\\..\\data\\Reduced_Pycnopodia_helianthoides_full_event-unaware_training-split_2024-05-03-19-40\n",
      "for model ..\\..\\models\\reid\\Reduced_Pycnopodia_helianthoides_full_event-unaware_training-split_2024-05-03-19-40__2024-05-06-15-18-08__1__densenet121__PT-True\\best_densenet121__PT-True.pth\n",
      "\t dataset is Reduced_Pycnopodia_helianthoides_full_event-unaware_training-split_2024-05-03-19-40\n",
      "\t dataset path is ..\\..\\data\\Reduced_Pycnopodia_helianthoides_full_event-unaware_training-split_2024-05-03-19-40\n",
      "for model ..\\..\\models\\reid\\Reduced_Pycnopodia_helianthoides_full_event-unaware_training-split_2024-05-03-19-40__2024-05-06-15-44-21__0__densenet121__PT-True\\best_densenet121__PT-True.pth\n",
      "\t dataset is Reduced_Pycnopodia_helianthoides_full_event-unaware_training-split_2024-05-03-19-40\n",
      "\t dataset path is ..\\..\\data\\Reduced_Pycnopodia_helianthoides_full_event-unaware_training-split_2024-05-03-19-40\n",
      "for model ..\\..\\models\\reid\\Reduced_Pycnopodia_helianthoides_full_event-unaware_training-split_2024-05-03-19-40__2024-05-06-20-58-21__1__densenet121__PT-True\\best_densenet121__PT-True.pth\n",
      "\t dataset is Reduced_Pycnopodia_helianthoides_full_event-unaware_training-split_2024-05-03-19-40\n",
      "\t dataset path is ..\\..\\data\\Reduced_Pycnopodia_helianthoides_full_event-unaware_training-split_2024-05-03-19-40\n",
      "for model ..\\..\\models\\reid\\Reduced_Pycnopodia_helianthoides_full_event-unaware_training-split_2024-05-03-19-40__2024-05-06-21-00-00__0__densenet121__PT-True\\best_densenet121__PT-True.pth\n",
      "\t dataset is Reduced_Pycnopodia_helianthoides_full_event-unaware_training-split_2024-05-03-19-40\n",
      "\t dataset path is ..\\..\\data\\Reduced_Pycnopodia_helianthoides_full_event-unaware_training-split_2024-05-03-19-40\n",
      "for model ..\\..\\models\\reid\\Reduced_Pycnopodia_helianthoides_full_event-unaware_training-split_2024-05-03-19-40__2024-05-07-02-32-42__0__densenet121__PT-True\\best_densenet121__PT-True.pth\n",
      "\t dataset is Reduced_Pycnopodia_helianthoides_full_event-unaware_training-split_2024-05-03-19-40\n",
      "\t dataset path is ..\\..\\data\\Reduced_Pycnopodia_helianthoides_full_event-unaware_training-split_2024-05-03-19-40\n",
      "for model ..\\..\\models\\reid\\Reduced_Pycnopodia_helianthoides_full_event-unaware_training-split_2024-05-03-19-40__2024-05-07-02-34-07__1__densenet121__PT-True\\best_densenet121__PT-True.pth\n",
      "\t dataset is Reduced_Pycnopodia_helianthoides_full_event-unaware_training-split_2024-05-03-19-40\n",
      "\t dataset path is ..\\..\\data\\Reduced_Pycnopodia_helianthoides_full_event-unaware_training-split_2024-05-03-19-40\n",
      "for model ..\\..\\models\\reid\\Reduced_Pycnopodia_helianthoides_full_event-unaware_training-split_2024-05-03-19-40__2024-05-07-07-56-25__1__densenet121__PT-True\\best_densenet121__PT-True.pth\n",
      "\t dataset is Reduced_Pycnopodia_helianthoides_full_event-unaware_training-split_2024-05-03-19-40\n",
      "\t dataset path is ..\\..\\data\\Reduced_Pycnopodia_helianthoides_full_event-unaware_training-split_2024-05-03-19-40\n",
      "for model ..\\..\\models\\reid\\Reduced_Pycnopodia_helianthoides_full_event-unaware_training-split_2024-05-03-19-40__2024-05-07-08-48-03__0__densenet121__PT-True\\best_densenet121__PT-True.pth\n",
      "\t dataset is Reduced_Pycnopodia_helianthoides_full_event-unaware_training-split_2024-05-03-19-40\n",
      "\t dataset path is ..\\..\\data\\Reduced_Pycnopodia_helianthoides_full_event-unaware_training-split_2024-05-03-19-40\n",
      "for model ..\\..\\models\\reid\\Reduced_Pycnopodia_helianthoides_full_event-unaware_training-split_2024-05-03-19-40__2024-05-07-15-00-16__1__densenet121__PT-True\\best_densenet121__PT-True.pth\n",
      "\t dataset is Reduced_Pycnopodia_helianthoides_full_event-unaware_training-split_2024-05-03-19-40\n",
      "\t dataset path is ..\\..\\data\\Reduced_Pycnopodia_helianthoides_full_event-unaware_training-split_2024-05-03-19-40\n",
      "for model ..\\..\\models\\reid\\Reduced_Pycnopodia_helianthoides_full_event-unaware_training-split_2024-05-03-19-40__2024-05-07-15-17-48__0__densenet121__PT-True\\best_densenet121__PT-True.pth\n",
      "\t dataset is Reduced_Pycnopodia_helianthoides_full_event-unaware_training-split_2024-05-03-19-40\n",
      "\t dataset path is ..\\..\\data\\Reduced_Pycnopodia_helianthoides_full_event-unaware_training-split_2024-05-03-19-40\n",
      "for model ..\\..\\models\\reid\\Reduced_Pycnopodia_helianthoides_full_event-unaware_training-split_2024-05-03-19-40__2024-05-08-00-05-52__1__densenet121__PT-True\\best_densenet121__PT-True.pth\n",
      "\t dataset is Reduced_Pycnopodia_helianthoides_full_event-unaware_training-split_2024-05-03-19-40\n",
      "\t dataset path is ..\\..\\data\\Reduced_Pycnopodia_helianthoides_full_event-unaware_training-split_2024-05-03-19-40\n",
      "for model ..\\..\\models\\reid\\Reduced_Pycnopodia_helianthoides_full_event-unaware_training-split_2024-05-03-19-40__2024-05-08-00-20-12__0__densenet121__PT-True\\best_densenet121__PT-True.pth\n",
      "\t dataset is Reduced_Pycnopodia_helianthoides_full_event-unaware_training-split_2024-05-03-19-40\n",
      "\t dataset path is ..\\..\\data\\Reduced_Pycnopodia_helianthoides_full_event-unaware_training-split_2024-05-03-19-40\n",
      "for model ..\\..\\models\\reid\\Reduced_Pycnopodia_helianthoides_full_event-unaware_training-split_2024-05-03-19-40__2024-05-08-04-44-30__1__densenet121__PT-True\\best_densenet121__PT-True.pth\n",
      "\t dataset is Reduced_Pycnopodia_helianthoides_full_event-unaware_training-split_2024-05-03-19-40\n",
      "\t dataset path is ..\\..\\data\\Reduced_Pycnopodia_helianthoides_full_event-unaware_training-split_2024-05-03-19-40\n",
      "for model ..\\..\\models\\reid\\Reduced_Pycnopodia_helianthoides_full_event-unaware_training-split_2024-05-03-19-40__2024-05-08-04-47-51__0__densenet121__PT-True\\best_densenet121__PT-True.pth\n",
      "\t dataset is Reduced_Pycnopodia_helianthoides_full_event-unaware_training-split_2024-05-03-19-40\n",
      "\t dataset path is ..\\..\\data\\Reduced_Pycnopodia_helianthoides_full_event-unaware_training-split_2024-05-03-19-40\n",
      "for model ..\\..\\models\\reid\\Reduced_Pycnopodia_helianthoides_full_event-unaware_training-split_2024-05-03-19-40__2024-05-08-08-49-53__0__densenet121__PT-True\\best_densenet121__PT-True.pth\n",
      "\t dataset is Reduced_Pycnopodia_helianthoides_full_event-unaware_training-split_2024-05-03-19-40\n",
      "\t dataset path is ..\\..\\data\\Reduced_Pycnopodia_helianthoides_full_event-unaware_training-split_2024-05-03-19-40\n",
      "for model ..\\..\\models\\reid\\Reduced_Pycnopodia_helianthoides_full_event-unaware_training-split_2024-05-03-19-40__2024-05-08-08-57-28__1__densenet121__PT-True\\best_densenet121__PT-True.pth\n",
      "\t dataset is Reduced_Pycnopodia_helianthoides_full_event-unaware_training-split_2024-05-03-19-40\n",
      "\t dataset path is ..\\..\\data\\Reduced_Pycnopodia_helianthoides_full_event-unaware_training-split_2024-05-03-19-40\n",
      "for model ..\\..\\models\\reid\\Reduced_Pycnopodia_helianthoides_full_event-unaware_training-split_2024-05-03-19-40__2024-05-08-13-20-46__0__densenet121__PT-True\\best_densenet121__PT-True.pth\n",
      "\t dataset is Reduced_Pycnopodia_helianthoides_full_event-unaware_training-split_2024-05-03-19-40\n",
      "\t dataset path is ..\\..\\data\\Reduced_Pycnopodia_helianthoides_full_event-unaware_training-split_2024-05-03-19-40\n",
      "for model ..\\..\\models\\reid\\Reduced_Pycnopodia_helianthoides_full_event-unaware_training-split_2024-05-03-19-40__2024-05-08-13-23-27__1__densenet121__PT-True\\best_densenet121__PT-True.pth\n",
      "\t dataset is Reduced_Pycnopodia_helianthoides_full_event-unaware_training-split_2024-05-03-19-40\n",
      "\t dataset path is ..\\..\\data\\Reduced_Pycnopodia_helianthoides_full_event-unaware_training-split_2024-05-03-19-40\n",
      "for model ..\\..\\models\\reid\\Reduced_Pycnopodia_helianthoides_full_event-unaware_training-split_2024-05-03-19-40__2024-05-08-17-44-56__1__densenet121__PT-True\\best_densenet121__PT-True.pth\n",
      "\t dataset is Reduced_Pycnopodia_helianthoides_full_event-unaware_training-split_2024-05-03-19-40\n",
      "\t dataset path is ..\\..\\data\\Reduced_Pycnopodia_helianthoides_full_event-unaware_training-split_2024-05-03-19-40\n",
      "for model ..\\..\\models\\reid\\Reduced_Pycnopodia_helianthoides_full_event-unaware_training-split_2024-05-03-19-40__2024-05-08-17-52-42__0__densenet121__PT-True\\best_densenet121__PT-True.pth\n",
      "\t dataset is Reduced_Pycnopodia_helianthoides_full_event-unaware_training-split_2024-05-03-19-40\n",
      "\t dataset path is ..\\..\\data\\Reduced_Pycnopodia_helianthoides_full_event-unaware_training-split_2024-05-03-19-40\n",
      "for model ..\\..\\models\\reid\\Reduced_Pycnopodia_helianthoides_full_event-unaware_training-split_2024-05-03-19-40__2024-05-08-22-16-21__0__densenet121__PT-True\\best_densenet121__PT-True.pth\n",
      "\t dataset is Reduced_Pycnopodia_helianthoides_full_event-unaware_training-split_2024-05-03-19-40\n",
      "\t dataset path is ..\\..\\data\\Reduced_Pycnopodia_helianthoides_full_event-unaware_training-split_2024-05-03-19-40\n",
      "for model ..\\..\\models\\reid\\Reduced_Pycnopodia_helianthoides_full_event-unaware_training-split_2024-05-03-19-40__2024-05-08-22-21-51__1__densenet121__PT-True\\best_densenet121__PT-True.pth\n",
      "\t dataset is Reduced_Pycnopodia_helianthoides_full_event-unaware_training-split_2024-05-03-19-40\n",
      "\t dataset path is ..\\..\\data\\Reduced_Pycnopodia_helianthoides_full_event-unaware_training-split_2024-05-03-19-40\n",
      "for model ..\\..\\models\\reid\\Reduced_Pycnopodia_helianthoides_full_event-unaware_training-split_2024-05-03-20-02__2024-05-05-23-05-00__1__densenet121__PT-True\\best_densenet121__PT-True.pth\n",
      "\t dataset is Reduced_Pycnopodia_helianthoides_full_event-unaware_training-split_2024-05-03-20-02\n",
      "\t dataset path is ..\\..\\data\\Reduced_Pycnopodia_helianthoides_full_event-unaware_training-split_2024-05-03-20-02\n",
      "for model ..\\..\\models\\reid\\Reduced_Pycnopodia_helianthoides_full_event-unaware_training-split_2024-05-03-20-02__2024-05-05-23-42-27__0__densenet121__PT-True\\best_densenet121__PT-True.pth\n",
      "\t dataset is Reduced_Pycnopodia_helianthoides_full_event-unaware_training-split_2024-05-03-20-02\n",
      "\t dataset path is ..\\..\\data\\Reduced_Pycnopodia_helianthoides_full_event-unaware_training-split_2024-05-03-20-02\n",
      "for model ..\\..\\models\\reid\\Reduced_Pycnopodia_helianthoides_full_event-unaware_training-split_2024-05-03-20-02__2024-05-06-05-05-53__1__densenet121__PT-True\\best_densenet121__PT-True.pth\n",
      "\t dataset is Reduced_Pycnopodia_helianthoides_full_event-unaware_training-split_2024-05-03-20-02\n",
      "\t dataset path is ..\\..\\data\\Reduced_Pycnopodia_helianthoides_full_event-unaware_training-split_2024-05-03-20-02\n",
      "for model ..\\..\\models\\reid\\Reduced_Pycnopodia_helianthoides_full_event-unaware_training-split_2024-05-03-20-02__2024-05-06-05-14-22__0__densenet121__PT-True\\best_densenet121__PT-True.pth\n",
      "\t dataset is Reduced_Pycnopodia_helianthoides_full_event-unaware_training-split_2024-05-03-20-02\n",
      "\t dataset path is ..\\..\\data\\Reduced_Pycnopodia_helianthoides_full_event-unaware_training-split_2024-05-03-20-02\n",
      "for model ..\\..\\models\\reid\\Reduced_Pycnopodia_helianthoides_full_event-unaware_training-split_2024-05-03-20-02__2024-05-06-10-39-50__1__densenet121__PT-True\\best_densenet121__PT-True.pth\n",
      "\t dataset is Reduced_Pycnopodia_helianthoides_full_event-unaware_training-split_2024-05-03-20-02\n",
      "\t dataset path is ..\\..\\data\\Reduced_Pycnopodia_helianthoides_full_event-unaware_training-split_2024-05-03-20-02\n",
      "for model ..\\..\\models\\reid\\Reduced_Pycnopodia_helianthoides_full_event-unaware_training-split_2024-05-03-20-02__2024-05-06-10-48-39__0__densenet121__PT-True\\best_densenet121__PT-True.pth\n",
      "\t dataset is Reduced_Pycnopodia_helianthoides_full_event-unaware_training-split_2024-05-03-20-02\n",
      "\t dataset path is ..\\..\\data\\Reduced_Pycnopodia_helianthoides_full_event-unaware_training-split_2024-05-03-20-02\n",
      "for model ..\\..\\models\\reid\\Reduced_Pycnopodia_helianthoides_full_event-unaware_training-split_2024-05-03-20-02__2024-05-06-15-48-58__1__densenet121__PT-True\\best_densenet121__PT-True.pth\n",
      "\t dataset is Reduced_Pycnopodia_helianthoides_full_event-unaware_training-split_2024-05-03-20-02\n",
      "\t dataset path is ..\\..\\data\\Reduced_Pycnopodia_helianthoides_full_event-unaware_training-split_2024-05-03-20-02\n",
      "for model ..\\..\\models\\reid\\Reduced_Pycnopodia_helianthoides_full_event-unaware_training-split_2024-05-03-20-02__2024-05-06-16-20-32__0__densenet121__PT-True\\best_densenet121__PT-True.pth\n",
      "\t dataset is Reduced_Pycnopodia_helianthoides_full_event-unaware_training-split_2024-05-03-20-02\n",
      "\t dataset path is ..\\..\\data\\Reduced_Pycnopodia_helianthoides_full_event-unaware_training-split_2024-05-03-20-02\n",
      "for model ..\\..\\models\\reid\\Reduced_Pycnopodia_helianthoides_full_event-unaware_training-split_2024-05-03-20-02__2024-05-06-21-33-08__1__densenet121__PT-True\\best_densenet121__PT-True.pth\n",
      "\t dataset is Reduced_Pycnopodia_helianthoides_full_event-unaware_training-split_2024-05-03-20-02\n",
      "\t dataset path is ..\\..\\data\\Reduced_Pycnopodia_helianthoides_full_event-unaware_training-split_2024-05-03-20-02\n",
      "for model ..\\..\\models\\reid\\Reduced_Pycnopodia_helianthoides_full_event-unaware_training-split_2024-05-03-20-02__2024-05-06-21-35-14__0__densenet121__PT-True\\best_densenet121__PT-True.pth\n",
      "\t dataset is Reduced_Pycnopodia_helianthoides_full_event-unaware_training-split_2024-05-03-20-02\n",
      "\t dataset path is ..\\..\\data\\Reduced_Pycnopodia_helianthoides_full_event-unaware_training-split_2024-05-03-20-02\n",
      "for model ..\\..\\models\\reid\\Reduced_Pycnopodia_helianthoides_full_event-unaware_training-split_2024-05-03-20-02__2024-05-07-03-10-40__0__densenet121__PT-True\\best_densenet121__PT-True.pth\n",
      "\t dataset is Reduced_Pycnopodia_helianthoides_full_event-unaware_training-split_2024-05-03-20-02\n",
      "\t dataset path is ..\\..\\data\\Reduced_Pycnopodia_helianthoides_full_event-unaware_training-split_2024-05-03-20-02\n",
      "for model ..\\..\\models\\reid\\Reduced_Pycnopodia_helianthoides_full_event-unaware_training-split_2024-05-03-20-02__2024-05-07-03-12-28__1__densenet121__PT-True\\best_densenet121__PT-True.pth\n",
      "\t dataset is Reduced_Pycnopodia_helianthoides_full_event-unaware_training-split_2024-05-03-20-02\n",
      "\t dataset path is ..\\..\\data\\Reduced_Pycnopodia_helianthoides_full_event-unaware_training-split_2024-05-03-20-02\n",
      "for model ..\\..\\models\\reid\\Reduced_Pycnopodia_helianthoides_full_event-unaware_training-split_2024-05-03-20-02__2024-05-07-08-29-40__1__densenet121__PT-True\\best_densenet121__PT-True.pth\n",
      "\t dataset is Reduced_Pycnopodia_helianthoides_full_event-unaware_training-split_2024-05-03-20-02\n",
      "\t dataset path is ..\\..\\data\\Reduced_Pycnopodia_helianthoides_full_event-unaware_training-split_2024-05-03-20-02\n",
      "for model ..\\..\\models\\reid\\Reduced_Pycnopodia_helianthoides_full_event-unaware_training-split_2024-05-03-20-02__2024-05-07-09-33-31__0__densenet121__PT-True\\best_densenet121__PT-True.pth\n",
      "\t dataset is Reduced_Pycnopodia_helianthoides_full_event-unaware_training-split_2024-05-03-20-02\n",
      "\t dataset path is ..\\..\\data\\Reduced_Pycnopodia_helianthoides_full_event-unaware_training-split_2024-05-03-20-02\n",
      "for model ..\\..\\models\\reid\\Reduced_Pycnopodia_helianthoides_full_event-unaware_training-split_2024-05-03-20-02__2024-05-07-15-39-38__1__densenet121__PT-True\\best_densenet121__PT-True.pth\n",
      "\t dataset is Reduced_Pycnopodia_helianthoides_full_event-unaware_training-split_2024-05-03-20-02\n",
      "\t dataset path is ..\\..\\data\\Reduced_Pycnopodia_helianthoides_full_event-unaware_training-split_2024-05-03-20-02\n",
      "for model ..\\..\\models\\reid\\Reduced_Pycnopodia_helianthoides_full_event-unaware_training-split_2024-05-03-20-02__2024-05-07-16-00-58__0__densenet121__PT-True\\best_densenet121__PT-True.pth\n",
      "\t dataset is Reduced_Pycnopodia_helianthoides_full_event-unaware_training-split_2024-05-03-20-02\n",
      "\t dataset path is ..\\..\\data\\Reduced_Pycnopodia_helianthoides_full_event-unaware_training-split_2024-05-03-20-02\n",
      "for model ..\\..\\models\\reid\\Reduced_Pycnopodia_helianthoides_full_event-unaware_training-split_2024-05-03-20-02__2024-05-08-00-36-24__1__densenet121__PT-True\\best_densenet121__PT-True.pth\n",
      "\t dataset is Reduced_Pycnopodia_helianthoides_full_event-unaware_training-split_2024-05-03-20-02\n",
      "\t dataset path is ..\\..\\data\\Reduced_Pycnopodia_helianthoides_full_event-unaware_training-split_2024-05-03-20-02\n",
      "for model ..\\..\\models\\reid\\Reduced_Pycnopodia_helianthoides_full_event-unaware_training-split_2024-05-03-20-02__2024-05-08-00-53-55__0__densenet121__PT-True\\best_densenet121__PT-True.pth\n",
      "\t dataset is Reduced_Pycnopodia_helianthoides_full_event-unaware_training-split_2024-05-03-20-02\n",
      "\t dataset path is ..\\..\\data\\Reduced_Pycnopodia_helianthoides_full_event-unaware_training-split_2024-05-03-20-02\n",
      "for model ..\\..\\models\\reid\\Reduced_Pycnopodia_helianthoides_full_event-unaware_training-split_2024-05-03-20-02__2024-05-08-05-10-24__1__densenet121__PT-True\\best_densenet121__PT-True.pth\n",
      "\t dataset is Reduced_Pycnopodia_helianthoides_full_event-unaware_training-split_2024-05-03-20-02\n",
      "\t dataset path is ..\\..\\data\\Reduced_Pycnopodia_helianthoides_full_event-unaware_training-split_2024-05-03-20-02\n",
      "for model ..\\..\\models\\reid\\Reduced_Pycnopodia_helianthoides_full_event-unaware_training-split_2024-05-03-20-02__2024-05-08-05-14-34__0__densenet121__PT-True\\best_densenet121__PT-True.pth\n",
      "\t dataset is Reduced_Pycnopodia_helianthoides_full_event-unaware_training-split_2024-05-03-20-02\n",
      "\t dataset path is ..\\..\\data\\Reduced_Pycnopodia_helianthoides_full_event-unaware_training-split_2024-05-03-20-02\n",
      "for model ..\\..\\models\\reid\\Reduced_Pycnopodia_helianthoides_full_event-unaware_training-split_2024-05-03-20-02__2024-05-08-09-17-13__0__densenet121__PT-True\\best_densenet121__PT-True.pth\n",
      "\t dataset is Reduced_Pycnopodia_helianthoides_full_event-unaware_training-split_2024-05-03-20-02\n",
      "\t dataset path is ..\\..\\data\\Reduced_Pycnopodia_helianthoides_full_event-unaware_training-split_2024-05-03-20-02\n",
      "for model ..\\..\\models\\reid\\Reduced_Pycnopodia_helianthoides_full_event-unaware_training-split_2024-05-03-20-02__2024-05-08-09-26-33__1__densenet121__PT-True\\best_densenet121__PT-True.pth\n",
      "\t dataset is Reduced_Pycnopodia_helianthoides_full_event-unaware_training-split_2024-05-03-20-02\n",
      "\t dataset path is ..\\..\\data\\Reduced_Pycnopodia_helianthoides_full_event-unaware_training-split_2024-05-03-20-02\n",
      "for model ..\\..\\models\\reid\\Reduced_Pycnopodia_helianthoides_full_event-unaware_training-split_2024-05-03-20-02__2024-05-08-13-50-27__0__densenet121__PT-True\\best_densenet121__PT-True.pth\n",
      "\t dataset is Reduced_Pycnopodia_helianthoides_full_event-unaware_training-split_2024-05-03-20-02\n",
      "\t dataset path is ..\\..\\data\\Reduced_Pycnopodia_helianthoides_full_event-unaware_training-split_2024-05-03-20-02\n",
      "for model ..\\..\\models\\reid\\Reduced_Pycnopodia_helianthoides_full_event-unaware_training-split_2024-05-03-20-02__2024-05-08-13-53-46__1__densenet121__PT-True\\best_densenet121__PT-True.pth\n",
      "\t dataset is Reduced_Pycnopodia_helianthoides_full_event-unaware_training-split_2024-05-03-20-02\n",
      "\t dataset path is ..\\..\\data\\Reduced_Pycnopodia_helianthoides_full_event-unaware_training-split_2024-05-03-20-02\n",
      "for model ..\\..\\models\\reid\\Reduced_Pycnopodia_helianthoides_full_event-unaware_training-split_2024-05-03-20-02__2024-05-08-18-13-05__1__densenet121__PT-True\\best_densenet121__PT-True.pth\n",
      "\t dataset is Reduced_Pycnopodia_helianthoides_full_event-unaware_training-split_2024-05-03-20-02\n",
      "\t dataset path is ..\\..\\data\\Reduced_Pycnopodia_helianthoides_full_event-unaware_training-split_2024-05-03-20-02\n",
      "for model ..\\..\\models\\reid\\Reduced_Pycnopodia_helianthoides_full_event-unaware_training-split_2024-05-03-20-02__2024-05-08-18-22-32__0__densenet121__PT-True\\best_densenet121__PT-True.pth\n",
      "\t dataset is Reduced_Pycnopodia_helianthoides_full_event-unaware_training-split_2024-05-03-20-02\n",
      "\t dataset path is ..\\..\\data\\Reduced_Pycnopodia_helianthoides_full_event-unaware_training-split_2024-05-03-20-02\n",
      "for model ..\\..\\models\\reid\\Reduced_Pycnopodia_helianthoides_full_event-unaware_training-split_2024-05-03-20-02__2024-05-08-22-45-28__0__densenet121__PT-True\\best_densenet121__PT-True.pth\n",
      "\t dataset is Reduced_Pycnopodia_helianthoides_full_event-unaware_training-split_2024-05-03-20-02\n",
      "\t dataset path is ..\\..\\data\\Reduced_Pycnopodia_helianthoides_full_event-unaware_training-split_2024-05-03-20-02\n",
      "for model ..\\..\\models\\reid\\Reduced_Pycnopodia_helianthoides_full_event-unaware_training-split_2024-05-03-20-02__2024-05-08-22-52-01__1__densenet121__PT-True\\best_densenet121__PT-True.pth\n",
      "\t dataset is Reduced_Pycnopodia_helianthoides_full_event-unaware_training-split_2024-05-03-20-02\n",
      "\t dataset path is ..\\..\\data\\Reduced_Pycnopodia_helianthoides_full_event-unaware_training-split_2024-05-03-20-02\n",
      "for model ..\\..\\models\\reid\\Reduced_Pycnopodia_helianthoides_full_event-unaware_training-split_2024-05-03-20-24__2024-05-05-23-40-47__1__densenet121__PT-True\\best_densenet121__PT-True.pth\n",
      "\t dataset is Reduced_Pycnopodia_helianthoides_full_event-unaware_training-split_2024-05-03-20-24\n",
      "\t dataset path is ..\\..\\data\\Reduced_Pycnopodia_helianthoides_full_event-unaware_training-split_2024-05-03-20-24\n",
      "for model ..\\..\\models\\reid\\Reduced_Pycnopodia_helianthoides_full_event-unaware_training-split_2024-05-03-20-24__2024-05-06-00-24-25__0__densenet121__PT-True\\best_densenet121__PT-True.pth\n",
      "\t dataset is Reduced_Pycnopodia_helianthoides_full_event-unaware_training-split_2024-05-03-20-24\n",
      "\t dataset path is ..\\..\\data\\Reduced_Pycnopodia_helianthoides_full_event-unaware_training-split_2024-05-03-20-24\n",
      "for model ..\\..\\models\\reid\\Reduced_Pycnopodia_helianthoides_full_event-unaware_training-split_2024-05-03-20-24__2024-05-06-05-38-48__1__densenet121__PT-True\\best_densenet121__PT-True.pth\n",
      "\t dataset is Reduced_Pycnopodia_helianthoides_full_event-unaware_training-split_2024-05-03-20-24\n",
      "\t dataset path is ..\\..\\data\\Reduced_Pycnopodia_helianthoides_full_event-unaware_training-split_2024-05-03-20-24\n",
      "for model ..\\..\\models\\reid\\Reduced_Pycnopodia_helianthoides_full_event-unaware_training-split_2024-05-03-20-24__2024-05-06-05-49-15__0__densenet121__PT-True\\best_densenet121__PT-True.pth\n",
      "\t dataset is Reduced_Pycnopodia_helianthoides_full_event-unaware_training-split_2024-05-03-20-24\n",
      "\t dataset path is ..\\..\\data\\Reduced_Pycnopodia_helianthoides_full_event-unaware_training-split_2024-05-03-20-24\n",
      "for model ..\\..\\models\\reid\\Reduced_Pycnopodia_helianthoides_full_event-unaware_training-split_2024-05-03-20-24__2024-05-06-11-16-45__1__densenet121__PT-True\\best_densenet121__PT-True.pth\n",
      "\t dataset is Reduced_Pycnopodia_helianthoides_full_event-unaware_training-split_2024-05-03-20-24\n",
      "\t dataset path is ..\\..\\data\\Reduced_Pycnopodia_helianthoides_full_event-unaware_training-split_2024-05-03-20-24\n",
      "for model ..\\..\\models\\reid\\Reduced_Pycnopodia_helianthoides_full_event-unaware_training-split_2024-05-03-20-24__2024-05-06-11-27-26__0__densenet121__PT-True\\best_densenet121__PT-True.pth\n",
      "\t dataset is Reduced_Pycnopodia_helianthoides_full_event-unaware_training-split_2024-05-03-20-24\n",
      "\t dataset path is ..\\..\\data\\Reduced_Pycnopodia_helianthoides_full_event-unaware_training-split_2024-05-03-20-24\n",
      "for model ..\\..\\models\\reid\\Reduced_Pycnopodia_helianthoides_full_event-unaware_training-split_2024-05-03-20-24__2024-05-06-16-19-37__1__densenet121__PT-True\\best_densenet121__PT-True.pth\n",
      "\t dataset is Reduced_Pycnopodia_helianthoides_full_event-unaware_training-split_2024-05-03-20-24\n",
      "\t dataset path is ..\\..\\data\\Reduced_Pycnopodia_helianthoides_full_event-unaware_training-split_2024-05-03-20-24\n",
      "for model ..\\..\\models\\reid\\Reduced_Pycnopodia_helianthoides_full_event-unaware_training-split_2024-05-03-20-24__2024-05-06-16-57-09__0__densenet121__PT-True\\best_densenet121__PT-True.pth\n",
      "\t dataset is Reduced_Pycnopodia_helianthoides_full_event-unaware_training-split_2024-05-03-20-24\n",
      "\t dataset path is ..\\..\\data\\Reduced_Pycnopodia_helianthoides_full_event-unaware_training-split_2024-05-03-20-24\n",
      "for model ..\\..\\models\\reid\\Reduced_Pycnopodia_helianthoides_full_event-unaware_training-split_2024-05-03-20-24__2024-05-06-22-08-58__1__densenet121__PT-True\\best_densenet121__PT-True.pth\n",
      "\t dataset is Reduced_Pycnopodia_helianthoides_full_event-unaware_training-split_2024-05-03-20-24\n",
      "\t dataset path is ..\\..\\data\\Reduced_Pycnopodia_helianthoides_full_event-unaware_training-split_2024-05-03-20-24\n",
      "for model ..\\..\\models\\reid\\Reduced_Pycnopodia_helianthoides_full_event-unaware_training-split_2024-05-03-20-24__2024-05-06-22-11-32__0__densenet121__PT-True\\best_densenet121__PT-True.pth\n",
      "\t dataset is Reduced_Pycnopodia_helianthoides_full_event-unaware_training-split_2024-05-03-20-24\n",
      "\t dataset path is ..\\..\\data\\Reduced_Pycnopodia_helianthoides_full_event-unaware_training-split_2024-05-03-20-24\n",
      "for model ..\\..\\models\\reid\\Reduced_Pycnopodia_helianthoides_full_event-unaware_training-split_2024-05-03-20-24__2024-05-07-03-48-24__0__densenet121__PT-True\\best_densenet121__PT-True.pth\n",
      "\t dataset is Reduced_Pycnopodia_helianthoides_full_event-unaware_training-split_2024-05-03-20-24\n",
      "\t dataset path is ..\\..\\data\\Reduced_Pycnopodia_helianthoides_full_event-unaware_training-split_2024-05-03-20-24\n",
      "for model ..\\..\\models\\reid\\Reduced_Pycnopodia_helianthoides_full_event-unaware_training-split_2024-05-03-20-24__2024-05-07-03-50-25__1__densenet121__PT-True\\best_densenet121__PT-True.pth\n",
      "\t dataset is Reduced_Pycnopodia_helianthoides_full_event-unaware_training-split_2024-05-03-20-24\n",
      "\t dataset path is ..\\..\\data\\Reduced_Pycnopodia_helianthoides_full_event-unaware_training-split_2024-05-03-20-24\n",
      "for model ..\\..\\models\\reid\\Reduced_Pycnopodia_helianthoides_full_event-unaware_training-split_2024-05-03-20-24__2024-05-07-09-02-13__1__densenet121__PT-True\\best_densenet121__PT-True.pth\n",
      "\t dataset is Reduced_Pycnopodia_helianthoides_full_event-unaware_training-split_2024-05-03-20-24\n",
      "\t dataset path is ..\\..\\data\\Reduced_Pycnopodia_helianthoides_full_event-unaware_training-split_2024-05-03-20-24\n",
      "for model ..\\..\\models\\reid\\Reduced_Pycnopodia_helianthoides_full_event-unaware_training-split_2024-05-03-20-24__2024-05-07-10-16-07__0__densenet121__PT-True\\best_densenet121__PT-True.pth\n",
      "\t dataset is Reduced_Pycnopodia_helianthoides_full_event-unaware_training-split_2024-05-03-20-24\n",
      "\t dataset path is ..\\..\\data\\Reduced_Pycnopodia_helianthoides_full_event-unaware_training-split_2024-05-03-20-24\n",
      "for model ..\\..\\models\\reid\\Reduced_Pycnopodia_helianthoides_full_event-unaware_training-split_2024-05-03-20-24__2024-05-07-16-18-49__1__densenet121__PT-True\\best_densenet121__PT-True.pth\n",
      "\t dataset is Reduced_Pycnopodia_helianthoides_full_event-unaware_training-split_2024-05-03-20-24\n",
      "\t dataset path is ..\\..\\data\\Reduced_Pycnopodia_helianthoides_full_event-unaware_training-split_2024-05-03-20-24\n",
      "for model ..\\..\\models\\reid\\Reduced_Pycnopodia_helianthoides_full_event-unaware_training-split_2024-05-03-20-24__2024-05-07-16-43-43__0__densenet121__PT-True\\best_densenet121__PT-True.pth\n",
      "\t dataset is Reduced_Pycnopodia_helianthoides_full_event-unaware_training-split_2024-05-03-20-24\n",
      "\t dataset path is ..\\..\\data\\Reduced_Pycnopodia_helianthoides_full_event-unaware_training-split_2024-05-03-20-24\n",
      "for model ..\\..\\models\\reid\\Reduced_Pycnopodia_helianthoides_full_event-unaware_training-split_2024-05-03-20-24__2024-05-08-01-06-48__1__densenet121__PT-True\\best_densenet121__PT-True.pth\n",
      "\t dataset is Reduced_Pycnopodia_helianthoides_full_event-unaware_training-split_2024-05-03-20-24\n",
      "\t dataset path is ..\\..\\data\\Reduced_Pycnopodia_helianthoides_full_event-unaware_training-split_2024-05-03-20-24\n",
      "for model ..\\..\\models\\reid\\Reduced_Pycnopodia_helianthoides_full_event-unaware_training-split_2024-05-03-20-24__2024-05-08-01-27-27__0__densenet121__PT-True\\best_densenet121__PT-True.pth\n",
      "\t dataset is Reduced_Pycnopodia_helianthoides_full_event-unaware_training-split_2024-05-03-20-24\n",
      "\t dataset path is ..\\..\\data\\Reduced_Pycnopodia_helianthoides_full_event-unaware_training-split_2024-05-03-20-24\n",
      "for model ..\\..\\models\\reid\\Reduced_Pycnopodia_helianthoides_full_event-unaware_training-split_2024-05-03-20-24__2024-05-08-05-36-16__1__densenet121__PT-True\\best_densenet121__PT-True.pth\n",
      "\t dataset is Reduced_Pycnopodia_helianthoides_full_event-unaware_training-split_2024-05-03-20-24\n",
      "\t dataset path is ..\\..\\data\\Reduced_Pycnopodia_helianthoides_full_event-unaware_training-split_2024-05-03-20-24\n",
      "for model ..\\..\\models\\reid\\Reduced_Pycnopodia_helianthoides_full_event-unaware_training-split_2024-05-03-20-24__2024-05-08-05-41-16__0__densenet121__PT-True\\best_densenet121__PT-True.pth\n",
      "\t dataset is Reduced_Pycnopodia_helianthoides_full_event-unaware_training-split_2024-05-03-20-24\n",
      "\t dataset path is ..\\..\\data\\Reduced_Pycnopodia_helianthoides_full_event-unaware_training-split_2024-05-03-20-24\n",
      "for model ..\\..\\models\\reid\\Reduced_Pycnopodia_helianthoides_full_event-unaware_training-split_2024-05-03-20-24__2024-05-08-09-44-32__0__densenet121__PT-True\\best_densenet121__PT-True.pth\n",
      "\t dataset is Reduced_Pycnopodia_helianthoides_full_event-unaware_training-split_2024-05-03-20-24\n",
      "\t dataset path is ..\\..\\data\\Reduced_Pycnopodia_helianthoides_full_event-unaware_training-split_2024-05-03-20-24\n",
      "for model ..\\..\\models\\reid\\Reduced_Pycnopodia_helianthoides_full_event-unaware_training-split_2024-05-03-20-24__2024-05-08-09-55-34__1__densenet121__PT-True\\best_densenet121__PT-True.pth\n",
      "\t dataset is Reduced_Pycnopodia_helianthoides_full_event-unaware_training-split_2024-05-03-20-24\n",
      "\t dataset path is ..\\..\\data\\Reduced_Pycnopodia_helianthoides_full_event-unaware_training-split_2024-05-03-20-24\n",
      "for model ..\\..\\models\\reid\\Reduced_Pycnopodia_helianthoides_full_event-unaware_training-split_2024-05-03-20-24__2024-05-08-14-19-55__0__densenet121__PT-True\\best_densenet121__PT-True.pth\n",
      "\t dataset is Reduced_Pycnopodia_helianthoides_full_event-unaware_training-split_2024-05-03-20-24\n",
      "\t dataset path is ..\\..\\data\\Reduced_Pycnopodia_helianthoides_full_event-unaware_training-split_2024-05-03-20-24\n",
      "for model ..\\..\\models\\reid\\Reduced_Pycnopodia_helianthoides_full_event-unaware_training-split_2024-05-03-20-24__2024-05-08-14-23-50__1__densenet121__PT-True\\best_densenet121__PT-True.pth\n",
      "\t dataset is Reduced_Pycnopodia_helianthoides_full_event-unaware_training-split_2024-05-03-20-24\n",
      "\t dataset path is ..\\..\\data\\Reduced_Pycnopodia_helianthoides_full_event-unaware_training-split_2024-05-03-20-24\n",
      "for model ..\\..\\models\\reid\\Reduced_Pycnopodia_helianthoides_full_event-unaware_training-split_2024-05-03-20-24__2024-05-08-18-41-09__1__densenet121__PT-True\\best_densenet121__PT-True.pth\n",
      "\t dataset is Reduced_Pycnopodia_helianthoides_full_event-unaware_training-split_2024-05-03-20-24\n",
      "\t dataset path is ..\\..\\data\\Reduced_Pycnopodia_helianthoides_full_event-unaware_training-split_2024-05-03-20-24\n",
      "for model ..\\..\\models\\reid\\Reduced_Pycnopodia_helianthoides_full_event-unaware_training-split_2024-05-03-20-24__2024-05-08-18-52-22__0__densenet121__PT-True\\best_densenet121__PT-True.pth\n",
      "\t dataset is Reduced_Pycnopodia_helianthoides_full_event-unaware_training-split_2024-05-03-20-24\n",
      "\t dataset path is ..\\..\\data\\Reduced_Pycnopodia_helianthoides_full_event-unaware_training-split_2024-05-03-20-24\n",
      "for model ..\\..\\models\\reid\\Reduced_Pycnopodia_helianthoides_full_event-unaware_training-split_2024-05-03-20-24__2024-05-08-23-14-35__0__densenet121__PT-True\\best_densenet121__PT-True.pth\n",
      "\t dataset is Reduced_Pycnopodia_helianthoides_full_event-unaware_training-split_2024-05-03-20-24\n",
      "\t dataset path is ..\\..\\data\\Reduced_Pycnopodia_helianthoides_full_event-unaware_training-split_2024-05-03-20-24\n",
      "for model ..\\..\\models\\reid\\Reduced_Pycnopodia_helianthoides_full_event-unaware_training-split_2024-05-03-20-24__2024-05-08-23-22-15__1__densenet121__PT-True\\best_densenet121__PT-True.pth\n",
      "\t dataset is Reduced_Pycnopodia_helianthoides_full_event-unaware_training-split_2024-05-03-20-24\n",
      "\t dataset path is ..\\..\\data\\Reduced_Pycnopodia_helianthoides_full_event-unaware_training-split_2024-05-03-20-24\n",
      "for model ..\\..\\models\\reid\\Unmasked_Other_species_sea-star-re-id-full_event-unaware_training-split_2024-05-05-15-26__2024-05-06-00-16-44__1__densenet121__PT-True\\best_densenet121__PT-True.pth\n",
      "\t dataset is Unmasked_Other_species_sea-star-re-id-full_event-unaware_training-split_2024-05-05-15-26\n",
      "\t dataset path is ..\\..\\data\\Unmasked_Other_species_sea-star-re-id-full_event-unaware_training-split_2024-05-05-15-26\n",
      "for model ..\\..\\models\\reid\\Unmasked_Other_species_sea-star-re-id-full_event-unaware_training-split_2024-05-05-15-26__2024-05-06-01-05-33__0__densenet121__PT-True\\best_densenet121__PT-True.pth\n",
      "\t dataset is Unmasked_Other_species_sea-star-re-id-full_event-unaware_training-split_2024-05-05-15-26\n",
      "\t dataset path is ..\\..\\data\\Unmasked_Other_species_sea-star-re-id-full_event-unaware_training-split_2024-05-05-15-26\n",
      "for model ..\\..\\models\\reid\\Unmasked_Other_species_sea-star-re-id-full_event-unaware_training-split_2024-05-05-15-26__2024-05-06-06-12-28__1__densenet121__PT-True\\best_densenet121__PT-True.pth\n",
      "\t dataset is Unmasked_Other_species_sea-star-re-id-full_event-unaware_training-split_2024-05-05-15-26\n",
      "\t dataset path is ..\\..\\data\\Unmasked_Other_species_sea-star-re-id-full_event-unaware_training-split_2024-05-05-15-26\n",
      "for model ..\\..\\models\\reid\\Unmasked_Other_species_sea-star-re-id-full_event-unaware_training-split_2024-05-05-15-26__2024-05-06-06-25-24__0__densenet121__PT-True\\best_densenet121__PT-True.pth\n",
      "\t dataset is Unmasked_Other_species_sea-star-re-id-full_event-unaware_training-split_2024-05-05-15-26\n",
      "\t dataset path is ..\\..\\data\\Unmasked_Other_species_sea-star-re-id-full_event-unaware_training-split_2024-05-05-15-26\n",
      "for model ..\\..\\models\\reid\\Unmasked_Other_species_sea-star-re-id-full_event-unaware_training-split_2024-05-05-15-26__2024-05-06-11-53-35__1__densenet121__PT-True\\best_densenet121__PT-True.pth\n",
      "\t dataset is Unmasked_Other_species_sea-star-re-id-full_event-unaware_training-split_2024-05-05-15-26\n",
      "\t dataset path is ..\\..\\data\\Unmasked_Other_species_sea-star-re-id-full_event-unaware_training-split_2024-05-05-15-26\n",
      "for model ..\\..\\models\\reid\\Unmasked_Other_species_sea-star-re-id-full_event-unaware_training-split_2024-05-05-15-26__2024-05-06-12-05-08__0__densenet121__PT-True\\best_densenet121__PT-True.pth\n",
      "\t dataset is Unmasked_Other_species_sea-star-re-id-full_event-unaware_training-split_2024-05-05-15-26\n",
      "\t dataset path is ..\\..\\data\\Unmasked_Other_species_sea-star-re-id-full_event-unaware_training-split_2024-05-05-15-26\n",
      "for model ..\\..\\models\\reid\\Unmasked_Other_species_sea-star-re-id-full_event-unaware_training-split_2024-05-05-15-26__2024-05-06-16-50-46__1__densenet121__PT-True\\best_densenet121__PT-True.pth\n",
      "\t dataset is Unmasked_Other_species_sea-star-re-id-full_event-unaware_training-split_2024-05-05-15-26\n",
      "\t dataset path is ..\\..\\data\\Unmasked_Other_species_sea-star-re-id-full_event-unaware_training-split_2024-05-05-15-26\n",
      "for model ..\\..\\models\\reid\\Unmasked_Other_species_sea-star-re-id-full_event-unaware_training-split_2024-05-05-15-26__2024-05-06-17-31-36__0__densenet121__PT-True\\best_densenet121__PT-True.pth\n",
      "\t dataset is Unmasked_Other_species_sea-star-re-id-full_event-unaware_training-split_2024-05-05-15-26\n",
      "\t dataset path is ..\\..\\data\\Unmasked_Other_species_sea-star-re-id-full_event-unaware_training-split_2024-05-05-15-26\n",
      "for model ..\\..\\models\\reid\\Unmasked_Other_species_sea-star-re-id-full_event-unaware_training-split_2024-05-05-15-26__2024-05-06-22-44-48__1__densenet121__PT-True\\best_densenet121__PT-True.pth\n",
      "\t dataset is Unmasked_Other_species_sea-star-re-id-full_event-unaware_training-split_2024-05-05-15-26\n",
      "\t dataset path is ..\\..\\data\\Unmasked_Other_species_sea-star-re-id-full_event-unaware_training-split_2024-05-05-15-26\n",
      "for model ..\\..\\models\\reid\\Unmasked_Other_species_sea-star-re-id-full_event-unaware_training-split_2024-05-05-15-26__2024-05-06-22-47-58__0__densenet121__PT-True\\best_densenet121__PT-True.pth\n",
      "\t dataset is Unmasked_Other_species_sea-star-re-id-full_event-unaware_training-split_2024-05-05-15-26\n",
      "\t dataset path is ..\\..\\data\\Unmasked_Other_species_sea-star-re-id-full_event-unaware_training-split_2024-05-05-15-26\n",
      "for model ..\\..\\models\\reid\\Unmasked_Other_species_sea-star-re-id-full_event-unaware_training-split_2024-05-05-15-26__2024-05-07-04-27-24__0__densenet121__PT-True\\best_densenet121__PT-True.pth\n",
      "\t dataset is Unmasked_Other_species_sea-star-re-id-full_event-unaware_training-split_2024-05-05-15-26\n",
      "\t dataset path is ..\\..\\data\\Unmasked_Other_species_sea-star-re-id-full_event-unaware_training-split_2024-05-05-15-26\n",
      "for model ..\\..\\models\\reid\\Unmasked_Other_species_sea-star-re-id-full_event-unaware_training-split_2024-05-05-15-26__2024-05-07-04-30-05__1__densenet121__PT-True\\best_densenet121__PT-True.pth\n",
      "\t dataset is Unmasked_Other_species_sea-star-re-id-full_event-unaware_training-split_2024-05-05-15-26\n",
      "\t dataset path is ..\\..\\data\\Unmasked_Other_species_sea-star-re-id-full_event-unaware_training-split_2024-05-05-15-26\n",
      "for model ..\\..\\models\\reid\\Unmasked_Other_species_sea-star-re-id-full_event-unaware_training-split_2024-05-05-15-26__2024-05-07-09-35-46__1__densenet121__PT-True\\best_densenet121__PT-True.pth\n",
      "\t dataset is Unmasked_Other_species_sea-star-re-id-full_event-unaware_training-split_2024-05-05-15-26\n",
      "\t dataset path is ..\\..\\data\\Unmasked_Other_species_sea-star-re-id-full_event-unaware_training-split_2024-05-05-15-26\n",
      "for model ..\\..\\models\\reid\\Unmasked_Other_species_sea-star-re-id-full_event-unaware_training-split_2024-05-05-15-26__2024-05-07-10-59-02__0__densenet121__PT-True\\best_densenet121__PT-True.pth\n",
      "\t dataset is Unmasked_Other_species_sea-star-re-id-full_event-unaware_training-split_2024-05-05-15-26\n",
      "\t dataset path is ..\\..\\data\\Unmasked_Other_species_sea-star-re-id-full_event-unaware_training-split_2024-05-05-15-26\n",
      "for model ..\\..\\models\\reid\\Unmasked_Other_species_sea-star-re-id-full_event-unaware_training-split_2024-05-05-15-26__2024-05-07-16-57-46__1__densenet121__PT-True\\best_densenet121__PT-True.pth\n",
      "\t dataset is Unmasked_Other_species_sea-star-re-id-full_event-unaware_training-split_2024-05-05-15-26\n",
      "\t dataset path is ..\\..\\data\\Unmasked_Other_species_sea-star-re-id-full_event-unaware_training-split_2024-05-05-15-26\n",
      "for model ..\\..\\models\\reid\\Unmasked_Other_species_sea-star-re-id-full_event-unaware_training-split_2024-05-05-15-26__2024-05-07-17-26-32__0__densenet121__PT-True\\best_densenet121__PT-True.pth\n",
      "\t dataset is Unmasked_Other_species_sea-star-re-id-full_event-unaware_training-split_2024-05-05-15-26\n",
      "\t dataset path is ..\\..\\data\\Unmasked_Other_species_sea-star-re-id-full_event-unaware_training-split_2024-05-05-15-26\n",
      "for model ..\\..\\models\\reid\\Unmasked_Other_species_sea-star-re-id-full_event-unaware_training-split_2024-05-05-15-26__2024-05-08-01-37-20__1__densenet121__PT-True\\best_densenet121__PT-True.pth\n",
      "\t dataset is Unmasked_Other_species_sea-star-re-id-full_event-unaware_training-split_2024-05-05-15-26\n",
      "\t dataset path is ..\\..\\data\\Unmasked_Other_species_sea-star-re-id-full_event-unaware_training-split_2024-05-05-15-26\n",
      "for model ..\\..\\models\\reid\\Unmasked_Other_species_sea-star-re-id-full_event-unaware_training-split_2024-05-05-15-26__2024-05-08-02-01-04__0__densenet121__PT-True\\best_densenet121__PT-True.pth\n",
      "\t dataset is Unmasked_Other_species_sea-star-re-id-full_event-unaware_training-split_2024-05-05-15-26\n",
      "\t dataset path is ..\\..\\data\\Unmasked_Other_species_sea-star-re-id-full_event-unaware_training-split_2024-05-05-15-26\n",
      "for model ..\\..\\models\\reid\\Unmasked_Other_species_sea-star-re-id-full_event-unaware_training-split_2024-05-05-15-26__2024-05-08-06-02-23__1__densenet121__PT-True\\best_densenet121__PT-True.pth\n",
      "\t dataset is Unmasked_Other_species_sea-star-re-id-full_event-unaware_training-split_2024-05-05-15-26\n",
      "\t dataset path is ..\\..\\data\\Unmasked_Other_species_sea-star-re-id-full_event-unaware_training-split_2024-05-05-15-26\n",
      "for model ..\\..\\models\\reid\\Unmasked_Other_species_sea-star-re-id-full_event-unaware_training-split_2024-05-05-15-26__2024-05-08-06-08-00__0__densenet121__PT-True\\best_densenet121__PT-True.pth\n",
      "\t dataset is Unmasked_Other_species_sea-star-re-id-full_event-unaware_training-split_2024-05-05-15-26\n",
      "\t dataset path is ..\\..\\data\\Unmasked_Other_species_sea-star-re-id-full_event-unaware_training-split_2024-05-05-15-26\n",
      "for model ..\\..\\models\\reid\\Unmasked_Other_species_sea-star-re-id-full_event-unaware_training-split_2024-05-05-15-26__2024-05-08-10-12-00__0__densenet121__PT-True\\best_densenet121__PT-True.pth\n",
      "\t dataset is Unmasked_Other_species_sea-star-re-id-full_event-unaware_training-split_2024-05-05-15-26\n",
      "\t dataset path is ..\\..\\data\\Unmasked_Other_species_sea-star-re-id-full_event-unaware_training-split_2024-05-05-15-26\n",
      "for model ..\\..\\models\\reid\\Unmasked_Other_species_sea-star-re-id-full_event-unaware_training-split_2024-05-05-15-26__2024-05-08-10-24-41__1__densenet121__PT-True\\best_densenet121__PT-True.pth\n",
      "\t dataset is Unmasked_Other_species_sea-star-re-id-full_event-unaware_training-split_2024-05-05-15-26\n",
      "\t dataset path is ..\\..\\data\\Unmasked_Other_species_sea-star-re-id-full_event-unaware_training-split_2024-05-05-15-26\n",
      "for model ..\\..\\models\\reid\\Unmasked_Other_species_sea-star-re-id-full_event-unaware_training-split_2024-05-05-15-26__2024-05-08-14-49-25__0__densenet121__PT-True\\best_densenet121__PT-True.pth\n",
      "\t dataset is Unmasked_Other_species_sea-star-re-id-full_event-unaware_training-split_2024-05-05-15-26\n",
      "\t dataset path is ..\\..\\data\\Unmasked_Other_species_sea-star-re-id-full_event-unaware_training-split_2024-05-05-15-26\n",
      "for model ..\\..\\models\\reid\\Unmasked_Other_species_sea-star-re-id-full_event-unaware_training-split_2024-05-05-15-26__2024-05-08-14-53-53__1__densenet121__PT-True\\best_densenet121__PT-True.pth\n",
      "\t dataset is Unmasked_Other_species_sea-star-re-id-full_event-unaware_training-split_2024-05-05-15-26\n",
      "\t dataset path is ..\\..\\data\\Unmasked_Other_species_sea-star-re-id-full_event-unaware_training-split_2024-05-05-15-26\n",
      "for model ..\\..\\models\\reid\\Unmasked_Other_species_sea-star-re-id-full_event-unaware_training-split_2024-05-05-15-26__2024-05-08-19-09-21__1__densenet121__PT-True\\best_densenet121__PT-True.pth\n",
      "\t dataset is Unmasked_Other_species_sea-star-re-id-full_event-unaware_training-split_2024-05-05-15-26\n",
      "\t dataset path is ..\\..\\data\\Unmasked_Other_species_sea-star-re-id-full_event-unaware_training-split_2024-05-05-15-26\n",
      "for model ..\\..\\models\\reid\\Unmasked_Other_species_sea-star-re-id-full_event-unaware_training-split_2024-05-05-15-26__2024-05-08-19-22-10__0__densenet121__PT-True\\best_densenet121__PT-True.pth\n",
      "\t dataset is Unmasked_Other_species_sea-star-re-id-full_event-unaware_training-split_2024-05-05-15-26\n",
      "\t dataset path is ..\\..\\data\\Unmasked_Other_species_sea-star-re-id-full_event-unaware_training-split_2024-05-05-15-26\n",
      "for model ..\\..\\models\\reid\\Unmasked_Other_species_sea-star-re-id-full_event-unaware_training-split_2024-05-05-15-26__2024-05-08-23-43-52__0__densenet121__PT-True\\best_densenet121__PT-True.pth\n",
      "\t dataset is Unmasked_Other_species_sea-star-re-id-full_event-unaware_training-split_2024-05-05-15-26\n",
      "\t dataset path is ..\\..\\data\\Unmasked_Other_species_sea-star-re-id-full_event-unaware_training-split_2024-05-05-15-26\n",
      "for model ..\\..\\models\\reid\\Unmasked_Other_species_sea-star-re-id-full_event-unaware_training-split_2024-05-05-15-26__2024-05-08-23-52-29__1__densenet121__PT-True\\best_densenet121__PT-True.pth\n",
      "\t dataset is Unmasked_Other_species_sea-star-re-id-full_event-unaware_training-split_2024-05-05-15-26\n",
      "\t dataset path is ..\\..\\data\\Unmasked_Other_species_sea-star-re-id-full_event-unaware_training-split_2024-05-05-15-26\n",
      "for model ..\\..\\models\\reid\\Unmasked_Other_species_sea-star-re-id-full_event-unaware_training-split_2024-05-05-15-33__2024-05-06-00-32-15__1__densenet121__PT-True\\best_densenet121__PT-True.pth\n",
      "\t dataset is Unmasked_Other_species_sea-star-re-id-full_event-unaware_training-split_2024-05-05-15-33\n",
      "\t dataset path is ..\\..\\data\\Unmasked_Other_species_sea-star-re-id-full_event-unaware_training-split_2024-05-05-15-33\n",
      "for model ..\\..\\models\\reid\\Unmasked_Other_species_sea-star-re-id-full_event-unaware_training-split_2024-05-05-15-33__2024-05-06-01-23-41__0__densenet121__PT-True\\best_densenet121__PT-True.pth\n",
      "\t dataset is Unmasked_Other_species_sea-star-re-id-full_event-unaware_training-split_2024-05-05-15-33\n",
      "\t dataset path is ..\\..\\data\\Unmasked_Other_species_sea-star-re-id-full_event-unaware_training-split_2024-05-05-15-33\n",
      "for model ..\\..\\models\\reid\\Unmasked_Other_species_sea-star-re-id-full_event-unaware_training-split_2024-05-05-15-33__2024-05-06-06-28-23__1__densenet121__PT-True\\best_densenet121__PT-True.pth\n",
      "\t dataset is Unmasked_Other_species_sea-star-re-id-full_event-unaware_training-split_2024-05-05-15-33\n",
      "\t dataset path is ..\\..\\data\\Unmasked_Other_species_sea-star-re-id-full_event-unaware_training-split_2024-05-05-15-33\n",
      "for model ..\\..\\models\\reid\\Unmasked_Other_species_sea-star-re-id-full_event-unaware_training-split_2024-05-05-15-33__2024-05-06-06-40-54__0__densenet121__PT-True\\best_densenet121__PT-True.pth\n",
      "\t dataset is Unmasked_Other_species_sea-star-re-id-full_event-unaware_training-split_2024-05-05-15-33\n",
      "\t dataset path is ..\\..\\data\\Unmasked_Other_species_sea-star-re-id-full_event-unaware_training-split_2024-05-05-15-33\n",
      "for model ..\\..\\models\\reid\\Unmasked_Other_species_sea-star-re-id-full_event-unaware_training-split_2024-05-05-15-33__2024-05-06-12-09-36__1__densenet121__PT-True\\best_densenet121__PT-True.pth\n",
      "\t dataset is Unmasked_Other_species_sea-star-re-id-full_event-unaware_training-split_2024-05-05-15-33\n",
      "\t dataset path is ..\\..\\data\\Unmasked_Other_species_sea-star-re-id-full_event-unaware_training-split_2024-05-05-15-33\n",
      "for model ..\\..\\models\\reid\\Unmasked_Other_species_sea-star-re-id-full_event-unaware_training-split_2024-05-05-15-33__2024-05-06-12-22-47__0__densenet121__PT-True\\best_densenet121__PT-True.pth\n",
      "\t dataset is Unmasked_Other_species_sea-star-re-id-full_event-unaware_training-split_2024-05-05-15-33\n",
      "\t dataset path is ..\\..\\data\\Unmasked_Other_species_sea-star-re-id-full_event-unaware_training-split_2024-05-05-15-33\n",
      "for model ..\\..\\models\\reid\\Unmasked_Other_species_sea-star-re-id-full_event-unaware_training-split_2024-05-05-15-33__2024-05-06-17-04-12__1__densenet121__PT-True\\best_densenet121__PT-True.pth\n",
      "\t dataset is Unmasked_Other_species_sea-star-re-id-full_event-unaware_training-split_2024-05-05-15-33\n",
      "\t dataset path is ..\\..\\data\\Unmasked_Other_species_sea-star-re-id-full_event-unaware_training-split_2024-05-05-15-33\n",
      "for model ..\\..\\models\\reid\\Unmasked_Other_species_sea-star-re-id-full_event-unaware_training-split_2024-05-05-15-33__2024-05-06-17-46-33__0__densenet121__PT-True\\best_densenet121__PT-True.pth\n",
      "\t dataset is Unmasked_Other_species_sea-star-re-id-full_event-unaware_training-split_2024-05-05-15-33\n",
      "\t dataset path is ..\\..\\data\\Unmasked_Other_species_sea-star-re-id-full_event-unaware_training-split_2024-05-05-15-33\n",
      "for model ..\\..\\models\\reid\\Unmasked_Other_species_sea-star-re-id-full_event-unaware_training-split_2024-05-05-15-33__2024-05-06-23-00-31__1__densenet121__PT-True\\best_densenet121__PT-True.pth\n",
      "\t dataset is Unmasked_Other_species_sea-star-re-id-full_event-unaware_training-split_2024-05-05-15-33\n",
      "\t dataset path is ..\\..\\data\\Unmasked_Other_species_sea-star-re-id-full_event-unaware_training-split_2024-05-05-15-33\n",
      "for model ..\\..\\models\\reid\\Unmasked_Other_species_sea-star-re-id-full_event-unaware_training-split_2024-05-05-15-33__2024-05-06-23-03-21__0__densenet121__PT-True\\best_densenet121__PT-True.pth\n",
      "\t dataset is Unmasked_Other_species_sea-star-re-id-full_event-unaware_training-split_2024-05-05-15-33\n",
      "\t dataset path is ..\\..\\data\\Unmasked_Other_species_sea-star-re-id-full_event-unaware_training-split_2024-05-05-15-33\n",
      "for model ..\\..\\models\\reid\\Unmasked_Other_species_sea-star-re-id-full_event-unaware_training-split_2024-05-05-15-33__2024-05-07-04-44-28__0__densenet121__PT-True\\best_densenet121__PT-True.pth\n",
      "\t dataset is Unmasked_Other_species_sea-star-re-id-full_event-unaware_training-split_2024-05-05-15-33\n",
      "\t dataset path is ..\\..\\data\\Unmasked_Other_species_sea-star-re-id-full_event-unaware_training-split_2024-05-05-15-33\n",
      "for model ..\\..\\models\\reid\\Unmasked_Other_species_sea-star-re-id-full_event-unaware_training-split_2024-05-05-15-33__2024-05-07-04-47-18__1__densenet121__PT-True\\best_densenet121__PT-True.pth\n",
      "\t dataset is Unmasked_Other_species_sea-star-re-id-full_event-unaware_training-split_2024-05-05-15-33\n",
      "\t dataset path is ..\\..\\data\\Unmasked_Other_species_sea-star-re-id-full_event-unaware_training-split_2024-05-05-15-33\n",
      "for model ..\\..\\models\\reid\\Unmasked_Other_species_sea-star-re-id-full_event-unaware_training-split_2024-05-05-15-33__2024-05-07-09-50-12__1__densenet121__PT-True\\best_densenet121__PT-True.pth\n",
      "\t dataset is Unmasked_Other_species_sea-star-re-id-full_event-unaware_training-split_2024-05-05-15-33\n",
      "\t dataset path is ..\\..\\data\\Unmasked_Other_species_sea-star-re-id-full_event-unaware_training-split_2024-05-05-15-33\n",
      "for model ..\\..\\models\\reid\\Unmasked_Other_species_sea-star-re-id-full_event-unaware_training-split_2024-05-05-15-33__2024-05-07-11-18-00__0__densenet121__PT-True\\best_densenet121__PT-True.pth\n",
      "\t dataset is Unmasked_Other_species_sea-star-re-id-full_event-unaware_training-split_2024-05-05-15-33\n",
      "\t dataset path is ..\\..\\data\\Unmasked_Other_species_sea-star-re-id-full_event-unaware_training-split_2024-05-05-15-33\n",
      "for model ..\\..\\models\\reid\\Unmasked_Other_species_sea-star-re-id-full_event-unaware_training-split_2024-05-05-15-33__2024-05-07-17-15-15__1__densenet121__PT-True\\best_densenet121__PT-True.pth\n",
      "\t dataset is Unmasked_Other_species_sea-star-re-id-full_event-unaware_training-split_2024-05-05-15-33\n",
      "\t dataset path is ..\\..\\data\\Unmasked_Other_species_sea-star-re-id-full_event-unaware_training-split_2024-05-05-15-33\n",
      "for model ..\\..\\models\\reid\\Unmasked_Other_species_sea-star-re-id-full_event-unaware_training-split_2024-05-05-15-33__2024-05-07-17-45-59__0__densenet121__PT-True\\best_densenet121__PT-True.pth\n",
      "\t dataset is Unmasked_Other_species_sea-star-re-id-full_event-unaware_training-split_2024-05-05-15-33\n",
      "\t dataset path is ..\\..\\data\\Unmasked_Other_species_sea-star-re-id-full_event-unaware_training-split_2024-05-05-15-33\n",
      "for model ..\\..\\models\\reid\\Unmasked_Other_species_sea-star-re-id-full_event-unaware_training-split_2024-05-05-15-33__2024-05-08-01-50-46__1__densenet121__PT-True\\best_densenet121__PT-True.pth\n",
      "\t dataset is Unmasked_Other_species_sea-star-re-id-full_event-unaware_training-split_2024-05-05-15-33\n",
      "\t dataset path is ..\\..\\data\\Unmasked_Other_species_sea-star-re-id-full_event-unaware_training-split_2024-05-05-15-33\n",
      "for model ..\\..\\models\\reid\\Unmasked_Other_species_sea-star-re-id-full_event-unaware_training-split_2024-05-05-15-33__2024-05-08-02-15-47__0__densenet121__PT-True\\best_densenet121__PT-True.pth\n",
      "\t dataset is Unmasked_Other_species_sea-star-re-id-full_event-unaware_training-split_2024-05-05-15-33\n",
      "\t dataset path is ..\\..\\data\\Unmasked_Other_species_sea-star-re-id-full_event-unaware_training-split_2024-05-05-15-33\n",
      "for model ..\\..\\models\\reid\\Unmasked_Other_species_sea-star-re-id-full_event-unaware_training-split_2024-05-05-15-33__2024-05-08-06-13-59__1__densenet121__PT-True\\best_densenet121__PT-True.pth\n",
      "\t dataset is Unmasked_Other_species_sea-star-re-id-full_event-unaware_training-split_2024-05-05-15-33\n",
      "\t dataset path is ..\\..\\data\\Unmasked_Other_species_sea-star-re-id-full_event-unaware_training-split_2024-05-05-15-33\n",
      "for model ..\\..\\models\\reid\\Unmasked_Other_species_sea-star-re-id-full_event-unaware_training-split_2024-05-05-15-33__2024-05-08-06-19-45__0__densenet121__PT-True\\best_densenet121__PT-True.pth\n",
      "\t dataset is Unmasked_Other_species_sea-star-re-id-full_event-unaware_training-split_2024-05-05-15-33\n",
      "\t dataset path is ..\\..\\data\\Unmasked_Other_species_sea-star-re-id-full_event-unaware_training-split_2024-05-05-15-33\n",
      "for model ..\\..\\models\\reid\\Unmasked_Other_species_sea-star-re-id-full_event-unaware_training-split_2024-05-05-15-33__2024-05-08-10-24-22__0__densenet121__PT-True\\best_densenet121__PT-True.pth\n",
      "\t dataset is Unmasked_Other_species_sea-star-re-id-full_event-unaware_training-split_2024-05-05-15-33\n",
      "\t dataset path is ..\\..\\data\\Unmasked_Other_species_sea-star-re-id-full_event-unaware_training-split_2024-05-05-15-33\n",
      "for model ..\\..\\models\\reid\\Unmasked_Other_species_sea-star-re-id-full_event-unaware_training-split_2024-05-05-15-33__2024-05-08-10-37-40__1__densenet121__PT-True\\best_densenet121__PT-True.pth\n",
      "\t dataset is Unmasked_Other_species_sea-star-re-id-full_event-unaware_training-split_2024-05-05-15-33\n",
      "\t dataset path is ..\\..\\data\\Unmasked_Other_species_sea-star-re-id-full_event-unaware_training-split_2024-05-05-15-33\n",
      "for model ..\\..\\models\\reid\\Unmasked_Other_species_sea-star-re-id-full_event-unaware_training-split_2024-05-05-15-33__2024-05-08-15-02-31__0__densenet121__PT-True\\best_densenet121__PT-True.pth\n",
      "\t dataset is Unmasked_Other_species_sea-star-re-id-full_event-unaware_training-split_2024-05-05-15-33\n",
      "\t dataset path is ..\\..\\data\\Unmasked_Other_species_sea-star-re-id-full_event-unaware_training-split_2024-05-05-15-33\n",
      "for model ..\\..\\models\\reid\\Unmasked_Other_species_sea-star-re-id-full_event-unaware_training-split_2024-05-05-15-33__2024-05-08-15-07-24__1__densenet121__PT-True\\best_densenet121__PT-True.pth\n",
      "\t dataset is Unmasked_Other_species_sea-star-re-id-full_event-unaware_training-split_2024-05-05-15-33\n",
      "\t dataset path is ..\\..\\data\\Unmasked_Other_species_sea-star-re-id-full_event-unaware_training-split_2024-05-05-15-33\n",
      "for model ..\\..\\models\\reid\\Unmasked_Other_species_sea-star-re-id-full_event-unaware_training-split_2024-05-05-15-33__2024-05-08-19-21-55__1__densenet121__PT-True\\best_densenet121__PT-True.pth\n",
      "\t dataset is Unmasked_Other_species_sea-star-re-id-full_event-unaware_training-split_2024-05-05-15-33\n",
      "\t dataset path is ..\\..\\data\\Unmasked_Other_species_sea-star-re-id-full_event-unaware_training-split_2024-05-05-15-33\n",
      "for model ..\\..\\models\\reid\\Unmasked_Other_species_sea-star-re-id-full_event-unaware_training-split_2024-05-05-15-33__2024-05-08-19-35-32__0__densenet121__PT-True\\best_densenet121__PT-True.pth\n",
      "\t dataset is Unmasked_Other_species_sea-star-re-id-full_event-unaware_training-split_2024-05-05-15-33\n",
      "\t dataset path is ..\\..\\data\\Unmasked_Other_species_sea-star-re-id-full_event-unaware_training-split_2024-05-05-15-33\n",
      "for model ..\\..\\models\\reid\\Unmasked_Other_species_sea-star-re-id-full_event-unaware_training-split_2024-05-05-15-33__2024-05-08-23-56-44__0__densenet121__PT-True\\best_densenet121__PT-True.pth\n",
      "\t dataset is Unmasked_Other_species_sea-star-re-id-full_event-unaware_training-split_2024-05-05-15-33\n",
      "\t dataset path is ..\\..\\data\\Unmasked_Other_species_sea-star-re-id-full_event-unaware_training-split_2024-05-05-15-33\n",
      "for model ..\\..\\models\\reid\\Unmasked_Other_species_sea-star-re-id-full_event-unaware_training-split_2024-05-05-15-33__2024-05-09-00-06-08__1__densenet121__PT-True\\best_densenet121__PT-True.pth\n",
      "\t dataset is Unmasked_Other_species_sea-star-re-id-full_event-unaware_training-split_2024-05-05-15-33\n",
      "\t dataset path is ..\\..\\data\\Unmasked_Other_species_sea-star-re-id-full_event-unaware_training-split_2024-05-05-15-33\n",
      "for model ..\\..\\models\\reid\\Unmasked_Other_species_sea-star-re-id-full_event-unaware_training-split_2024-05-05-15-40__2024-05-06-00-47-44__1__densenet121__PT-True\\best_densenet121__PT-True.pth\n",
      "\t dataset is Unmasked_Other_species_sea-star-re-id-full_event-unaware_training-split_2024-05-05-15-40\n",
      "\t dataset path is ..\\..\\data\\Unmasked_Other_species_sea-star-re-id-full_event-unaware_training-split_2024-05-05-15-40\n",
      "for model ..\\..\\models\\reid\\Unmasked_Other_species_sea-star-re-id-full_event-unaware_training-split_2024-05-05-15-40__2024-05-06-01-41-47__0__densenet121__PT-True\\best_densenet121__PT-True.pth\n",
      "\t dataset is Unmasked_Other_species_sea-star-re-id-full_event-unaware_training-split_2024-05-05-15-40\n",
      "\t dataset path is ..\\..\\data\\Unmasked_Other_species_sea-star-re-id-full_event-unaware_training-split_2024-05-05-15-40\n",
      "for model ..\\..\\models\\reid\\Unmasked_Other_species_sea-star-re-id-full_event-unaware_training-split_2024-05-05-15-40__2024-05-06-06-43-22__1__densenet121__PT-True\\best_densenet121__PT-True.pth\n",
      "\t dataset is Unmasked_Other_species_sea-star-re-id-full_event-unaware_training-split_2024-05-05-15-40\n",
      "\t dataset path is ..\\..\\data\\Unmasked_Other_species_sea-star-re-id-full_event-unaware_training-split_2024-05-05-15-40\n",
      "for model ..\\..\\models\\reid\\Unmasked_Other_species_sea-star-re-id-full_event-unaware_training-split_2024-05-05-15-40__2024-05-06-06-56-17__0__densenet121__PT-True\\best_densenet121__PT-True.pth\n",
      "\t dataset is Unmasked_Other_species_sea-star-re-id-full_event-unaware_training-split_2024-05-05-15-40\n",
      "\t dataset path is ..\\..\\data\\Unmasked_Other_species_sea-star-re-id-full_event-unaware_training-split_2024-05-05-15-40\n",
      "for model ..\\..\\models\\reid\\Unmasked_Other_species_sea-star-re-id-full_event-unaware_training-split_2024-05-05-15-40__2024-05-06-12-26-31__1__densenet121__PT-True\\best_densenet121__PT-True.pth\n",
      "\t dataset is Unmasked_Other_species_sea-star-re-id-full_event-unaware_training-split_2024-05-05-15-40\n",
      "\t dataset path is ..\\..\\data\\Unmasked_Other_species_sea-star-re-id-full_event-unaware_training-split_2024-05-05-15-40\n",
      "for model ..\\..\\models\\reid\\Unmasked_Other_species_sea-star-re-id-full_event-unaware_training-split_2024-05-05-15-40__2024-05-06-12-40-28__0__densenet121__PT-True\\best_densenet121__PT-True.pth\n",
      "\t dataset is Unmasked_Other_species_sea-star-re-id-full_event-unaware_training-split_2024-05-05-15-40\n",
      "\t dataset path is ..\\..\\data\\Unmasked_Other_species_sea-star-re-id-full_event-unaware_training-split_2024-05-05-15-40\n",
      "for model ..\\..\\models\\reid\\Unmasked_Other_species_sea-star-re-id-full_event-unaware_training-split_2024-05-05-15-40__2024-05-06-17-17-19__1__densenet121__PT-True\\best_densenet121__PT-True.pth\n",
      "\t dataset is Unmasked_Other_species_sea-star-re-id-full_event-unaware_training-split_2024-05-05-15-40\n",
      "\t dataset path is ..\\..\\data\\Unmasked_Other_species_sea-star-re-id-full_event-unaware_training-split_2024-05-05-15-40\n",
      "for model ..\\..\\models\\reid\\Unmasked_Other_species_sea-star-re-id-full_event-unaware_training-split_2024-05-05-15-40__2024-05-06-18-01-06__0__densenet121__PT-True\\best_densenet121__PT-True.pth\n",
      "\t dataset is Unmasked_Other_species_sea-star-re-id-full_event-unaware_training-split_2024-05-05-15-40\n",
      "\t dataset path is ..\\..\\data\\Unmasked_Other_species_sea-star-re-id-full_event-unaware_training-split_2024-05-05-15-40\n",
      "for model ..\\..\\models\\reid\\Unmasked_Other_species_sea-star-re-id-full_event-unaware_training-split_2024-05-05-15-40__2024-05-06-23-15-56__1__densenet121__PT-True\\best_densenet121__PT-True.pth\n",
      "\t dataset is Unmasked_Other_species_sea-star-re-id-full_event-unaware_training-split_2024-05-05-15-40\n",
      "\t dataset path is ..\\..\\data\\Unmasked_Other_species_sea-star-re-id-full_event-unaware_training-split_2024-05-05-15-40\n",
      "for model ..\\..\\models\\reid\\Unmasked_Other_species_sea-star-re-id-full_event-unaware_training-split_2024-05-05-15-40__2024-05-06-23-19-03__0__densenet121__PT-True\\best_densenet121__PT-True.pth\n",
      "\t dataset is Unmasked_Other_species_sea-star-re-id-full_event-unaware_training-split_2024-05-05-15-40\n",
      "\t dataset path is ..\\..\\data\\Unmasked_Other_species_sea-star-re-id-full_event-unaware_training-split_2024-05-05-15-40\n",
      "for model ..\\..\\models\\reid\\Unmasked_Other_species_sea-star-re-id-full_event-unaware_training-split_2024-05-05-15-40__2024-05-07-05-01-38__0__densenet121__PT-True\\best_densenet121__PT-True.pth\n",
      "\t dataset is Unmasked_Other_species_sea-star-re-id-full_event-unaware_training-split_2024-05-05-15-40\n",
      "\t dataset path is ..\\..\\data\\Unmasked_Other_species_sea-star-re-id-full_event-unaware_training-split_2024-05-05-15-40\n",
      "for model ..\\..\\models\\reid\\Unmasked_Other_species_sea-star-re-id-full_event-unaware_training-split_2024-05-05-15-40__2024-05-07-05-04-45__1__densenet121__PT-True\\best_densenet121__PT-True.pth\n",
      "\t dataset is Unmasked_Other_species_sea-star-re-id-full_event-unaware_training-split_2024-05-05-15-40\n",
      "\t dataset path is ..\\..\\data\\Unmasked_Other_species_sea-star-re-id-full_event-unaware_training-split_2024-05-05-15-40\n",
      "for model ..\\..\\models\\reid\\Unmasked_Other_species_sea-star-re-id-full_event-unaware_training-split_2024-05-05-15-40__2024-05-07-10-04-03__1__densenet121__PT-True\\best_densenet121__PT-True.pth\n",
      "\t dataset is Unmasked_Other_species_sea-star-re-id-full_event-unaware_training-split_2024-05-05-15-40\n",
      "\t dataset path is ..\\..\\data\\Unmasked_Other_species_sea-star-re-id-full_event-unaware_training-split_2024-05-05-15-40\n",
      "for model ..\\..\\models\\reid\\Unmasked_Other_species_sea-star-re-id-full_event-unaware_training-split_2024-05-05-15-40__2024-05-07-11-37-16__0__densenet121__PT-True\\best_densenet121__PT-True.pth\n",
      "\t dataset is Unmasked_Other_species_sea-star-re-id-full_event-unaware_training-split_2024-05-05-15-40\n",
      "\t dataset path is ..\\..\\data\\Unmasked_Other_species_sea-star-re-id-full_event-unaware_training-split_2024-05-05-15-40\n",
      "for model ..\\..\\models\\reid\\Unmasked_Other_species_sea-star-re-id-full_event-unaware_training-split_2024-05-05-15-40__2024-05-07-17-32-53__1__densenet121__PT-True\\best_densenet121__PT-True.pth\n",
      "\t dataset is Unmasked_Other_species_sea-star-re-id-full_event-unaware_training-split_2024-05-05-15-40\n",
      "\t dataset path is ..\\..\\data\\Unmasked_Other_species_sea-star-re-id-full_event-unaware_training-split_2024-05-05-15-40\n",
      "for model ..\\..\\models\\reid\\Unmasked_Other_species_sea-star-re-id-full_event-unaware_training-split_2024-05-05-15-40__2024-05-07-18-05-06__0__densenet121__PT-True\\best_densenet121__PT-True.pth\n",
      "\t dataset is Unmasked_Other_species_sea-star-re-id-full_event-unaware_training-split_2024-05-05-15-40\n",
      "\t dataset path is ..\\..\\data\\Unmasked_Other_species_sea-star-re-id-full_event-unaware_training-split_2024-05-05-15-40\n",
      "for model ..\\..\\models\\reid\\Unmasked_Other_species_sea-star-re-id-full_event-unaware_training-split_2024-05-05-15-40__2024-05-08-02-04-17__1__densenet121__PT-True\\best_densenet121__PT-True.pth\n",
      "\t dataset is Unmasked_Other_species_sea-star-re-id-full_event-unaware_training-split_2024-05-05-15-40\n",
      "\t dataset path is ..\\..\\data\\Unmasked_Other_species_sea-star-re-id-full_event-unaware_training-split_2024-05-05-15-40\n",
      "for model ..\\..\\models\\reid\\Unmasked_Other_species_sea-star-re-id-full_event-unaware_training-split_2024-05-05-15-40__2024-05-08-02-30-00__0__densenet121__PT-True\\best_densenet121__PT-True.pth\n",
      "\t dataset is Unmasked_Other_species_sea-star-re-id-full_event-unaware_training-split_2024-05-05-15-40\n",
      "\t dataset path is ..\\..\\data\\Unmasked_Other_species_sea-star-re-id-full_event-unaware_training-split_2024-05-05-15-40\n",
      "for model ..\\..\\models\\reid\\Unmasked_Other_species_sea-star-re-id-full_event-unaware_training-split_2024-05-05-15-40__2024-05-08-06-25-27__1__densenet121__PT-True\\best_densenet121__PT-True.pth\n",
      "\t dataset is Unmasked_Other_species_sea-star-re-id-full_event-unaware_training-split_2024-05-05-15-40\n",
      "\t dataset path is ..\\..\\data\\Unmasked_Other_species_sea-star-re-id-full_event-unaware_training-split_2024-05-05-15-40\n",
      "for model ..\\..\\models\\reid\\Unmasked_Other_species_sea-star-re-id-full_event-unaware_training-split_2024-05-05-15-40__2024-05-08-06-31-37__0__densenet121__PT-True\\best_densenet121__PT-True.pth\n",
      "\t dataset is Unmasked_Other_species_sea-star-re-id-full_event-unaware_training-split_2024-05-05-15-40\n",
      "\t dataset path is ..\\..\\data\\Unmasked_Other_species_sea-star-re-id-full_event-unaware_training-split_2024-05-05-15-40\n",
      "for model ..\\..\\models\\reid\\Unmasked_Other_species_sea-star-re-id-full_event-unaware_training-split_2024-05-05-15-40__2024-05-08-10-36-43__0__densenet121__PT-True\\best_densenet121__PT-True.pth\n",
      "\t dataset is Unmasked_Other_species_sea-star-re-id-full_event-unaware_training-split_2024-05-05-15-40\n",
      "\t dataset path is ..\\..\\data\\Unmasked_Other_species_sea-star-re-id-full_event-unaware_training-split_2024-05-05-15-40\n",
      "for model ..\\..\\models\\reid\\Unmasked_Other_species_sea-star-re-id-full_event-unaware_training-split_2024-05-05-15-40__2024-05-08-10-50-38__1__densenet121__PT-True\\best_densenet121__PT-True.pth\n",
      "\t dataset is Unmasked_Other_species_sea-star-re-id-full_event-unaware_training-split_2024-05-05-15-40\n",
      "\t dataset path is ..\\..\\data\\Unmasked_Other_species_sea-star-re-id-full_event-unaware_training-split_2024-05-05-15-40\n",
      "for model ..\\..\\models\\reid\\Unmasked_Other_species_sea-star-re-id-full_event-unaware_training-split_2024-05-05-15-40__2024-05-08-15-15-43__0__densenet121__PT-True\\best_densenet121__PT-True.pth\n",
      "\t dataset is Unmasked_Other_species_sea-star-re-id-full_event-unaware_training-split_2024-05-05-15-40\n",
      "\t dataset path is ..\\..\\data\\Unmasked_Other_species_sea-star-re-id-full_event-unaware_training-split_2024-05-05-15-40\n",
      "for model ..\\..\\models\\reid\\Unmasked_Other_species_sea-star-re-id-full_event-unaware_training-split_2024-05-05-15-40__2024-05-08-15-20-57__1__densenet121__PT-True\\best_densenet121__PT-True.pth\n",
      "\t dataset is Unmasked_Other_species_sea-star-re-id-full_event-unaware_training-split_2024-05-05-15-40\n",
      "\t dataset path is ..\\..\\data\\Unmasked_Other_species_sea-star-re-id-full_event-unaware_training-split_2024-05-05-15-40\n",
      "for model ..\\..\\models\\reid\\Unmasked_Other_species_sea-star-re-id-full_event-unaware_training-split_2024-05-05-15-40__2024-05-08-19-34-28__1__densenet121__PT-True\\best_densenet121__PT-True.pth\n",
      "\t dataset is Unmasked_Other_species_sea-star-re-id-full_event-unaware_training-split_2024-05-05-15-40\n",
      "\t dataset path is ..\\..\\data\\Unmasked_Other_species_sea-star-re-id-full_event-unaware_training-split_2024-05-05-15-40\n",
      "for model ..\\..\\models\\reid\\Unmasked_Other_species_sea-star-re-id-full_event-unaware_training-split_2024-05-05-15-40__2024-05-08-19-48-45__0__densenet121__PT-True\\best_densenet121__PT-True.pth\n",
      "\t dataset is Unmasked_Other_species_sea-star-re-id-full_event-unaware_training-split_2024-05-05-15-40\n",
      "\t dataset path is ..\\..\\data\\Unmasked_Other_species_sea-star-re-id-full_event-unaware_training-split_2024-05-05-15-40\n",
      "for model ..\\..\\models\\reid\\Unmasked_Other_species_sea-star-re-id-full_event-unaware_training-split_2024-05-05-15-40__2024-05-09-00-09-37__0__densenet121__PT-True\\best_densenet121__PT-True.pth\n",
      "\t dataset is Unmasked_Other_species_sea-star-re-id-full_event-unaware_training-split_2024-05-05-15-40\n",
      "\t dataset path is ..\\..\\data\\Unmasked_Other_species_sea-star-re-id-full_event-unaware_training-split_2024-05-05-15-40\n",
      "for model ..\\..\\models\\reid\\Unmasked_Other_species_sea-star-re-id-full_event-unaware_training-split_2024-05-05-15-40__2024-05-09-00-19-46__1__densenet121__PT-True\\best_densenet121__PT-True.pth\n",
      "\t dataset is Unmasked_Other_species_sea-star-re-id-full_event-unaware_training-split_2024-05-05-15-40\n",
      "\t dataset path is ..\\..\\data\\Unmasked_Other_species_sea-star-re-id-full_event-unaware_training-split_2024-05-05-15-40\n"
     ]
    }
   ],
   "source": [
    "model_datasets_dict = {}\n",
    "for path_model in path_models:\n",
    "    dataset = os.path.basename(os.path.dirname(path_model)).split('__')[0]\n",
    "    print(f'for model {path_model}\\n\\t dataset is {dataset}')\n",
    "    path_dataset = os.path.join(datasets_root, dataset)\n",
    "    print(f'\\t dataset path is {path_dataset}')\n",
    "    model_datasets_dict[path_model] = path_dataset"
   ],
   "metadata": {
    "collapsed": false,
    "ExecuteTime": {
     "end_time": "2024-05-30T16:53:30.557632800Z",
     "start_time": "2024-05-30T16:53:30.512634Z"
    }
   }
  },
  {
   "cell_type": "code",
   "execution_count": 36,
   "outputs": [],
   "source": [
    "evaluations_root = os.path.join('..', '..', 'evaluations', 'mAP')\n",
    "if not os.path.exists(evaluations_root):\n",
    "    os.makedirs(evaluations_root)\n"
   ],
   "metadata": {
    "collapsed": false,
    "ExecuteTime": {
     "end_time": "2024-05-30T16:53:30.557632800Z",
     "start_time": "2024-05-30T16:53:30.543634800Z"
    }
   }
  },
  {
   "cell_type": "code",
   "execution_count": 37,
   "outputs": [
    {
     "name": "stdout",
     "output_type": "stream",
     "text": [
      "1|347 - Other_species_sea-star-re-id-full_event-unaware_training-split_2024-05-03-18-13__2024-05-05-20-04-33__0__densenet121__PT-True - Other_species_sea-star-re-id-full_event-unaware_training-split_2024-05-03-18-13\n",
      "Gallery dataset path: ..\\..\\data\\Other_species_sea-star-re-id-full_event-unaware_training-split_2024-05-03-18-13\\train True\n",
      "Query dataset path: ..\\..\\data\\Other_species_sea-star-re-id-full_event-unaware_training-split_2024-05-03-18-13\\test True\n",
      "Number of identities: 95\n",
      "Number of gallery images: 1504\n",
      "Number of query images: 430\n"
     ]
    },
    {
     "name": "stderr",
     "output_type": "stream",
     "text": [
      "100%|██████████| 1504/1504 [00:52<00:00, 28.90it/s]\n",
      "100%|██████████| 430/430 [00:14<00:00, 29.89it/s]\n"
     ]
    },
    {
     "name": "stdout",
     "output_type": "stream",
     "text": [
      "\n",
      "Computed mAP:\n",
      "mAP@1: 0.8000\n",
      "mAP@5: 0.9419\n",
      "mAP@10: 0.9721\n",
      "mAP@15: 0.9814\n",
      "mAP@20: 0.9837\n",
      "2|347 - Other_species_sea-star-re-id-full_event-unaware_training-split_2024-05-03-18-13__2024-05-05-20-04-33__1__densenet121__PT-True - Other_species_sea-star-re-id-full_event-unaware_training-split_2024-05-03-18-13\n",
      "Gallery dataset path: ..\\..\\data\\Other_species_sea-star-re-id-full_event-unaware_training-split_2024-05-03-18-13\\train True\n",
      "Query dataset path: ..\\..\\data\\Other_species_sea-star-re-id-full_event-unaware_training-split_2024-05-03-18-13\\test True\n",
      "Number of identities: 95\n",
      "Number of gallery images: 1504\n",
      "Number of query images: 430\n"
     ]
    },
    {
     "name": "stderr",
     "output_type": "stream",
     "text": [
      "100%|██████████| 1504/1504 [00:55<00:00, 27.04it/s]\n",
      "100%|██████████| 430/430 [00:21<00:00, 19.85it/s]\n"
     ]
    },
    {
     "name": "stdout",
     "output_type": "stream",
     "text": [
      "\n",
      "Computed mAP:\n",
      "mAP@1: 0.8093\n",
      "mAP@5: 0.9395\n",
      "mAP@10: 0.9651\n",
      "mAP@15: 0.9814\n",
      "mAP@20: 0.9907\n",
      "3|347 - Other_species_sea-star-re-id-full_event-unaware_training-split_2024-05-03-18-13__2024-05-06-02-00-08__0__densenet121__PT-True - Other_species_sea-star-re-id-full_event-unaware_training-split_2024-05-03-18-13\n",
      "Gallery dataset path: ..\\..\\data\\Other_species_sea-star-re-id-full_event-unaware_training-split_2024-05-03-18-13\\train True\n",
      "Query dataset path: ..\\..\\data\\Other_species_sea-star-re-id-full_event-unaware_training-split_2024-05-03-18-13\\test True\n",
      "Number of identities: 95\n",
      "Number of gallery images: 1504\n",
      "Number of query images: 430\n"
     ]
    },
    {
     "name": "stderr",
     "output_type": "stream",
     "text": [
      "100%|██████████| 1504/1504 [01:14<00:00, 20.26it/s]\n",
      "100%|██████████| 430/430 [00:21<00:00, 20.07it/s]\n"
     ]
    },
    {
     "name": "stdout",
     "output_type": "stream",
     "text": [
      "\n",
      "Computed mAP:\n",
      "mAP@1: 0.7605\n",
      "mAP@5: 0.8977\n",
      "mAP@10: 0.9419\n",
      "mAP@15: 0.9581\n",
      "mAP@20: 0.9698\n",
      "4|347 - Other_species_sea-star-re-id-full_event-unaware_training-split_2024-05-03-18-13__2024-05-06-02-00-08__1__densenet121__PT-True - Other_species_sea-star-re-id-full_event-unaware_training-split_2024-05-03-18-13\n",
      "Gallery dataset path: ..\\..\\data\\Other_species_sea-star-re-id-full_event-unaware_training-split_2024-05-03-18-13\\train True\n",
      "Query dataset path: ..\\..\\data\\Other_species_sea-star-re-id-full_event-unaware_training-split_2024-05-03-18-13\\test True\n",
      "Number of identities: 95\n",
      "Number of gallery images: 1504\n",
      "Number of query images: 430\n"
     ]
    },
    {
     "name": "stderr",
     "output_type": "stream",
     "text": [
      "100%|██████████| 1504/1504 [01:14<00:00, 20.31it/s]\n",
      "100%|██████████| 430/430 [00:21<00:00, 19.83it/s]\n"
     ]
    },
    {
     "name": "stdout",
     "output_type": "stream",
     "text": [
      "\n",
      "Computed mAP:\n",
      "mAP@1: 0.6930\n",
      "mAP@5: 0.8698\n",
      "mAP@10: 0.9326\n",
      "mAP@15: 0.9512\n",
      "mAP@20: 0.9651\n",
      "5|347 - Other_species_sea-star-re-id-full_event-unaware_training-split_2024-05-03-18-13__2024-05-06-07-11-15__0__densenet121__PT-True - Other_species_sea-star-re-id-full_event-unaware_training-split_2024-05-03-18-13\n",
      "Gallery dataset path: ..\\..\\data\\Other_species_sea-star-re-id-full_event-unaware_training-split_2024-05-03-18-13\\train True\n",
      "Query dataset path: ..\\..\\data\\Other_species_sea-star-re-id-full_event-unaware_training-split_2024-05-03-18-13\\test True\n",
      "Number of identities: 95\n",
      "Number of gallery images: 1504\n",
      "Number of query images: 430\n"
     ]
    },
    {
     "name": "stderr",
     "output_type": "stream",
     "text": [
      "100%|██████████| 1504/1504 [01:15<00:00, 19.88it/s]\n",
      "100%|██████████| 430/430 [00:21<00:00, 19.89it/s]\n"
     ]
    },
    {
     "name": "stdout",
     "output_type": "stream",
     "text": [
      "\n",
      "Computed mAP:\n",
      "mAP@1: 0.7186\n",
      "mAP@5: 0.8814\n",
      "mAP@10: 0.9349\n",
      "mAP@15: 0.9512\n",
      "mAP@20: 0.9721\n",
      "6|347 - Other_species_sea-star-re-id-full_event-unaware_training-split_2024-05-03-18-13__2024-05-06-07-11-15__1__densenet121__PT-True - Other_species_sea-star-re-id-full_event-unaware_training-split_2024-05-03-18-13\n",
      "Gallery dataset path: ..\\..\\data\\Other_species_sea-star-re-id-full_event-unaware_training-split_2024-05-03-18-13\\train True\n",
      "Query dataset path: ..\\..\\data\\Other_species_sea-star-re-id-full_event-unaware_training-split_2024-05-03-18-13\\test True\n",
      "Number of identities: 95\n",
      "Number of gallery images: 1504\n",
      "Number of query images: 430\n"
     ]
    },
    {
     "name": "stderr",
     "output_type": "stream",
     "text": [
      "100%|██████████| 1504/1504 [01:15<00:00, 19.91it/s]\n",
      "100%|██████████| 430/430 [00:21<00:00, 19.63it/s]\n"
     ]
    },
    {
     "name": "stdout",
     "output_type": "stream",
     "text": [
      "\n",
      "Computed mAP:\n",
      "mAP@1: 0.7000\n",
      "mAP@5: 0.8860\n",
      "mAP@10: 0.9209\n",
      "mAP@15: 0.9302\n",
      "mAP@20: 0.9442\n",
      "7|347 - Other_species_sea-star-re-id-full_event-unaware_training-split_2024-05-03-18-13__2024-05-06-12-57-05__0__densenet121__PT-True - Other_species_sea-star-re-id-full_event-unaware_training-split_2024-05-03-18-13\n",
      "Gallery dataset path: ..\\..\\data\\Other_species_sea-star-re-id-full_event-unaware_training-split_2024-05-03-18-13\\train True\n",
      "Query dataset path: ..\\..\\data\\Other_species_sea-star-re-id-full_event-unaware_training-split_2024-05-03-18-13\\test True\n",
      "Number of identities: 95\n",
      "Number of gallery images: 1504\n",
      "Number of query images: 430\n"
     ]
    },
    {
     "name": "stderr",
     "output_type": "stream",
     "text": [
      "100%|██████████| 1504/1504 [01:16<00:00, 19.76it/s]\n",
      "100%|██████████| 430/430 [00:21<00:00, 19.90it/s]\n"
     ]
    },
    {
     "name": "stdout",
     "output_type": "stream",
     "text": [
      "\n",
      "Computed mAP:\n",
      "mAP@1: 0.8605\n",
      "mAP@5: 0.9581\n",
      "mAP@10: 0.9767\n",
      "mAP@15: 0.9860\n",
      "mAP@20: 0.9907\n",
      "8|347 - Other_species_sea-star-re-id-full_event-unaware_training-split_2024-05-03-18-13__2024-05-06-12-57-05__1__densenet121__PT-True - Other_species_sea-star-re-id-full_event-unaware_training-split_2024-05-03-18-13\n",
      "Gallery dataset path: ..\\..\\data\\Other_species_sea-star-re-id-full_event-unaware_training-split_2024-05-03-18-13\\train True\n",
      "Query dataset path: ..\\..\\data\\Other_species_sea-star-re-id-full_event-unaware_training-split_2024-05-03-18-13\\test True\n",
      "Number of identities: 95\n",
      "Number of gallery images: 1504\n",
      "Number of query images: 430\n"
     ]
    },
    {
     "name": "stderr",
     "output_type": "stream",
     "text": [
      "100%|██████████| 1504/1504 [01:15<00:00, 19.89it/s]\n",
      "100%|██████████| 430/430 [00:21<00:00, 19.93it/s]\n"
     ]
    },
    {
     "name": "stdout",
     "output_type": "stream",
     "text": [
      "\n",
      "Computed mAP:\n",
      "mAP@1: 0.8395\n",
      "mAP@5: 0.9512\n",
      "mAP@10: 0.9767\n",
      "mAP@15: 0.9814\n",
      "mAP@20: 0.9907\n",
      "9|347 - Other_species_sea-star-re-id-full_event-unaware_training-split_2024-05-03-18-13__2024-05-06-18-16-27__0__densenet121__PT-True - Other_species_sea-star-re-id-full_event-unaware_training-split_2024-05-03-18-13\n",
      "Gallery dataset path: ..\\..\\data\\Other_species_sea-star-re-id-full_event-unaware_training-split_2024-05-03-18-13\\train True\n",
      "Query dataset path: ..\\..\\data\\Other_species_sea-star-re-id-full_event-unaware_training-split_2024-05-03-18-13\\test True\n",
      "Number of identities: 95\n",
      "Number of gallery images: 1504\n",
      "Number of query images: 430\n"
     ]
    },
    {
     "name": "stderr",
     "output_type": "stream",
     "text": [
      "100%|██████████| 1504/1504 [01:15<00:00, 19.90it/s]\n",
      "100%|██████████| 430/430 [00:21<00:00, 19.80it/s]\n"
     ]
    },
    {
     "name": "stdout",
     "output_type": "stream",
     "text": [
      "\n",
      "Computed mAP:\n",
      "mAP@1: 0.8000\n",
      "mAP@5: 0.9302\n",
      "mAP@10: 0.9558\n",
      "mAP@15: 0.9767\n",
      "mAP@20: 0.9791\n",
      "10|347 - Other_species_sea-star-re-id-full_event-unaware_training-split_2024-05-03-18-13__2024-05-06-18-16-27__1__densenet121__PT-True - Other_species_sea-star-re-id-full_event-unaware_training-split_2024-05-03-18-13\n",
      "Gallery dataset path: ..\\..\\data\\Other_species_sea-star-re-id-full_event-unaware_training-split_2024-05-03-18-13\\train True\n",
      "Query dataset path: ..\\..\\data\\Other_species_sea-star-re-id-full_event-unaware_training-split_2024-05-03-18-13\\test True\n",
      "Number of identities: 95\n",
      "Number of gallery images: 1504\n",
      "Number of query images: 430\n"
     ]
    },
    {
     "name": "stderr",
     "output_type": "stream",
     "text": [
      "100%|██████████| 1504/1504 [01:15<00:00, 19.98it/s]\n",
      "100%|██████████| 430/430 [00:21<00:00, 19.55it/s]\n"
     ]
    },
    {
     "name": "stdout",
     "output_type": "stream",
     "text": [
      "\n",
      "Computed mAP:\n",
      "mAP@1: 0.7930\n",
      "mAP@5: 0.9186\n",
      "mAP@10: 0.9442\n",
      "mAP@15: 0.9674\n",
      "mAP@20: 0.9791\n",
      "11|347 - Other_species_sea-star-re-id-full_event-unaware_training-split_2024-05-03-18-13__2024-05-06-23-34-59__0__densenet121__PT-True - Other_species_sea-star-re-id-full_event-unaware_training-split_2024-05-03-18-13\n",
      "Gallery dataset path: ..\\..\\data\\Other_species_sea-star-re-id-full_event-unaware_training-split_2024-05-03-18-13\\train True\n",
      "Query dataset path: ..\\..\\data\\Other_species_sea-star-re-id-full_event-unaware_training-split_2024-05-03-18-13\\test True\n",
      "Number of identities: 95\n",
      "Number of gallery images: 1504\n",
      "Number of query images: 430\n"
     ]
    },
    {
     "name": "stderr",
     "output_type": "stream",
     "text": [
      "100%|██████████| 1504/1504 [01:16<00:00, 19.64it/s]\n",
      "100%|██████████| 430/430 [00:21<00:00, 19.85it/s]\n"
     ]
    },
    {
     "name": "stdout",
     "output_type": "stream",
     "text": [
      "\n",
      "Computed mAP:\n",
      "mAP@1: 0.8023\n",
      "mAP@5: 0.9419\n",
      "mAP@10: 0.9674\n",
      "mAP@15: 0.9791\n",
      "mAP@20: 0.9814\n",
      "12|347 - Other_species_sea-star-re-id-full_event-unaware_training-split_2024-05-03-18-13__2024-05-06-23-34-59__1__densenet121__PT-True - Other_species_sea-star-re-id-full_event-unaware_training-split_2024-05-03-18-13\n",
      "Gallery dataset path: ..\\..\\data\\Other_species_sea-star-re-id-full_event-unaware_training-split_2024-05-03-18-13\\train True\n",
      "Query dataset path: ..\\..\\data\\Other_species_sea-star-re-id-full_event-unaware_training-split_2024-05-03-18-13\\test True\n",
      "Number of identities: 95\n",
      "Number of gallery images: 1504\n",
      "Number of query images: 430\n"
     ]
    },
    {
     "name": "stderr",
     "output_type": "stream",
     "text": [
      "100%|██████████| 1504/1504 [01:15<00:00, 19.81it/s]\n",
      "100%|██████████| 430/430 [00:21<00:00, 19.86it/s]\n"
     ]
    },
    {
     "name": "stdout",
     "output_type": "stream",
     "text": [
      "\n",
      "Computed mAP:\n",
      "mAP@1: 0.7837\n",
      "mAP@5: 0.9302\n",
      "mAP@10: 0.9605\n",
      "mAP@15: 0.9767\n",
      "mAP@20: 0.9860\n",
      "13|347 - Other_species_sea-star-re-id-full_event-unaware_training-split_2024-05-03-18-13__2024-05-07-05-21-17__0__densenet121__PT-True - Other_species_sea-star-re-id-full_event-unaware_training-split_2024-05-03-18-13\n",
      "Gallery dataset path: ..\\..\\data\\Other_species_sea-star-re-id-full_event-unaware_training-split_2024-05-03-18-13\\train True\n",
      "Query dataset path: ..\\..\\data\\Other_species_sea-star-re-id-full_event-unaware_training-split_2024-05-03-18-13\\test True\n",
      "Number of identities: 95\n",
      "Number of gallery images: 1504\n",
      "Number of query images: 430\n"
     ]
    },
    {
     "name": "stderr",
     "output_type": "stream",
     "text": [
      "100%|██████████| 1504/1504 [01:15<00:00, 19.83it/s]\n",
      "100%|██████████| 430/430 [00:21<00:00, 19.87it/s]\n"
     ]
    },
    {
     "name": "stdout",
     "output_type": "stream",
     "text": [
      "\n",
      "Computed mAP:\n",
      "mAP@1: 0.8930\n",
      "mAP@5: 0.9721\n",
      "mAP@10: 0.9837\n",
      "mAP@15: 0.9860\n",
      "mAP@20: 0.9907\n",
      "14|347 - Other_species_sea-star-re-id-full_event-unaware_training-split_2024-05-03-18-13__2024-05-07-05-21-17__1__densenet121__PT-True - Other_species_sea-star-re-id-full_event-unaware_training-split_2024-05-03-18-13\n",
      "Gallery dataset path: ..\\..\\data\\Other_species_sea-star-re-id-full_event-unaware_training-split_2024-05-03-18-13\\train True\n",
      "Query dataset path: ..\\..\\data\\Other_species_sea-star-re-id-full_event-unaware_training-split_2024-05-03-18-13\\test True\n",
      "Number of identities: 95\n",
      "Number of gallery images: 1504\n",
      "Number of query images: 430\n"
     ]
    },
    {
     "name": "stderr",
     "output_type": "stream",
     "text": [
      "100%|██████████| 1504/1504 [01:15<00:00, 19.84it/s]\n",
      "100%|██████████| 430/430 [00:21<00:00, 19.71it/s]\n"
     ]
    },
    {
     "name": "stdout",
     "output_type": "stream",
     "text": [
      "\n",
      "Computed mAP:\n",
      "mAP@1: 0.8674\n",
      "mAP@5: 0.9628\n",
      "mAP@10: 0.9814\n",
      "mAP@15: 0.9884\n",
      "mAP@20: 0.9930\n",
      "15|347 - Other_species_sea-star-re-id-full_event-unaware_training-split_2024-05-03-18-13__2024-05-07-11-56-11__0__densenet121__PT-True - Other_species_sea-star-re-id-full_event-unaware_training-split_2024-05-03-18-13\n",
      "Gallery dataset path: ..\\..\\data\\Other_species_sea-star-re-id-full_event-unaware_training-split_2024-05-03-18-13\\train True\n",
      "Query dataset path: ..\\..\\data\\Other_species_sea-star-re-id-full_event-unaware_training-split_2024-05-03-18-13\\test True\n",
      "Number of identities: 95\n",
      "Number of gallery images: 1504\n",
      "Number of query images: 430\n"
     ]
    },
    {
     "name": "stderr",
     "output_type": "stream",
     "text": [
      "100%|██████████| 1504/1504 [01:14<00:00, 20.07it/s]\n",
      "100%|██████████| 430/430 [00:21<00:00, 20.11it/s]\n"
     ]
    },
    {
     "name": "stdout",
     "output_type": "stream",
     "text": [
      "\n",
      "Computed mAP:\n",
      "mAP@1: 0.8512\n",
      "mAP@5: 0.9558\n",
      "mAP@10: 0.9837\n",
      "mAP@15: 0.9907\n",
      "mAP@20: 0.9930\n",
      "16|347 - Other_species_sea-star-re-id-full_event-unaware_training-split_2024-05-03-18-13__2024-05-07-11-56-11__1__densenet121__PT-True - Other_species_sea-star-re-id-full_event-unaware_training-split_2024-05-03-18-13\n",
      "Gallery dataset path: ..\\..\\data\\Other_species_sea-star-re-id-full_event-unaware_training-split_2024-05-03-18-13\\train True\n",
      "Query dataset path: ..\\..\\data\\Other_species_sea-star-re-id-full_event-unaware_training-split_2024-05-03-18-13\\test True\n",
      "Number of identities: 95\n",
      "Number of gallery images: 1504\n",
      "Number of query images: 430\n"
     ]
    },
    {
     "name": "stderr",
     "output_type": "stream",
     "text": [
      "100%|██████████| 1504/1504 [01:15<00:00, 19.96it/s]\n",
      "100%|██████████| 430/430 [00:21<00:00, 20.06it/s]\n"
     ]
    },
    {
     "name": "stdout",
     "output_type": "stream",
     "text": [
      "\n",
      "Computed mAP:\n",
      "mAP@1: 0.8628\n",
      "mAP@5: 0.9535\n",
      "mAP@10: 0.9767\n",
      "mAP@15: 0.9814\n",
      "mAP@20: 0.9837\n",
      "17|347 - Other_species_sea-star-re-id-full_event-unaware_training-split_2024-05-03-18-13__2024-05-07-18-50-05__1__densenet121__PT-True - Other_species_sea-star-re-id-full_event-unaware_training-split_2024-05-03-18-13\n",
      "Gallery dataset path: ..\\..\\data\\Other_species_sea-star-re-id-full_event-unaware_training-split_2024-05-03-18-13\\train True\n",
      "Query dataset path: ..\\..\\data\\Other_species_sea-star-re-id-full_event-unaware_training-split_2024-05-03-18-13\\test True\n",
      "Number of identities: 95\n",
      "Number of gallery images: 1504\n",
      "Number of query images: 430\n"
     ]
    },
    {
     "name": "stderr",
     "output_type": "stream",
     "text": [
      "100%|██████████| 1504/1504 [01:15<00:00, 20.03it/s]\n",
      "100%|██████████| 430/430 [00:21<00:00, 19.91it/s]\n"
     ]
    },
    {
     "name": "stdout",
     "output_type": "stream",
     "text": [
      "\n",
      "Computed mAP:\n",
      "mAP@1: 0.8930\n",
      "mAP@5: 0.9721\n",
      "mAP@10: 0.9791\n",
      "mAP@15: 0.9884\n",
      "mAP@20: 0.9907\n",
      "18|347 - Other_species_sea-star-re-id-full_event-unaware_training-split_2024-05-03-18-13__2024-05-07-19-00-47__0__densenet121__PT-True - Other_species_sea-star-re-id-full_event-unaware_training-split_2024-05-03-18-13\n",
      "Gallery dataset path: ..\\..\\data\\Other_species_sea-star-re-id-full_event-unaware_training-split_2024-05-03-18-13\\train True\n",
      "Query dataset path: ..\\..\\data\\Other_species_sea-star-re-id-full_event-unaware_training-split_2024-05-03-18-13\\test True\n",
      "Number of identities: 95\n",
      "Number of gallery images: 1504\n",
      "Number of query images: 430\n"
     ]
    },
    {
     "name": "stderr",
     "output_type": "stream",
     "text": [
      "100%|██████████| 1504/1504 [01:15<00:00, 19.98it/s]\n",
      "100%|██████████| 430/430 [00:21<00:00, 20.17it/s]\n"
     ]
    },
    {
     "name": "stdout",
     "output_type": "stream",
     "text": [
      "\n",
      "Computed mAP:\n",
      "mAP@1: 0.8116\n",
      "mAP@5: 0.9302\n",
      "mAP@10: 0.9674\n",
      "mAP@15: 0.9791\n",
      "mAP@20: 0.9837\n",
      "19|347 - Other_species_sea-star-re-id-full_event-unaware_training-split_2024-05-03-18-13__2024-05-07-19-00-47__1__densenet121__PT-True - Other_species_sea-star-re-id-full_event-unaware_training-split_2024-05-03-18-13\n",
      "Gallery dataset path: ..\\..\\data\\Other_species_sea-star-re-id-full_event-unaware_training-split_2024-05-03-18-13\\train True\n",
      "Query dataset path: ..\\..\\data\\Other_species_sea-star-re-id-full_event-unaware_training-split_2024-05-03-18-13\\test True\n",
      "Number of identities: 95\n",
      "Number of gallery images: 1504\n",
      "Number of query images: 430\n"
     ]
    },
    {
     "name": "stderr",
     "output_type": "stream",
     "text": [
      "100%|██████████| 1504/1504 [01:14<00:00, 20.11it/s]\n",
      "100%|██████████| 430/430 [00:21<00:00, 19.96it/s]\n"
     ]
    },
    {
     "name": "stdout",
     "output_type": "stream",
     "text": [
      "\n",
      "Computed mAP:\n",
      "mAP@1: 0.8721\n",
      "mAP@5: 0.9674\n",
      "mAP@10: 0.9907\n",
      "mAP@15: 0.9930\n",
      "mAP@20: 0.9953\n",
      "20|347 - Other_species_sea-star-re-id-full_event-unaware_training-split_2024-05-03-18-13__2024-05-07-19-13-47__0__densenet121__PT-True - Other_species_sea-star-re-id-full_event-unaware_training-split_2024-05-03-18-13\n",
      "Gallery dataset path: ..\\..\\data\\Other_species_sea-star-re-id-full_event-unaware_training-split_2024-05-03-18-13\\train True\n",
      "Query dataset path: ..\\..\\data\\Other_species_sea-star-re-id-full_event-unaware_training-split_2024-05-03-18-13\\test True\n",
      "Number of identities: 95\n",
      "Number of gallery images: 1504\n",
      "Number of query images: 430\n"
     ]
    },
    {
     "name": "stderr",
     "output_type": "stream",
     "text": [
      "100%|██████████| 1504/1504 [01:14<00:00, 20.09it/s]\n",
      "100%|██████████| 430/430 [00:21<00:00, 19.63it/s]\n"
     ]
    },
    {
     "name": "stdout",
     "output_type": "stream",
     "text": [
      "\n",
      "Computed mAP:\n",
      "mAP@1: 0.7837\n",
      "mAP@5: 0.9209\n",
      "mAP@10: 0.9605\n",
      "mAP@15: 0.9744\n",
      "mAP@20: 0.9767\n",
      "21|347 - Other_species_sea-star-re-id-full_event-unaware_training-split_2024-05-03-18-13__2024-05-07-19-13-47__1__densenet121__PT-True - Other_species_sea-star-re-id-full_event-unaware_training-split_2024-05-03-18-13\n",
      "Gallery dataset path: ..\\..\\data\\Other_species_sea-star-re-id-full_event-unaware_training-split_2024-05-03-18-13\\train True\n",
      "Query dataset path: ..\\..\\data\\Other_species_sea-star-re-id-full_event-unaware_training-split_2024-05-03-18-13\\test True\n",
      "Number of identities: 95\n",
      "Number of gallery images: 1504\n",
      "Number of query images: 430\n"
     ]
    },
    {
     "name": "stderr",
     "output_type": "stream",
     "text": [
      "100%|██████████| 1504/1504 [01:16<00:00, 19.59it/s]\n",
      "100%|██████████| 430/430 [00:22<00:00, 19.08it/s]\n"
     ]
    },
    {
     "name": "stdout",
     "output_type": "stream",
     "text": [
      "\n",
      "Computed mAP:\n",
      "mAP@1: 0.8395\n",
      "mAP@5: 0.9465\n",
      "mAP@10: 0.9767\n",
      "mAP@15: 0.9884\n",
      "mAP@20: 0.9884\n",
      "22|347 - Other_species_sea-star-re-id-full_event-unaware_training-split_2024-05-03-18-13__2024-05-07-19-26-45__0__densenet121__PT-True - Other_species_sea-star-re-id-full_event-unaware_training-split_2024-05-03-18-13\n",
      "Gallery dataset path: ..\\..\\data\\Other_species_sea-star-re-id-full_event-unaware_training-split_2024-05-03-18-13\\train True\n",
      "Query dataset path: ..\\..\\data\\Other_species_sea-star-re-id-full_event-unaware_training-split_2024-05-03-18-13\\test True\n",
      "Number of identities: 95\n",
      "Number of gallery images: 1504\n",
      "Number of query images: 430\n"
     ]
    },
    {
     "name": "stderr",
     "output_type": "stream",
     "text": [
      "100%|██████████| 1504/1504 [01:16<00:00, 19.58it/s]\n",
      "100%|██████████| 430/430 [00:21<00:00, 19.55it/s]\n"
     ]
    },
    {
     "name": "stdout",
     "output_type": "stream",
     "text": [
      "\n",
      "Computed mAP:\n",
      "mAP@1: 0.8256\n",
      "mAP@5: 0.9442\n",
      "mAP@10: 0.9698\n",
      "mAP@15: 0.9744\n",
      "mAP@20: 0.9837\n",
      "23|347 - Other_species_sea-star-re-id-full_event-unaware_training-split_2024-05-03-18-13__2024-05-07-19-26-45__1__densenet121__PT-True - Other_species_sea-star-re-id-full_event-unaware_training-split_2024-05-03-18-13\n",
      "Gallery dataset path: ..\\..\\data\\Other_species_sea-star-re-id-full_event-unaware_training-split_2024-05-03-18-13\\train True\n",
      "Query dataset path: ..\\..\\data\\Other_species_sea-star-re-id-full_event-unaware_training-split_2024-05-03-18-13\\test True\n",
      "Number of identities: 95\n",
      "Number of gallery images: 1504\n",
      "Number of query images: 430\n"
     ]
    },
    {
     "name": "stderr",
     "output_type": "stream",
     "text": [
      "100%|██████████| 1504/1504 [01:16<00:00, 19.60it/s]\n",
      "100%|██████████| 430/430 [00:22<00:00, 19.47it/s]\n"
     ]
    },
    {
     "name": "stdout",
     "output_type": "stream",
     "text": [
      "\n",
      "Computed mAP:\n",
      "mAP@1: 0.8581\n",
      "mAP@5: 0.9465\n",
      "mAP@10: 0.9674\n",
      "mAP@15: 0.9767\n",
      "mAP@20: 0.9791\n",
      "24|347 - Other_species_sea-star-re-id-full_event-unaware_training-split_2024-05-03-18-13__2024-05-07-19-38-37__0__densenet121__PT-True - Other_species_sea-star-re-id-full_event-unaware_training-split_2024-05-03-18-13\n",
      "Gallery dataset path: ..\\..\\data\\Other_species_sea-star-re-id-full_event-unaware_training-split_2024-05-03-18-13\\train True\n",
      "Query dataset path: ..\\..\\data\\Other_species_sea-star-re-id-full_event-unaware_training-split_2024-05-03-18-13\\test True\n",
      "Number of identities: 95\n",
      "Number of gallery images: 1504\n",
      "Number of query images: 430\n"
     ]
    },
    {
     "name": "stderr",
     "output_type": "stream",
     "text": [
      "100%|██████████| 1504/1504 [01:16<00:00, 19.79it/s]\n",
      "100%|██████████| 430/430 [00:22<00:00, 19.51it/s]\n"
     ]
    },
    {
     "name": "stdout",
     "output_type": "stream",
     "text": [
      "\n",
      "Computed mAP:\n",
      "mAP@1: 0.8326\n",
      "mAP@5: 0.9488\n",
      "mAP@10: 0.9744\n",
      "mAP@15: 0.9791\n",
      "mAP@20: 0.9884\n",
      "25|347 - Other_species_sea-star-re-id-full_event-unaware_training-split_2024-05-03-18-13__2024-05-07-19-38-37__1__densenet121__PT-True - Other_species_sea-star-re-id-full_event-unaware_training-split_2024-05-03-18-13\n",
      "Gallery dataset path: ..\\..\\data\\Other_species_sea-star-re-id-full_event-unaware_training-split_2024-05-03-18-13\\train True\n",
      "Query dataset path: ..\\..\\data\\Other_species_sea-star-re-id-full_event-unaware_training-split_2024-05-03-18-13\\test True\n",
      "Number of identities: 95\n",
      "Number of gallery images: 1504\n",
      "Number of query images: 430\n"
     ]
    },
    {
     "name": "stderr",
     "output_type": "stream",
     "text": [
      "100%|██████████| 1504/1504 [01:16<00:00, 19.58it/s]\n",
      "100%|██████████| 430/430 [00:22<00:00, 19.53it/s]\n"
     ]
    },
    {
     "name": "stdout",
     "output_type": "stream",
     "text": [
      "\n",
      "Computed mAP:\n",
      "mAP@1: 0.8442\n",
      "mAP@5: 0.9512\n",
      "mAP@10: 0.9791\n",
      "mAP@15: 0.9814\n",
      "mAP@20: 0.9837\n",
      "26|347 - Other_species_sea-star-re-id-full_event-unaware_training-split_2024-05-03-18-13__2024-05-07-19-50-54__0__densenet121__PT-True - Other_species_sea-star-re-id-full_event-unaware_training-split_2024-05-03-18-13\n",
      "Gallery dataset path: ..\\..\\data\\Other_species_sea-star-re-id-full_event-unaware_training-split_2024-05-03-18-13\\train True\n",
      "Query dataset path: ..\\..\\data\\Other_species_sea-star-re-id-full_event-unaware_training-split_2024-05-03-18-13\\test True\n",
      "Number of identities: 95\n",
      "Number of gallery images: 1504\n",
      "Number of query images: 430\n"
     ]
    },
    {
     "name": "stderr",
     "output_type": "stream",
     "text": [
      "100%|██████████| 1504/1504 [01:16<00:00, 19.59it/s]\n",
      "100%|██████████| 430/430 [00:21<00:00, 19.68it/s]\n"
     ]
    },
    {
     "name": "stdout",
     "output_type": "stream",
     "text": [
      "\n",
      "Computed mAP:\n",
      "mAP@1: 0.8163\n",
      "mAP@5: 0.9512\n",
      "mAP@10: 0.9674\n",
      "mAP@15: 0.9837\n",
      "mAP@20: 0.9884\n",
      "27|347 - Other_species_sea-star-re-id-full_event-unaware_training-split_2024-05-03-18-13__2024-05-07-19-50-54__1__densenet121__PT-True - Other_species_sea-star-re-id-full_event-unaware_training-split_2024-05-03-18-13\n",
      "Gallery dataset path: ..\\..\\data\\Other_species_sea-star-re-id-full_event-unaware_training-split_2024-05-03-18-13\\train True\n",
      "Query dataset path: ..\\..\\data\\Other_species_sea-star-re-id-full_event-unaware_training-split_2024-05-03-18-13\\test True\n",
      "Number of identities: 95\n",
      "Number of gallery images: 1504\n",
      "Number of query images: 430\n"
     ]
    },
    {
     "name": "stderr",
     "output_type": "stream",
     "text": [
      "100%|██████████| 1504/1504 [01:15<00:00, 19.87it/s]\n",
      "100%|██████████| 430/430 [00:21<00:00, 19.79it/s]\n"
     ]
    },
    {
     "name": "stdout",
     "output_type": "stream",
     "text": [
      "\n",
      "Computed mAP:\n",
      "mAP@1: 0.8535\n",
      "mAP@5: 0.9651\n",
      "mAP@10: 0.9791\n",
      "mAP@15: 0.9837\n",
      "mAP@20: 0.9837\n",
      "28|347 - Other_species_sea-star-re-id-full_event-unaware_training-split_2024-05-03-18-13__2024-05-07-21-45-26__0__densenet121__PT-True - Other_species_sea-star-re-id-full_event-unaware_training-split_2024-05-03-18-13\n",
      "Gallery dataset path: ..\\..\\data\\Other_species_sea-star-re-id-full_event-unaware_training-split_2024-05-03-18-13\\train True\n",
      "Query dataset path: ..\\..\\data\\Other_species_sea-star-re-id-full_event-unaware_training-split_2024-05-03-18-13\\test True\n",
      "Number of identities: 95\n",
      "Number of gallery images: 1504\n",
      "Number of query images: 430\n"
     ]
    },
    {
     "name": "stderr",
     "output_type": "stream",
     "text": [
      "100%|██████████| 1504/1504 [01:16<00:00, 19.63it/s]\n",
      "100%|██████████| 430/430 [00:21<00:00, 19.64it/s]\n"
     ]
    },
    {
     "name": "stdout",
     "output_type": "stream",
     "text": [
      "\n",
      "Computed mAP:\n",
      "mAP@1: 0.7907\n",
      "mAP@5: 0.9140\n",
      "mAP@10: 0.9488\n",
      "mAP@15: 0.9721\n",
      "mAP@20: 0.9791\n",
      "29|347 - Other_species_sea-star-re-id-full_event-unaware_training-split_2024-05-03-18-13__2024-05-07-21-45-26__1__densenet121__PT-True - Other_species_sea-star-re-id-full_event-unaware_training-split_2024-05-03-18-13\n",
      "Gallery dataset path: ..\\..\\data\\Other_species_sea-star-re-id-full_event-unaware_training-split_2024-05-03-18-13\\train True\n",
      "Query dataset path: ..\\..\\data\\Other_species_sea-star-re-id-full_event-unaware_training-split_2024-05-03-18-13\\test True\n",
      "Number of identities: 95\n",
      "Number of gallery images: 1504\n",
      "Number of query images: 430\n"
     ]
    },
    {
     "name": "stderr",
     "output_type": "stream",
     "text": [
      "100%|██████████| 1504/1504 [01:16<00:00, 19.59it/s]\n",
      "100%|██████████| 430/430 [00:21<00:00, 19.65it/s]\n"
     ]
    },
    {
     "name": "stdout",
     "output_type": "stream",
     "text": [
      "\n",
      "Computed mAP:\n",
      "mAP@1: 0.8605\n",
      "mAP@5: 0.9372\n",
      "mAP@10: 0.9721\n",
      "mAP@15: 0.9837\n",
      "mAP@20: 0.9884\n",
      "30|347 - Other_species_sea-star-re-id-full_event-unaware_training-split_2024-05-03-18-13__2024-05-08-02-44-13__0__densenet121__PT-True - Other_species_sea-star-re-id-full_event-unaware_training-split_2024-05-03-18-13\n",
      "Gallery dataset path: ..\\..\\data\\Other_species_sea-star-re-id-full_event-unaware_training-split_2024-05-03-18-13\\train True\n",
      "Query dataset path: ..\\..\\data\\Other_species_sea-star-re-id-full_event-unaware_training-split_2024-05-03-18-13\\test True\n",
      "Number of identities: 95\n",
      "Number of gallery images: 1504\n",
      "Number of query images: 430\n"
     ]
    },
    {
     "name": "stderr",
     "output_type": "stream",
     "text": [
      "100%|██████████| 1504/1504 [01:16<00:00, 19.64it/s]\n",
      "100%|██████████| 430/430 [00:21<00:00, 19.60it/s]\n"
     ]
    },
    {
     "name": "stdout",
     "output_type": "stream",
     "text": [
      "\n",
      "Computed mAP:\n",
      "mAP@1: 0.8256\n",
      "mAP@5: 0.9419\n",
      "mAP@10: 0.9698\n",
      "mAP@15: 0.9791\n",
      "mAP@20: 0.9837\n",
      "31|347 - Other_species_sea-star-re-id-full_event-unaware_training-split_2024-05-03-18-13__2024-05-08-02-44-13__1__densenet121__PT-True - Other_species_sea-star-re-id-full_event-unaware_training-split_2024-05-03-18-13\n",
      "Gallery dataset path: ..\\..\\data\\Other_species_sea-star-re-id-full_event-unaware_training-split_2024-05-03-18-13\\train True\n",
      "Query dataset path: ..\\..\\data\\Other_species_sea-star-re-id-full_event-unaware_training-split_2024-05-03-18-13\\test True\n",
      "Number of identities: 95\n",
      "Number of gallery images: 1504\n",
      "Number of query images: 430\n"
     ]
    },
    {
     "name": "stderr",
     "output_type": "stream",
     "text": [
      "100%|██████████| 1504/1504 [01:16<00:00, 19.74it/s]\n",
      "100%|██████████| 430/430 [00:22<00:00, 19.50it/s]\n"
     ]
    },
    {
     "name": "stdout",
     "output_type": "stream",
     "text": [
      "\n",
      "Computed mAP:\n",
      "mAP@1: 0.8558\n",
      "mAP@5: 0.9581\n",
      "mAP@10: 0.9814\n",
      "mAP@15: 0.9907\n",
      "mAP@20: 0.9953\n",
      "32|347 - Other_species_sea-star-re-id-full_event-unaware_training-split_2024-05-03-18-13__2024-05-08-06-43-15__0__densenet121__PT-True - Other_species_sea-star-re-id-full_event-unaware_training-split_2024-05-03-18-13\n",
      "Gallery dataset path: ..\\..\\data\\Other_species_sea-star-re-id-full_event-unaware_training-split_2024-05-03-18-13\\train True\n",
      "Query dataset path: ..\\..\\data\\Other_species_sea-star-re-id-full_event-unaware_training-split_2024-05-03-18-13\\test True\n",
      "Number of identities: 95\n",
      "Number of gallery images: 1504\n",
      "Number of query images: 430\n"
     ]
    },
    {
     "name": "stderr",
     "output_type": "stream",
     "text": [
      "100%|██████████| 1504/1504 [01:17<00:00, 19.51it/s]\n",
      "100%|██████████| 430/430 [00:22<00:00, 19.45it/s]\n"
     ]
    },
    {
     "name": "stdout",
     "output_type": "stream",
     "text": [
      "\n",
      "Computed mAP:\n",
      "mAP@1: 0.7837\n",
      "mAP@5: 0.9256\n",
      "mAP@10: 0.9581\n",
      "mAP@15: 0.9744\n",
      "mAP@20: 0.9767\n",
      "33|347 - Other_species_sea-star-re-id-full_event-unaware_training-split_2024-05-03-18-13__2024-05-08-06-43-15__1__densenet121__PT-True - Other_species_sea-star-re-id-full_event-unaware_training-split_2024-05-03-18-13\n",
      "Gallery dataset path: ..\\..\\data\\Other_species_sea-star-re-id-full_event-unaware_training-split_2024-05-03-18-13\\train True\n",
      "Query dataset path: ..\\..\\data\\Other_species_sea-star-re-id-full_event-unaware_training-split_2024-05-03-18-13\\test True\n",
      "Number of identities: 95\n",
      "Number of gallery images: 1504\n",
      "Number of query images: 430\n"
     ]
    },
    {
     "name": "stderr",
     "output_type": "stream",
     "text": [
      "100%|██████████| 1504/1504 [01:16<00:00, 19.57it/s]\n",
      "100%|██████████| 430/430 [00:21<00:00, 19.67it/s]\n"
     ]
    },
    {
     "name": "stdout",
     "output_type": "stream",
     "text": [
      "\n",
      "Computed mAP:\n",
      "mAP@1: 0.8512\n",
      "mAP@5: 0.9465\n",
      "mAP@10: 0.9628\n",
      "mAP@15: 0.9814\n",
      "mAP@20: 0.9860\n",
      "34|347 - Other_species_sea-star-re-id-full_event-unaware_training-split_2024-05-03-18-13__2024-05-08-11-03-24__0__densenet121__PT-True - Other_species_sea-star-re-id-full_event-unaware_training-split_2024-05-03-18-13\n",
      "Gallery dataset path: ..\\..\\data\\Other_species_sea-star-re-id-full_event-unaware_training-split_2024-05-03-18-13\\train True\n",
      "Query dataset path: ..\\..\\data\\Other_species_sea-star-re-id-full_event-unaware_training-split_2024-05-03-18-13\\test True\n",
      "Number of identities: 95\n",
      "Number of gallery images: 1504\n",
      "Number of query images: 430\n"
     ]
    },
    {
     "name": "stderr",
     "output_type": "stream",
     "text": [
      "100%|██████████| 1504/1504 [01:16<00:00, 19.78it/s]\n",
      "100%|██████████| 430/430 [00:20<00:00, 20.55it/s]\n"
     ]
    },
    {
     "name": "stdout",
     "output_type": "stream",
     "text": [
      "\n",
      "Computed mAP:\n",
      "mAP@1: 0.7860\n",
      "mAP@5: 0.9233\n",
      "mAP@10: 0.9581\n",
      "mAP@15: 0.9744\n",
      "mAP@20: 0.9767\n",
      "35|347 - Other_species_sea-star-re-id-full_event-unaware_training-split_2024-05-03-18-13__2024-05-08-11-03-24__1__densenet121__PT-True - Other_species_sea-star-re-id-full_event-unaware_training-split_2024-05-03-18-13\n",
      "Gallery dataset path: ..\\..\\data\\Other_species_sea-star-re-id-full_event-unaware_training-split_2024-05-03-18-13\\train True\n",
      "Query dataset path: ..\\..\\data\\Other_species_sea-star-re-id-full_event-unaware_training-split_2024-05-03-18-13\\test True\n",
      "Number of identities: 95\n",
      "Number of gallery images: 1504\n",
      "Number of query images: 430\n"
     ]
    },
    {
     "name": "stderr",
     "output_type": "stream",
     "text": [
      "100%|██████████| 1504/1504 [01:16<00:00, 19.58it/s]\n",
      "100%|██████████| 430/430 [00:21<00:00, 19.62it/s]\n"
     ]
    },
    {
     "name": "stdout",
     "output_type": "stream",
     "text": [
      "\n",
      "Computed mAP:\n",
      "mAP@1: 0.8814\n",
      "mAP@5: 0.9535\n",
      "mAP@10: 0.9744\n",
      "mAP@15: 0.9860\n",
      "mAP@20: 0.9884\n",
      "36|347 - Other_species_sea-star-re-id-full_event-unaware_training-split_2024-05-03-18-13__2024-05-08-15-34-20__0__densenet121__PT-True - Other_species_sea-star-re-id-full_event-unaware_training-split_2024-05-03-18-13\n",
      "Gallery dataset path: ..\\..\\data\\Other_species_sea-star-re-id-full_event-unaware_training-split_2024-05-03-18-13\\train True\n",
      "Query dataset path: ..\\..\\data\\Other_species_sea-star-re-id-full_event-unaware_training-split_2024-05-03-18-13\\test True\n",
      "Number of identities: 95\n",
      "Number of gallery images: 1504\n",
      "Number of query images: 430\n"
     ]
    },
    {
     "name": "stderr",
     "output_type": "stream",
     "text": [
      "100%|██████████| 1504/1504 [01:16<00:00, 19.56it/s]\n",
      "100%|██████████| 430/430 [00:22<00:00, 19.51it/s]\n"
     ]
    },
    {
     "name": "stdout",
     "output_type": "stream",
     "text": [
      "\n",
      "Computed mAP:\n",
      "mAP@1: 0.8000\n",
      "mAP@5: 0.9372\n",
      "mAP@10: 0.9628\n",
      "mAP@15: 0.9791\n",
      "mAP@20: 0.9860\n",
      "37|347 - Other_species_sea-star-re-id-full_event-unaware_training-split_2024-05-03-18-13__2024-05-08-15-34-20__1__densenet121__PT-True - Other_species_sea-star-re-id-full_event-unaware_training-split_2024-05-03-18-13\n",
      "Gallery dataset path: ..\\..\\data\\Other_species_sea-star-re-id-full_event-unaware_training-split_2024-05-03-18-13\\train True\n",
      "Query dataset path: ..\\..\\data\\Other_species_sea-star-re-id-full_event-unaware_training-split_2024-05-03-18-13\\test True\n",
      "Number of identities: 95\n",
      "Number of gallery images: 1504\n",
      "Number of query images: 430\n"
     ]
    },
    {
     "name": "stderr",
     "output_type": "stream",
     "text": [
      "100%|██████████| 1504/1504 [01:16<00:00, 19.65it/s]\n",
      "100%|██████████| 430/430 [00:22<00:00, 19.46it/s]\n"
     ]
    },
    {
     "name": "stdout",
     "output_type": "stream",
     "text": [
      "\n",
      "Computed mAP:\n",
      "mAP@1: 0.8628\n",
      "mAP@5: 0.9605\n",
      "mAP@10: 0.9767\n",
      "mAP@15: 0.9814\n",
      "mAP@20: 0.9860\n",
      "38|347 - Other_species_sea-star-re-id-full_event-unaware_training-split_2024-05-03-18-13__2024-05-08-20-01-39__0__densenet121__PT-True - Other_species_sea-star-re-id-full_event-unaware_training-split_2024-05-03-18-13\n",
      "Gallery dataset path: ..\\..\\data\\Other_species_sea-star-re-id-full_event-unaware_training-split_2024-05-03-18-13\\train True\n",
      "Query dataset path: ..\\..\\data\\Other_species_sea-star-re-id-full_event-unaware_training-split_2024-05-03-18-13\\test True\n",
      "Number of identities: 95\n",
      "Number of gallery images: 1504\n",
      "Number of query images: 430\n"
     ]
    },
    {
     "name": "stderr",
     "output_type": "stream",
     "text": [
      "100%|██████████| 1504/1504 [01:15<00:00, 19.85it/s]\n",
      "100%|██████████| 430/430 [00:21<00:00, 19.65it/s]\n"
     ]
    },
    {
     "name": "stdout",
     "output_type": "stream",
     "text": [
      "\n",
      "Computed mAP:\n",
      "mAP@1: 0.8186\n",
      "mAP@5: 0.9465\n",
      "mAP@10: 0.9744\n",
      "mAP@15: 0.9814\n",
      "mAP@20: 0.9907\n",
      "39|347 - Other_species_sea-star-re-id-full_event-unaware_training-split_2024-05-03-18-13__2024-05-08-20-01-39__1__densenet121__PT-True - Other_species_sea-star-re-id-full_event-unaware_training-split_2024-05-03-18-13\n",
      "Gallery dataset path: ..\\..\\data\\Other_species_sea-star-re-id-full_event-unaware_training-split_2024-05-03-18-13\\train True\n",
      "Query dataset path: ..\\..\\data\\Other_species_sea-star-re-id-full_event-unaware_training-split_2024-05-03-18-13\\test True\n",
      "Number of identities: 95\n",
      "Number of gallery images: 1504\n",
      "Number of query images: 430\n"
     ]
    },
    {
     "name": "stderr",
     "output_type": "stream",
     "text": [
      "100%|██████████| 1504/1504 [01:16<00:00, 19.54it/s]\n",
      "100%|██████████| 430/430 [00:21<00:00, 19.63it/s]\n"
     ]
    },
    {
     "name": "stdout",
     "output_type": "stream",
     "text": [
      "\n",
      "Computed mAP:\n",
      "mAP@1: 0.8605\n",
      "mAP@5: 0.9605\n",
      "mAP@10: 0.9791\n",
      "mAP@15: 0.9791\n",
      "mAP@20: 0.9860\n",
      "40|347 - Other_species_sea-star-re-id-full_event-unaware_training-split_2024-05-03-18-20__2024-05-05-20-17-28__1__densenet121__PT-True - Other_species_sea-star-re-id-full_event-unaware_training-split_2024-05-03-18-20\n",
      "Gallery dataset path: ..\\..\\data\\Other_species_sea-star-re-id-full_event-unaware_training-split_2024-05-03-18-20\\train True\n",
      "Query dataset path: ..\\..\\data\\Other_species_sea-star-re-id-full_event-unaware_training-split_2024-05-03-18-20\\test True\n",
      "Number of identities: 95\n",
      "Number of gallery images: 1499\n",
      "Number of query images: 435\n"
     ]
    },
    {
     "name": "stderr",
     "output_type": "stream",
     "text": [
      "100%|██████████| 1499/1499 [01:16<00:00, 19.69it/s]\n",
      "100%|██████████| 435/435 [00:22<00:00, 19.66it/s]\n"
     ]
    },
    {
     "name": "stdout",
     "output_type": "stream",
     "text": [
      "\n",
      "Computed mAP:\n",
      "mAP@1: 0.7793\n",
      "mAP@5: 0.9195\n",
      "mAP@10: 0.9517\n",
      "mAP@15: 0.9678\n",
      "mAP@20: 0.9816\n",
      "41|347 - Other_species_sea-star-re-id-full_event-unaware_training-split_2024-05-03-18-20__2024-05-05-20-19-38__0__densenet121__PT-True - Other_species_sea-star-re-id-full_event-unaware_training-split_2024-05-03-18-20\n",
      "Gallery dataset path: ..\\..\\data\\Other_species_sea-star-re-id-full_event-unaware_training-split_2024-05-03-18-20\\train True\n",
      "Query dataset path: ..\\..\\data\\Other_species_sea-star-re-id-full_event-unaware_training-split_2024-05-03-18-20\\test True\n",
      "Number of identities: 95\n",
      "Number of gallery images: 1499\n",
      "Number of query images: 435\n"
     ]
    },
    {
     "name": "stderr",
     "output_type": "stream",
     "text": [
      "100%|██████████| 1499/1499 [01:16<00:00, 19.69it/s]\n",
      "100%|██████████| 435/435 [00:20<00:00, 21.38it/s]\n"
     ]
    },
    {
     "name": "stdout",
     "output_type": "stream",
     "text": [
      "\n",
      "Computed mAP:\n",
      "mAP@1: 0.8092\n",
      "mAP@5: 0.9241\n",
      "mAP@10: 0.9678\n",
      "mAP@15: 0.9839\n",
      "mAP@20: 0.9862\n",
      "42|347 - Other_species_sea-star-re-id-full_event-unaware_training-split_2024-05-03-18-20__2024-05-06-02-13-47__1__densenet121__PT-True - Other_species_sea-star-re-id-full_event-unaware_training-split_2024-05-03-18-20\n",
      "Gallery dataset path: ..\\..\\data\\Other_species_sea-star-re-id-full_event-unaware_training-split_2024-05-03-18-20\\train True\n",
      "Query dataset path: ..\\..\\data\\Other_species_sea-star-re-id-full_event-unaware_training-split_2024-05-03-18-20\\test True\n",
      "Number of identities: 95\n",
      "Number of gallery images: 1499\n",
      "Number of query images: 435\n"
     ]
    },
    {
     "name": "stderr",
     "output_type": "stream",
     "text": [
      "100%|██████████| 1499/1499 [01:16<00:00, 19.63it/s]\n",
      "100%|██████████| 435/435 [00:22<00:00, 19.73it/s]\n"
     ]
    },
    {
     "name": "stdout",
     "output_type": "stream",
     "text": [
      "\n",
      "Computed mAP:\n",
      "mAP@1: 0.6897\n",
      "mAP@5: 0.8713\n",
      "mAP@10: 0.9172\n",
      "mAP@15: 0.9471\n",
      "mAP@20: 0.9655\n",
      "43|347 - Other_species_sea-star-re-id-full_event-unaware_training-split_2024-05-03-18-20__2024-05-06-02-14-19__0__densenet121__PT-True - Other_species_sea-star-re-id-full_event-unaware_training-split_2024-05-03-18-20\n",
      "Gallery dataset path: ..\\..\\data\\Other_species_sea-star-re-id-full_event-unaware_training-split_2024-05-03-18-20\\train True\n",
      "Query dataset path: ..\\..\\data\\Other_species_sea-star-re-id-full_event-unaware_training-split_2024-05-03-18-20\\test True\n",
      "Number of identities: 95\n",
      "Number of gallery images: 1499\n",
      "Number of query images: 435\n"
     ]
    },
    {
     "name": "stderr",
     "output_type": "stream",
     "text": [
      "100%|██████████| 1499/1499 [01:16<00:00, 19.71it/s]\n",
      "100%|██████████| 435/435 [00:22<00:00, 19.65it/s]\n"
     ]
    },
    {
     "name": "stdout",
     "output_type": "stream",
     "text": [
      "\n",
      "Computed mAP:\n",
      "mAP@1: 0.7149\n",
      "mAP@5: 0.8920\n",
      "mAP@10: 0.9448\n",
      "mAP@15: 0.9609\n",
      "mAP@20: 0.9678\n",
      "44|347 - Other_species_sea-star-re-id-full_event-unaware_training-split_2024-05-03-18-20__2024-05-06-07-26-25__1__densenet121__PT-True - Other_species_sea-star-re-id-full_event-unaware_training-split_2024-05-03-18-20\n",
      "Gallery dataset path: ..\\..\\data\\Other_species_sea-star-re-id-full_event-unaware_training-split_2024-05-03-18-20\\train True\n",
      "Query dataset path: ..\\..\\data\\Other_species_sea-star-re-id-full_event-unaware_training-split_2024-05-03-18-20\\test True\n",
      "Number of identities: 95\n",
      "Number of gallery images: 1499\n",
      "Number of query images: 435\n"
     ]
    },
    {
     "name": "stderr",
     "output_type": "stream",
     "text": [
      "100%|██████████| 1499/1499 [01:16<00:00, 19.71it/s]\n",
      "100%|██████████| 435/435 [00:22<00:00, 19.74it/s]\n"
     ]
    },
    {
     "name": "stdout",
     "output_type": "stream",
     "text": [
      "\n",
      "Computed mAP:\n",
      "mAP@1: 0.6690\n",
      "mAP@5: 0.8506\n",
      "mAP@10: 0.9057\n",
      "mAP@15: 0.9310\n",
      "mAP@20: 0.9425\n",
      "45|347 - Other_species_sea-star-re-id-full_event-unaware_training-split_2024-05-03-18-20__2024-05-06-07-26-55__0__densenet121__PT-True - Other_species_sea-star-re-id-full_event-unaware_training-split_2024-05-03-18-20\n",
      "Gallery dataset path: ..\\..\\data\\Other_species_sea-star-re-id-full_event-unaware_training-split_2024-05-03-18-20\\train True\n",
      "Query dataset path: ..\\..\\data\\Other_species_sea-star-re-id-full_event-unaware_training-split_2024-05-03-18-20\\test True\n",
      "Number of identities: 95\n",
      "Number of gallery images: 1499\n",
      "Number of query images: 435\n"
     ]
    },
    {
     "name": "stderr",
     "output_type": "stream",
     "text": [
      "100%|██████████| 1499/1499 [01:15<00:00, 19.84it/s]\n",
      "100%|██████████| 435/435 [00:22<00:00, 19.51it/s]\n"
     ]
    },
    {
     "name": "stdout",
     "output_type": "stream",
     "text": [
      "\n",
      "Computed mAP:\n",
      "mAP@1: 0.6943\n",
      "mAP@5: 0.9034\n",
      "mAP@10: 0.9287\n",
      "mAP@15: 0.9609\n",
      "mAP@20: 0.9678\n",
      "46|347 - Other_species_sea-star-re-id-full_event-unaware_training-split_2024-05-03-18-20__2024-05-06-13-09-03__1__densenet121__PT-True - Other_species_sea-star-re-id-full_event-unaware_training-split_2024-05-03-18-20\n",
      "Gallery dataset path: ..\\..\\data\\Other_species_sea-star-re-id-full_event-unaware_training-split_2024-05-03-18-20\\train True\n",
      "Query dataset path: ..\\..\\data\\Other_species_sea-star-re-id-full_event-unaware_training-split_2024-05-03-18-20\\test True\n",
      "Number of identities: 95\n",
      "Number of gallery images: 1499\n",
      "Number of query images: 435\n"
     ]
    },
    {
     "name": "stderr",
     "output_type": "stream",
     "text": [
      "100%|██████████| 1499/1499 [01:16<00:00, 19.63it/s]\n",
      "100%|██████████| 435/435 [00:22<00:00, 19.48it/s]\n"
     ]
    },
    {
     "name": "stdout",
     "output_type": "stream",
     "text": [
      "\n",
      "Computed mAP:\n",
      "mAP@1: 0.8529\n",
      "mAP@5: 0.9402\n",
      "mAP@10: 0.9724\n",
      "mAP@15: 0.9793\n",
      "mAP@20: 0.9908\n",
      "47|347 - Other_species_sea-star-re-id-full_event-unaware_training-split_2024-05-03-18-20__2024-05-06-13-11-08__0__densenet121__PT-True - Other_species_sea-star-re-id-full_event-unaware_training-split_2024-05-03-18-20\n",
      "Gallery dataset path: ..\\..\\data\\Other_species_sea-star-re-id-full_event-unaware_training-split_2024-05-03-18-20\\train True\n",
      "Query dataset path: ..\\..\\data\\Other_species_sea-star-re-id-full_event-unaware_training-split_2024-05-03-18-20\\test True\n",
      "Number of identities: 95\n",
      "Number of gallery images: 1499\n",
      "Number of query images: 435\n"
     ]
    },
    {
     "name": "stderr",
     "output_type": "stream",
     "text": [
      "100%|██████████| 1499/1499 [01:15<00:00, 19.74it/s]\n",
      "100%|██████████| 435/435 [00:22<00:00, 19.46it/s]\n"
     ]
    },
    {
     "name": "stdout",
     "output_type": "stream",
     "text": [
      "\n",
      "Computed mAP:\n",
      "mAP@1: 0.8460\n",
      "mAP@5: 0.9494\n",
      "mAP@10: 0.9724\n",
      "mAP@15: 0.9885\n",
      "mAP@20: 0.9954\n",
      "48|347 - Other_species_sea-star-re-id-full_event-unaware_training-split_2024-05-03-18-20__2024-05-06-18-31-00__1__densenet121__PT-True - Other_species_sea-star-re-id-full_event-unaware_training-split_2024-05-03-18-20\n",
      "Gallery dataset path: ..\\..\\data\\Other_species_sea-star-re-id-full_event-unaware_training-split_2024-05-03-18-20\\train True\n",
      "Query dataset path: ..\\..\\data\\Other_species_sea-star-re-id-full_event-unaware_training-split_2024-05-03-18-20\\test True\n",
      "Number of identities: 95\n",
      "Number of gallery images: 1499\n",
      "Number of query images: 435\n"
     ]
    },
    {
     "name": "stderr",
     "output_type": "stream",
     "text": [
      "100%|██████████| 1499/1499 [01:16<00:00, 19.61it/s]\n",
      "100%|██████████| 435/435 [00:21<00:00, 19.92it/s]\n"
     ]
    },
    {
     "name": "stdout",
     "output_type": "stream",
     "text": [
      "\n",
      "Computed mAP:\n",
      "mAP@1: 0.7908\n",
      "mAP@5: 0.9195\n",
      "mAP@10: 0.9540\n",
      "mAP@15: 0.9678\n",
      "mAP@20: 0.9793\n",
      "49|347 - Other_species_sea-star-re-id-full_event-unaware_training-split_2024-05-03-18-20__2024-05-06-18-31-04__0__densenet121__PT-True - Other_species_sea-star-re-id-full_event-unaware_training-split_2024-05-03-18-20\n",
      "Gallery dataset path: ..\\..\\data\\Other_species_sea-star-re-id-full_event-unaware_training-split_2024-05-03-18-20\\train True\n",
      "Query dataset path: ..\\..\\data\\Other_species_sea-star-re-id-full_event-unaware_training-split_2024-05-03-18-20\\test True\n",
      "Number of identities: 95\n",
      "Number of gallery images: 1499\n",
      "Number of query images: 435\n"
     ]
    },
    {
     "name": "stderr",
     "output_type": "stream",
     "text": [
      "100%|██████████| 1499/1499 [01:15<00:00, 19.91it/s]\n",
      "100%|██████████| 435/435 [00:22<00:00, 19.57it/s]\n"
     ]
    },
    {
     "name": "stdout",
     "output_type": "stream",
     "text": [
      "\n",
      "Computed mAP:\n",
      "mAP@1: 0.8184\n",
      "mAP@5: 0.9425\n",
      "mAP@10: 0.9701\n",
      "mAP@15: 0.9793\n",
      "mAP@20: 0.9839\n",
      "50|347 - Other_species_sea-star-re-id-full_event-unaware_training-split_2024-05-03-18-20__2024-05-06-23-50-45__0__densenet121__PT-True - Other_species_sea-star-re-id-full_event-unaware_training-split_2024-05-03-18-20\n",
      "Gallery dataset path: ..\\..\\data\\Other_species_sea-star-re-id-full_event-unaware_training-split_2024-05-03-18-20\\train True\n",
      "Query dataset path: ..\\..\\data\\Other_species_sea-star-re-id-full_event-unaware_training-split_2024-05-03-18-20\\test True\n",
      "Number of identities: 95\n",
      "Number of gallery images: 1499\n",
      "Number of query images: 435\n"
     ]
    },
    {
     "name": "stderr",
     "output_type": "stream",
     "text": [
      "100%|██████████| 1499/1499 [01:16<00:00, 19.55it/s]\n",
      "100%|██████████| 435/435 [00:22<00:00, 19.60it/s]\n"
     ]
    },
    {
     "name": "stdout",
     "output_type": "stream",
     "text": [
      "\n",
      "Computed mAP:\n",
      "mAP@1: 0.8299\n",
      "mAP@5: 0.9356\n",
      "mAP@10: 0.9563\n",
      "mAP@15: 0.9793\n",
      "mAP@20: 0.9839\n",
      "51|347 - Other_species_sea-star-re-id-full_event-unaware_training-split_2024-05-03-18-20__2024-05-06-23-50-56__1__densenet121__PT-True - Other_species_sea-star-re-id-full_event-unaware_training-split_2024-05-03-18-20\n",
      "Gallery dataset path: ..\\..\\data\\Other_species_sea-star-re-id-full_event-unaware_training-split_2024-05-03-18-20\\train True\n",
      "Query dataset path: ..\\..\\data\\Other_species_sea-star-re-id-full_event-unaware_training-split_2024-05-03-18-20\\test True\n",
      "Number of identities: 95\n",
      "Number of gallery images: 1499\n",
      "Number of query images: 435\n"
     ]
    },
    {
     "name": "stderr",
     "output_type": "stream",
     "text": [
      "100%|██████████| 1499/1499 [01:16<00:00, 19.61it/s]\n",
      "100%|██████████| 435/435 [00:22<00:00, 19.55it/s]\n"
     ]
    },
    {
     "name": "stdout",
     "output_type": "stream",
     "text": [
      "\n",
      "Computed mAP:\n",
      "mAP@1: 0.7494\n",
      "mAP@5: 0.9034\n",
      "mAP@10: 0.9471\n",
      "mAP@15: 0.9609\n",
      "mAP@20: 0.9701\n",
      "52|347 - Other_species_sea-star-re-id-full_event-unaware_training-split_2024-05-03-18-20__2024-05-07-05-35-21__1__densenet121__PT-True - Other_species_sea-star-re-id-full_event-unaware_training-split_2024-05-03-18-20\n",
      "Gallery dataset path: ..\\..\\data\\Other_species_sea-star-re-id-full_event-unaware_training-split_2024-05-03-18-20\\train True\n",
      "Query dataset path: ..\\..\\data\\Other_species_sea-star-re-id-full_event-unaware_training-split_2024-05-03-18-20\\test True\n",
      "Number of identities: 95\n",
      "Number of gallery images: 1499\n",
      "Number of query images: 435\n"
     ]
    },
    {
     "name": "stderr",
     "output_type": "stream",
     "text": [
      "100%|██████████| 1499/1499 [01:15<00:00, 19.86it/s]\n",
      "100%|██████████| 435/435 [00:22<00:00, 19.71it/s]\n"
     ]
    },
    {
     "name": "stdout",
     "output_type": "stream",
     "text": [
      "\n",
      "Computed mAP:\n",
      "mAP@1: 0.8690\n",
      "mAP@5: 0.9471\n",
      "mAP@10: 0.9747\n",
      "mAP@15: 0.9839\n",
      "mAP@20: 0.9839\n",
      "53|347 - Other_species_sea-star-re-id-full_event-unaware_training-split_2024-05-03-18-20__2024-05-07-05-39-21__0__densenet121__PT-True - Other_species_sea-star-re-id-full_event-unaware_training-split_2024-05-03-18-20\n",
      "Gallery dataset path: ..\\..\\data\\Other_species_sea-star-re-id-full_event-unaware_training-split_2024-05-03-18-20\\train True\n",
      "Query dataset path: ..\\..\\data\\Other_species_sea-star-re-id-full_event-unaware_training-split_2024-05-03-18-20\\test True\n",
      "Number of identities: 95\n",
      "Number of gallery images: 1499\n",
      "Number of query images: 435\n"
     ]
    },
    {
     "name": "stderr",
     "output_type": "stream",
     "text": [
      "100%|██████████| 1499/1499 [01:16<00:00, 19.70it/s]\n",
      "100%|██████████| 435/435 [00:22<00:00, 19.73it/s]\n"
     ]
    },
    {
     "name": "stdout",
     "output_type": "stream",
     "text": [
      "\n",
      "Computed mAP:\n",
      "mAP@1: 0.8736\n",
      "mAP@5: 0.9678\n",
      "mAP@10: 0.9862\n",
      "mAP@15: 0.9908\n",
      "mAP@20: 0.9908\n",
      "54|347 - Other_species_sea-star-re-id-full_event-unaware_training-split_2024-05-03-18-20__2024-05-07-12-13-10__1__densenet121__PT-True - Other_species_sea-star-re-id-full_event-unaware_training-split_2024-05-03-18-20\n",
      "Gallery dataset path: ..\\..\\data\\Other_species_sea-star-re-id-full_event-unaware_training-split_2024-05-03-18-20\\train True\n",
      "Query dataset path: ..\\..\\data\\Other_species_sea-star-re-id-full_event-unaware_training-split_2024-05-03-18-20\\test True\n",
      "Number of identities: 95\n",
      "Number of gallery images: 1499\n",
      "Number of query images: 435\n"
     ]
    },
    {
     "name": "stderr",
     "output_type": "stream",
     "text": [
      "100%|██████████| 1499/1499 [01:16<00:00, 19.65it/s]\n",
      "100%|██████████| 435/435 [00:22<00:00, 19.57it/s]\n"
     ]
    },
    {
     "name": "stdout",
     "output_type": "stream",
     "text": [
      "\n",
      "Computed mAP:\n",
      "mAP@1: 0.8414\n",
      "mAP@5: 0.9402\n",
      "mAP@10: 0.9724\n",
      "mAP@15: 0.9862\n",
      "mAP@20: 0.9885\n",
      "55|347 - Other_species_sea-star-re-id-full_event-unaware_training-split_2024-05-03-18-20__2024-05-07-12-14-35__0__densenet121__PT-True - Other_species_sea-star-re-id-full_event-unaware_training-split_2024-05-03-18-20\n",
      "Gallery dataset path: ..\\..\\data\\Other_species_sea-star-re-id-full_event-unaware_training-split_2024-05-03-18-20\\train True\n",
      "Query dataset path: ..\\..\\data\\Other_species_sea-star-re-id-full_event-unaware_training-split_2024-05-03-18-20\\test True\n",
      "Number of identities: 95\n",
      "Number of gallery images: 1499\n",
      "Number of query images: 435\n"
     ]
    },
    {
     "name": "stderr",
     "output_type": "stream",
     "text": [
      "100%|██████████| 1499/1499 [01:16<00:00, 19.60it/s]\n",
      "100%|██████████| 435/435 [00:22<00:00, 19.54it/s]\n"
     ]
    },
    {
     "name": "stdout",
     "output_type": "stream",
     "text": [
      "\n",
      "Computed mAP:\n",
      "mAP@1: 0.8552\n",
      "mAP@5: 0.9471\n",
      "mAP@10: 0.9747\n",
      "mAP@15: 0.9885\n",
      "mAP@20: 0.9931\n",
      "56|347 - Other_species_sea-star-re-id-full_event-unaware_training-split_2024-05-03-18-20__2024-05-07-21-57-38__1__densenet121__PT-True - Other_species_sea-star-re-id-full_event-unaware_training-split_2024-05-03-18-20\n",
      "Gallery dataset path: ..\\..\\data\\Other_species_sea-star-re-id-full_event-unaware_training-split_2024-05-03-18-20\\train True\n",
      "Query dataset path: ..\\..\\data\\Other_species_sea-star-re-id-full_event-unaware_training-split_2024-05-03-18-20\\test True\n",
      "Number of identities: 95\n",
      "Number of gallery images: 1499\n",
      "Number of query images: 435\n"
     ]
    },
    {
     "name": "stderr",
     "output_type": "stream",
     "text": [
      "100%|██████████| 1499/1499 [01:15<00:00, 19.88it/s]\n",
      "100%|██████████| 435/435 [00:22<00:00, 19.62it/s]\n"
     ]
    },
    {
     "name": "stdout",
     "output_type": "stream",
     "text": [
      "\n",
      "Computed mAP:\n",
      "mAP@1: 0.8414\n",
      "mAP@5: 0.9494\n",
      "mAP@10: 0.9747\n",
      "mAP@15: 0.9839\n",
      "mAP@20: 0.9885\n",
      "57|347 - Other_species_sea-star-re-id-full_event-unaware_training-split_2024-05-03-18-20__2024-05-07-21-58-52__0__densenet121__PT-True - Other_species_sea-star-re-id-full_event-unaware_training-split_2024-05-03-18-20\n",
      "Gallery dataset path: ..\\..\\data\\Other_species_sea-star-re-id-full_event-unaware_training-split_2024-05-03-18-20\\train True\n",
      "Query dataset path: ..\\..\\data\\Other_species_sea-star-re-id-full_event-unaware_training-split_2024-05-03-18-20\\test True\n",
      "Number of identities: 95\n",
      "Number of gallery images: 1499\n",
      "Number of query images: 435\n"
     ]
    },
    {
     "name": "stderr",
     "output_type": "stream",
     "text": [
      "100%|██████████| 1499/1499 [01:17<00:00, 19.34it/s]\n",
      "100%|██████████| 435/435 [00:22<00:00, 19.50it/s]\n"
     ]
    },
    {
     "name": "stdout",
     "output_type": "stream",
     "text": [
      "\n",
      "Computed mAP:\n",
      "mAP@1: 0.8092\n",
      "mAP@5: 0.9356\n",
      "mAP@10: 0.9632\n",
      "mAP@15: 0.9701\n",
      "mAP@20: 0.9770\n",
      "58|347 - Other_species_sea-star-re-id-full_event-unaware_training-split_2024-05-03-18-20__2024-05-08-02-54-53__1__densenet121__PT-True - Other_species_sea-star-re-id-full_event-unaware_training-split_2024-05-03-18-20\n",
      "Gallery dataset path: ..\\..\\data\\Other_species_sea-star-re-id-full_event-unaware_training-split_2024-05-03-18-20\\train True\n",
      "Query dataset path: ..\\..\\data\\Other_species_sea-star-re-id-full_event-unaware_training-split_2024-05-03-18-20\\test True\n",
      "Number of identities: 95\n",
      "Number of gallery images: 1499\n",
      "Number of query images: 435\n"
     ]
    },
    {
     "name": "stderr",
     "output_type": "stream",
     "text": [
      "100%|██████████| 1499/1499 [01:16<00:00, 19.47it/s]\n",
      "100%|██████████| 435/435 [00:22<00:00, 19.72it/s]\n"
     ]
    },
    {
     "name": "stdout",
     "output_type": "stream",
     "text": [
      "\n",
      "Computed mAP:\n",
      "mAP@1: 0.8322\n",
      "mAP@5: 0.9494\n",
      "mAP@10: 0.9770\n",
      "mAP@15: 0.9816\n",
      "mAP@20: 0.9885\n",
      "59|347 - Other_species_sea-star-re-id-full_event-unaware_training-split_2024-05-03-18-20__2024-05-08-02-55-13__0__densenet121__PT-True - Other_species_sea-star-re-id-full_event-unaware_training-split_2024-05-03-18-20\n",
      "Gallery dataset path: ..\\..\\data\\Other_species_sea-star-re-id-full_event-unaware_training-split_2024-05-03-18-20\\train True\n",
      "Query dataset path: ..\\..\\data\\Other_species_sea-star-re-id-full_event-unaware_training-split_2024-05-03-18-20\\test True\n",
      "Number of identities: 95\n",
      "Number of gallery images: 1499\n",
      "Number of query images: 435\n"
     ]
    },
    {
     "name": "stderr",
     "output_type": "stream",
     "text": [
      "100%|██████████| 1499/1499 [01:15<00:00, 19.77it/s]\n",
      "100%|██████████| 435/435 [00:22<00:00, 19.56it/s]\n"
     ]
    },
    {
     "name": "stdout",
     "output_type": "stream",
     "text": [
      "\n",
      "Computed mAP:\n",
      "mAP@1: 0.7954\n",
      "mAP@5: 0.9241\n",
      "mAP@10: 0.9563\n",
      "mAP@15: 0.9701\n",
      "mAP@20: 0.9770\n",
      "60|347 - Other_species_sea-star-re-id-full_event-unaware_training-split_2024-05-03-18-20__2024-05-08-06-54-24__0__densenet121__PT-True - Other_species_sea-star-re-id-full_event-unaware_training-split_2024-05-03-18-20\n",
      "Gallery dataset path: ..\\..\\data\\Other_species_sea-star-re-id-full_event-unaware_training-split_2024-05-03-18-20\\train True\n",
      "Query dataset path: ..\\..\\data\\Other_species_sea-star-re-id-full_event-unaware_training-split_2024-05-03-18-20\\test True\n",
      "Number of identities: 95\n",
      "Number of gallery images: 1499\n",
      "Number of query images: 435\n"
     ]
    },
    {
     "name": "stderr",
     "output_type": "stream",
     "text": [
      "100%|██████████| 1499/1499 [01:16<00:00, 19.55it/s]\n",
      "100%|██████████| 435/435 [00:22<00:00, 19.66it/s]\n"
     ]
    },
    {
     "name": "stdout",
     "output_type": "stream",
     "text": [
      "\n",
      "Computed mAP:\n",
      "mAP@1: 0.7517\n",
      "mAP@5: 0.9172\n",
      "mAP@10: 0.9655\n",
      "mAP@15: 0.9747\n",
      "mAP@20: 0.9816\n",
      "61|347 - Other_species_sea-star-re-id-full_event-unaware_training-split_2024-05-03-18-20__2024-05-08-06-55-00__1__densenet121__PT-True - Other_species_sea-star-re-id-full_event-unaware_training-split_2024-05-03-18-20\n",
      "Gallery dataset path: ..\\..\\data\\Other_species_sea-star-re-id-full_event-unaware_training-split_2024-05-03-18-20\\train True\n",
      "Query dataset path: ..\\..\\data\\Other_species_sea-star-re-id-full_event-unaware_training-split_2024-05-03-18-20\\test True\n",
      "Number of identities: 95\n",
      "Number of gallery images: 1499\n",
      "Number of query images: 435\n"
     ]
    },
    {
     "name": "stderr",
     "output_type": "stream",
     "text": [
      "100%|██████████| 1499/1499 [01:16<00:00, 19.63it/s]\n",
      "100%|██████████| 435/435 [00:22<00:00, 19.45it/s]\n"
     ]
    },
    {
     "name": "stdout",
     "output_type": "stream",
     "text": [
      "\n",
      "Computed mAP:\n",
      "mAP@1: 0.8322\n",
      "mAP@5: 0.9471\n",
      "mAP@10: 0.9770\n",
      "mAP@15: 0.9793\n",
      "mAP@20: 0.9862\n",
      "62|347 - Other_species_sea-star-re-id-full_event-unaware_training-split_2024-05-03-18-20__2024-05-08-11-15-31__0__densenet121__PT-True - Other_species_sea-star-re-id-full_event-unaware_training-split_2024-05-03-18-20\n",
      "Gallery dataset path: ..\\..\\data\\Other_species_sea-star-re-id-full_event-unaware_training-split_2024-05-03-18-20\\train True\n",
      "Query dataset path: ..\\..\\data\\Other_species_sea-star-re-id-full_event-unaware_training-split_2024-05-03-18-20\\test True\n",
      "Number of identities: 95\n",
      "Number of gallery images: 1499\n",
      "Number of query images: 435\n"
     ]
    },
    {
     "name": "stderr",
     "output_type": "stream",
     "text": [
      "100%|██████████| 1499/1499 [01:16<00:00, 19.58it/s]\n",
      "100%|██████████| 435/435 [00:22<00:00, 19.57it/s]\n"
     ]
    },
    {
     "name": "stdout",
     "output_type": "stream",
     "text": [
      "\n",
      "Computed mAP:\n",
      "mAP@1: 0.7839\n",
      "mAP@5: 0.9218\n",
      "mAP@10: 0.9517\n",
      "mAP@15: 0.9701\n",
      "mAP@20: 0.9839\n",
      "63|347 - Other_species_sea-star-re-id-full_event-unaware_training-split_2024-05-03-18-20__2024-05-08-11-15-52__1__densenet121__PT-True - Other_species_sea-star-re-id-full_event-unaware_training-split_2024-05-03-18-20\n",
      "Gallery dataset path: ..\\..\\data\\Other_species_sea-star-re-id-full_event-unaware_training-split_2024-05-03-18-20\\train True\n",
      "Query dataset path: ..\\..\\data\\Other_species_sea-star-re-id-full_event-unaware_training-split_2024-05-03-18-20\\test True\n",
      "Number of identities: 95\n",
      "Number of gallery images: 1499\n",
      "Number of query images: 435\n"
     ]
    },
    {
     "name": "stderr",
     "output_type": "stream",
     "text": [
      "100%|██████████| 1499/1499 [01:14<00:00, 20.04it/s]\n",
      "100%|██████████| 435/435 [00:22<00:00, 19.70it/s]\n"
     ]
    },
    {
     "name": "stdout",
     "output_type": "stream",
     "text": [
      "\n",
      "Computed mAP:\n",
      "mAP@1: 0.8529\n",
      "mAP@5: 0.9471\n",
      "mAP@10: 0.9678\n",
      "mAP@15: 0.9770\n",
      "mAP@20: 0.9839\n",
      "64|347 - Other_species_sea-star-re-id-full_event-unaware_training-split_2024-05-03-18-20__2024-05-08-15-45-45__1__densenet121__PT-True - Other_species_sea-star-re-id-full_event-unaware_training-split_2024-05-03-18-20\n",
      "Gallery dataset path: ..\\..\\data\\Other_species_sea-star-re-id-full_event-unaware_training-split_2024-05-03-18-20\\train True\n",
      "Query dataset path: ..\\..\\data\\Other_species_sea-star-re-id-full_event-unaware_training-split_2024-05-03-18-20\\test True\n",
      "Number of identities: 95\n",
      "Number of gallery images: 1499\n",
      "Number of query images: 435\n"
     ]
    },
    {
     "name": "stderr",
     "output_type": "stream",
     "text": [
      "100%|██████████| 1499/1499 [01:15<00:00, 19.75it/s]\n",
      "100%|██████████| 435/435 [00:22<00:00, 19.70it/s]\n"
     ]
    },
    {
     "name": "stdout",
     "output_type": "stream",
     "text": [
      "\n",
      "Computed mAP:\n",
      "mAP@1: 0.8414\n",
      "mAP@5: 0.9425\n",
      "mAP@10: 0.9701\n",
      "mAP@15: 0.9862\n",
      "mAP@20: 0.9908\n",
      "65|347 - Other_species_sea-star-re-id-full_event-unaware_training-split_2024-05-03-18-20__2024-05-08-15-46-25__0__densenet121__PT-True - Other_species_sea-star-re-id-full_event-unaware_training-split_2024-05-03-18-20\n",
      "Gallery dataset path: ..\\..\\data\\Other_species_sea-star-re-id-full_event-unaware_training-split_2024-05-03-18-20\\train True\n",
      "Query dataset path: ..\\..\\data\\Other_species_sea-star-re-id-full_event-unaware_training-split_2024-05-03-18-20\\test True\n",
      "Number of identities: 95\n",
      "Number of gallery images: 1499\n",
      "Number of query images: 435\n"
     ]
    },
    {
     "name": "stderr",
     "output_type": "stream",
     "text": [
      "100%|██████████| 1499/1499 [01:16<00:00, 19.71it/s]\n",
      "100%|██████████| 435/435 [00:22<00:00, 19.67it/s]\n"
     ]
    },
    {
     "name": "stdout",
     "output_type": "stream",
     "text": [
      "\n",
      "Computed mAP:\n",
      "mAP@1: 0.7816\n",
      "mAP@5: 0.9264\n",
      "mAP@10: 0.9609\n",
      "mAP@15: 0.9701\n",
      "mAP@20: 0.9747\n",
      "66|347 - Other_species_sea-star-re-id-full_event-unaware_training-split_2024-05-03-18-20__2024-05-08-20-13-26__0__densenet121__PT-True - Other_species_sea-star-re-id-full_event-unaware_training-split_2024-05-03-18-20\n",
      "Gallery dataset path: ..\\..\\data\\Other_species_sea-star-re-id-full_event-unaware_training-split_2024-05-03-18-20\\train True\n",
      "Query dataset path: ..\\..\\data\\Other_species_sea-star-re-id-full_event-unaware_training-split_2024-05-03-18-20\\test True\n",
      "Number of identities: 95\n",
      "Number of gallery images: 1499\n",
      "Number of query images: 435\n"
     ]
    },
    {
     "name": "stderr",
     "output_type": "stream",
     "text": [
      "100%|██████████| 1499/1499 [01:13<00:00, 20.27it/s]\n",
      "100%|██████████| 435/435 [00:22<00:00, 19.61it/s]\n"
     ]
    },
    {
     "name": "stdout",
     "output_type": "stream",
     "text": [
      "\n",
      "Computed mAP:\n",
      "mAP@1: 0.7770\n",
      "mAP@5: 0.9034\n",
      "mAP@10: 0.9471\n",
      "mAP@15: 0.9655\n",
      "mAP@20: 0.9770\n",
      "67|347 - Other_species_sea-star-re-id-full_event-unaware_training-split_2024-05-03-18-20__2024-05-08-20-13-59__1__densenet121__PT-True - Other_species_sea-star-re-id-full_event-unaware_training-split_2024-05-03-18-20\n",
      "Gallery dataset path: ..\\..\\data\\Other_species_sea-star-re-id-full_event-unaware_training-split_2024-05-03-18-20\\train True\n",
      "Query dataset path: ..\\..\\data\\Other_species_sea-star-re-id-full_event-unaware_training-split_2024-05-03-18-20\\test True\n",
      "Number of identities: 95\n",
      "Number of gallery images: 1499\n",
      "Number of query images: 435\n"
     ]
    },
    {
     "name": "stderr",
     "output_type": "stream",
     "text": [
      "100%|██████████| 1499/1499 [01:16<00:00, 19.51it/s]\n",
      "100%|██████████| 435/435 [00:22<00:00, 19.40it/s]\n"
     ]
    },
    {
     "name": "stdout",
     "output_type": "stream",
     "text": [
      "\n",
      "Computed mAP:\n",
      "mAP@1: 0.8299\n",
      "mAP@5: 0.9425\n",
      "mAP@10: 0.9678\n",
      "mAP@15: 0.9839\n",
      "mAP@20: 0.9862\n",
      "68|347 - Other_species_sea-star-re-id-full_event-unaware_training-split_2024-05-03-18-28__2024-05-05-20-30-18__1__densenet121__PT-True - Other_species_sea-star-re-id-full_event-unaware_training-split_2024-05-03-18-28\n",
      "Gallery dataset path: ..\\..\\data\\Other_species_sea-star-re-id-full_event-unaware_training-split_2024-05-03-18-28\\train True\n",
      "Query dataset path: ..\\..\\data\\Other_species_sea-star-re-id-full_event-unaware_training-split_2024-05-03-18-28\\test True\n",
      "Number of identities: 95\n",
      "Number of gallery images: 1513\n",
      "Number of query images: 421\n"
     ]
    },
    {
     "name": "stderr",
     "output_type": "stream",
     "text": [
      "100%|██████████| 1513/1513 [01:16<00:00, 19.67it/s]\n",
      "100%|██████████| 421/421 [00:21<00:00, 19.53it/s]\n"
     ]
    },
    {
     "name": "stdout",
     "output_type": "stream",
     "text": [
      "\n",
      "Computed mAP:\n",
      "mAP@1: 0.7886\n",
      "mAP@5: 0.9192\n",
      "mAP@10: 0.9572\n",
      "mAP@15: 0.9762\n",
      "mAP@20: 0.9786\n",
      "69|347 - Other_species_sea-star-re-id-full_event-unaware_training-split_2024-05-03-18-28__2024-05-05-20-34-38__0__densenet121__PT-True - Other_species_sea-star-re-id-full_event-unaware_training-split_2024-05-03-18-28\n",
      "Gallery dataset path: ..\\..\\data\\Other_species_sea-star-re-id-full_event-unaware_training-split_2024-05-03-18-28\\train True\n",
      "Query dataset path: ..\\..\\data\\Other_species_sea-star-re-id-full_event-unaware_training-split_2024-05-03-18-28\\test True\n",
      "Number of identities: 95\n",
      "Number of gallery images: 1513\n",
      "Number of query images: 421\n"
     ]
    },
    {
     "name": "stderr",
     "output_type": "stream",
     "text": [
      "100%|██████████| 1513/1513 [01:16<00:00, 19.79it/s]\n",
      "100%|██████████| 421/421 [00:21<00:00, 19.73it/s]\n"
     ]
    },
    {
     "name": "stdout",
     "output_type": "stream",
     "text": [
      "\n",
      "Computed mAP:\n",
      "mAP@1: 0.7957\n",
      "mAP@5: 0.9240\n",
      "mAP@10: 0.9572\n",
      "mAP@15: 0.9691\n",
      "mAP@20: 0.9739\n",
      "70|347 - Other_species_sea-star-re-id-full_event-unaware_training-split_2024-05-03-18-28__2024-05-06-02-27-40__1__densenet121__PT-True - Other_species_sea-star-re-id-full_event-unaware_training-split_2024-05-03-18-28\n",
      "Gallery dataset path: ..\\..\\data\\Other_species_sea-star-re-id-full_event-unaware_training-split_2024-05-03-18-28\\train True\n",
      "Query dataset path: ..\\..\\data\\Other_species_sea-star-re-id-full_event-unaware_training-split_2024-05-03-18-28\\test True\n",
      "Number of identities: 95\n",
      "Number of gallery images: 1513\n",
      "Number of query images: 421\n"
     ]
    },
    {
     "name": "stderr",
     "output_type": "stream",
     "text": [
      "100%|██████████| 1513/1513 [01:16<00:00, 19.69it/s]\n",
      "100%|██████████| 421/421 [00:21<00:00, 19.76it/s]\n"
     ]
    },
    {
     "name": "stdout",
     "output_type": "stream",
     "text": [
      "\n",
      "Computed mAP:\n",
      "mAP@1: 0.6936\n",
      "mAP@5: 0.8717\n",
      "mAP@10: 0.9287\n",
      "mAP@15: 0.9644\n",
      "mAP@20: 0.9715\n",
      "71|347 - Other_species_sea-star-re-id-full_event-unaware_training-split_2024-05-03-18-28__2024-05-06-02-28-50__0__densenet121__PT-True - Other_species_sea-star-re-id-full_event-unaware_training-split_2024-05-03-18-28\n",
      "Gallery dataset path: ..\\..\\data\\Other_species_sea-star-re-id-full_event-unaware_training-split_2024-05-03-18-28\\train True\n",
      "Query dataset path: ..\\..\\data\\Other_species_sea-star-re-id-full_event-unaware_training-split_2024-05-03-18-28\\test True\n",
      "Number of identities: 95\n",
      "Number of gallery images: 1513\n",
      "Number of query images: 421\n"
     ]
    },
    {
     "name": "stderr",
     "output_type": "stream",
     "text": [
      "100%|██████████| 1513/1513 [01:16<00:00, 19.67it/s]\n",
      "100%|██████████| 421/421 [00:21<00:00, 19.53it/s]\n"
     ]
    },
    {
     "name": "stdout",
     "output_type": "stream",
     "text": [
      "\n",
      "Computed mAP:\n",
      "mAP@1: 0.7363\n",
      "mAP@5: 0.9216\n",
      "mAP@10: 0.9549\n",
      "mAP@15: 0.9715\n",
      "mAP@20: 0.9810\n",
      "72|347 - Other_species_sea-star-re-id-full_event-unaware_training-split_2024-05-03-18-28__2024-05-06-07-41-07__1__densenet121__PT-True - Other_species_sea-star-re-id-full_event-unaware_training-split_2024-05-03-18-28\n",
      "Gallery dataset path: ..\\..\\data\\Other_species_sea-star-re-id-full_event-unaware_training-split_2024-05-03-18-28\\train True\n",
      "Query dataset path: ..\\..\\data\\Other_species_sea-star-re-id-full_event-unaware_training-split_2024-05-03-18-28\\test True\n",
      "Number of identities: 95\n",
      "Number of gallery images: 1513\n",
      "Number of query images: 421\n"
     ]
    },
    {
     "name": "stderr",
     "output_type": "stream",
     "text": [
      "100%|██████████| 1513/1513 [01:17<00:00, 19.62it/s]\n",
      "100%|██████████| 421/421 [00:21<00:00, 19.61it/s]\n"
     ]
    },
    {
     "name": "stdout",
     "output_type": "stream",
     "text": [
      "\n",
      "Computed mAP:\n",
      "mAP@1: 0.7078\n",
      "mAP@5: 0.8812\n",
      "mAP@10: 0.9240\n",
      "mAP@15: 0.9477\n",
      "mAP@20: 0.9596\n",
      "73|347 - Other_species_sea-star-re-id-full_event-unaware_training-split_2024-05-03-18-28__2024-05-06-07-42-03__0__densenet121__PT-True - Other_species_sea-star-re-id-full_event-unaware_training-split_2024-05-03-18-28\n",
      "Gallery dataset path: ..\\..\\data\\Other_species_sea-star-re-id-full_event-unaware_training-split_2024-05-03-18-28\\train True\n",
      "Query dataset path: ..\\..\\data\\Other_species_sea-star-re-id-full_event-unaware_training-split_2024-05-03-18-28\\test True\n",
      "Number of identities: 95\n",
      "Number of gallery images: 1513\n",
      "Number of query images: 421\n"
     ]
    },
    {
     "name": "stderr",
     "output_type": "stream",
     "text": [
      "100%|██████████| 1513/1513 [01:17<00:00, 19.58it/s]\n",
      "100%|██████████| 421/421 [00:19<00:00, 21.47it/s]\n"
     ]
    },
    {
     "name": "stdout",
     "output_type": "stream",
     "text": [
      "\n",
      "Computed mAP:\n",
      "mAP@1: 0.7268\n",
      "mAP@5: 0.8979\n",
      "mAP@10: 0.9477\n",
      "mAP@15: 0.9596\n",
      "mAP@20: 0.9644\n",
      "74|347 - Other_species_sea-star-re-id-full_event-unaware_training-split_2024-05-03-18-28__2024-05-06-13-21-27__1__densenet121__PT-True - Other_species_sea-star-re-id-full_event-unaware_training-split_2024-05-03-18-28\n",
      "Gallery dataset path: ..\\..\\data\\Other_species_sea-star-re-id-full_event-unaware_training-split_2024-05-03-18-28\\train True\n",
      "Query dataset path: ..\\..\\data\\Other_species_sea-star-re-id-full_event-unaware_training-split_2024-05-03-18-28\\test True\n",
      "Number of identities: 95\n",
      "Number of gallery images: 1513\n",
      "Number of query images: 421\n"
     ]
    },
    {
     "name": "stderr",
     "output_type": "stream",
     "text": [
      "100%|██████████| 1513/1513 [01:16<00:00, 19.66it/s]\n",
      "100%|██████████| 421/421 [00:21<00:00, 19.62it/s]\n"
     ]
    },
    {
     "name": "stdout",
     "output_type": "stream",
     "text": [
      "\n",
      "Computed mAP:\n",
      "mAP@1: 0.8242\n",
      "mAP@5: 0.9382\n",
      "mAP@10: 0.9691\n",
      "mAP@15: 0.9810\n",
      "mAP@20: 0.9905\n",
      "75|347 - Other_species_sea-star-re-id-full_event-unaware_training-split_2024-05-03-18-28__2024-05-06-13-25-31__0__densenet121__PT-True - Other_species_sea-star-re-id-full_event-unaware_training-split_2024-05-03-18-28\n",
      "Gallery dataset path: ..\\..\\data\\Other_species_sea-star-re-id-full_event-unaware_training-split_2024-05-03-18-28\\train True\n",
      "Query dataset path: ..\\..\\data\\Other_species_sea-star-re-id-full_event-unaware_training-split_2024-05-03-18-28\\test True\n",
      "Number of identities: 95\n",
      "Number of gallery images: 1513\n",
      "Number of query images: 421\n"
     ]
    },
    {
     "name": "stderr",
     "output_type": "stream",
     "text": [
      "100%|██████████| 1513/1513 [01:16<00:00, 19.65it/s]\n",
      "100%|██████████| 421/421 [00:21<00:00, 19.68it/s]\n"
     ]
    },
    {
     "name": "stdout",
     "output_type": "stream",
     "text": [
      "\n",
      "Computed mAP:\n",
      "mAP@1: 0.8646\n",
      "mAP@5: 0.9667\n",
      "mAP@10: 0.9810\n",
      "mAP@15: 0.9881\n",
      "mAP@20: 0.9929\n",
      "76|347 - Other_species_sea-star-re-id-full_event-unaware_training-split_2024-05-03-18-28__2024-05-06-18-45-43__1__densenet121__PT-True - Other_species_sea-star-re-id-full_event-unaware_training-split_2024-05-03-18-28\n",
      "Gallery dataset path: ..\\..\\data\\Other_species_sea-star-re-id-full_event-unaware_training-split_2024-05-03-18-28\\train True\n",
      "Query dataset path: ..\\..\\data\\Other_species_sea-star-re-id-full_event-unaware_training-split_2024-05-03-18-28\\test True\n",
      "Number of identities: 95\n",
      "Number of gallery images: 1513\n",
      "Number of query images: 421\n"
     ]
    },
    {
     "name": "stderr",
     "output_type": "stream",
     "text": [
      "100%|██████████| 1513/1513 [01:17<00:00, 19.61it/s]\n",
      "100%|██████████| 421/421 [00:21<00:00, 19.54it/s]\n"
     ]
    },
    {
     "name": "stdout",
     "output_type": "stream",
     "text": [
      "\n",
      "Computed mAP:\n",
      "mAP@1: 0.7886\n",
      "mAP@5: 0.9406\n",
      "mAP@10: 0.9786\n",
      "mAP@15: 0.9834\n",
      "mAP@20: 0.9857\n",
      "77|347 - Other_species_sea-star-re-id-full_event-unaware_training-split_2024-05-03-18-28__2024-05-06-18-45-49__0__densenet121__PT-True - Other_species_sea-star-re-id-full_event-unaware_training-split_2024-05-03-18-28\n",
      "Gallery dataset path: ..\\..\\data\\Other_species_sea-star-re-id-full_event-unaware_training-split_2024-05-03-18-28\\train True\n",
      "Query dataset path: ..\\..\\data\\Other_species_sea-star-re-id-full_event-unaware_training-split_2024-05-03-18-28\\test True\n",
      "Number of identities: 95\n",
      "Number of gallery images: 1513\n",
      "Number of query images: 421\n"
     ]
    },
    {
     "name": "stderr",
     "output_type": "stream",
     "text": [
      "100%|██████████| 1513/1513 [01:15<00:00, 20.13it/s]\n",
      "100%|██████████| 421/421 [00:21<00:00, 19.49it/s]\n"
     ]
    },
    {
     "name": "stdout",
     "output_type": "stream",
     "text": [
      "\n",
      "Computed mAP:\n",
      "mAP@1: 0.8171\n",
      "mAP@5: 0.9525\n",
      "mAP@10: 0.9762\n",
      "mAP@15: 0.9810\n",
      "mAP@20: 0.9929\n",
      "78|347 - Other_species_sea-star-re-id-full_event-unaware_training-split_2024-05-03-18-28__2024-05-07-00-06-30__0__densenet121__PT-True - Other_species_sea-star-re-id-full_event-unaware_training-split_2024-05-03-18-28\n",
      "Gallery dataset path: ..\\..\\data\\Other_species_sea-star-re-id-full_event-unaware_training-split_2024-05-03-18-28\\train True\n",
      "Query dataset path: ..\\..\\data\\Other_species_sea-star-re-id-full_event-unaware_training-split_2024-05-03-18-28\\test True\n",
      "Number of identities: 95\n",
      "Number of gallery images: 1513\n",
      "Number of query images: 421\n"
     ]
    },
    {
     "name": "stderr",
     "output_type": "stream",
     "text": [
      "100%|██████████| 1513/1513 [01:17<00:00, 19.64it/s]\n",
      "100%|██████████| 421/421 [00:21<00:00, 19.66it/s]\n"
     ]
    },
    {
     "name": "stdout",
     "output_type": "stream",
     "text": [
      "\n",
      "Computed mAP:\n",
      "mAP@1: 0.7720\n",
      "mAP@5: 0.9121\n",
      "mAP@10: 0.9549\n",
      "mAP@15: 0.9691\n",
      "mAP@20: 0.9810\n",
      "79|347 - Other_species_sea-star-re-id-full_event-unaware_training-split_2024-05-03-18-28__2024-05-07-00-06-51__1__densenet121__PT-True - Other_species_sea-star-re-id-full_event-unaware_training-split_2024-05-03-18-28\n",
      "Gallery dataset path: ..\\..\\data\\Other_species_sea-star-re-id-full_event-unaware_training-split_2024-05-03-18-28\\train True\n",
      "Query dataset path: ..\\..\\data\\Other_species_sea-star-re-id-full_event-unaware_training-split_2024-05-03-18-28\\test True\n",
      "Number of identities: 95\n",
      "Number of gallery images: 1513\n",
      "Number of query images: 421\n"
     ]
    },
    {
     "name": "stderr",
     "output_type": "stream",
     "text": [
      "100%|██████████| 1513/1513 [01:17<00:00, 19.63it/s]\n",
      "100%|██████████| 421/421 [00:21<00:00, 19.56it/s]\n"
     ]
    },
    {
     "name": "stdout",
     "output_type": "stream",
     "text": [
      "\n",
      "Computed mAP:\n",
      "mAP@1: 0.7767\n",
      "mAP@5: 0.9216\n",
      "mAP@10: 0.9644\n",
      "mAP@15: 0.9739\n",
      "mAP@20: 0.9834\n",
      "80|347 - Other_species_sea-star-re-id-full_event-unaware_training-split_2024-05-03-18-28__2024-05-07-05-48-50__1__densenet121__PT-True - Other_species_sea-star-re-id-full_event-unaware_training-split_2024-05-03-18-28\n",
      "Gallery dataset path: ..\\..\\data\\Other_species_sea-star-re-id-full_event-unaware_training-split_2024-05-03-18-28\\train True\n",
      "Query dataset path: ..\\..\\data\\Other_species_sea-star-re-id-full_event-unaware_training-split_2024-05-03-18-28\\test True\n",
      "Number of identities: 95\n",
      "Number of gallery images: 1513\n",
      "Number of query images: 421\n"
     ]
    },
    {
     "name": "stderr",
     "output_type": "stream",
     "text": [
      "100%|██████████| 1513/1513 [01:16<00:00, 19.72it/s]\n",
      "100%|██████████| 421/421 [00:20<00:00, 20.93it/s]\n"
     ]
    },
    {
     "name": "stdout",
     "output_type": "stream",
     "text": [
      "\n",
      "Computed mAP:\n",
      "mAP@1: 0.8836\n",
      "mAP@5: 0.9620\n",
      "mAP@10: 0.9810\n",
      "mAP@15: 0.9857\n",
      "mAP@20: 0.9905\n",
      "81|347 - Other_species_sea-star-re-id-full_event-unaware_training-split_2024-05-03-18-28__2024-05-07-05-56-58__0__densenet121__PT-True - Other_species_sea-star-re-id-full_event-unaware_training-split_2024-05-03-18-28\n",
      "Gallery dataset path: ..\\..\\data\\Other_species_sea-star-re-id-full_event-unaware_training-split_2024-05-03-18-28\\train True\n",
      "Query dataset path: ..\\..\\data\\Other_species_sea-star-re-id-full_event-unaware_training-split_2024-05-03-18-28\\test True\n",
      "Number of identities: 95\n",
      "Number of gallery images: 1513\n",
      "Number of query images: 421\n"
     ]
    },
    {
     "name": "stderr",
     "output_type": "stream",
     "text": [
      "100%|██████████| 1513/1513 [01:16<00:00, 19.70it/s]\n",
      "100%|██████████| 421/421 [00:21<00:00, 19.62it/s]\n"
     ]
    },
    {
     "name": "stdout",
     "output_type": "stream",
     "text": [
      "\n",
      "Computed mAP:\n",
      "mAP@1: 0.8646\n",
      "mAP@5: 0.9739\n",
      "mAP@10: 0.9834\n",
      "mAP@15: 0.9905\n",
      "mAP@20: 0.9929\n",
      "82|347 - Other_species_sea-star-re-id-full_event-unaware_training-split_2024-05-03-18-28__2024-05-07-12-29-07__1__densenet121__PT-True - Other_species_sea-star-re-id-full_event-unaware_training-split_2024-05-03-18-28\n",
      "Gallery dataset path: ..\\..\\data\\Other_species_sea-star-re-id-full_event-unaware_training-split_2024-05-03-18-28\\train True\n",
      "Query dataset path: ..\\..\\data\\Other_species_sea-star-re-id-full_event-unaware_training-split_2024-05-03-18-28\\test True\n",
      "Number of identities: 95\n",
      "Number of gallery images: 1513\n",
      "Number of query images: 421\n"
     ]
    },
    {
     "name": "stderr",
     "output_type": "stream",
     "text": [
      "100%|██████████| 1513/1513 [01:17<00:00, 19.55it/s]\n",
      "100%|██████████| 421/421 [00:21<00:00, 19.57it/s]\n"
     ]
    },
    {
     "name": "stdout",
     "output_type": "stream",
     "text": [
      "\n",
      "Computed mAP:\n",
      "mAP@1: 0.8290\n",
      "mAP@5: 0.9359\n",
      "mAP@10: 0.9549\n",
      "mAP@15: 0.9691\n",
      "mAP@20: 0.9834\n",
      "83|347 - Other_species_sea-star-re-id-full_event-unaware_training-split_2024-05-03-18-28__2024-05-07-12-32-03__0__densenet121__PT-True - Other_species_sea-star-re-id-full_event-unaware_training-split_2024-05-03-18-28\n",
      "Gallery dataset path: ..\\..\\data\\Other_species_sea-star-re-id-full_event-unaware_training-split_2024-05-03-18-28\\train True\n",
      "Query dataset path: ..\\..\\data\\Other_species_sea-star-re-id-full_event-unaware_training-split_2024-05-03-18-28\\test True\n",
      "Number of identities: 95\n",
      "Number of gallery images: 1513\n",
      "Number of query images: 421\n"
     ]
    },
    {
     "name": "stderr",
     "output_type": "stream",
     "text": [
      "100%|██████████| 1513/1513 [01:17<00:00, 19.62it/s]\n",
      "100%|██████████| 421/421 [00:21<00:00, 19.61it/s]\n"
     ]
    },
    {
     "name": "stdout",
     "output_type": "stream",
     "text": [
      "\n",
      "Computed mAP:\n",
      "mAP@1: 0.8646\n",
      "mAP@5: 0.9572\n",
      "mAP@10: 0.9739\n",
      "mAP@15: 0.9810\n",
      "mAP@20: 0.9905\n",
      "84|347 - Other_species_sea-star-re-id-full_event-unaware_training-split_2024-05-03-18-28__2024-05-07-22-09-54__1__densenet121__PT-True - Other_species_sea-star-re-id-full_event-unaware_training-split_2024-05-03-18-28\n",
      "Gallery dataset path: ..\\..\\data\\Other_species_sea-star-re-id-full_event-unaware_training-split_2024-05-03-18-28\\train True\n",
      "Query dataset path: ..\\..\\data\\Other_species_sea-star-re-id-full_event-unaware_training-split_2024-05-03-18-28\\test True\n",
      "Number of identities: 95\n",
      "Number of gallery images: 1513\n",
      "Number of query images: 421\n"
     ]
    },
    {
     "name": "stderr",
     "output_type": "stream",
     "text": [
      "100%|██████████| 1513/1513 [01:14<00:00, 20.26it/s]\n",
      "100%|██████████| 421/421 [00:21<00:00, 19.72it/s]\n"
     ]
    },
    {
     "name": "stdout",
     "output_type": "stream",
     "text": [
      "\n",
      "Computed mAP:\n",
      "mAP@1: 0.8480\n",
      "mAP@5: 0.9501\n",
      "mAP@10: 0.9691\n",
      "mAP@15: 0.9857\n",
      "mAP@20: 0.9905\n",
      "85|347 - Other_species_sea-star-re-id-full_event-unaware_training-split_2024-05-03-18-28__2024-05-07-22-12-21__0__densenet121__PT-True - Other_species_sea-star-re-id-full_event-unaware_training-split_2024-05-03-18-28\n",
      "Gallery dataset path: ..\\..\\data\\Other_species_sea-star-re-id-full_event-unaware_training-split_2024-05-03-18-28\\train True\n",
      "Query dataset path: ..\\..\\data\\Other_species_sea-star-re-id-full_event-unaware_training-split_2024-05-03-18-28\\test True\n",
      "Number of identities: 95\n",
      "Number of gallery images: 1513\n",
      "Number of query images: 421\n"
     ]
    },
    {
     "name": "stderr",
     "output_type": "stream",
     "text": [
      "100%|██████████| 1513/1513 [01:17<00:00, 19.62it/s]\n",
      "100%|██████████| 421/421 [00:21<00:00, 19.58it/s]\n"
     ]
    },
    {
     "name": "stdout",
     "output_type": "stream",
     "text": [
      "\n",
      "Computed mAP:\n",
      "mAP@1: 0.7910\n",
      "mAP@5: 0.9335\n",
      "mAP@10: 0.9620\n",
      "mAP@15: 0.9715\n",
      "mAP@20: 0.9810\n",
      "86|347 - Other_species_sea-star-re-id-full_event-unaware_training-split_2024-05-03-18-28__2024-05-08-03-05-30__1__densenet121__PT-True - Other_species_sea-star-re-id-full_event-unaware_training-split_2024-05-03-18-28\n",
      "Gallery dataset path: ..\\..\\data\\Other_species_sea-star-re-id-full_event-unaware_training-split_2024-05-03-18-28\\train True\n",
      "Query dataset path: ..\\..\\data\\Other_species_sea-star-re-id-full_event-unaware_training-split_2024-05-03-18-28\\test True\n",
      "Number of identities: 95\n",
      "Number of gallery images: 1513\n",
      "Number of query images: 421\n"
     ]
    },
    {
     "name": "stderr",
     "output_type": "stream",
     "text": [
      "100%|██████████| 1513/1513 [01:17<00:00, 19.58it/s]\n",
      "100%|██████████| 421/421 [00:21<00:00, 19.58it/s]\n"
     ]
    },
    {
     "name": "stdout",
     "output_type": "stream",
     "text": [
      "\n",
      "Computed mAP:\n",
      "mAP@1: 0.8622\n",
      "mAP@5: 0.9572\n",
      "mAP@10: 0.9834\n",
      "mAP@15: 0.9929\n",
      "mAP@20: 0.9976\n",
      "87|347 - Other_species_sea-star-re-id-full_event-unaware_training-split_2024-05-03-18-28__2024-05-08-03-06-10__0__densenet121__PT-True - Other_species_sea-star-re-id-full_event-unaware_training-split_2024-05-03-18-28\n",
      "Gallery dataset path: ..\\..\\data\\Other_species_sea-star-re-id-full_event-unaware_training-split_2024-05-03-18-28\\train True\n",
      "Query dataset path: ..\\..\\data\\Other_species_sea-star-re-id-full_event-unaware_training-split_2024-05-03-18-28\\test True\n",
      "Number of identities: 95\n",
      "Number of gallery images: 1513\n",
      "Number of query images: 421\n"
     ]
    },
    {
     "name": "stderr",
     "output_type": "stream",
     "text": [
      "100%|██████████| 1513/1513 [01:15<00:00, 20.13it/s]\n",
      "100%|██████████| 421/421 [00:21<00:00, 19.56it/s]\n"
     ]
    },
    {
     "name": "stdout",
     "output_type": "stream",
     "text": [
      "\n",
      "Computed mAP:\n",
      "mAP@1: 0.7791\n",
      "mAP@5: 0.9359\n",
      "mAP@10: 0.9644\n",
      "mAP@15: 0.9786\n",
      "mAP@20: 0.9857\n",
      "88|347 - Other_species_sea-star-re-id-full_event-unaware_training-split_2024-05-03-18-28__2024-05-08-07-05-35__0__densenet121__PT-True - Other_species_sea-star-re-id-full_event-unaware_training-split_2024-05-03-18-28\n",
      "Gallery dataset path: ..\\..\\data\\Other_species_sea-star-re-id-full_event-unaware_training-split_2024-05-03-18-28\\train True\n",
      "Query dataset path: ..\\..\\data\\Other_species_sea-star-re-id-full_event-unaware_training-split_2024-05-03-18-28\\test True\n",
      "Number of identities: 95\n",
      "Number of gallery images: 1513\n",
      "Number of query images: 421\n"
     ]
    },
    {
     "name": "stderr",
     "output_type": "stream",
     "text": [
      "100%|██████████| 1513/1513 [01:16<00:00, 19.66it/s]\n",
      "100%|██████████| 421/421 [00:21<00:00, 19.59it/s]\n"
     ]
    },
    {
     "name": "stdout",
     "output_type": "stream",
     "text": [
      "\n",
      "Computed mAP:\n",
      "mAP@1: 0.7767\n",
      "mAP@5: 0.9406\n",
      "mAP@10: 0.9667\n",
      "mAP@15: 0.9762\n",
      "mAP@20: 0.9834\n",
      "89|347 - Other_species_sea-star-re-id-full_event-unaware_training-split_2024-05-03-18-28__2024-05-08-07-06-45__1__densenet121__PT-True - Other_species_sea-star-re-id-full_event-unaware_training-split_2024-05-03-18-28\n",
      "Gallery dataset path: ..\\..\\data\\Other_species_sea-star-re-id-full_event-unaware_training-split_2024-05-03-18-28\\train True\n",
      "Query dataset path: ..\\..\\data\\Other_species_sea-star-re-id-full_event-unaware_training-split_2024-05-03-18-28\\test True\n",
      "Number of identities: 95\n",
      "Number of gallery images: 1513\n",
      "Number of query images: 421\n"
     ]
    },
    {
     "name": "stderr",
     "output_type": "stream",
     "text": [
      "100%|██████████| 1513/1513 [01:16<00:00, 19.71it/s]\n",
      "100%|██████████| 421/421 [00:21<00:00, 19.65it/s]\n"
     ]
    },
    {
     "name": "stdout",
     "output_type": "stream",
     "text": [
      "\n",
      "Computed mAP:\n",
      "mAP@1: 0.8314\n",
      "mAP@5: 0.9525\n",
      "mAP@10: 0.9762\n",
      "mAP@15: 0.9857\n",
      "mAP@20: 0.9905\n",
      "90|347 - Other_species_sea-star-re-id-full_event-unaware_training-split_2024-05-03-18-28__2024-05-08-11-27-36__0__densenet121__PT-True - Other_species_sea-star-re-id-full_event-unaware_training-split_2024-05-03-18-28\n",
      "Gallery dataset path: ..\\..\\data\\Other_species_sea-star-re-id-full_event-unaware_training-split_2024-05-03-18-28\\train True\n",
      "Query dataset path: ..\\..\\data\\Other_species_sea-star-re-id-full_event-unaware_training-split_2024-05-03-18-28\\test True\n",
      "Number of identities: 95\n",
      "Number of gallery images: 1513\n",
      "Number of query images: 421\n"
     ]
    },
    {
     "name": "stderr",
     "output_type": "stream",
     "text": [
      "100%|██████████| 1513/1513 [01:16<00:00, 19.82it/s]\n",
      "100%|██████████| 421/421 [00:21<00:00, 19.88it/s]\n"
     ]
    },
    {
     "name": "stdout",
     "output_type": "stream",
     "text": [
      "\n",
      "Computed mAP:\n",
      "mAP@1: 0.8005\n",
      "mAP@5: 0.9477\n",
      "mAP@10: 0.9786\n",
      "mAP@15: 0.9905\n",
      "mAP@20: 0.9976\n",
      "91|347 - Other_species_sea-star-re-id-full_event-unaware_training-split_2024-05-03-18-28__2024-05-08-11-28-10__1__densenet121__PT-True - Other_species_sea-star-re-id-full_event-unaware_training-split_2024-05-03-18-28\n",
      "Gallery dataset path: ..\\..\\data\\Other_species_sea-star-re-id-full_event-unaware_training-split_2024-05-03-18-28\\train True\n",
      "Query dataset path: ..\\..\\data\\Other_species_sea-star-re-id-full_event-unaware_training-split_2024-05-03-18-28\\test True\n",
      "Number of identities: 95\n",
      "Number of gallery images: 1513\n",
      "Number of query images: 421\n"
     ]
    },
    {
     "name": "stderr",
     "output_type": "stream",
     "text": [
      "100%|██████████| 1513/1513 [01:17<00:00, 19.58it/s]\n",
      "100%|██████████| 421/421 [00:21<00:00, 19.59it/s]\n"
     ]
    },
    {
     "name": "stdout",
     "output_type": "stream",
     "text": [
      "\n",
      "Computed mAP:\n",
      "mAP@1: 0.8432\n",
      "mAP@5: 0.9525\n",
      "mAP@10: 0.9786\n",
      "mAP@15: 0.9857\n",
      "mAP@20: 0.9905\n",
      "92|347 - Other_species_sea-star-re-id-full_event-unaware_training-split_2024-05-03-18-28__2024-05-08-15-57-11__1__densenet121__PT-True - Other_species_sea-star-re-id-full_event-unaware_training-split_2024-05-03-18-28\n",
      "Gallery dataset path: ..\\..\\data\\Other_species_sea-star-re-id-full_event-unaware_training-split_2024-05-03-18-28\\train True\n",
      "Query dataset path: ..\\..\\data\\Other_species_sea-star-re-id-full_event-unaware_training-split_2024-05-03-18-28\\test True\n",
      "Number of identities: 95\n",
      "Number of gallery images: 1513\n",
      "Number of query images: 421\n"
     ]
    },
    {
     "name": "stderr",
     "output_type": "stream",
     "text": [
      "100%|██████████| 1513/1513 [01:17<00:00, 19.55it/s]\n",
      "100%|██████████| 421/421 [00:21<00:00, 19.60it/s]\n"
     ]
    },
    {
     "name": "stdout",
     "output_type": "stream",
     "text": [
      "\n",
      "Computed mAP:\n",
      "mAP@1: 0.8219\n",
      "mAP@5: 0.9477\n",
      "mAP@10: 0.9834\n",
      "mAP@15: 0.9905\n",
      "mAP@20: 0.9905\n",
      "93|347 - Other_species_sea-star-re-id-full_event-unaware_training-split_2024-05-03-18-28__2024-05-08-15-58-32__0__densenet121__PT-True - Other_species_sea-star-re-id-full_event-unaware_training-split_2024-05-03-18-28\n",
      "Gallery dataset path: ..\\..\\data\\Other_species_sea-star-re-id-full_event-unaware_training-split_2024-05-03-18-28\\train True\n",
      "Query dataset path: ..\\..\\data\\Other_species_sea-star-re-id-full_event-unaware_training-split_2024-05-03-18-28\\test True\n",
      "Number of identities: 95\n",
      "Number of gallery images: 1513\n",
      "Number of query images: 421\n"
     ]
    },
    {
     "name": "stderr",
     "output_type": "stream",
     "text": [
      "100%|██████████| 1513/1513 [01:17<00:00, 19.48it/s]\n",
      "100%|██████████| 421/421 [00:21<00:00, 19.93it/s]\n"
     ]
    },
    {
     "name": "stdout",
     "output_type": "stream",
     "text": [
      "\n",
      "Computed mAP:\n",
      "mAP@1: 0.8076\n",
      "mAP@5: 0.9145\n",
      "mAP@10: 0.9430\n",
      "mAP@15: 0.9620\n",
      "mAP@20: 0.9739\n",
      "94|347 - Other_species_sea-star-re-id-full_event-unaware_training-split_2024-05-03-18-28__2024-05-08-20-25-14__0__densenet121__PT-True - Other_species_sea-star-re-id-full_event-unaware_training-split_2024-05-03-18-28\n",
      "Gallery dataset path: ..\\..\\data\\Other_species_sea-star-re-id-full_event-unaware_training-split_2024-05-03-18-28\\train True\n",
      "Query dataset path: ..\\..\\data\\Other_species_sea-star-re-id-full_event-unaware_training-split_2024-05-03-18-28\\test True\n",
      "Number of identities: 95\n",
      "Number of gallery images: 1513\n",
      "Number of query images: 421\n"
     ]
    },
    {
     "name": "stderr",
     "output_type": "stream",
     "text": [
      "100%|██████████| 1513/1513 [01:17<00:00, 19.60it/s]\n",
      "100%|██████████| 421/421 [00:21<00:00, 19.69it/s]\n"
     ]
    },
    {
     "name": "stdout",
     "output_type": "stream",
     "text": [
      "\n",
      "Computed mAP:\n",
      "mAP@1: 0.7862\n",
      "mAP@5: 0.9121\n",
      "mAP@10: 0.9572\n",
      "mAP@15: 0.9644\n",
      "mAP@20: 0.9762\n",
      "95|347 - Other_species_sea-star-re-id-full_event-unaware_training-split_2024-05-03-18-28__2024-05-08-20-26-22__1__densenet121__PT-True - Other_species_sea-star-re-id-full_event-unaware_training-split_2024-05-03-18-28\n",
      "Gallery dataset path: ..\\..\\data\\Other_species_sea-star-re-id-full_event-unaware_training-split_2024-05-03-18-28\\train True\n",
      "Query dataset path: ..\\..\\data\\Other_species_sea-star-re-id-full_event-unaware_training-split_2024-05-03-18-28\\test True\n",
      "Number of identities: 95\n",
      "Number of gallery images: 1513\n",
      "Number of query images: 421\n"
     ]
    },
    {
     "name": "stderr",
     "output_type": "stream",
     "text": [
      "100%|██████████| 1513/1513 [01:16<00:00, 19.70it/s]\n",
      "100%|██████████| 421/421 [00:21<00:00, 19.60it/s]\n"
     ]
    },
    {
     "name": "stdout",
     "output_type": "stream",
     "text": [
      "\n",
      "Computed mAP:\n",
      "mAP@1: 0.8551\n",
      "mAP@5: 0.9477\n",
      "mAP@10: 0.9620\n",
      "mAP@15: 0.9739\n",
      "mAP@20: 0.9905\n",
      "96|347 - Pycnopodia_helianthoides_full_event-unaware_training-split_2024-05-03-18-13__2024-05-05-20-43-02__1__densenet121__PT-True - Pycnopodia_helianthoides_full_event-unaware_training-split_2024-05-03-18-13\n",
      "Gallery dataset path: ..\\..\\data\\Pycnopodia_helianthoides_full_event-unaware_training-split_2024-05-03-18-13\\train True\n",
      "Query dataset path: ..\\..\\data\\Pycnopodia_helianthoides_full_event-unaware_training-split_2024-05-03-18-13\\test True\n",
      "Number of identities: 271\n",
      "Number of gallery images: 5163\n",
      "Number of query images: 1458\n"
     ]
    },
    {
     "name": "stderr",
     "output_type": "stream",
     "text": [
      "100%|██████████| 5163/5163 [04:36<00:00, 18.69it/s]\n",
      "100%|██████████| 1458/1458 [01:18<00:00, 18.61it/s]\n"
     ]
    },
    {
     "name": "stdout",
     "output_type": "stream",
     "text": [
      "\n",
      "Computed mAP:\n",
      "mAP@1: 0.8587\n",
      "mAP@5: 0.9348\n",
      "mAP@10: 0.9479\n",
      "mAP@15: 0.9616\n",
      "mAP@20: 0.9643\n",
      "97|347 - Pycnopodia_helianthoides_full_event-unaware_training-split_2024-05-03-18-13__2024-05-05-20-49-29__0__densenet121__PT-True - Pycnopodia_helianthoides_full_event-unaware_training-split_2024-05-03-18-13\n",
      "Gallery dataset path: ..\\..\\data\\Pycnopodia_helianthoides_full_event-unaware_training-split_2024-05-03-18-13\\train True\n",
      "Query dataset path: ..\\..\\data\\Pycnopodia_helianthoides_full_event-unaware_training-split_2024-05-03-18-13\\test True\n",
      "Number of identities: 271\n",
      "Number of gallery images: 5163\n",
      "Number of query images: 1458\n"
     ]
    },
    {
     "name": "stderr",
     "output_type": "stream",
     "text": [
      "100%|██████████| 5163/5163 [04:34<00:00, 18.81it/s]\n",
      "100%|██████████| 1458/1458 [01:18<00:00, 18.68it/s]\n"
     ]
    },
    {
     "name": "stdout",
     "output_type": "stream",
     "text": [
      "\n",
      "Computed mAP:\n",
      "mAP@1: 0.8813\n",
      "mAP@5: 0.9410\n",
      "mAP@10: 0.9595\n",
      "mAP@15: 0.9643\n",
      "mAP@20: 0.9719\n",
      "98|347 - Pycnopodia_helianthoides_full_event-unaware_training-split_2024-05-03-18-13__2024-05-06-02-41-08__1__densenet121__PT-True - Pycnopodia_helianthoides_full_event-unaware_training-split_2024-05-03-18-13\n",
      "Gallery dataset path: ..\\..\\data\\Pycnopodia_helianthoides_full_event-unaware_training-split_2024-05-03-18-13\\train True\n",
      "Query dataset path: ..\\..\\data\\Pycnopodia_helianthoides_full_event-unaware_training-split_2024-05-03-18-13\\test True\n",
      "Number of identities: 271\n",
      "Number of gallery images: 5163\n",
      "Number of query images: 1458\n"
     ]
    },
    {
     "name": "stderr",
     "output_type": "stream",
     "text": [
      "100%|██████████| 5163/5163 [04:35<00:00, 18.71it/s]\n",
      "100%|██████████| 1458/1458 [01:16<00:00, 19.08it/s]\n"
     ]
    },
    {
     "name": "stdout",
     "output_type": "stream",
     "text": [
      "\n",
      "Computed mAP:\n",
      "mAP@1: 0.8272\n",
      "mAP@5: 0.9129\n",
      "mAP@10: 0.9342\n",
      "mAP@15: 0.9479\n",
      "mAP@20: 0.9554\n",
      "99|347 - Pycnopodia_helianthoides_full_event-unaware_training-split_2024-05-03-18-13__2024-05-06-02-43-02__0__densenet121__PT-True - Pycnopodia_helianthoides_full_event-unaware_training-split_2024-05-03-18-13\n",
      "Gallery dataset path: ..\\..\\data\\Pycnopodia_helianthoides_full_event-unaware_training-split_2024-05-03-18-13\\train True\n",
      "Query dataset path: ..\\..\\data\\Pycnopodia_helianthoides_full_event-unaware_training-split_2024-05-03-18-13\\test True\n",
      "Number of identities: 271\n",
      "Number of gallery images: 5163\n",
      "Number of query images: 1458\n"
     ]
    },
    {
     "name": "stderr",
     "output_type": "stream",
     "text": [
      "100%|██████████| 5163/5163 [04:37<00:00, 18.61it/s]\n",
      "100%|██████████| 1458/1458 [01:17<00:00, 18.89it/s]\n"
     ]
    },
    {
     "name": "stdout",
     "output_type": "stream",
     "text": [
      "\n",
      "Computed mAP:\n",
      "mAP@1: 0.8416\n",
      "mAP@5: 0.9328\n",
      "mAP@10: 0.9554\n",
      "mAP@15: 0.9616\n",
      "mAP@20: 0.9671\n",
      "100|347 - Pycnopodia_helianthoides_full_event-unaware_training-split_2024-05-03-18-13__2024-05-06-07-56-13__1__densenet121__PT-True - Pycnopodia_helianthoides_full_event-unaware_training-split_2024-05-03-18-13\n",
      "Gallery dataset path: ..\\..\\data\\Pycnopodia_helianthoides_full_event-unaware_training-split_2024-05-03-18-13\\train True\n",
      "Query dataset path: ..\\..\\data\\Pycnopodia_helianthoides_full_event-unaware_training-split_2024-05-03-18-13\\test True\n",
      "Number of identities: 271\n",
      "Number of gallery images: 5163\n",
      "Number of query images: 1458\n"
     ]
    },
    {
     "name": "stderr",
     "output_type": "stream",
     "text": [
      "100%|██████████| 5163/5163 [04:36<00:00, 18.67it/s]\n",
      "100%|██████████| 1458/1458 [01:18<00:00, 18.60it/s]\n"
     ]
    },
    {
     "name": "stdout",
     "output_type": "stream",
     "text": [
      "\n",
      "Computed mAP:\n",
      "mAP@1: 0.7716\n",
      "mAP@5: 0.8957\n",
      "mAP@10: 0.9252\n",
      "mAP@15: 0.9335\n",
      "mAP@20: 0.9410\n",
      "101|347 - Pycnopodia_helianthoides_full_event-unaware_training-split_2024-05-03-18-13__2024-05-06-07-57-59__0__densenet121__PT-True - Pycnopodia_helianthoides_full_event-unaware_training-split_2024-05-03-18-13\n",
      "Gallery dataset path: ..\\..\\data\\Pycnopodia_helianthoides_full_event-unaware_training-split_2024-05-03-18-13\\train True\n",
      "Query dataset path: ..\\..\\data\\Pycnopodia_helianthoides_full_event-unaware_training-split_2024-05-03-18-13\\test True\n",
      "Number of identities: 271\n",
      "Number of gallery images: 5163\n",
      "Number of query images: 1458\n"
     ]
    },
    {
     "name": "stderr",
     "output_type": "stream",
     "text": [
      "100%|██████████| 5163/5163 [04:36<00:00, 18.64it/s]\n",
      "100%|██████████| 1458/1458 [01:17<00:00, 18.71it/s]\n"
     ]
    },
    {
     "name": "stdout",
     "output_type": "stream",
     "text": [
      "\n",
      "Computed mAP:\n",
      "mAP@1: 0.8059\n",
      "mAP@5: 0.9074\n",
      "mAP@10: 0.9335\n",
      "mAP@15: 0.9506\n",
      "mAP@20: 0.9575\n",
      "102|347 - Pycnopodia_helianthoides_full_event-unaware_training-split_2024-05-03-18-13__2024-05-06-13-33-54__1__densenet121__PT-True - Pycnopodia_helianthoides_full_event-unaware_training-split_2024-05-03-18-13\n",
      "Gallery dataset path: ..\\..\\data\\Pycnopodia_helianthoides_full_event-unaware_training-split_2024-05-03-18-13\\train True\n",
      "Query dataset path: ..\\..\\data\\Pycnopodia_helianthoides_full_event-unaware_training-split_2024-05-03-18-13\\test True\n",
      "Number of identities: 271\n",
      "Number of gallery images: 5163\n",
      "Number of query images: 1458\n"
     ]
    },
    {
     "name": "stderr",
     "output_type": "stream",
     "text": [
      "100%|██████████| 5163/5163 [04:36<00:00, 18.69it/s]\n",
      "100%|██████████| 1458/1458 [01:18<00:00, 18.67it/s]\n"
     ]
    },
    {
     "name": "stdout",
     "output_type": "stream",
     "text": [
      "\n",
      "Computed mAP:\n",
      "mAP@1: 0.9053\n",
      "mAP@5: 0.9486\n",
      "mAP@10: 0.9602\n",
      "mAP@15: 0.9691\n",
      "mAP@20: 0.9719\n",
      "103|347 - Pycnopodia_helianthoides_full_event-unaware_training-split_2024-05-03-18-13__2024-05-06-13-39-51__0__densenet121__PT-True - Pycnopodia_helianthoides_full_event-unaware_training-split_2024-05-03-18-13\n",
      "Gallery dataset path: ..\\..\\data\\Pycnopodia_helianthoides_full_event-unaware_training-split_2024-05-03-18-13\\train True\n",
      "Query dataset path: ..\\..\\data\\Pycnopodia_helianthoides_full_event-unaware_training-split_2024-05-03-18-13\\test True\n",
      "Number of identities: 271\n",
      "Number of gallery images: 5163\n",
      "Number of query images: 1458\n"
     ]
    },
    {
     "name": "stderr",
     "output_type": "stream",
     "text": [
      "100%|██████████| 5163/5163 [04:36<00:00, 18.70it/s]\n",
      "100%|██████████| 1458/1458 [01:18<00:00, 18.66it/s]\n"
     ]
    },
    {
     "name": "stdout",
     "output_type": "stream",
     "text": [
      "\n",
      "Computed mAP:\n",
      "mAP@1: 0.8992\n",
      "mAP@5: 0.9444\n",
      "mAP@10: 0.9636\n",
      "mAP@15: 0.9671\n",
      "mAP@20: 0.9739\n",
      "104|347 - Pycnopodia_helianthoides_full_event-unaware_training-split_2024-05-03-18-13__2024-05-06-19-00-14__1__densenet121__PT-True - Pycnopodia_helianthoides_full_event-unaware_training-split_2024-05-03-18-13\n",
      "Gallery dataset path: ..\\..\\data\\Pycnopodia_helianthoides_full_event-unaware_training-split_2024-05-03-18-13\\train True\n",
      "Query dataset path: ..\\..\\data\\Pycnopodia_helianthoides_full_event-unaware_training-split_2024-05-03-18-13\\test True\n",
      "Number of identities: 271\n",
      "Number of gallery images: 5163\n",
      "Number of query images: 1458\n"
     ]
    },
    {
     "name": "stderr",
     "output_type": "stream",
     "text": [
      "100%|██████████| 5163/5163 [04:34<00:00, 18.80it/s]\n",
      "100%|██████████| 1458/1458 [01:18<00:00, 18.62it/s]\n"
     ]
    },
    {
     "name": "stdout",
     "output_type": "stream",
     "text": [
      "\n",
      "Computed mAP:\n",
      "mAP@1: 0.8848\n",
      "mAP@5: 0.9410\n",
      "mAP@10: 0.9554\n",
      "mAP@15: 0.9623\n",
      "mAP@20: 0.9671\n",
      "105|347 - Pycnopodia_helianthoides_full_event-unaware_training-split_2024-05-03-18-13__2024-05-06-19-00-33__0__densenet121__PT-True - Pycnopodia_helianthoides_full_event-unaware_training-split_2024-05-03-18-13\n",
      "Gallery dataset path: ..\\..\\data\\Pycnopodia_helianthoides_full_event-unaware_training-split_2024-05-03-18-13\\train True\n",
      "Query dataset path: ..\\..\\data\\Pycnopodia_helianthoides_full_event-unaware_training-split_2024-05-03-18-13\\test True\n",
      "Number of identities: 271\n",
      "Number of gallery images: 5163\n",
      "Number of query images: 1458\n"
     ]
    },
    {
     "name": "stderr",
     "output_type": "stream",
     "text": [
      "100%|██████████| 5163/5163 [04:37<00:00, 18.58it/s]\n",
      "100%|██████████| 1458/1458 [01:17<00:00, 18.78it/s]\n"
     ]
    },
    {
     "name": "stdout",
     "output_type": "stream",
     "text": [
      "\n",
      "Computed mAP:\n",
      "mAP@1: 0.8909\n",
      "mAP@5: 0.9451\n",
      "mAP@10: 0.9595\n",
      "mAP@15: 0.9650\n",
      "mAP@20: 0.9739\n",
      "106|347 - Pycnopodia_helianthoides_full_event-unaware_training-split_2024-05-03-18-13__2024-05-07-00-22-15__0__densenet121__PT-True - Pycnopodia_helianthoides_full_event-unaware_training-split_2024-05-03-18-13\n",
      "Gallery dataset path: ..\\..\\data\\Pycnopodia_helianthoides_full_event-unaware_training-split_2024-05-03-18-13\\train True\n",
      "Query dataset path: ..\\..\\data\\Pycnopodia_helianthoides_full_event-unaware_training-split_2024-05-03-18-13\\test True\n",
      "Number of identities: 271\n",
      "Number of gallery images: 5163\n",
      "Number of query images: 1458\n"
     ]
    },
    {
     "name": "stderr",
     "output_type": "stream",
     "text": [
      "100%|██████████| 5163/5163 [04:37<00:00, 18.63it/s]\n",
      "100%|██████████| 1458/1458 [01:18<00:00, 18.66it/s]\n"
     ]
    },
    {
     "name": "stdout",
     "output_type": "stream",
     "text": [
      "\n",
      "Computed mAP:\n",
      "mAP@1: 0.8724\n",
      "mAP@5: 0.9376\n",
      "mAP@10: 0.9588\n",
      "mAP@15: 0.9650\n",
      "mAP@20: 0.9705\n",
      "107|347 - Pycnopodia_helianthoides_full_event-unaware_training-split_2024-05-03-18-13__2024-05-07-00-22-52__1__densenet121__PT-True - Pycnopodia_helianthoides_full_event-unaware_training-split_2024-05-03-18-13\n",
      "Gallery dataset path: ..\\..\\data\\Pycnopodia_helianthoides_full_event-unaware_training-split_2024-05-03-18-13\\train True\n",
      "Query dataset path: ..\\..\\data\\Pycnopodia_helianthoides_full_event-unaware_training-split_2024-05-03-18-13\\test True\n",
      "Number of identities: 271\n",
      "Number of gallery images: 5163\n",
      "Number of query images: 1458\n"
     ]
    },
    {
     "name": "stderr",
     "output_type": "stream",
     "text": [
      "100%|██████████| 5163/5163 [04:36<00:00, 18.70it/s]\n",
      "100%|██████████| 1458/1458 [01:18<00:00, 18.68it/s]\n"
     ]
    },
    {
     "name": "stdout",
     "output_type": "stream",
     "text": [
      "\n",
      "Computed mAP:\n",
      "mAP@1: 0.8731\n",
      "mAP@5: 0.9348\n",
      "mAP@10: 0.9534\n",
      "mAP@15: 0.9609\n",
      "mAP@20: 0.9643\n",
      "108|347 - Pycnopodia_helianthoides_full_event-unaware_training-split_2024-05-03-18-13__2024-05-07-06-02-07__1__densenet121__PT-True - Pycnopodia_helianthoides_full_event-unaware_training-split_2024-05-03-18-13\n",
      "Gallery dataset path: ..\\..\\data\\Pycnopodia_helianthoides_full_event-unaware_training-split_2024-05-03-18-13\\train True\n",
      "Query dataset path: ..\\..\\data\\Pycnopodia_helianthoides_full_event-unaware_training-split_2024-05-03-18-13\\test True\n",
      "Number of identities: 271\n",
      "Number of gallery images: 5163\n",
      "Number of query images: 1458\n"
     ]
    },
    {
     "name": "stderr",
     "output_type": "stream",
     "text": [
      "100%|██████████| 5163/5163 [04:36<00:00, 18.65it/s]\n",
      "100%|██████████| 1458/1458 [01:16<00:00, 18.98it/s]\n"
     ]
    },
    {
     "name": "stdout",
     "output_type": "stream",
     "text": [
      "\n",
      "Computed mAP:\n",
      "mAP@1: 0.9218\n",
      "mAP@5: 0.9554\n",
      "mAP@10: 0.9678\n",
      "mAP@15: 0.9712\n",
      "mAP@20: 0.9739\n",
      "109|347 - Pycnopodia_helianthoides_full_event-unaware_training-split_2024-05-03-18-13__2024-05-07-06-15-19__0__densenet121__PT-True - Pycnopodia_helianthoides_full_event-unaware_training-split_2024-05-03-18-13\n",
      "Gallery dataset path: ..\\..\\data\\Pycnopodia_helianthoides_full_event-unaware_training-split_2024-05-03-18-13\\train True\n",
      "Query dataset path: ..\\..\\data\\Pycnopodia_helianthoides_full_event-unaware_training-split_2024-05-03-18-13\\test True\n",
      "Number of identities: 271\n",
      "Number of gallery images: 5163\n",
      "Number of query images: 1458\n"
     ]
    },
    {
     "name": "stderr",
     "output_type": "stream",
     "text": [
      "100%|██████████| 5163/5163 [04:32<00:00, 18.98it/s]\n",
      "100%|██████████| 1458/1458 [01:16<00:00, 18.94it/s]\n"
     ]
    },
    {
     "name": "stdout",
     "output_type": "stream",
     "text": [
      "\n",
      "Computed mAP:\n",
      "mAP@1: 0.9218\n",
      "mAP@5: 0.9492\n",
      "mAP@10: 0.9630\n",
      "mAP@15: 0.9712\n",
      "mAP@20: 0.9753\n",
      "110|347 - Pycnopodia_helianthoides_full_event-unaware_training-split_2024-05-03-18-13__2024-05-07-12-45-07__1__densenet121__PT-True - Pycnopodia_helianthoides_full_event-unaware_training-split_2024-05-03-18-13\n",
      "Gallery dataset path: ..\\..\\data\\Pycnopodia_helianthoides_full_event-unaware_training-split_2024-05-03-18-13\\train True\n",
      "Query dataset path: ..\\..\\data\\Pycnopodia_helianthoides_full_event-unaware_training-split_2024-05-03-18-13\\test True\n",
      "Number of identities: 271\n",
      "Number of gallery images: 5163\n",
      "Number of query images: 1458\n"
     ]
    },
    {
     "name": "stderr",
     "output_type": "stream",
     "text": [
      "100%|██████████| 5163/5163 [04:33<00:00, 18.86it/s]\n",
      "100%|██████████| 1458/1458 [01:17<00:00, 18.83it/s]\n"
     ]
    },
    {
     "name": "stdout",
     "output_type": "stream",
     "text": [
      "\n",
      "Computed mAP:\n",
      "mAP@1: 0.9102\n",
      "mAP@5: 0.9547\n",
      "mAP@10: 0.9616\n",
      "mAP@15: 0.9657\n",
      "mAP@20: 0.9691\n",
      "111|347 - Pycnopodia_helianthoides_full_event-unaware_training-split_2024-05-03-18-13__2024-05-07-12-49-30__0__densenet121__PT-True - Pycnopodia_helianthoides_full_event-unaware_training-split_2024-05-03-18-13\n",
      "Gallery dataset path: ..\\..\\data\\Pycnopodia_helianthoides_full_event-unaware_training-split_2024-05-03-18-13\\train True\n",
      "Query dataset path: ..\\..\\data\\Pycnopodia_helianthoides_full_event-unaware_training-split_2024-05-03-18-13\\test True\n",
      "Number of identities: 271\n",
      "Number of gallery images: 5163\n",
      "Number of query images: 1458\n"
     ]
    },
    {
     "name": "stderr",
     "output_type": "stream",
     "text": [
      "100%|██████████| 5163/5163 [04:32<00:00, 18.92it/s]\n",
      "100%|██████████| 1458/1458 [01:17<00:00, 18.81it/s]\n"
     ]
    },
    {
     "name": "stdout",
     "output_type": "stream",
     "text": [
      "\n",
      "Computed mAP:\n",
      "mAP@1: 0.9115\n",
      "mAP@5: 0.9554\n",
      "mAP@10: 0.9664\n",
      "mAP@15: 0.9705\n",
      "mAP@20: 0.9753\n",
      "112|347 - Pycnopodia_helianthoides_full_event-unaware_training-split_2024-05-03-18-13__2024-05-07-22-22-09__1__densenet121__PT-True - Pycnopodia_helianthoides_full_event-unaware_training-split_2024-05-03-18-13\n",
      "Gallery dataset path: ..\\..\\data\\Pycnopodia_helianthoides_full_event-unaware_training-split_2024-05-03-18-13\\train True\n",
      "Query dataset path: ..\\..\\data\\Pycnopodia_helianthoides_full_event-unaware_training-split_2024-05-03-18-13\\test True\n",
      "Number of identities: 271\n",
      "Number of gallery images: 5163\n",
      "Number of query images: 1458\n"
     ]
    },
    {
     "name": "stderr",
     "output_type": "stream",
     "text": [
      "100%|██████████| 5163/5163 [04:33<00:00, 18.86it/s]\n",
      "100%|██████████| 1458/1458 [01:16<00:00, 18.99it/s]\n"
     ]
    },
    {
     "name": "stdout",
     "output_type": "stream",
     "text": [
      "\n",
      "Computed mAP:\n",
      "mAP@1: 0.9081\n",
      "mAP@5: 0.9499\n",
      "mAP@10: 0.9643\n",
      "mAP@15: 0.9733\n",
      "mAP@20: 0.9774\n",
      "113|347 - Pycnopodia_helianthoides_full_event-unaware_training-split_2024-05-03-18-13__2024-05-07-22-25-49__0__densenet121__PT-True - Pycnopodia_helianthoides_full_event-unaware_training-split_2024-05-03-18-13\n",
      "Gallery dataset path: ..\\..\\data\\Pycnopodia_helianthoides_full_event-unaware_training-split_2024-05-03-18-13\\train True\n",
      "Query dataset path: ..\\..\\data\\Pycnopodia_helianthoides_full_event-unaware_training-split_2024-05-03-18-13\\test True\n",
      "Number of identities: 271\n",
      "Number of gallery images: 5163\n",
      "Number of query images: 1458\n"
     ]
    },
    {
     "name": "stderr",
     "output_type": "stream",
     "text": [
      "100%|██████████| 5163/5163 [04:18<00:00, 19.93it/s]\n",
      "100%|██████████| 1458/1458 [00:52<00:00, 27.95it/s]\n"
     ]
    },
    {
     "name": "stdout",
     "output_type": "stream",
     "text": [
      "\n",
      "Computed mAP:\n",
      "mAP@1: 0.8717\n",
      "mAP@5: 0.9362\n",
      "mAP@10: 0.9534\n",
      "mAP@15: 0.9650\n",
      "mAP@20: 0.9719\n",
      "114|347 - Pycnopodia_helianthoides_full_event-unaware_training-split_2024-05-03-18-13__2024-05-08-03-16-10__1__densenet121__PT-True - Pycnopodia_helianthoides_full_event-unaware_training-split_2024-05-03-18-13\n",
      "Gallery dataset path: ..\\..\\data\\Pycnopodia_helianthoides_full_event-unaware_training-split_2024-05-03-18-13\\train True\n",
      "Query dataset path: ..\\..\\data\\Pycnopodia_helianthoides_full_event-unaware_training-split_2024-05-03-18-13\\test True\n",
      "Number of identities: 271\n",
      "Number of gallery images: 5163\n",
      "Number of query images: 1458\n"
     ]
    },
    {
     "name": "stderr",
     "output_type": "stream",
     "text": [
      "100%|██████████| 5163/5163 [03:01<00:00, 28.45it/s]\n",
      "100%|██████████| 1458/1458 [00:52<00:00, 27.95it/s]\n"
     ]
    },
    {
     "name": "stdout",
     "output_type": "stream",
     "text": [
      "\n",
      "Computed mAP:\n",
      "mAP@1: 0.9095\n",
      "mAP@5: 0.9540\n",
      "mAP@10: 0.9643\n",
      "mAP@15: 0.9684\n",
      "mAP@20: 0.9733\n",
      "115|347 - Pycnopodia_helianthoides_full_event-unaware_training-split_2024-05-03-18-13__2024-05-08-03-17-08__0__densenet121__PT-True - Pycnopodia_helianthoides_full_event-unaware_training-split_2024-05-03-18-13\n",
      "Gallery dataset path: ..\\..\\data\\Pycnopodia_helianthoides_full_event-unaware_training-split_2024-05-03-18-13\\train True\n",
      "Query dataset path: ..\\..\\data\\Pycnopodia_helianthoides_full_event-unaware_training-split_2024-05-03-18-13\\test True\n",
      "Number of identities: 271\n",
      "Number of gallery images: 5163\n",
      "Number of query images: 1458\n"
     ]
    },
    {
     "name": "stderr",
     "output_type": "stream",
     "text": [
      "100%|██████████| 5163/5163 [03:03<00:00, 28.14it/s]\n",
      "100%|██████████| 1458/1458 [00:51<00:00, 28.46it/s]\n"
     ]
    },
    {
     "name": "stdout",
     "output_type": "stream",
     "text": [
      "\n",
      "Computed mAP:\n",
      "mAP@1: 0.8868\n",
      "mAP@5: 0.9431\n",
      "mAP@10: 0.9568\n",
      "mAP@15: 0.9630\n",
      "mAP@20: 0.9657\n",
      "116|347 - Pycnopodia_helianthoides_full_event-unaware_training-split_2024-05-03-18-13__2024-05-08-07-16-42__0__densenet121__PT-True - Pycnopodia_helianthoides_full_event-unaware_training-split_2024-05-03-18-13\n",
      "Gallery dataset path: ..\\..\\data\\Pycnopodia_helianthoides_full_event-unaware_training-split_2024-05-03-18-13\\train True\n",
      "Query dataset path: ..\\..\\data\\Pycnopodia_helianthoides_full_event-unaware_training-split_2024-05-03-18-13\\test True\n",
      "Number of identities: 271\n",
      "Number of gallery images: 5163\n",
      "Number of query images: 1458\n"
     ]
    },
    {
     "name": "stderr",
     "output_type": "stream",
     "text": [
      "100%|██████████| 5163/5163 [03:09<00:00, 27.28it/s]\n",
      "100%|██████████| 1458/1458 [00:51<00:00, 28.48it/s]\n"
     ]
    },
    {
     "name": "stdout",
     "output_type": "stream",
     "text": [
      "\n",
      "Computed mAP:\n",
      "mAP@1: 0.8738\n",
      "mAP@5: 0.9396\n",
      "mAP@10: 0.9582\n",
      "mAP@15: 0.9678\n",
      "mAP@20: 0.9691\n",
      "117|347 - Pycnopodia_helianthoides_full_event-unaware_training-split_2024-05-03-18-13__2024-05-08-07-18-36__1__densenet121__PT-True - Pycnopodia_helianthoides_full_event-unaware_training-split_2024-05-03-18-13\n",
      "Gallery dataset path: ..\\..\\data\\Pycnopodia_helianthoides_full_event-unaware_training-split_2024-05-03-18-13\\train True\n",
      "Query dataset path: ..\\..\\data\\Pycnopodia_helianthoides_full_event-unaware_training-split_2024-05-03-18-13\\test True\n",
      "Number of identities: 271\n",
      "Number of gallery images: 5163\n",
      "Number of query images: 1458\n"
     ]
    },
    {
     "name": "stderr",
     "output_type": "stream",
     "text": [
      "100%|██████████| 5163/5163 [03:03<00:00, 28.07it/s]\n",
      "100%|██████████| 1458/1458 [00:51<00:00, 28.11it/s]\n"
     ]
    },
    {
     "name": "stdout",
     "output_type": "stream",
     "text": [
      "\n",
      "Computed mAP:\n",
      "mAP@1: 0.9060\n",
      "mAP@5: 0.9486\n",
      "mAP@10: 0.9609\n",
      "mAP@15: 0.9664\n",
      "mAP@20: 0.9705\n",
      "118|347 - Pycnopodia_helianthoides_full_event-unaware_training-split_2024-05-03-18-13__2024-05-08-11-39-43__0__densenet121__PT-True - Pycnopodia_helianthoides_full_event-unaware_training-split_2024-05-03-18-13\n",
      "Gallery dataset path: ..\\..\\data\\Pycnopodia_helianthoides_full_event-unaware_training-split_2024-05-03-18-13\\train True\n",
      "Query dataset path: ..\\..\\data\\Pycnopodia_helianthoides_full_event-unaware_training-split_2024-05-03-18-13\\test True\n",
      "Number of identities: 271\n",
      "Number of gallery images: 5163\n",
      "Number of query images: 1458\n"
     ]
    },
    {
     "name": "stderr",
     "output_type": "stream",
     "text": [
      "100%|██████████| 5163/5163 [03:02<00:00, 28.29it/s]\n",
      "100%|██████████| 1458/1458 [00:51<00:00, 28.26it/s]\n"
     ]
    },
    {
     "name": "stdout",
     "output_type": "stream",
     "text": [
      "\n",
      "Computed mAP:\n",
      "mAP@1: 0.8676\n",
      "mAP@5: 0.9335\n",
      "mAP@10: 0.9582\n",
      "mAP@15: 0.9657\n",
      "mAP@20: 0.9698\n",
      "119|347 - Pycnopodia_helianthoides_full_event-unaware_training-split_2024-05-03-18-13__2024-05-08-11-40-27__1__densenet121__PT-True - Pycnopodia_helianthoides_full_event-unaware_training-split_2024-05-03-18-13\n",
      "Gallery dataset path: ..\\..\\data\\Pycnopodia_helianthoides_full_event-unaware_training-split_2024-05-03-18-13\\train True\n",
      "Query dataset path: ..\\..\\data\\Pycnopodia_helianthoides_full_event-unaware_training-split_2024-05-03-18-13\\test True\n",
      "Number of identities: 271\n",
      "Number of gallery images: 5163\n",
      "Number of query images: 1458\n"
     ]
    },
    {
     "name": "stderr",
     "output_type": "stream",
     "text": [
      "100%|██████████| 5163/5163 [03:01<00:00, 28.46it/s]\n",
      "100%|██████████| 1458/1458 [00:51<00:00, 28.56it/s]\n"
     ]
    },
    {
     "name": "stdout",
     "output_type": "stream",
     "text": [
      "\n",
      "Computed mAP:\n",
      "mAP@1: 0.9088\n",
      "mAP@5: 0.9561\n",
      "mAP@10: 0.9691\n",
      "mAP@15: 0.9739\n",
      "mAP@20: 0.9753\n",
      "120|347 - Pycnopodia_helianthoides_full_event-unaware_training-split_2024-05-03-18-13__2024-05-08-16-08-47__1__densenet121__PT-True - Pycnopodia_helianthoides_full_event-unaware_training-split_2024-05-03-18-13\n",
      "Gallery dataset path: ..\\..\\data\\Pycnopodia_helianthoides_full_event-unaware_training-split_2024-05-03-18-13\\train True\n",
      "Query dataset path: ..\\..\\data\\Pycnopodia_helianthoides_full_event-unaware_training-split_2024-05-03-18-13\\test True\n",
      "Number of identities: 271\n",
      "Number of gallery images: 5163\n",
      "Number of query images: 1458\n"
     ]
    },
    {
     "name": "stderr",
     "output_type": "stream",
     "text": [
      "100%|██████████| 5163/5163 [03:05<00:00, 27.87it/s]\n",
      "100%|██████████| 1458/1458 [00:52<00:00, 27.95it/s]\n"
     ]
    },
    {
     "name": "stdout",
     "output_type": "stream",
     "text": [
      "\n",
      "Computed mAP:\n",
      "mAP@1: 0.8951\n",
      "mAP@5: 0.9465\n",
      "mAP@10: 0.9609\n",
      "mAP@15: 0.9678\n",
      "mAP@20: 0.9746\n",
      "121|347 - Pycnopodia_helianthoides_full_event-unaware_training-split_2024-05-03-18-13__2024-05-08-16-10-46__0__densenet121__PT-True - Pycnopodia_helianthoides_full_event-unaware_training-split_2024-05-03-18-13\n",
      "Gallery dataset path: ..\\..\\data\\Pycnopodia_helianthoides_full_event-unaware_training-split_2024-05-03-18-13\\train True\n",
      "Query dataset path: ..\\..\\data\\Pycnopodia_helianthoides_full_event-unaware_training-split_2024-05-03-18-13\\test True\n",
      "Number of identities: 271\n",
      "Number of gallery images: 5163\n",
      "Number of query images: 1458\n"
     ]
    },
    {
     "name": "stderr",
     "output_type": "stream",
     "text": [
      "100%|██████████| 5163/5163 [03:02<00:00, 28.29it/s]\n",
      "100%|██████████| 1458/1458 [00:51<00:00, 28.35it/s]\n"
     ]
    },
    {
     "name": "stdout",
     "output_type": "stream",
     "text": [
      "\n",
      "Computed mAP:\n",
      "mAP@1: 0.8690\n",
      "mAP@5: 0.9259\n",
      "mAP@10: 0.9499\n",
      "mAP@15: 0.9616\n",
      "mAP@20: 0.9671\n",
      "122|347 - Pycnopodia_helianthoides_full_event-unaware_training-split_2024-05-03-18-13__2024-05-08-20-37-03__0__densenet121__PT-True - Pycnopodia_helianthoides_full_event-unaware_training-split_2024-05-03-18-13\n",
      "Gallery dataset path: ..\\..\\data\\Pycnopodia_helianthoides_full_event-unaware_training-split_2024-05-03-18-13\\train True\n",
      "Query dataset path: ..\\..\\data\\Pycnopodia_helianthoides_full_event-unaware_training-split_2024-05-03-18-13\\test True\n",
      "Number of identities: 271\n",
      "Number of gallery images: 5163\n",
      "Number of query images: 1458\n"
     ]
    },
    {
     "name": "stderr",
     "output_type": "stream",
     "text": [
      "100%|██████████| 5163/5163 [03:07<00:00, 27.52it/s]\n",
      "100%|██████████| 1458/1458 [00:51<00:00, 28.36it/s]\n"
     ]
    },
    {
     "name": "stdout",
     "output_type": "stream",
     "text": [
      "\n",
      "Computed mAP:\n",
      "mAP@1: 0.8704\n",
      "mAP@5: 0.9355\n",
      "mAP@10: 0.9540\n",
      "mAP@15: 0.9630\n",
      "mAP@20: 0.9671\n",
      "123|347 - Pycnopodia_helianthoides_full_event-unaware_training-split_2024-05-03-18-13__2024-05-08-20-38-41__1__densenet121__PT-True - Pycnopodia_helianthoides_full_event-unaware_training-split_2024-05-03-18-13\n",
      "Gallery dataset path: ..\\..\\data\\Pycnopodia_helianthoides_full_event-unaware_training-split_2024-05-03-18-13\\train True\n",
      "Query dataset path: ..\\..\\data\\Pycnopodia_helianthoides_full_event-unaware_training-split_2024-05-03-18-13\\test True\n",
      "Number of identities: 271\n",
      "Number of gallery images: 5163\n",
      "Number of query images: 1458\n"
     ]
    },
    {
     "name": "stderr",
     "output_type": "stream",
     "text": [
      "100%|██████████| 5163/5163 [03:01<00:00, 28.40it/s]\n",
      "100%|██████████| 1458/1458 [00:50<00:00, 28.63it/s]\n"
     ]
    },
    {
     "name": "stdout",
     "output_type": "stream",
     "text": [
      "\n",
      "Computed mAP:\n",
      "mAP@1: 0.8978\n",
      "mAP@5: 0.9472\n",
      "mAP@10: 0.9678\n",
      "mAP@15: 0.9739\n",
      "mAP@20: 0.9746\n",
      "124|347 - Pycnopodia_helianthoides_full_event-unaware_training-split_2024-05-03-18-41__2024-05-05-21-18-53__1__densenet121__PT-True - Pycnopodia_helianthoides_full_event-unaware_training-split_2024-05-03-18-41\n",
      "Gallery dataset path: ..\\..\\data\\Pycnopodia_helianthoides_full_event-unaware_training-split_2024-05-03-18-41\\train True\n",
      "Query dataset path: ..\\..\\data\\Pycnopodia_helianthoides_full_event-unaware_training-split_2024-05-03-18-41\\test True\n",
      "Number of identities: 271\n",
      "Number of gallery images: 5159\n",
      "Number of query images: 1455\n"
     ]
    },
    {
     "name": "stderr",
     "output_type": "stream",
     "text": [
      "100%|██████████| 5159/5159 [03:02<00:00, 28.34it/s]\n",
      "100%|██████████| 1455/1455 [00:50<00:00, 28.62it/s]\n"
     ]
    },
    {
     "name": "stdout",
     "output_type": "stream",
     "text": [
      "\n",
      "Computed mAP:\n",
      "mAP@1: 0.8680\n",
      "mAP@5: 0.9416\n",
      "mAP@10: 0.9581\n",
      "mAP@15: 0.9649\n",
      "mAP@20: 0.9704\n",
      "125|347 - Pycnopodia_helianthoides_full_event-unaware_training-split_2024-05-03-18-41__2024-05-05-21-33-12__0__densenet121__PT-True - Pycnopodia_helianthoides_full_event-unaware_training-split_2024-05-03-18-41\n",
      "Gallery dataset path: ..\\..\\data\\Pycnopodia_helianthoides_full_event-unaware_training-split_2024-05-03-18-41\\train True\n",
      "Query dataset path: ..\\..\\data\\Pycnopodia_helianthoides_full_event-unaware_training-split_2024-05-03-18-41\\test True\n",
      "Number of identities: 271\n",
      "Number of gallery images: 5159\n",
      "Number of query images: 1455\n"
     ]
    },
    {
     "name": "stderr",
     "output_type": "stream",
     "text": [
      "100%|██████████| 5159/5159 [03:02<00:00, 28.25it/s]\n",
      "100%|██████████| 1455/1455 [00:51<00:00, 27.99it/s]\n"
     ]
    },
    {
     "name": "stdout",
     "output_type": "stream",
     "text": [
      "\n",
      "Computed mAP:\n",
      "mAP@1: 0.8914\n",
      "mAP@5: 0.9512\n",
      "mAP@10: 0.9608\n",
      "mAP@15: 0.9663\n",
      "mAP@20: 0.9698\n",
      "126|347 - Pycnopodia_helianthoides_full_event-unaware_training-split_2024-05-03-18-41__2024-05-06-03-19-05__1__densenet121__PT-True - Pycnopodia_helianthoides_full_event-unaware_training-split_2024-05-03-18-41\n",
      "Gallery dataset path: ..\\..\\data\\Pycnopodia_helianthoides_full_event-unaware_training-split_2024-05-03-18-41\\train True\n",
      "Query dataset path: ..\\..\\data\\Pycnopodia_helianthoides_full_event-unaware_training-split_2024-05-03-18-41\\test True\n",
      "Number of identities: 271\n",
      "Number of gallery images: 5159\n",
      "Number of query images: 1455\n"
     ]
    },
    {
     "name": "stderr",
     "output_type": "stream",
     "text": [
      "100%|██████████| 5159/5159 [03:03<00:00, 28.10it/s]\n",
      "100%|██████████| 1455/1455 [00:51<00:00, 28.43it/s]\n"
     ]
    },
    {
     "name": "stdout",
     "output_type": "stream",
     "text": [
      "\n",
      "Computed mAP:\n",
      "mAP@1: 0.8172\n",
      "mAP@5: 0.9120\n",
      "mAP@10: 0.9381\n",
      "mAP@15: 0.9464\n",
      "mAP@20: 0.9512\n",
      "127|347 - Pycnopodia_helianthoides_full_event-unaware_training-split_2024-05-03-18-41__2024-05-06-03-22-39__0__densenet121__PT-True - Pycnopodia_helianthoides_full_event-unaware_training-split_2024-05-03-18-41\n",
      "Gallery dataset path: ..\\..\\data\\Pycnopodia_helianthoides_full_event-unaware_training-split_2024-05-03-18-41\\train True\n",
      "Query dataset path: ..\\..\\data\\Pycnopodia_helianthoides_full_event-unaware_training-split_2024-05-03-18-41\\test True\n",
      "Number of identities: 271\n",
      "Number of gallery images: 5159\n",
      "Number of query images: 1455\n"
     ]
    },
    {
     "name": "stderr",
     "output_type": "stream",
     "text": [
      "100%|██████████| 5159/5159 [03:02<00:00, 28.32it/s]\n",
      "100%|██████████| 1455/1455 [00:50<00:00, 28.55it/s]\n"
     ]
    },
    {
     "name": "stdout",
     "output_type": "stream",
     "text": [
      "\n",
      "Computed mAP:\n",
      "mAP@1: 0.8515\n",
      "mAP@5: 0.9340\n",
      "mAP@10: 0.9581\n",
      "mAP@15: 0.9649\n",
      "mAP@20: 0.9691\n",
      "128|347 - Pycnopodia_helianthoides_full_event-unaware_training-split_2024-05-03-18-41__2024-05-06-08-38-31__1__densenet121__PT-True - Pycnopodia_helianthoides_full_event-unaware_training-split_2024-05-03-18-41\n",
      "Gallery dataset path: ..\\..\\data\\Pycnopodia_helianthoides_full_event-unaware_training-split_2024-05-03-18-41\\train True\n",
      "Query dataset path: ..\\..\\data\\Pycnopodia_helianthoides_full_event-unaware_training-split_2024-05-03-18-41\\test True\n",
      "Number of identities: 271\n",
      "Number of gallery images: 5159\n",
      "Number of query images: 1455\n"
     ]
    },
    {
     "name": "stderr",
     "output_type": "stream",
     "text": [
      "100%|██████████| 5159/5159 [03:00<00:00, 28.52it/s]\n",
      "100%|██████████| 1455/1455 [00:51<00:00, 28.18it/s]\n"
     ]
    },
    {
     "name": "stdout",
     "output_type": "stream",
     "text": [
      "\n",
      "Computed mAP:\n",
      "mAP@1: 0.7821\n",
      "mAP@5: 0.8948\n",
      "mAP@10: 0.9265\n",
      "mAP@15: 0.9354\n",
      "mAP@20: 0.9450\n",
      "129|347 - Pycnopodia_helianthoides_full_event-unaware_training-split_2024-05-03-18-41__2024-05-06-08-42-15__0__densenet121__PT-True - Pycnopodia_helianthoides_full_event-unaware_training-split_2024-05-03-18-41\n",
      "Gallery dataset path: ..\\..\\data\\Pycnopodia_helianthoides_full_event-unaware_training-split_2024-05-03-18-41\\train True\n",
      "Query dataset path: ..\\..\\data\\Pycnopodia_helianthoides_full_event-unaware_training-split_2024-05-03-18-41\\test True\n",
      "Number of identities: 271\n",
      "Number of gallery images: 5159\n",
      "Number of query images: 1455\n"
     ]
    },
    {
     "name": "stderr",
     "output_type": "stream",
     "text": [
      "100%|██████████| 5159/5159 [03:02<00:00, 28.27it/s]\n",
      "100%|██████████| 1455/1455 [00:51<00:00, 28.19it/s]\n"
     ]
    },
    {
     "name": "stdout",
     "output_type": "stream",
     "text": [
      "\n",
      "Computed mAP:\n",
      "mAP@1: 0.8082\n",
      "mAP@5: 0.9203\n",
      "mAP@10: 0.9464\n",
      "mAP@15: 0.9595\n",
      "mAP@20: 0.9663\n",
      "130|347 - Pycnopodia_helianthoides_full_event-unaware_training-split_2024-05-03-18-41__2024-05-06-14-07-17__1__densenet121__PT-True - Pycnopodia_helianthoides_full_event-unaware_training-split_2024-05-03-18-41\n",
      "Gallery dataset path: ..\\..\\data\\Pycnopodia_helianthoides_full_event-unaware_training-split_2024-05-03-18-41\\train True\n",
      "Query dataset path: ..\\..\\data\\Pycnopodia_helianthoides_full_event-unaware_training-split_2024-05-03-18-41\\test True\n",
      "Number of identities: 271\n",
      "Number of gallery images: 5159\n",
      "Number of query images: 1455\n"
     ]
    },
    {
     "name": "stderr",
     "output_type": "stream",
     "text": [
      "100%|██████████| 5159/5159 [03:03<00:00, 28.14it/s]\n",
      "100%|██████████| 1455/1455 [00:51<00:00, 28.46it/s]\n"
     ]
    },
    {
     "name": "stdout",
     "output_type": "stream",
     "text": [
      "\n",
      "Computed mAP:\n",
      "mAP@1: 0.9045\n",
      "mAP@5: 0.9519\n",
      "mAP@10: 0.9636\n",
      "mAP@15: 0.9691\n",
      "mAP@20: 0.9732\n",
      "131|347 - Pycnopodia_helianthoides_full_event-unaware_training-split_2024-05-03-18-41__2024-05-06-14-20-29__0__densenet121__PT-True - Pycnopodia_helianthoides_full_event-unaware_training-split_2024-05-03-18-41\n",
      "Gallery dataset path: ..\\..\\data\\Pycnopodia_helianthoides_full_event-unaware_training-split_2024-05-03-18-41\\train True\n",
      "Query dataset path: ..\\..\\data\\Pycnopodia_helianthoides_full_event-unaware_training-split_2024-05-03-18-41\\test True\n",
      "Number of identities: 271\n",
      "Number of gallery images: 5159\n",
      "Number of query images: 1455\n"
     ]
    },
    {
     "name": "stderr",
     "output_type": "stream",
     "text": [
      "100%|██████████| 5159/5159 [03:00<00:00, 28.59it/s]\n",
      "100%|██████████| 1455/1455 [00:50<00:00, 28.68it/s]\n"
     ]
    },
    {
     "name": "stdout",
     "output_type": "stream",
     "text": [
      "\n",
      "Computed mAP:\n",
      "mAP@1: 0.9162\n",
      "mAP@5: 0.9608\n",
      "mAP@10: 0.9732\n",
      "mAP@15: 0.9780\n",
      "mAP@20: 0.9808\n",
      "132|347 - Pycnopodia_helianthoides_full_event-unaware_training-split_2024-05-03-18-41__2024-05-06-19-39-41__1__densenet121__PT-True - Pycnopodia_helianthoides_full_event-unaware_training-split_2024-05-03-18-41\n",
      "Gallery dataset path: ..\\..\\data\\Pycnopodia_helianthoides_full_event-unaware_training-split_2024-05-03-18-41\\train True\n",
      "Query dataset path: ..\\..\\data\\Pycnopodia_helianthoides_full_event-unaware_training-split_2024-05-03-18-41\\test True\n",
      "Number of identities: 271\n",
      "Number of gallery images: 5159\n",
      "Number of query images: 1455\n"
     ]
    },
    {
     "name": "stderr",
     "output_type": "stream",
     "text": [
      "100%|██████████| 5159/5159 [03:02<00:00, 28.31it/s]\n",
      "100%|██████████| 1455/1455 [00:51<00:00, 28.17it/s]\n"
     ]
    },
    {
     "name": "stdout",
     "output_type": "stream",
     "text": [
      "\n",
      "Computed mAP:\n",
      "mAP@1: 0.8900\n",
      "mAP@5: 0.9478\n",
      "mAP@10: 0.9567\n",
      "mAP@15: 0.9608\n",
      "mAP@20: 0.9643\n",
      "133|347 - Pycnopodia_helianthoides_full_event-unaware_training-split_2024-05-03-18-41__2024-05-06-19-40-19__0__densenet121__PT-True - Pycnopodia_helianthoides_full_event-unaware_training-split_2024-05-03-18-41\n",
      "Gallery dataset path: ..\\..\\data\\Pycnopodia_helianthoides_full_event-unaware_training-split_2024-05-03-18-41\\train True\n",
      "Query dataset path: ..\\..\\data\\Pycnopodia_helianthoides_full_event-unaware_training-split_2024-05-03-18-41\\test True\n",
      "Number of identities: 271\n",
      "Number of gallery images: 5159\n",
      "Number of query images: 1455\n"
     ]
    },
    {
     "name": "stderr",
     "output_type": "stream",
     "text": [
      "100%|██████████| 5159/5159 [03:04<00:00, 27.91it/s]\n",
      "100%|██████████| 1455/1455 [00:51<00:00, 28.16it/s]\n"
     ]
    },
    {
     "name": "stdout",
     "output_type": "stream",
     "text": [
      "\n",
      "Computed mAP:\n",
      "mAP@1: 0.8997\n",
      "mAP@5: 0.9553\n",
      "mAP@10: 0.9643\n",
      "mAP@15: 0.9691\n",
      "mAP@20: 0.9711\n",
      "134|347 - Pycnopodia_helianthoides_full_event-unaware_training-split_2024-05-03-18-41__2024-05-07-01-05-31__0__densenet121__PT-True - Pycnopodia_helianthoides_full_event-unaware_training-split_2024-05-03-18-41\n",
      "Gallery dataset path: ..\\..\\data\\Pycnopodia_helianthoides_full_event-unaware_training-split_2024-05-03-18-41\\train True\n",
      "Query dataset path: ..\\..\\data\\Pycnopodia_helianthoides_full_event-unaware_training-split_2024-05-03-18-41\\test True\n",
      "Number of identities: 271\n",
      "Number of gallery images: 5159\n",
      "Number of query images: 1455\n"
     ]
    },
    {
     "name": "stderr",
     "output_type": "stream",
     "text": [
      "100%|██████████| 5159/5159 [03:01<00:00, 28.48it/s]\n",
      "100%|██████████| 1455/1455 [00:51<00:00, 28.01it/s]\n"
     ]
    },
    {
     "name": "stdout",
     "output_type": "stream",
     "text": [
      "\n",
      "Computed mAP:\n",
      "mAP@1: 0.8845\n",
      "mAP@5: 0.9464\n",
      "mAP@10: 0.9649\n",
      "mAP@15: 0.9711\n",
      "mAP@20: 0.9794\n",
      "135|347 - Pycnopodia_helianthoides_full_event-unaware_training-split_2024-05-03-18-41__2024-05-07-01-06-28__1__densenet121__PT-True - Pycnopodia_helianthoides_full_event-unaware_training-split_2024-05-03-18-41\n",
      "Gallery dataset path: ..\\..\\data\\Pycnopodia_helianthoides_full_event-unaware_training-split_2024-05-03-18-41\\train True\n",
      "Query dataset path: ..\\..\\data\\Pycnopodia_helianthoides_full_event-unaware_training-split_2024-05-03-18-41\\test True\n",
      "Number of identities: 271\n",
      "Number of gallery images: 5159\n",
      "Number of query images: 1455\n"
     ]
    },
    {
     "name": "stderr",
     "output_type": "stream",
     "text": [
      "100%|██████████| 5159/5159 [03:01<00:00, 28.41it/s]\n",
      "100%|██████████| 1455/1455 [00:52<00:00, 27.96it/s]\n"
     ]
    },
    {
     "name": "stdout",
     "output_type": "stream",
     "text": [
      "\n",
      "Computed mAP:\n",
      "mAP@1: 0.8619\n",
      "mAP@5: 0.9340\n",
      "mAP@10: 0.9526\n",
      "mAP@15: 0.9595\n",
      "mAP@20: 0.9615\n",
      "136|347 - Pycnopodia_helianthoides_full_event-unaware_training-split_2024-05-03-18-41__2024-05-07-06-40-37__1__densenet121__PT-True - Pycnopodia_helianthoides_full_event-unaware_training-split_2024-05-03-18-41\n",
      "Gallery dataset path: ..\\..\\data\\Pycnopodia_helianthoides_full_event-unaware_training-split_2024-05-03-18-41\\train True\n",
      "Query dataset path: ..\\..\\data\\Pycnopodia_helianthoides_full_event-unaware_training-split_2024-05-03-18-41\\test True\n",
      "Number of identities: 271\n",
      "Number of gallery images: 5159\n",
      "Number of query images: 1455\n"
     ]
    },
    {
     "name": "stderr",
     "output_type": "stream",
     "text": [
      "100%|██████████| 5159/5159 [03:05<00:00, 27.76it/s]\n",
      "100%|██████████| 1455/1455 [00:50<00:00, 28.72it/s]\n"
     ]
    },
    {
     "name": "stdout",
     "output_type": "stream",
     "text": [
      "\n",
      "Computed mAP:\n",
      "mAP@1: 0.9244\n",
      "mAP@5: 0.9560\n",
      "mAP@10: 0.9704\n",
      "mAP@15: 0.9746\n",
      "mAP@20: 0.9780\n",
      "137|347 - Pycnopodia_helianthoides_full_event-unaware_training-split_2024-05-03-18-41__2024-05-07-07-06-49__0__densenet121__PT-True - Pycnopodia_helianthoides_full_event-unaware_training-split_2024-05-03-18-41\n",
      "Gallery dataset path: ..\\..\\data\\Pycnopodia_helianthoides_full_event-unaware_training-split_2024-05-03-18-41\\train True\n",
      "Query dataset path: ..\\..\\data\\Pycnopodia_helianthoides_full_event-unaware_training-split_2024-05-03-18-41\\test True\n",
      "Number of identities: 271\n",
      "Number of gallery images: 5159\n",
      "Number of query images: 1455\n"
     ]
    },
    {
     "name": "stderr",
     "output_type": "stream",
     "text": [
      "100%|██████████| 5159/5159 [03:01<00:00, 28.44it/s]\n",
      "100%|██████████| 1455/1455 [00:50<00:00, 28.66it/s]\n"
     ]
    },
    {
     "name": "stdout",
     "output_type": "stream",
     "text": [
      "\n",
      "Computed mAP:\n",
      "mAP@1: 0.9285\n",
      "mAP@5: 0.9615\n",
      "mAP@10: 0.9732\n",
      "mAP@15: 0.9780\n",
      "mAP@20: 0.9787\n",
      "138|347 - Pycnopodia_helianthoides_full_event-unaware_training-split_2024-05-03-18-41__2024-05-07-13-29-53__1__densenet121__PT-True - Pycnopodia_helianthoides_full_event-unaware_training-split_2024-05-03-18-41\n",
      "Gallery dataset path: ..\\..\\data\\Pycnopodia_helianthoides_full_event-unaware_training-split_2024-05-03-18-41\\train True\n",
      "Query dataset path: ..\\..\\data\\Pycnopodia_helianthoides_full_event-unaware_training-split_2024-05-03-18-41\\test True\n",
      "Number of identities: 271\n",
      "Number of gallery images: 5159\n",
      "Number of query images: 1455\n"
     ]
    },
    {
     "name": "stderr",
     "output_type": "stream",
     "text": [
      "100%|██████████| 5159/5159 [03:01<00:00, 28.46it/s]\n",
      "100%|██████████| 1455/1455 [00:51<00:00, 28.44it/s]\n"
     ]
    },
    {
     "name": "stdout",
     "output_type": "stream",
     "text": [
      "\n",
      "Computed mAP:\n",
      "mAP@1: 0.9127\n",
      "mAP@5: 0.9546\n",
      "mAP@10: 0.9643\n",
      "mAP@15: 0.9725\n",
      "mAP@20: 0.9773\n",
      "139|347 - Pycnopodia_helianthoides_full_event-unaware_training-split_2024-05-03-18-41__2024-05-07-13-38-29__0__densenet121__PT-True - Pycnopodia_helianthoides_full_event-unaware_training-split_2024-05-03-18-41\n",
      "Gallery dataset path: ..\\..\\data\\Pycnopodia_helianthoides_full_event-unaware_training-split_2024-05-03-18-41\\train True\n",
      "Query dataset path: ..\\..\\data\\Pycnopodia_helianthoides_full_event-unaware_training-split_2024-05-03-18-41\\test True\n",
      "Number of identities: 271\n",
      "Number of gallery images: 5159\n",
      "Number of query images: 1455\n"
     ]
    },
    {
     "name": "stderr",
     "output_type": "stream",
     "text": [
      "100%|██████████| 5159/5159 [03:01<00:00, 28.42it/s]\n",
      "100%|██████████| 1455/1455 [00:50<00:00, 28.89it/s]\n"
     ]
    },
    {
     "name": "stdout",
     "output_type": "stream",
     "text": [
      "\n",
      "Computed mAP:\n",
      "mAP@1: 0.9216\n",
      "mAP@5: 0.9622\n",
      "mAP@10: 0.9711\n",
      "mAP@15: 0.9746\n",
      "mAP@20: 0.9787\n",
      "140|347 - Pycnopodia_helianthoides_full_event-unaware_training-split_2024-05-03-18-41__2024-05-07-22-56-42__1__densenet121__PT-True - Pycnopodia_helianthoides_full_event-unaware_training-split_2024-05-03-18-41\n",
      "Gallery dataset path: ..\\..\\data\\Pycnopodia_helianthoides_full_event-unaware_training-split_2024-05-03-18-41\\train True\n",
      "Query dataset path: ..\\..\\data\\Pycnopodia_helianthoides_full_event-unaware_training-split_2024-05-03-18-41\\test True\n",
      "Number of identities: 271\n",
      "Number of gallery images: 5159\n",
      "Number of query images: 1455\n"
     ]
    },
    {
     "name": "stderr",
     "output_type": "stream",
     "text": [
      "100%|██████████| 5159/5159 [03:01<00:00, 28.48it/s]\n",
      "100%|██████████| 1455/1455 [00:51<00:00, 28.15it/s]\n"
     ]
    },
    {
     "name": "stdout",
     "output_type": "stream",
     "text": [
      "\n",
      "Computed mAP:\n",
      "mAP@1: 0.9113\n",
      "mAP@5: 0.9519\n",
      "mAP@10: 0.9636\n",
      "mAP@15: 0.9691\n",
      "mAP@20: 0.9732\n",
      "141|347 - Pycnopodia_helianthoides_full_event-unaware_training-split_2024-05-03-18-41__2024-05-07-23-03-58__0__densenet121__PT-True - Pycnopodia_helianthoides_full_event-unaware_training-split_2024-05-03-18-41\n",
      "Gallery dataset path: ..\\..\\data\\Pycnopodia_helianthoides_full_event-unaware_training-split_2024-05-03-18-41\\train True\n",
      "Query dataset path: ..\\..\\data\\Pycnopodia_helianthoides_full_event-unaware_training-split_2024-05-03-18-41\\test True\n",
      "Number of identities: 271\n",
      "Number of gallery images: 5159\n",
      "Number of query images: 1455\n"
     ]
    },
    {
     "name": "stderr",
     "output_type": "stream",
     "text": [
      "100%|██████████| 5159/5159 [03:02<00:00, 28.26it/s]\n",
      "100%|██████████| 1455/1455 [00:50<00:00, 28.87it/s]\n"
     ]
    },
    {
     "name": "stdout",
     "output_type": "stream",
     "text": [
      "\n",
      "Computed mAP:\n",
      "mAP@1: 0.8921\n",
      "mAP@5: 0.9450\n",
      "mAP@10: 0.9608\n",
      "mAP@15: 0.9670\n",
      "mAP@20: 0.9725\n",
      "142|347 - Pycnopodia_helianthoides_full_event-unaware_training-split_2024-05-03-18-41__2024-05-08-03-45-37__1__densenet121__PT-True - Pycnopodia_helianthoides_full_event-unaware_training-split_2024-05-03-18-41\n",
      "Gallery dataset path: ..\\..\\data\\Pycnopodia_helianthoides_full_event-unaware_training-split_2024-05-03-18-41\\train True\n",
      "Query dataset path: ..\\..\\data\\Pycnopodia_helianthoides_full_event-unaware_training-split_2024-05-03-18-41\\test True\n",
      "Number of identities: 271\n",
      "Number of gallery images: 5159\n",
      "Number of query images: 1455\n"
     ]
    },
    {
     "name": "stderr",
     "output_type": "stream",
     "text": [
      "100%|██████████| 5159/5159 [03:03<00:00, 28.19it/s]\n",
      "100%|██████████| 1455/1455 [00:51<00:00, 28.36it/s]\n"
     ]
    },
    {
     "name": "stdout",
     "output_type": "stream",
     "text": [
      "\n",
      "Computed mAP:\n",
      "mAP@1: 0.9203\n",
      "mAP@5: 0.9567\n",
      "mAP@10: 0.9670\n",
      "mAP@15: 0.9753\n",
      "mAP@20: 0.9794\n",
      "143|347 - Pycnopodia_helianthoides_full_event-unaware_training-split_2024-05-03-18-41__2024-05-08-03-47-20__0__densenet121__PT-True - Pycnopodia_helianthoides_full_event-unaware_training-split_2024-05-03-18-41\n",
      "Gallery dataset path: ..\\..\\data\\Pycnopodia_helianthoides_full_event-unaware_training-split_2024-05-03-18-41\\train True\n",
      "Query dataset path: ..\\..\\data\\Pycnopodia_helianthoides_full_event-unaware_training-split_2024-05-03-18-41\\test True\n",
      "Number of identities: 271\n",
      "Number of gallery images: 5159\n",
      "Number of query images: 1455\n"
     ]
    },
    {
     "name": "stderr",
     "output_type": "stream",
     "text": [
      "100%|██████████| 5159/5159 [03:02<00:00, 28.30it/s]\n",
      "100%|██████████| 1455/1455 [00:51<00:00, 28.23it/s]\n"
     ]
    },
    {
     "name": "stdout",
     "output_type": "stream",
     "text": [
      "\n",
      "Computed mAP:\n",
      "mAP@1: 0.8763\n",
      "mAP@5: 0.9430\n",
      "mAP@10: 0.9608\n",
      "mAP@15: 0.9684\n",
      "mAP@20: 0.9725\n",
      "144|347 - Pycnopodia_helianthoides_full_event-unaware_training-split_2024-05-03-18-41__2024-05-08-07-47-50__0__densenet121__PT-True - Pycnopodia_helianthoides_full_event-unaware_training-split_2024-05-03-18-41\n",
      "Gallery dataset path: ..\\..\\data\\Pycnopodia_helianthoides_full_event-unaware_training-split_2024-05-03-18-41\\train True\n",
      "Query dataset path: ..\\..\\data\\Pycnopodia_helianthoides_full_event-unaware_training-split_2024-05-03-18-41\\test True\n",
      "Number of identities: 271\n",
      "Number of gallery images: 5159\n",
      "Number of query images: 1455\n"
     ]
    },
    {
     "name": "stderr",
     "output_type": "stream",
     "text": [
      "100%|██████████| 5159/5159 [03:02<00:00, 28.33it/s]\n",
      "100%|██████████| 1455/1455 [00:50<00:00, 28.73it/s]\n"
     ]
    },
    {
     "name": "stdout",
     "output_type": "stream",
     "text": [
      "\n",
      "Computed mAP:\n",
      "mAP@1: 0.8777\n",
      "mAP@5: 0.9457\n",
      "mAP@10: 0.9636\n",
      "mAP@15: 0.9663\n",
      "mAP@20: 0.9711\n",
      "145|347 - Pycnopodia_helianthoides_full_event-unaware_training-split_2024-05-03-18-41__2024-05-08-07-51-31__1__densenet121__PT-True - Pycnopodia_helianthoides_full_event-unaware_training-split_2024-05-03-18-41\n",
      "Gallery dataset path: ..\\..\\data\\Pycnopodia_helianthoides_full_event-unaware_training-split_2024-05-03-18-41\\train True\n",
      "Query dataset path: ..\\..\\data\\Pycnopodia_helianthoides_full_event-unaware_training-split_2024-05-03-18-41\\test True\n",
      "Number of identities: 271\n",
      "Number of gallery images: 5159\n",
      "Number of query images: 1455\n"
     ]
    },
    {
     "name": "stderr",
     "output_type": "stream",
     "text": [
      "100%|██████████| 5159/5159 [03:03<00:00, 28.16it/s]\n",
      "100%|██████████| 1455/1455 [00:50<00:00, 28.62it/s]\n"
     ]
    },
    {
     "name": "stdout",
     "output_type": "stream",
     "text": [
      "\n",
      "Computed mAP:\n",
      "mAP@1: 0.9003\n",
      "mAP@5: 0.9540\n",
      "mAP@10: 0.9643\n",
      "mAP@15: 0.9691\n",
      "mAP@20: 0.9739\n",
      "146|347 - Pycnopodia_helianthoides_full_event-unaware_training-split_2024-05-03-18-41__2024-05-08-12-13-28__0__densenet121__PT-True - Pycnopodia_helianthoides_full_event-unaware_training-split_2024-05-03-18-41\n",
      "Gallery dataset path: ..\\..\\data\\Pycnopodia_helianthoides_full_event-unaware_training-split_2024-05-03-18-41\\train True\n",
      "Query dataset path: ..\\..\\data\\Pycnopodia_helianthoides_full_event-unaware_training-split_2024-05-03-18-41\\test True\n",
      "Number of identities: 271\n",
      "Number of gallery images: 5159\n",
      "Number of query images: 1455\n"
     ]
    },
    {
     "name": "stderr",
     "output_type": "stream",
     "text": [
      "100%|██████████| 5159/5159 [03:03<00:00, 28.19it/s]\n",
      "100%|██████████| 1455/1455 [00:50<00:00, 28.68it/s]\n"
     ]
    },
    {
     "name": "stdout",
     "output_type": "stream",
     "text": [
      "\n",
      "Computed mAP:\n",
      "mAP@1: 0.8852\n",
      "mAP@5: 0.9450\n",
      "mAP@10: 0.9629\n",
      "mAP@15: 0.9698\n",
      "mAP@20: 0.9746\n",
      "147|347 - Pycnopodia_helianthoides_full_event-unaware_training-split_2024-05-03-18-41__2024-05-08-12-14-51__1__densenet121__PT-True - Pycnopodia_helianthoides_full_event-unaware_training-split_2024-05-03-18-41\n",
      "Gallery dataset path: ..\\..\\data\\Pycnopodia_helianthoides_full_event-unaware_training-split_2024-05-03-18-41\\train True\n",
      "Query dataset path: ..\\..\\data\\Pycnopodia_helianthoides_full_event-unaware_training-split_2024-05-03-18-41\\test True\n",
      "Number of identities: 271\n",
      "Number of gallery images: 5159\n",
      "Number of query images: 1455\n"
     ]
    },
    {
     "name": "stderr",
     "output_type": "stream",
     "text": [
      "100%|██████████| 5159/5159 [03:02<00:00, 28.22it/s]\n",
      "100%|██████████| 1455/1455 [00:51<00:00, 28.50it/s]\n"
     ]
    },
    {
     "name": "stdout",
     "output_type": "stream",
     "text": [
      "\n",
      "Computed mAP:\n",
      "mAP@1: 0.9141\n",
      "mAP@5: 0.9546\n",
      "mAP@10: 0.9656\n",
      "mAP@15: 0.9718\n",
      "mAP@20: 0.9766\n",
      "148|347 - Pycnopodia_helianthoides_full_event-unaware_training-split_2024-05-03-18-41__2024-05-08-16-41-02__1__densenet121__PT-True - Pycnopodia_helianthoides_full_event-unaware_training-split_2024-05-03-18-41\n",
      "Gallery dataset path: ..\\..\\data\\Pycnopodia_helianthoides_full_event-unaware_training-split_2024-05-03-18-41\\train True\n",
      "Query dataset path: ..\\..\\data\\Pycnopodia_helianthoides_full_event-unaware_training-split_2024-05-03-18-41\\test True\n",
      "Number of identities: 271\n",
      "Number of gallery images: 5159\n",
      "Number of query images: 1455\n"
     ]
    },
    {
     "name": "stderr",
     "output_type": "stream",
     "text": [
      "100%|██████████| 5159/5159 [03:02<00:00, 28.21it/s]\n",
      "100%|██████████| 1455/1455 [00:50<00:00, 28.70it/s]\n"
     ]
    },
    {
     "name": "stdout",
     "output_type": "stream",
     "text": [
      "\n",
      "Computed mAP:\n",
      "mAP@1: 0.9045\n",
      "mAP@5: 0.9546\n",
      "mAP@10: 0.9691\n",
      "mAP@15: 0.9739\n",
      "mAP@20: 0.9787\n",
      "149|347 - Pycnopodia_helianthoides_full_event-unaware_training-split_2024-05-03-18-41__2024-05-08-16-45-00__0__densenet121__PT-True - Pycnopodia_helianthoides_full_event-unaware_training-split_2024-05-03-18-41\n",
      "Gallery dataset path: ..\\..\\data\\Pycnopodia_helianthoides_full_event-unaware_training-split_2024-05-03-18-41\\train True\n",
      "Query dataset path: ..\\..\\data\\Pycnopodia_helianthoides_full_event-unaware_training-split_2024-05-03-18-41\\test True\n",
      "Number of identities: 271\n",
      "Number of gallery images: 5159\n",
      "Number of query images: 1455\n"
     ]
    },
    {
     "name": "stderr",
     "output_type": "stream",
     "text": [
      "100%|██████████| 5159/5159 [03:02<00:00, 28.21it/s]\n",
      "100%|██████████| 1455/1455 [00:51<00:00, 28.26it/s]\n"
     ]
    },
    {
     "name": "stdout",
     "output_type": "stream",
     "text": [
      "\n",
      "Computed mAP:\n",
      "mAP@1: 0.8735\n",
      "mAP@5: 0.9416\n",
      "mAP@10: 0.9601\n",
      "mAP@15: 0.9698\n",
      "mAP@20: 0.9739\n",
      "150|347 - Pycnopodia_helianthoides_full_event-unaware_training-split_2024-05-03-18-41__2024-05-08-21-10-15__0__densenet121__PT-True - Pycnopodia_helianthoides_full_event-unaware_training-split_2024-05-03-18-41\n",
      "Gallery dataset path: ..\\..\\data\\Pycnopodia_helianthoides_full_event-unaware_training-split_2024-05-03-18-41\\train True\n",
      "Query dataset path: ..\\..\\data\\Pycnopodia_helianthoides_full_event-unaware_training-split_2024-05-03-18-41\\test True\n",
      "Number of identities: 271\n",
      "Number of gallery images: 5159\n",
      "Number of query images: 1455\n"
     ]
    },
    {
     "name": "stderr",
     "output_type": "stream",
     "text": [
      "100%|██████████| 5159/5159 [03:03<00:00, 28.13it/s]\n",
      "100%|██████████| 1455/1455 [00:51<00:00, 28.39it/s]\n"
     ]
    },
    {
     "name": "stdout",
     "output_type": "stream",
     "text": [
      "\n",
      "Computed mAP:\n",
      "mAP@1: 0.8708\n",
      "mAP@5: 0.9381\n",
      "mAP@10: 0.9560\n",
      "mAP@15: 0.9656\n",
      "mAP@20: 0.9732\n",
      "151|347 - Pycnopodia_helianthoides_full_event-unaware_training-split_2024-05-03-18-41__2024-05-08-21-13-05__1__densenet121__PT-True - Pycnopodia_helianthoides_full_event-unaware_training-split_2024-05-03-18-41\n",
      "Gallery dataset path: ..\\..\\data\\Pycnopodia_helianthoides_full_event-unaware_training-split_2024-05-03-18-41\\train True\n",
      "Query dataset path: ..\\..\\data\\Pycnopodia_helianthoides_full_event-unaware_training-split_2024-05-03-18-41\\test True\n",
      "Number of identities: 271\n",
      "Number of gallery images: 5159\n",
      "Number of query images: 1455\n"
     ]
    },
    {
     "name": "stderr",
     "output_type": "stream",
     "text": [
      "100%|██████████| 5159/5159 [03:01<00:00, 28.35it/s]\n",
      "100%|██████████| 1455/1455 [00:51<00:00, 28.32it/s]\n"
     ]
    },
    {
     "name": "stdout",
     "output_type": "stream",
     "text": [
      "\n",
      "Computed mAP:\n",
      "mAP@1: 0.9127\n",
      "mAP@5: 0.9553\n",
      "mAP@10: 0.9670\n",
      "mAP@15: 0.9753\n",
      "mAP@20: 0.9780\n",
      "152|347 - Pycnopodia_helianthoides_full_event-unaware_training-split_2024-05-03-19-10__2024-05-05-21-55-44__1__densenet121__PT-True - Pycnopodia_helianthoides_full_event-unaware_training-split_2024-05-03-19-10\n",
      "Gallery dataset path: ..\\..\\data\\Pycnopodia_helianthoides_full_event-unaware_training-split_2024-05-03-19-10\\train True\n",
      "Query dataset path: ..\\..\\data\\Pycnopodia_helianthoides_full_event-unaware_training-split_2024-05-03-19-10\\test True\n",
      "Number of identities: 271\n",
      "Number of gallery images: 5154\n",
      "Number of query images: 1453\n"
     ]
    },
    {
     "name": "stderr",
     "output_type": "stream",
     "text": [
      "100%|██████████| 5154/5154 [03:01<00:00, 28.36it/s]\n",
      "100%|██████████| 1453/1453 [00:51<00:00, 28.04it/s]\n"
     ]
    },
    {
     "name": "stdout",
     "output_type": "stream",
     "text": [
      "\n",
      "Computed mAP:\n",
      "mAP@1: 0.8637\n",
      "mAP@5: 0.9387\n",
      "mAP@10: 0.9532\n",
      "mAP@15: 0.9615\n",
      "mAP@20: 0.9670\n",
      "153|347 - Pycnopodia_helianthoides_full_event-unaware_training-split_2024-05-03-19-10__2024-05-05-22-15-51__0__densenet121__PT-True - Pycnopodia_helianthoides_full_event-unaware_training-split_2024-05-03-19-10\n",
      "Gallery dataset path: ..\\..\\data\\Pycnopodia_helianthoides_full_event-unaware_training-split_2024-05-03-19-10\\train True\n",
      "Query dataset path: ..\\..\\data\\Pycnopodia_helianthoides_full_event-unaware_training-split_2024-05-03-19-10\\test True\n",
      "Number of identities: 271\n",
      "Number of gallery images: 5154\n",
      "Number of query images: 1453\n"
     ]
    },
    {
     "name": "stderr",
     "output_type": "stream",
     "text": [
      "100%|██████████| 5154/5154 [03:01<00:00, 28.46it/s]\n",
      "100%|██████████| 1453/1453 [00:51<00:00, 28.12it/s]\n"
     ]
    },
    {
     "name": "stdout",
     "output_type": "stream",
     "text": [
      "\n",
      "Computed mAP:\n",
      "mAP@1: 0.8885\n",
      "mAP@5: 0.9415\n",
      "mAP@10: 0.9615\n",
      "mAP@15: 0.9690\n",
      "mAP@20: 0.9725\n",
      "154|347 - Pycnopodia_helianthoides_full_event-unaware_training-split_2024-05-03-19-10__2024-05-06-03-55-21__1__densenet121__PT-True - Pycnopodia_helianthoides_full_event-unaware_training-split_2024-05-03-19-10\n",
      "Gallery dataset path: ..\\..\\data\\Pycnopodia_helianthoides_full_event-unaware_training-split_2024-05-03-19-10\\train True\n",
      "Query dataset path: ..\\..\\data\\Pycnopodia_helianthoides_full_event-unaware_training-split_2024-05-03-19-10\\test True\n",
      "Number of identities: 271\n",
      "Number of gallery images: 5154\n",
      "Number of query images: 1453\n"
     ]
    },
    {
     "name": "stderr",
     "output_type": "stream",
     "text": [
      "100%|██████████| 5154/5154 [03:01<00:00, 28.35it/s]\n",
      "100%|██████████| 1453/1453 [00:51<00:00, 28.32it/s]\n"
     ]
    },
    {
     "name": "stdout",
     "output_type": "stream",
     "text": [
      "\n",
      "Computed mAP:\n",
      "mAP@1: 0.8128\n",
      "mAP@5: 0.9147\n",
      "mAP@10: 0.9360\n",
      "mAP@15: 0.9470\n",
      "mAP@20: 0.9560\n",
      "155|347 - Pycnopodia_helianthoides_full_event-unaware_training-split_2024-05-03-19-10__2024-05-06-04-00-53__0__densenet121__PT-True - Pycnopodia_helianthoides_full_event-unaware_training-split_2024-05-03-19-10\n",
      "Gallery dataset path: ..\\..\\data\\Pycnopodia_helianthoides_full_event-unaware_training-split_2024-05-03-19-10\\train True\n",
      "Query dataset path: ..\\..\\data\\Pycnopodia_helianthoides_full_event-unaware_training-split_2024-05-03-19-10\\test True\n",
      "Number of identities: 271\n",
      "Number of gallery images: 5154\n",
      "Number of query images: 1453\n"
     ]
    },
    {
     "name": "stderr",
     "output_type": "stream",
     "text": [
      "100%|██████████| 5154/5154 [03:00<00:00, 28.55it/s]\n",
      "100%|██████████| 1453/1453 [00:51<00:00, 28.28it/s]\n"
     ]
    },
    {
     "name": "stdout",
     "output_type": "stream",
     "text": [
      "\n",
      "Computed mAP:\n",
      "mAP@1: 0.8376\n",
      "mAP@5: 0.9257\n",
      "mAP@10: 0.9498\n",
      "mAP@15: 0.9594\n",
      "mAP@20: 0.9642\n",
      "156|347 - Pycnopodia_helianthoides_full_event-unaware_training-split_2024-05-03-19-10__2024-05-06-09-20-41__1__densenet121__PT-True - Pycnopodia_helianthoides_full_event-unaware_training-split_2024-05-03-19-10\n",
      "Gallery dataset path: ..\\..\\data\\Pycnopodia_helianthoides_full_event-unaware_training-split_2024-05-03-19-10\\train True\n",
      "Query dataset path: ..\\..\\data\\Pycnopodia_helianthoides_full_event-unaware_training-split_2024-05-03-19-10\\test True\n",
      "Number of identities: 271\n",
      "Number of gallery images: 5154\n",
      "Number of query images: 1453\n"
     ]
    },
    {
     "name": "stderr",
     "output_type": "stream",
     "text": [
      "100%|██████████| 5154/5154 [03:01<00:00, 28.33it/s]\n",
      "100%|██████████| 1453/1453 [00:51<00:00, 28.06it/s]\n"
     ]
    },
    {
     "name": "stdout",
     "output_type": "stream",
     "text": [
      "\n",
      "Computed mAP:\n",
      "mAP@1: 0.7708\n",
      "mAP@5: 0.8975\n",
      "mAP@10: 0.9250\n",
      "mAP@15: 0.9346\n",
      "mAP@20: 0.9422\n",
      "157|347 - Pycnopodia_helianthoides_full_event-unaware_training-split_2024-05-03-19-10__2024-05-06-09-26-12__0__densenet121__PT-True - Pycnopodia_helianthoides_full_event-unaware_training-split_2024-05-03-19-10\n",
      "Gallery dataset path: ..\\..\\data\\Pycnopodia_helianthoides_full_event-unaware_training-split_2024-05-03-19-10\\train True\n",
      "Query dataset path: ..\\..\\data\\Pycnopodia_helianthoides_full_event-unaware_training-split_2024-05-03-19-10\\test True\n",
      "Number of identities: 271\n",
      "Number of gallery images: 5154\n",
      "Number of query images: 1453\n"
     ]
    },
    {
     "name": "stderr",
     "output_type": "stream",
     "text": [
      "100%|██████████| 5154/5154 [03:03<00:00, 28.08it/s]\n",
      "100%|██████████| 1453/1453 [00:52<00:00, 27.73it/s]\n"
     ]
    },
    {
     "name": "stdout",
     "output_type": "stream",
     "text": [
      "\n",
      "Computed mAP:\n",
      "mAP@1: 0.8066\n",
      "mAP@5: 0.9140\n",
      "mAP@10: 0.9415\n",
      "mAP@15: 0.9546\n",
      "mAP@20: 0.9608\n",
      "158|347 - Pycnopodia_helianthoides_full_event-unaware_training-split_2024-05-03-19-10__2024-05-06-14-42-44__1__densenet121__PT-True - Pycnopodia_helianthoides_full_event-unaware_training-split_2024-05-03-19-10\n",
      "Gallery dataset path: ..\\..\\data\\Pycnopodia_helianthoides_full_event-unaware_training-split_2024-05-03-19-10\\train True\n",
      "Query dataset path: ..\\..\\data\\Pycnopodia_helianthoides_full_event-unaware_training-split_2024-05-03-19-10\\test True\n",
      "Number of identities: 271\n",
      "Number of gallery images: 5154\n",
      "Number of query images: 1453\n"
     ]
    },
    {
     "name": "stderr",
     "output_type": "stream",
     "text": [
      "100%|██████████| 5154/5154 [03:02<00:00, 28.27it/s]\n",
      "100%|██████████| 1453/1453 [00:51<00:00, 28.44it/s]\n"
     ]
    },
    {
     "name": "stdout",
     "output_type": "stream",
     "text": [
      "\n",
      "Computed mAP:\n",
      "mAP@1: 0.9009\n",
      "mAP@5: 0.9470\n",
      "mAP@10: 0.9587\n",
      "mAP@15: 0.9628\n",
      "mAP@20: 0.9690\n",
      "159|347 - Pycnopodia_helianthoides_full_event-unaware_training-split_2024-05-03-19-10__2024-05-06-15-02-43__0__densenet121__PT-True - Pycnopodia_helianthoides_full_event-unaware_training-split_2024-05-03-19-10\n",
      "Gallery dataset path: ..\\..\\data\\Pycnopodia_helianthoides_full_event-unaware_training-split_2024-05-03-19-10\\train True\n",
      "Query dataset path: ..\\..\\data\\Pycnopodia_helianthoides_full_event-unaware_training-split_2024-05-03-19-10\\test True\n",
      "Number of identities: 271\n",
      "Number of gallery images: 5154\n",
      "Number of query images: 1453\n"
     ]
    },
    {
     "name": "stderr",
     "output_type": "stream",
     "text": [
      "100%|██████████| 5154/5154 [03:00<00:00, 28.48it/s]\n",
      "100%|██████████| 1453/1453 [00:51<00:00, 27.94it/s]\n"
     ]
    },
    {
     "name": "stdout",
     "output_type": "stream",
     "text": [
      "\n",
      "Computed mAP:\n",
      "mAP@1: 0.9064\n",
      "mAP@5: 0.9484\n",
      "mAP@10: 0.9615\n",
      "mAP@15: 0.9745\n",
      "mAP@20: 0.9773\n",
      "160|347 - Pycnopodia_helianthoides_full_event-unaware_training-split_2024-05-03-19-10__2024-05-06-20-18-58__1__densenet121__PT-True - Pycnopodia_helianthoides_full_event-unaware_training-split_2024-05-03-19-10\n",
      "Gallery dataset path: ..\\..\\data\\Pycnopodia_helianthoides_full_event-unaware_training-split_2024-05-03-19-10\\train True\n",
      "Query dataset path: ..\\..\\data\\Pycnopodia_helianthoides_full_event-unaware_training-split_2024-05-03-19-10\\test True\n",
      "Number of identities: 271\n",
      "Number of gallery images: 5154\n",
      "Number of query images: 1453\n"
     ]
    },
    {
     "name": "stderr",
     "output_type": "stream",
     "text": [
      "100%|██████████| 5154/5154 [03:03<00:00, 28.14it/s]\n",
      "100%|██████████| 1453/1453 [00:51<00:00, 28.00it/s]\n"
     ]
    },
    {
     "name": "stdout",
     "output_type": "stream",
     "text": [
      "\n",
      "Computed mAP:\n",
      "mAP@1: 0.8761\n",
      "mAP@5: 0.9394\n",
      "mAP@10: 0.9539\n",
      "mAP@15: 0.9601\n",
      "mAP@20: 0.9670\n",
      "161|347 - Pycnopodia_helianthoides_full_event-unaware_training-split_2024-05-03-19-10__2024-05-06-20-20-00__0__densenet121__PT-True - Pycnopodia_helianthoides_full_event-unaware_training-split_2024-05-03-19-10\n",
      "Gallery dataset path: ..\\..\\data\\Pycnopodia_helianthoides_full_event-unaware_training-split_2024-05-03-19-10\\train True\n",
      "Query dataset path: ..\\..\\data\\Pycnopodia_helianthoides_full_event-unaware_training-split_2024-05-03-19-10\\test True\n",
      "Number of identities: 271\n",
      "Number of gallery images: 5154\n",
      "Number of query images: 1453\n"
     ]
    },
    {
     "name": "stderr",
     "output_type": "stream",
     "text": [
      "100%|██████████| 5154/5154 [03:00<00:00, 28.50it/s]\n",
      "100%|██████████| 1453/1453 [00:50<00:00, 28.73it/s]\n"
     ]
    },
    {
     "name": "stdout",
     "output_type": "stream",
     "text": [
      "\n",
      "Computed mAP:\n",
      "mAP@1: 0.8947\n",
      "mAP@5: 0.9436\n",
      "mAP@10: 0.9573\n",
      "mAP@15: 0.9635\n",
      "mAP@20: 0.9670\n",
      "162|347 - Pycnopodia_helianthoides_full_event-unaware_training-split_2024-05-03-19-10__2024-05-07-01-49-18__0__densenet121__PT-True - Pycnopodia_helianthoides_full_event-unaware_training-split_2024-05-03-19-10\n",
      "Gallery dataset path: ..\\..\\data\\Pycnopodia_helianthoides_full_event-unaware_training-split_2024-05-03-19-10\\train True\n",
      "Query dataset path: ..\\..\\data\\Pycnopodia_helianthoides_full_event-unaware_training-split_2024-05-03-19-10\\test True\n",
      "Number of identities: 271\n",
      "Number of gallery images: 5154\n",
      "Number of query images: 1453\n"
     ]
    },
    {
     "name": "stderr",
     "output_type": "stream",
     "text": [
      "100%|██████████| 5154/5154 [03:01<00:00, 28.38it/s]\n",
      "100%|██████████| 1453/1453 [00:51<00:00, 28.12it/s]\n"
     ]
    },
    {
     "name": "stdout",
     "output_type": "stream",
     "text": [
      "\n",
      "Computed mAP:\n",
      "mAP@1: 0.8802\n",
      "mAP@5: 0.9436\n",
      "mAP@10: 0.9580\n",
      "mAP@15: 0.9628\n",
      "mAP@20: 0.9683\n",
      "163|347 - Pycnopodia_helianthoides_full_event-unaware_training-split_2024-05-03-19-10__2024-05-07-01-50-29__1__densenet121__PT-True - Pycnopodia_helianthoides_full_event-unaware_training-split_2024-05-03-19-10\n",
      "Gallery dataset path: ..\\..\\data\\Pycnopodia_helianthoides_full_event-unaware_training-split_2024-05-03-19-10\\train True\n",
      "Query dataset path: ..\\..\\data\\Pycnopodia_helianthoides_full_event-unaware_training-split_2024-05-03-19-10\\test True\n",
      "Number of identities: 271\n",
      "Number of gallery images: 5154\n",
      "Number of query images: 1453\n"
     ]
    },
    {
     "name": "stderr",
     "output_type": "stream",
     "text": [
      "100%|██████████| 5154/5154 [03:02<00:00, 28.17it/s]\n",
      "100%|██████████| 1453/1453 [00:50<00:00, 28.75it/s]\n"
     ]
    },
    {
     "name": "stdout",
     "output_type": "stream",
     "text": [
      "\n",
      "Computed mAP:\n",
      "mAP@1: 0.8679\n",
      "mAP@5: 0.9360\n",
      "mAP@10: 0.9532\n",
      "mAP@15: 0.9615\n",
      "mAP@20: 0.9670\n",
      "164|347 - Pycnopodia_helianthoides_full_event-unaware_training-split_2024-05-03-19-10__2024-05-07-07-18-27__1__densenet121__PT-True - Pycnopodia_helianthoides_full_event-unaware_training-split_2024-05-03-19-10\n",
      "Gallery dataset path: ..\\..\\data\\Pycnopodia_helianthoides_full_event-unaware_training-split_2024-05-03-19-10\\train True\n",
      "Query dataset path: ..\\..\\data\\Pycnopodia_helianthoides_full_event-unaware_training-split_2024-05-03-19-10\\test True\n",
      "Number of identities: 271\n",
      "Number of gallery images: 5154\n",
      "Number of query images: 1453\n"
     ]
    },
    {
     "name": "stderr",
     "output_type": "stream",
     "text": [
      "100%|██████████| 5154/5154 [02:59<00:00, 28.68it/s]\n",
      "100%|██████████| 1453/1453 [00:50<00:00, 28.74it/s]\n"
     ]
    },
    {
     "name": "stdout",
     "output_type": "stream",
     "text": [
      "\n",
      "Computed mAP:\n",
      "mAP@1: 0.9195\n",
      "mAP@5: 0.9587\n",
      "mAP@10: 0.9725\n",
      "mAP@15: 0.9773\n",
      "mAP@20: 0.9787\n",
      "165|347 - Pycnopodia_helianthoides_full_event-unaware_training-split_2024-05-03-19-10__2024-05-07-07-58-17__0__densenet121__PT-True - Pycnopodia_helianthoides_full_event-unaware_training-split_2024-05-03-19-10\n",
      "Gallery dataset path: ..\\..\\data\\Pycnopodia_helianthoides_full_event-unaware_training-split_2024-05-03-19-10\\train True\n",
      "Query dataset path: ..\\..\\data\\Pycnopodia_helianthoides_full_event-unaware_training-split_2024-05-03-19-10\\test True\n",
      "Number of identities: 271\n",
      "Number of gallery images: 5154\n",
      "Number of query images: 1453\n"
     ]
    },
    {
     "name": "stderr",
     "output_type": "stream",
     "text": [
      "100%|██████████| 5154/5154 [03:01<00:00, 28.41it/s]\n",
      "100%|██████████| 1453/1453 [00:51<00:00, 28.34it/s]\n"
     ]
    },
    {
     "name": "stdout",
     "output_type": "stream",
     "text": [
      "\n",
      "Computed mAP:\n",
      "mAP@1: 0.9174\n",
      "mAP@5: 0.9560\n",
      "mAP@10: 0.9656\n",
      "mAP@15: 0.9725\n",
      "mAP@20: 0.9752\n",
      "166|347 - Pycnopodia_helianthoides_full_event-unaware_training-split_2024-05-03-19-10__2024-05-07-14-14-06__1__densenet121__PT-True - Pycnopodia_helianthoides_full_event-unaware_training-split_2024-05-03-19-10\n",
      "Gallery dataset path: ..\\..\\data\\Pycnopodia_helianthoides_full_event-unaware_training-split_2024-05-03-19-10\\train True\n",
      "Query dataset path: ..\\..\\data\\Pycnopodia_helianthoides_full_event-unaware_training-split_2024-05-03-19-10\\test True\n",
      "Number of identities: 271\n",
      "Number of gallery images: 5154\n",
      "Number of query images: 1453\n"
     ]
    },
    {
     "name": "stderr",
     "output_type": "stream",
     "text": [
      "100%|██████████| 5154/5154 [03:01<00:00, 28.41it/s]\n",
      "100%|██████████| 1453/1453 [00:51<00:00, 28.24it/s]\n"
     ]
    },
    {
     "name": "stdout",
     "output_type": "stream",
     "text": [
      "\n",
      "Computed mAP:\n",
      "mAP@1: 0.9112\n",
      "mAP@5: 0.9504\n",
      "mAP@10: 0.9635\n",
      "mAP@15: 0.9697\n",
      "mAP@20: 0.9725\n",
      "167|347 - Pycnopodia_helianthoides_full_event-unaware_training-split_2024-05-03-19-10__2024-05-07-14-27-08__0__densenet121__PT-True - Pycnopodia_helianthoides_full_event-unaware_training-split_2024-05-03-19-10\n",
      "Gallery dataset path: ..\\..\\data\\Pycnopodia_helianthoides_full_event-unaware_training-split_2024-05-03-19-10\\train True\n",
      "Query dataset path: ..\\..\\data\\Pycnopodia_helianthoides_full_event-unaware_training-split_2024-05-03-19-10\\test True\n",
      "Number of identities: 271\n",
      "Number of gallery images: 5154\n",
      "Number of query images: 1453\n"
     ]
    },
    {
     "name": "stderr",
     "output_type": "stream",
     "text": [
      "100%|██████████| 5154/5154 [03:03<00:00, 28.10it/s]\n",
      "100%|██████████| 1453/1453 [00:50<00:00, 28.51it/s]\n"
     ]
    },
    {
     "name": "stdout",
     "output_type": "stream",
     "text": [
      "\n",
      "Computed mAP:\n",
      "mAP@1: 0.9078\n",
      "mAP@5: 0.9539\n",
      "mAP@10: 0.9635\n",
      "mAP@15: 0.9725\n",
      "mAP@20: 0.9759\n",
      "168|347 - Pycnopodia_helianthoides_full_event-unaware_training-split_2024-05-03-19-10__2024-05-07-23-31-17__1__densenet121__PT-True - Pycnopodia_helianthoides_full_event-unaware_training-split_2024-05-03-19-10\n",
      "Gallery dataset path: ..\\..\\data\\Pycnopodia_helianthoides_full_event-unaware_training-split_2024-05-03-19-10\\train True\n",
      "Query dataset path: ..\\..\\data\\Pycnopodia_helianthoides_full_event-unaware_training-split_2024-05-03-19-10\\test True\n",
      "Number of identities: 271\n",
      "Number of gallery images: 5154\n",
      "Number of query images: 1453\n"
     ]
    },
    {
     "name": "stderr",
     "output_type": "stream",
     "text": [
      "100%|██████████| 5154/5154 [03:01<00:00, 28.33it/s]\n",
      "100%|██████████| 1453/1453 [00:51<00:00, 28.26it/s]\n"
     ]
    },
    {
     "name": "stdout",
     "output_type": "stream",
     "text": [
      "\n",
      "Computed mAP:\n",
      "mAP@1: 0.9016\n",
      "mAP@5: 0.9518\n",
      "mAP@10: 0.9697\n",
      "mAP@15: 0.9745\n",
      "mAP@20: 0.9787\n",
      "169|347 - Pycnopodia_helianthoides_full_event-unaware_training-split_2024-05-03-19-10__2024-05-07-23-42-04__0__densenet121__PT-True - Pycnopodia_helianthoides_full_event-unaware_training-split_2024-05-03-19-10\n",
      "Gallery dataset path: ..\\..\\data\\Pycnopodia_helianthoides_full_event-unaware_training-split_2024-05-03-19-10\\train True\n",
      "Query dataset path: ..\\..\\data\\Pycnopodia_helianthoides_full_event-unaware_training-split_2024-05-03-19-10\\test True\n",
      "Number of identities: 271\n",
      "Number of gallery images: 5154\n",
      "Number of query images: 1453\n"
     ]
    },
    {
     "name": "stderr",
     "output_type": "stream",
     "text": [
      "100%|██████████| 5154/5154 [03:02<00:00, 28.26it/s]\n",
      "100%|██████████| 1453/1453 [00:50<00:00, 28.73it/s]\n"
     ]
    },
    {
     "name": "stdout",
     "output_type": "stream",
     "text": [
      "\n",
      "Computed mAP:\n",
      "mAP@1: 0.8899\n",
      "mAP@5: 0.9511\n",
      "mAP@10: 0.9628\n",
      "mAP@15: 0.9683\n",
      "mAP@20: 0.9718\n",
      "170|347 - Pycnopodia_helianthoides_full_event-unaware_training-split_2024-05-03-19-10__2024-05-08-04-15-09__1__densenet121__PT-True - Pycnopodia_helianthoides_full_event-unaware_training-split_2024-05-03-19-10\n",
      "Gallery dataset path: ..\\..\\data\\Pycnopodia_helianthoides_full_event-unaware_training-split_2024-05-03-19-10\\train True\n",
      "Query dataset path: ..\\..\\data\\Pycnopodia_helianthoides_full_event-unaware_training-split_2024-05-03-19-10\\test True\n",
      "Number of identities: 271\n",
      "Number of gallery images: 5154\n",
      "Number of query images: 1453\n"
     ]
    },
    {
     "name": "stderr",
     "output_type": "stream",
     "text": [
      "100%|██████████| 5154/5154 [03:02<00:00, 28.24it/s]\n",
      "100%|██████████| 1453/1453 [00:51<00:00, 28.40it/s]\n"
     ]
    },
    {
     "name": "stdout",
     "output_type": "stream",
     "text": [
      "\n",
      "Computed mAP:\n",
      "mAP@1: 0.9078\n",
      "mAP@5: 0.9539\n",
      "mAP@10: 0.9663\n",
      "mAP@15: 0.9711\n",
      "mAP@20: 0.9759\n",
      "171|347 - Pycnopodia_helianthoides_full_event-unaware_training-split_2024-05-03-19-10__2024-05-08-04-17-43__0__densenet121__PT-True - Pycnopodia_helianthoides_full_event-unaware_training-split_2024-05-03-19-10\n",
      "Gallery dataset path: ..\\..\\data\\Pycnopodia_helianthoides_full_event-unaware_training-split_2024-05-03-19-10\\train True\n",
      "Query dataset path: ..\\..\\data\\Pycnopodia_helianthoides_full_event-unaware_training-split_2024-05-03-19-10\\test True\n",
      "Number of identities: 271\n",
      "Number of gallery images: 5154\n",
      "Number of query images: 1453\n"
     ]
    },
    {
     "name": "stderr",
     "output_type": "stream",
     "text": [
      "100%|██████████| 5154/5154 [03:03<00:00, 28.16it/s]\n",
      "100%|██████████| 1453/1453 [00:51<00:00, 27.95it/s]\n"
     ]
    },
    {
     "name": "stdout",
     "output_type": "stream",
     "text": [
      "\n",
      "Computed mAP:\n",
      "mAP@1: 0.8871\n",
      "mAP@5: 0.9394\n",
      "mAP@10: 0.9573\n",
      "mAP@15: 0.9649\n",
      "mAP@20: 0.9718\n",
      "172|347 - Pycnopodia_helianthoides_full_event-unaware_training-split_2024-05-03-19-10__2024-05-08-08-18-55__0__densenet121__PT-True - Pycnopodia_helianthoides_full_event-unaware_training-split_2024-05-03-19-10\n",
      "Gallery dataset path: ..\\..\\data\\Pycnopodia_helianthoides_full_event-unaware_training-split_2024-05-03-19-10\\train True\n",
      "Query dataset path: ..\\..\\data\\Pycnopodia_helianthoides_full_event-unaware_training-split_2024-05-03-19-10\\test True\n",
      "Number of identities: 271\n",
      "Number of gallery images: 5154\n",
      "Number of query images: 1453\n"
     ]
    },
    {
     "name": "stderr",
     "output_type": "stream",
     "text": [
      "100%|██████████| 5154/5154 [03:01<00:00, 28.40it/s]\n",
      "100%|██████████| 1453/1453 [00:51<00:00, 28.48it/s]\n"
     ]
    },
    {
     "name": "stdout",
     "output_type": "stream",
     "text": [
      "\n",
      "Computed mAP:\n",
      "mAP@1: 0.8851\n",
      "mAP@5: 0.9429\n",
      "mAP@10: 0.9560\n",
      "mAP@15: 0.9649\n",
      "mAP@20: 0.9690\n",
      "173|347 - Pycnopodia_helianthoides_full_event-unaware_training-split_2024-05-03-19-10__2024-05-08-08-24-29__1__densenet121__PT-True - Pycnopodia_helianthoides_full_event-unaware_training-split_2024-05-03-19-10\n",
      "Gallery dataset path: ..\\..\\data\\Pycnopodia_helianthoides_full_event-unaware_training-split_2024-05-03-19-10\\train True\n",
      "Query dataset path: ..\\..\\data\\Pycnopodia_helianthoides_full_event-unaware_training-split_2024-05-03-19-10\\test True\n",
      "Number of identities: 271\n",
      "Number of gallery images: 5154\n",
      "Number of query images: 1453\n"
     ]
    },
    {
     "name": "stderr",
     "output_type": "stream",
     "text": [
      "100%|██████████| 5154/5154 [03:02<00:00, 28.24it/s]\n",
      "100%|██████████| 1453/1453 [00:50<00:00, 28.51it/s]\n"
     ]
    },
    {
     "name": "stdout",
     "output_type": "stream",
     "text": [
      "\n",
      "Computed mAP:\n",
      "mAP@1: 0.9023\n",
      "mAP@5: 0.9477\n",
      "mAP@10: 0.9677\n",
      "mAP@15: 0.9752\n",
      "mAP@20: 0.9780\n",
      "174|347 - Pycnopodia_helianthoides_full_event-unaware_training-split_2024-05-03-19-10__2024-05-08-12-47-01__0__densenet121__PT-True - Pycnopodia_helianthoides_full_event-unaware_training-split_2024-05-03-19-10\n",
      "Gallery dataset path: ..\\..\\data\\Pycnopodia_helianthoides_full_event-unaware_training-split_2024-05-03-19-10\\train True\n",
      "Query dataset path: ..\\..\\data\\Pycnopodia_helianthoides_full_event-unaware_training-split_2024-05-03-19-10\\test True\n",
      "Number of identities: 271\n",
      "Number of gallery images: 5154\n",
      "Number of query images: 1453\n"
     ]
    },
    {
     "name": "stderr",
     "output_type": "stream",
     "text": [
      "100%|██████████| 5154/5154 [03:02<00:00, 28.26it/s]\n",
      "100%|██████████| 1453/1453 [00:51<00:00, 28.32it/s]\n"
     ]
    },
    {
     "name": "stdout",
     "output_type": "stream",
     "text": [
      "\n",
      "Computed mAP:\n",
      "mAP@1: 0.8775\n",
      "mAP@5: 0.9367\n",
      "mAP@10: 0.9560\n",
      "mAP@15: 0.9635\n",
      "mAP@20: 0.9683\n",
      "175|347 - Pycnopodia_helianthoides_full_event-unaware_training-split_2024-05-03-19-10__2024-05-08-12-49-03__1__densenet121__PT-True - Pycnopodia_helianthoides_full_event-unaware_training-split_2024-05-03-19-10\n",
      "Gallery dataset path: ..\\..\\data\\Pycnopodia_helianthoides_full_event-unaware_training-split_2024-05-03-19-10\\train True\n",
      "Query dataset path: ..\\..\\data\\Pycnopodia_helianthoides_full_event-unaware_training-split_2024-05-03-19-10\\test True\n",
      "Number of identities: 271\n",
      "Number of gallery images: 5154\n",
      "Number of query images: 1453\n"
     ]
    },
    {
     "name": "stderr",
     "output_type": "stream",
     "text": [
      "100%|██████████| 5154/5154 [03:02<00:00, 28.19it/s]\n",
      "100%|██████████| 1453/1453 [00:51<00:00, 28.46it/s]\n"
     ]
    },
    {
     "name": "stdout",
     "output_type": "stream",
     "text": [
      "\n",
      "Computed mAP:\n",
      "mAP@1: 0.9105\n",
      "mAP@5: 0.9532\n",
      "mAP@10: 0.9690\n",
      "mAP@15: 0.9732\n",
      "mAP@20: 0.9759\n",
      "176|347 - Pycnopodia_helianthoides_full_event-unaware_training-split_2024-05-03-19-10__2024-05-08-17-13-01__1__densenet121__PT-True - Pycnopodia_helianthoides_full_event-unaware_training-split_2024-05-03-19-10\n",
      "Gallery dataset path: ..\\..\\data\\Pycnopodia_helianthoides_full_event-unaware_training-split_2024-05-03-19-10\\train True\n",
      "Query dataset path: ..\\..\\data\\Pycnopodia_helianthoides_full_event-unaware_training-split_2024-05-03-19-10\\test True\n",
      "Number of identities: 271\n",
      "Number of gallery images: 5154\n",
      "Number of query images: 1453\n"
     ]
    },
    {
     "name": "stderr",
     "output_type": "stream",
     "text": [
      "100%|██████████| 5154/5154 [03:01<00:00, 28.42it/s]\n",
      "100%|██████████| 1453/1453 [00:51<00:00, 28.28it/s]\n"
     ]
    },
    {
     "name": "stdout",
     "output_type": "stream",
     "text": [
      "\n",
      "Computed mAP:\n",
      "mAP@1: 0.9043\n",
      "mAP@5: 0.9504\n",
      "mAP@10: 0.9628\n",
      "mAP@15: 0.9683\n",
      "mAP@20: 0.9745\n",
      "177|347 - Pycnopodia_helianthoides_full_event-unaware_training-split_2024-05-03-19-10__2024-05-08-17-18-50__0__densenet121__PT-True - Pycnopodia_helianthoides_full_event-unaware_training-split_2024-05-03-19-10\n",
      "Gallery dataset path: ..\\..\\data\\Pycnopodia_helianthoides_full_event-unaware_training-split_2024-05-03-19-10\\train True\n",
      "Query dataset path: ..\\..\\data\\Pycnopodia_helianthoides_full_event-unaware_training-split_2024-05-03-19-10\\test True\n",
      "Number of identities: 271\n",
      "Number of gallery images: 5154\n",
      "Number of query images: 1453\n"
     ]
    },
    {
     "name": "stderr",
     "output_type": "stream",
     "text": [
      "100%|██████████| 5154/5154 [03:01<00:00, 28.43it/s]\n",
      "100%|██████████| 1453/1453 [00:50<00:00, 28.73it/s]\n"
     ]
    },
    {
     "name": "stdout",
     "output_type": "stream",
     "text": [
      "\n",
      "Computed mAP:\n",
      "mAP@1: 0.8651\n",
      "mAP@5: 0.9436\n",
      "mAP@10: 0.9601\n",
      "mAP@15: 0.9649\n",
      "mAP@20: 0.9704\n",
      "178|347 - Pycnopodia_helianthoides_full_event-unaware_training-split_2024-05-03-19-10__2024-05-08-21-43-20__0__densenet121__PT-True - Pycnopodia_helianthoides_full_event-unaware_training-split_2024-05-03-19-10\n",
      "Gallery dataset path: ..\\..\\data\\Pycnopodia_helianthoides_full_event-unaware_training-split_2024-05-03-19-10\\train True\n",
      "Query dataset path: ..\\..\\data\\Pycnopodia_helianthoides_full_event-unaware_training-split_2024-05-03-19-10\\test True\n",
      "Number of identities: 271\n",
      "Number of gallery images: 5154\n",
      "Number of query images: 1453\n"
     ]
    },
    {
     "name": "stderr",
     "output_type": "stream",
     "text": [
      "100%|██████████| 5154/5154 [03:03<00:00, 28.11it/s]\n",
      "100%|██████████| 1453/1453 [00:51<00:00, 28.28it/s]\n"
     ]
    },
    {
     "name": "stdout",
     "output_type": "stream",
     "text": [
      "\n",
      "Computed mAP:\n",
      "mAP@1: 0.8706\n",
      "mAP@5: 0.9408\n",
      "mAP@10: 0.9518\n",
      "mAP@15: 0.9628\n",
      "mAP@20: 0.9711\n",
      "179|347 - Pycnopodia_helianthoides_full_event-unaware_training-split_2024-05-03-19-10__2024-05-08-21-47-30__1__densenet121__PT-True - Pycnopodia_helianthoides_full_event-unaware_training-split_2024-05-03-19-10\n",
      "Gallery dataset path: ..\\..\\data\\Pycnopodia_helianthoides_full_event-unaware_training-split_2024-05-03-19-10\\train True\n",
      "Query dataset path: ..\\..\\data\\Pycnopodia_helianthoides_full_event-unaware_training-split_2024-05-03-19-10\\test True\n",
      "Number of identities: 271\n",
      "Number of gallery images: 5154\n",
      "Number of query images: 1453\n"
     ]
    },
    {
     "name": "stderr",
     "output_type": "stream",
     "text": [
      "100%|██████████| 5154/5154 [03:01<00:00, 28.36it/s]\n",
      "100%|██████████| 1453/1453 [00:51<00:00, 28.00it/s]\n"
     ]
    },
    {
     "name": "stdout",
     "output_type": "stream",
     "text": [
      "\n",
      "Computed mAP:\n",
      "mAP@1: 0.8995\n",
      "mAP@5: 0.9463\n",
      "mAP@10: 0.9615\n",
      "mAP@15: 0.9711\n",
      "mAP@20: 0.9759\n",
      "180|347 - Reduced_Pycnopodia_helianthoides_full_event-unaware_training-split_2024-05-03-19-40__2024-05-05-22-31-47__1__densenet121__PT-True - Reduced_Pycnopodia_helianthoides_full_event-unaware_training-split_2024-05-03-19-40\n",
      "Gallery dataset path: ..\\..\\data\\Reduced_Pycnopodia_helianthoides_full_event-unaware_training-split_2024-05-03-19-40\\train True\n",
      "Query dataset path: ..\\..\\data\\Reduced_Pycnopodia_helianthoides_full_event-unaware_training-split_2024-05-03-19-40\\test True\n",
      "Number of identities: 219\n",
      "Number of gallery images: 4507\n",
      "Number of query images: 1286\n"
     ]
    },
    {
     "name": "stderr",
     "output_type": "stream",
     "text": [
      "100%|██████████| 4507/4507 [02:37<00:00, 28.55it/s]\n",
      "100%|██████████| 1286/1286 [00:44<00:00, 28.64it/s]\n"
     ]
    },
    {
     "name": "stdout",
     "output_type": "stream",
     "text": [
      "\n",
      "Computed mAP:\n",
      "mAP@1: 0.8779\n",
      "mAP@5: 0.9409\n",
      "mAP@10: 0.9588\n",
      "mAP@15: 0.9666\n",
      "mAP@20: 0.9705\n",
      "181|347 - Reduced_Pycnopodia_helianthoides_full_event-unaware_training-split_2024-05-03-19-40__2024-05-05-23-00-03__0__densenet121__PT-True - Reduced_Pycnopodia_helianthoides_full_event-unaware_training-split_2024-05-03-19-40\n",
      "Gallery dataset path: ..\\..\\data\\Reduced_Pycnopodia_helianthoides_full_event-unaware_training-split_2024-05-03-19-40\\train True\n",
      "Query dataset path: ..\\..\\data\\Reduced_Pycnopodia_helianthoides_full_event-unaware_training-split_2024-05-03-19-40\\test True\n",
      "Number of identities: 219\n",
      "Number of gallery images: 4507\n",
      "Number of query images: 1286\n"
     ]
    },
    {
     "name": "stderr",
     "output_type": "stream",
     "text": [
      "100%|██████████| 4507/4507 [02:39<00:00, 28.20it/s]\n",
      "100%|██████████| 1286/1286 [00:45<00:00, 28.12it/s]\n"
     ]
    },
    {
     "name": "stdout",
     "output_type": "stream",
     "text": [
      "\n",
      "Computed mAP:\n",
      "mAP@1: 0.8826\n",
      "mAP@5: 0.9479\n",
      "mAP@10: 0.9642\n",
      "mAP@15: 0.9736\n",
      "mAP@20: 0.9782\n",
      "182|347 - Reduced_Pycnopodia_helianthoides_full_event-unaware_training-split_2024-05-03-19-40__2024-05-06-04-32-20__1__densenet121__PT-True - Reduced_Pycnopodia_helianthoides_full_event-unaware_training-split_2024-05-03-19-40\n",
      "Gallery dataset path: ..\\..\\data\\Reduced_Pycnopodia_helianthoides_full_event-unaware_training-split_2024-05-03-19-40\\train True\n",
      "Query dataset path: ..\\..\\data\\Reduced_Pycnopodia_helianthoides_full_event-unaware_training-split_2024-05-03-19-40\\test True\n",
      "Number of identities: 219\n",
      "Number of gallery images: 4507\n",
      "Number of query images: 1286\n"
     ]
    },
    {
     "name": "stderr",
     "output_type": "stream",
     "text": [
      "100%|██████████| 4507/4507 [02:43<00:00, 27.57it/s]\n",
      "100%|██████████| 1286/1286 [00:45<00:00, 28.40it/s]\n"
     ]
    },
    {
     "name": "stdout",
     "output_type": "stream",
     "text": [
      "\n",
      "Computed mAP:\n",
      "mAP@1: 0.8367\n",
      "mAP@5: 0.9253\n",
      "mAP@10: 0.9502\n",
      "mAP@15: 0.9635\n",
      "mAP@20: 0.9681\n",
      "183|347 - Reduced_Pycnopodia_helianthoides_full_event-unaware_training-split_2024-05-03-19-40__2024-05-06-04-39-38__0__densenet121__PT-True - Reduced_Pycnopodia_helianthoides_full_event-unaware_training-split_2024-05-03-19-40\n",
      "Gallery dataset path: ..\\..\\data\\Reduced_Pycnopodia_helianthoides_full_event-unaware_training-split_2024-05-03-19-40\\train True\n",
      "Query dataset path: ..\\..\\data\\Reduced_Pycnopodia_helianthoides_full_event-unaware_training-split_2024-05-03-19-40\\test True\n",
      "Number of identities: 219\n",
      "Number of gallery images: 4507\n",
      "Number of query images: 1286\n"
     ]
    },
    {
     "name": "stderr",
     "output_type": "stream",
     "text": [
      "100%|██████████| 4507/4507 [02:36<00:00, 28.81it/s]\n",
      "100%|██████████| 1286/1286 [00:44<00:00, 28.69it/s]\n"
     ]
    },
    {
     "name": "stdout",
     "output_type": "stream",
     "text": [
      "\n",
      "Computed mAP:\n",
      "mAP@1: 0.8406\n",
      "mAP@5: 0.9323\n",
      "mAP@10: 0.9572\n",
      "mAP@15: 0.9673\n",
      "mAP@20: 0.9712\n",
      "184|347 - Reduced_Pycnopodia_helianthoides_full_event-unaware_training-split_2024-05-03-19-40__2024-05-06-10-02-39__1__densenet121__PT-True - Reduced_Pycnopodia_helianthoides_full_event-unaware_training-split_2024-05-03-19-40\n",
      "Gallery dataset path: ..\\..\\data\\Reduced_Pycnopodia_helianthoides_full_event-unaware_training-split_2024-05-03-19-40\\train True\n",
      "Query dataset path: ..\\..\\data\\Reduced_Pycnopodia_helianthoides_full_event-unaware_training-split_2024-05-03-19-40\\test True\n",
      "Number of identities: 219\n",
      "Number of gallery images: 4507\n",
      "Number of query images: 1286\n"
     ]
    },
    {
     "name": "stderr",
     "output_type": "stream",
     "text": [
      "100%|██████████| 4507/4507 [02:39<00:00, 28.18it/s]\n",
      "100%|██████████| 1286/1286 [00:45<00:00, 28.53it/s]\n"
     ]
    },
    {
     "name": "stdout",
     "output_type": "stream",
     "text": [
      "\n",
      "Computed mAP:\n",
      "mAP@1: 0.7823\n",
      "mAP@5: 0.9075\n",
      "mAP@10: 0.9355\n",
      "mAP@15: 0.9557\n",
      "mAP@20: 0.9596\n",
      "185|347 - Reduced_Pycnopodia_helianthoides_full_event-unaware_training-split_2024-05-03-19-40__2024-05-06-10-10-03__0__densenet121__PT-True - Reduced_Pycnopodia_helianthoides_full_event-unaware_training-split_2024-05-03-19-40\n",
      "Gallery dataset path: ..\\..\\data\\Reduced_Pycnopodia_helianthoides_full_event-unaware_training-split_2024-05-03-19-40\\train True\n",
      "Query dataset path: ..\\..\\data\\Reduced_Pycnopodia_helianthoides_full_event-unaware_training-split_2024-05-03-19-40\\test True\n",
      "Number of identities: 219\n",
      "Number of gallery images: 4507\n",
      "Number of query images: 1286\n"
     ]
    },
    {
     "name": "stderr",
     "output_type": "stream",
     "text": [
      "100%|██████████| 4507/4507 [02:38<00:00, 28.40it/s]\n",
      "100%|██████████| 1286/1286 [00:45<00:00, 28.01it/s]\n"
     ]
    },
    {
     "name": "stdout",
     "output_type": "stream",
     "text": [
      "\n",
      "Computed mAP:\n",
      "mAP@1: 0.8009\n",
      "mAP@5: 0.9152\n",
      "mAP@10: 0.9518\n",
      "mAP@15: 0.9572\n",
      "mAP@20: 0.9611\n",
      "186|347 - Reduced_Pycnopodia_helianthoides_full_event-unaware_training-split_2024-05-03-19-40__2024-05-06-15-18-08__1__densenet121__PT-True - Reduced_Pycnopodia_helianthoides_full_event-unaware_training-split_2024-05-03-19-40\n",
      "Gallery dataset path: ..\\..\\data\\Reduced_Pycnopodia_helianthoides_full_event-unaware_training-split_2024-05-03-19-40\\train True\n",
      "Query dataset path: ..\\..\\data\\Reduced_Pycnopodia_helianthoides_full_event-unaware_training-split_2024-05-03-19-40\\test True\n",
      "Number of identities: 219\n",
      "Number of gallery images: 4507\n",
      "Number of query images: 1286\n"
     ]
    },
    {
     "name": "stderr",
     "output_type": "stream",
     "text": [
      "100%|██████████| 4507/4507 [02:39<00:00, 28.22it/s]\n",
      "100%|██████████| 1286/1286 [00:45<00:00, 28.31it/s]\n"
     ]
    },
    {
     "name": "stdout",
     "output_type": "stream",
     "text": [
      "\n",
      "Computed mAP:\n",
      "mAP@1: 0.9082\n",
      "mAP@5: 0.9557\n",
      "mAP@10: 0.9705\n",
      "mAP@15: 0.9751\n",
      "mAP@20: 0.9790\n",
      "187|347 - Reduced_Pycnopodia_helianthoides_full_event-unaware_training-split_2024-05-03-19-40__2024-05-06-15-44-21__0__densenet121__PT-True - Reduced_Pycnopodia_helianthoides_full_event-unaware_training-split_2024-05-03-19-40\n",
      "Gallery dataset path: ..\\..\\data\\Reduced_Pycnopodia_helianthoides_full_event-unaware_training-split_2024-05-03-19-40\\train True\n",
      "Query dataset path: ..\\..\\data\\Reduced_Pycnopodia_helianthoides_full_event-unaware_training-split_2024-05-03-19-40\\test True\n",
      "Number of identities: 219\n",
      "Number of gallery images: 4507\n",
      "Number of query images: 1286\n"
     ]
    },
    {
     "name": "stderr",
     "output_type": "stream",
     "text": [
      "100%|██████████| 4507/4507 [02:39<00:00, 28.24it/s]\n",
      "100%|██████████| 1286/1286 [00:45<00:00, 28.04it/s]\n"
     ]
    },
    {
     "name": "stdout",
     "output_type": "stream",
     "text": [
      "\n",
      "Computed mAP:\n",
      "mAP@1: 0.9121\n",
      "mAP@5: 0.9627\n",
      "mAP@10: 0.9798\n",
      "mAP@15: 0.9837\n",
      "mAP@20: 0.9852\n",
      "188|347 - Reduced_Pycnopodia_helianthoides_full_event-unaware_training-split_2024-05-03-19-40__2024-05-06-20-58-21__1__densenet121__PT-True - Reduced_Pycnopodia_helianthoides_full_event-unaware_training-split_2024-05-03-19-40\n",
      "Gallery dataset path: ..\\..\\data\\Reduced_Pycnopodia_helianthoides_full_event-unaware_training-split_2024-05-03-19-40\\train True\n",
      "Query dataset path: ..\\..\\data\\Reduced_Pycnopodia_helianthoides_full_event-unaware_training-split_2024-05-03-19-40\\test True\n",
      "Number of identities: 219\n",
      "Number of gallery images: 4507\n",
      "Number of query images: 1286\n"
     ]
    },
    {
     "name": "stderr",
     "output_type": "stream",
     "text": [
      "100%|██████████| 4507/4507 [02:39<00:00, 28.19it/s]\n",
      "100%|██████████| 1286/1286 [00:45<00:00, 27.98it/s]\n"
     ]
    },
    {
     "name": "stdout",
     "output_type": "stream",
     "text": [
      "\n",
      "Computed mAP:\n",
      "mAP@1: 0.8919\n",
      "mAP@5: 0.9370\n",
      "mAP@10: 0.9565\n",
      "mAP@15: 0.9666\n",
      "mAP@20: 0.9697\n",
      "189|347 - Reduced_Pycnopodia_helianthoides_full_event-unaware_training-split_2024-05-03-19-40__2024-05-06-21-00-00__0__densenet121__PT-True - Reduced_Pycnopodia_helianthoides_full_event-unaware_training-split_2024-05-03-19-40\n",
      "Gallery dataset path: ..\\..\\data\\Reduced_Pycnopodia_helianthoides_full_event-unaware_training-split_2024-05-03-19-40\\train True\n",
      "Query dataset path: ..\\..\\data\\Reduced_Pycnopodia_helianthoides_full_event-unaware_training-split_2024-05-03-19-40\\test True\n",
      "Number of identities: 219\n",
      "Number of gallery images: 4507\n",
      "Number of query images: 1286\n"
     ]
    },
    {
     "name": "stderr",
     "output_type": "stream",
     "text": [
      "100%|██████████| 4507/4507 [02:40<00:00, 28.13it/s]\n",
      "100%|██████████| 1286/1286 [00:46<00:00, 27.38it/s]\n"
     ]
    },
    {
     "name": "stdout",
     "output_type": "stream",
     "text": [
      "\n",
      "Computed mAP:\n",
      "mAP@1: 0.8950\n",
      "mAP@5: 0.9541\n",
      "mAP@10: 0.9689\n",
      "mAP@15: 0.9774\n",
      "mAP@20: 0.9806\n",
      "190|347 - Reduced_Pycnopodia_helianthoides_full_event-unaware_training-split_2024-05-03-19-40__2024-05-07-02-32-42__0__densenet121__PT-True - Reduced_Pycnopodia_helianthoides_full_event-unaware_training-split_2024-05-03-19-40\n",
      "Gallery dataset path: ..\\..\\data\\Reduced_Pycnopodia_helianthoides_full_event-unaware_training-split_2024-05-03-19-40\\train True\n",
      "Query dataset path: ..\\..\\data\\Reduced_Pycnopodia_helianthoides_full_event-unaware_training-split_2024-05-03-19-40\\test True\n",
      "Number of identities: 219\n",
      "Number of gallery images: 4507\n",
      "Number of query images: 1286\n"
     ]
    },
    {
     "name": "stderr",
     "output_type": "stream",
     "text": [
      "100%|██████████| 4507/4507 [02:39<00:00, 28.19it/s]\n",
      "100%|██████████| 1286/1286 [00:45<00:00, 28.42it/s]\n"
     ]
    },
    {
     "name": "stdout",
     "output_type": "stream",
     "text": [
      "\n",
      "Computed mAP:\n",
      "mAP@1: 0.8865\n",
      "mAP@5: 0.9409\n",
      "mAP@10: 0.9658\n",
      "mAP@15: 0.9751\n",
      "mAP@20: 0.9798\n",
      "191|347 - Reduced_Pycnopodia_helianthoides_full_event-unaware_training-split_2024-05-03-19-40__2024-05-07-02-34-07__1__densenet121__PT-True - Reduced_Pycnopodia_helianthoides_full_event-unaware_training-split_2024-05-03-19-40\n",
      "Gallery dataset path: ..\\..\\data\\Reduced_Pycnopodia_helianthoides_full_event-unaware_training-split_2024-05-03-19-40\\train True\n",
      "Query dataset path: ..\\..\\data\\Reduced_Pycnopodia_helianthoides_full_event-unaware_training-split_2024-05-03-19-40\\test True\n",
      "Number of identities: 219\n",
      "Number of gallery images: 4507\n",
      "Number of query images: 1286\n"
     ]
    },
    {
     "name": "stderr",
     "output_type": "stream",
     "text": [
      "100%|██████████| 4507/4507 [02:39<00:00, 28.21it/s]\n",
      "100%|██████████| 1286/1286 [00:45<00:00, 28.38it/s]\n"
     ]
    },
    {
     "name": "stdout",
     "output_type": "stream",
     "text": [
      "\n",
      "Computed mAP:\n",
      "mAP@1: 0.8600\n",
      "mAP@5: 0.9401\n",
      "mAP@10: 0.9588\n",
      "mAP@15: 0.9650\n",
      "mAP@20: 0.9673\n",
      "192|347 - Reduced_Pycnopodia_helianthoides_full_event-unaware_training-split_2024-05-03-19-40__2024-05-07-07-56-25__1__densenet121__PT-True - Reduced_Pycnopodia_helianthoides_full_event-unaware_training-split_2024-05-03-19-40\n",
      "Gallery dataset path: ..\\..\\data\\Reduced_Pycnopodia_helianthoides_full_event-unaware_training-split_2024-05-03-19-40\\train True\n",
      "Query dataset path: ..\\..\\data\\Reduced_Pycnopodia_helianthoides_full_event-unaware_training-split_2024-05-03-19-40\\test True\n",
      "Number of identities: 219\n",
      "Number of gallery images: 4507\n",
      "Number of query images: 1286\n"
     ]
    },
    {
     "name": "stderr",
     "output_type": "stream",
     "text": [
      "100%|██████████| 4507/4507 [02:41<00:00, 27.96it/s]\n",
      "100%|██████████| 1286/1286 [00:45<00:00, 28.00it/s]\n"
     ]
    },
    {
     "name": "stdout",
     "output_type": "stream",
     "text": [
      "\n",
      "Computed mAP:\n",
      "mAP@1: 0.9191\n",
      "mAP@5: 0.9658\n",
      "mAP@10: 0.9743\n",
      "mAP@15: 0.9782\n",
      "mAP@20: 0.9806\n",
      "193|347 - Reduced_Pycnopodia_helianthoides_full_event-unaware_training-split_2024-05-03-19-40__2024-05-07-08-48-03__0__densenet121__PT-True - Reduced_Pycnopodia_helianthoides_full_event-unaware_training-split_2024-05-03-19-40\n",
      "Gallery dataset path: ..\\..\\data\\Reduced_Pycnopodia_helianthoides_full_event-unaware_training-split_2024-05-03-19-40\\train True\n",
      "Query dataset path: ..\\..\\data\\Reduced_Pycnopodia_helianthoides_full_event-unaware_training-split_2024-05-03-19-40\\test True\n",
      "Number of identities: 219\n",
      "Number of gallery images: 4507\n",
      "Number of query images: 1286\n"
     ]
    },
    {
     "name": "stderr",
     "output_type": "stream",
     "text": [
      "100%|██████████| 4507/4507 [02:41<00:00, 27.89it/s]\n",
      "100%|██████████| 1286/1286 [00:45<00:00, 28.37it/s]\n"
     ]
    },
    {
     "name": "stdout",
     "output_type": "stream",
     "text": [
      "\n",
      "Computed mAP:\n",
      "mAP@1: 0.9355\n",
      "mAP@5: 0.9666\n",
      "mAP@10: 0.9774\n",
      "mAP@15: 0.9806\n",
      "mAP@20: 0.9837\n",
      "194|347 - Reduced_Pycnopodia_helianthoides_full_event-unaware_training-split_2024-05-03-19-40__2024-05-07-15-00-16__1__densenet121__PT-True - Reduced_Pycnopodia_helianthoides_full_event-unaware_training-split_2024-05-03-19-40\n",
      "Gallery dataset path: ..\\..\\data\\Reduced_Pycnopodia_helianthoides_full_event-unaware_training-split_2024-05-03-19-40\\train True\n",
      "Query dataset path: ..\\..\\data\\Reduced_Pycnopodia_helianthoides_full_event-unaware_training-split_2024-05-03-19-40\\test True\n",
      "Number of identities: 219\n",
      "Number of gallery images: 4507\n",
      "Number of query images: 1286\n"
     ]
    },
    {
     "name": "stderr",
     "output_type": "stream",
     "text": [
      "100%|██████████| 4507/4507 [02:40<00:00, 28.02it/s]\n",
      "100%|██████████| 1286/1286 [00:44<00:00, 28.96it/s]\n"
     ]
    },
    {
     "name": "stdout",
     "output_type": "stream",
     "text": [
      "\n",
      "Computed mAP:\n",
      "mAP@1: 0.9106\n",
      "mAP@5: 0.9572\n",
      "mAP@10: 0.9689\n",
      "mAP@15: 0.9751\n",
      "mAP@20: 0.9782\n",
      "195|347 - Reduced_Pycnopodia_helianthoides_full_event-unaware_training-split_2024-05-03-19-40__2024-05-07-15-17-48__0__densenet121__PT-True - Reduced_Pycnopodia_helianthoides_full_event-unaware_training-split_2024-05-03-19-40\n",
      "Gallery dataset path: ..\\..\\data\\Reduced_Pycnopodia_helianthoides_full_event-unaware_training-split_2024-05-03-19-40\\train True\n",
      "Query dataset path: ..\\..\\data\\Reduced_Pycnopodia_helianthoides_full_event-unaware_training-split_2024-05-03-19-40\\test True\n",
      "Number of identities: 219\n",
      "Number of gallery images: 4507\n",
      "Number of query images: 1286\n"
     ]
    },
    {
     "name": "stderr",
     "output_type": "stream",
     "text": [
      "100%|██████████| 4507/4507 [02:39<00:00, 28.23it/s]\n",
      "100%|██████████| 1286/1286 [00:46<00:00, 27.67it/s]\n"
     ]
    },
    {
     "name": "stdout",
     "output_type": "stream",
     "text": [
      "\n",
      "Computed mAP:\n",
      "mAP@1: 0.9184\n",
      "mAP@5: 0.9642\n",
      "mAP@10: 0.9751\n",
      "mAP@15: 0.9821\n",
      "mAP@20: 0.9852\n",
      "196|347 - Reduced_Pycnopodia_helianthoides_full_event-unaware_training-split_2024-05-03-19-40__2024-05-08-00-05-52__1__densenet121__PT-True - Reduced_Pycnopodia_helianthoides_full_event-unaware_training-split_2024-05-03-19-40\n",
      "Gallery dataset path: ..\\..\\data\\Reduced_Pycnopodia_helianthoides_full_event-unaware_training-split_2024-05-03-19-40\\train True\n",
      "Query dataset path: ..\\..\\data\\Reduced_Pycnopodia_helianthoides_full_event-unaware_training-split_2024-05-03-19-40\\test True\n",
      "Number of identities: 219\n",
      "Number of gallery images: 4507\n",
      "Number of query images: 1286\n"
     ]
    },
    {
     "name": "stderr",
     "output_type": "stream",
     "text": [
      "100%|██████████| 4507/4507 [02:38<00:00, 28.36it/s]\n",
      "100%|██████████| 1286/1286 [00:44<00:00, 28.74it/s]\n"
     ]
    },
    {
     "name": "stdout",
     "output_type": "stream",
     "text": [
      "\n",
      "Computed mAP:\n",
      "mAP@1: 0.9160\n",
      "mAP@5: 0.9588\n",
      "mAP@10: 0.9705\n",
      "mAP@15: 0.9767\n",
      "mAP@20: 0.9821\n",
      "197|347 - Reduced_Pycnopodia_helianthoides_full_event-unaware_training-split_2024-05-03-19-40__2024-05-08-00-20-12__0__densenet121__PT-True - Reduced_Pycnopodia_helianthoides_full_event-unaware_training-split_2024-05-03-19-40\n",
      "Gallery dataset path: ..\\..\\data\\Reduced_Pycnopodia_helianthoides_full_event-unaware_training-split_2024-05-03-19-40\\train True\n",
      "Query dataset path: ..\\..\\data\\Reduced_Pycnopodia_helianthoides_full_event-unaware_training-split_2024-05-03-19-40\\test True\n",
      "Number of identities: 219\n",
      "Number of gallery images: 4507\n",
      "Number of query images: 1286\n"
     ]
    },
    {
     "name": "stderr",
     "output_type": "stream",
     "text": [
      "100%|██████████| 4507/4507 [02:39<00:00, 28.31it/s]\n",
      "100%|██████████| 1286/1286 [00:45<00:00, 28.57it/s]\n"
     ]
    },
    {
     "name": "stdout",
     "output_type": "stream",
     "text": [
      "\n",
      "Computed mAP:\n",
      "mAP@1: 0.8826\n",
      "mAP@5: 0.9518\n",
      "mAP@10: 0.9627\n",
      "mAP@15: 0.9720\n",
      "mAP@20: 0.9774\n",
      "198|347 - Reduced_Pycnopodia_helianthoides_full_event-unaware_training-split_2024-05-03-19-40__2024-05-08-04-44-30__1__densenet121__PT-True - Reduced_Pycnopodia_helianthoides_full_event-unaware_training-split_2024-05-03-19-40\n",
      "Gallery dataset path: ..\\..\\data\\Reduced_Pycnopodia_helianthoides_full_event-unaware_training-split_2024-05-03-19-40\\train True\n",
      "Query dataset path: ..\\..\\data\\Reduced_Pycnopodia_helianthoides_full_event-unaware_training-split_2024-05-03-19-40\\test True\n",
      "Number of identities: 219\n",
      "Number of gallery images: 4507\n",
      "Number of query images: 1286\n"
     ]
    },
    {
     "name": "stderr",
     "output_type": "stream",
     "text": [
      "100%|██████████| 4507/4507 [02:40<00:00, 28.13it/s]\n",
      "100%|██████████| 1286/1286 [00:45<00:00, 28.28it/s]\n"
     ]
    },
    {
     "name": "stdout",
     "output_type": "stream",
     "text": [
      "\n",
      "Computed mAP:\n",
      "mAP@1: 0.9145\n",
      "mAP@5: 0.9588\n",
      "mAP@10: 0.9736\n",
      "mAP@15: 0.9767\n",
      "mAP@20: 0.9821\n",
      "199|347 - Reduced_Pycnopodia_helianthoides_full_event-unaware_training-split_2024-05-03-19-40__2024-05-08-04-47-51__0__densenet121__PT-True - Reduced_Pycnopodia_helianthoides_full_event-unaware_training-split_2024-05-03-19-40\n",
      "Gallery dataset path: ..\\..\\data\\Reduced_Pycnopodia_helianthoides_full_event-unaware_training-split_2024-05-03-19-40\\train True\n",
      "Query dataset path: ..\\..\\data\\Reduced_Pycnopodia_helianthoides_full_event-unaware_training-split_2024-05-03-19-40\\test True\n",
      "Number of identities: 219\n",
      "Number of gallery images: 4507\n",
      "Number of query images: 1286\n"
     ]
    },
    {
     "name": "stderr",
     "output_type": "stream",
     "text": [
      "100%|██████████| 4507/4507 [02:39<00:00, 28.26it/s]\n",
      "100%|██████████| 1286/1286 [00:45<00:00, 28.45it/s]\n"
     ]
    },
    {
     "name": "stdout",
     "output_type": "stream",
     "text": [
      "\n",
      "Computed mAP:\n",
      "mAP@1: 0.8802\n",
      "mAP@5: 0.9526\n",
      "mAP@10: 0.9697\n",
      "mAP@15: 0.9774\n",
      "mAP@20: 0.9837\n",
      "200|347 - Reduced_Pycnopodia_helianthoides_full_event-unaware_training-split_2024-05-03-19-40__2024-05-08-08-49-53__0__densenet121__PT-True - Reduced_Pycnopodia_helianthoides_full_event-unaware_training-split_2024-05-03-19-40\n",
      "Gallery dataset path: ..\\..\\data\\Reduced_Pycnopodia_helianthoides_full_event-unaware_training-split_2024-05-03-19-40\\train True\n",
      "Query dataset path: ..\\..\\data\\Reduced_Pycnopodia_helianthoides_full_event-unaware_training-split_2024-05-03-19-40\\test True\n",
      "Number of identities: 219\n",
      "Number of gallery images: 4507\n",
      "Number of query images: 1286\n"
     ]
    },
    {
     "name": "stderr",
     "output_type": "stream",
     "text": [
      "100%|██████████| 4507/4507 [02:39<00:00, 28.18it/s]\n",
      "100%|██████████| 1286/1286 [00:44<00:00, 28.73it/s]\n"
     ]
    },
    {
     "name": "stdout",
     "output_type": "stream",
     "text": [
      "\n",
      "Computed mAP:\n",
      "mAP@1: 0.8810\n",
      "mAP@5: 0.9440\n",
      "mAP@10: 0.9635\n",
      "mAP@15: 0.9743\n",
      "mAP@20: 0.9751\n",
      "201|347 - Reduced_Pycnopodia_helianthoides_full_event-unaware_training-split_2024-05-03-19-40__2024-05-08-08-57-28__1__densenet121__PT-True - Reduced_Pycnopodia_helianthoides_full_event-unaware_training-split_2024-05-03-19-40\n",
      "Gallery dataset path: ..\\..\\data\\Reduced_Pycnopodia_helianthoides_full_event-unaware_training-split_2024-05-03-19-40\\train True\n",
      "Query dataset path: ..\\..\\data\\Reduced_Pycnopodia_helianthoides_full_event-unaware_training-split_2024-05-03-19-40\\test True\n",
      "Number of identities: 219\n",
      "Number of gallery images: 4507\n",
      "Number of query images: 1286\n"
     ]
    },
    {
     "name": "stderr",
     "output_type": "stream",
     "text": [
      "100%|██████████| 4507/4507 [02:40<00:00, 28.10it/s]\n",
      "100%|██████████| 1286/1286 [00:46<00:00, 27.70it/s]\n"
     ]
    },
    {
     "name": "stdout",
     "output_type": "stream",
     "text": [
      "\n",
      "Computed mAP:\n",
      "mAP@1: 0.9114\n",
      "mAP@5: 0.9596\n",
      "mAP@10: 0.9712\n",
      "mAP@15: 0.9774\n",
      "mAP@20: 0.9837\n",
      "202|347 - Reduced_Pycnopodia_helianthoides_full_event-unaware_training-split_2024-05-03-19-40__2024-05-08-13-20-46__0__densenet121__PT-True - Reduced_Pycnopodia_helianthoides_full_event-unaware_training-split_2024-05-03-19-40\n",
      "Gallery dataset path: ..\\..\\data\\Reduced_Pycnopodia_helianthoides_full_event-unaware_training-split_2024-05-03-19-40\\train True\n",
      "Query dataset path: ..\\..\\data\\Reduced_Pycnopodia_helianthoides_full_event-unaware_training-split_2024-05-03-19-40\\test True\n",
      "Number of identities: 219\n",
      "Number of gallery images: 4507\n",
      "Number of query images: 1286\n"
     ]
    },
    {
     "name": "stderr",
     "output_type": "stream",
     "text": [
      "100%|██████████| 4507/4507 [02:40<00:00, 28.05it/s]\n",
      "100%|██████████| 1286/1286 [00:45<00:00, 28.18it/s]\n"
     ]
    },
    {
     "name": "stdout",
     "output_type": "stream",
     "text": [
      "\n",
      "Computed mAP:\n",
      "mAP@1: 0.8771\n",
      "mAP@5: 0.9440\n",
      "mAP@10: 0.9619\n",
      "mAP@15: 0.9743\n",
      "mAP@20: 0.9782\n",
      "203|347 - Reduced_Pycnopodia_helianthoides_full_event-unaware_training-split_2024-05-03-19-40__2024-05-08-13-23-27__1__densenet121__PT-True - Reduced_Pycnopodia_helianthoides_full_event-unaware_training-split_2024-05-03-19-40\n",
      "Gallery dataset path: ..\\..\\data\\Reduced_Pycnopodia_helianthoides_full_event-unaware_training-split_2024-05-03-19-40\\train True\n",
      "Query dataset path: ..\\..\\data\\Reduced_Pycnopodia_helianthoides_full_event-unaware_training-split_2024-05-03-19-40\\test True\n",
      "Number of identities: 219\n",
      "Number of gallery images: 4507\n",
      "Number of query images: 1286\n"
     ]
    },
    {
     "name": "stderr",
     "output_type": "stream",
     "text": [
      "100%|██████████| 4507/4507 [02:39<00:00, 28.20it/s]\n",
      "100%|██████████| 1286/1286 [00:45<00:00, 28.04it/s]\n"
     ]
    },
    {
     "name": "stdout",
     "output_type": "stream",
     "text": [
      "\n",
      "Computed mAP:\n",
      "mAP@1: 0.9059\n",
      "mAP@5: 0.9557\n",
      "mAP@10: 0.9712\n",
      "mAP@15: 0.9782\n",
      "mAP@20: 0.9829\n",
      "204|347 - Reduced_Pycnopodia_helianthoides_full_event-unaware_training-split_2024-05-03-19-40__2024-05-08-17-44-56__1__densenet121__PT-True - Reduced_Pycnopodia_helianthoides_full_event-unaware_training-split_2024-05-03-19-40\n",
      "Gallery dataset path: ..\\..\\data\\Reduced_Pycnopodia_helianthoides_full_event-unaware_training-split_2024-05-03-19-40\\train True\n",
      "Query dataset path: ..\\..\\data\\Reduced_Pycnopodia_helianthoides_full_event-unaware_training-split_2024-05-03-19-40\\test True\n",
      "Number of identities: 219\n",
      "Number of gallery images: 4507\n",
      "Number of query images: 1286\n"
     ]
    },
    {
     "name": "stderr",
     "output_type": "stream",
     "text": [
      "100%|██████████| 4507/4507 [02:40<00:00, 28.04it/s]\n",
      "100%|██████████| 1286/1286 [00:46<00:00, 27.95it/s]\n"
     ]
    },
    {
     "name": "stdout",
     "output_type": "stream",
     "text": [
      "\n",
      "Computed mAP:\n",
      "mAP@1: 0.9051\n",
      "mAP@5: 0.9572\n",
      "mAP@10: 0.9720\n",
      "mAP@15: 0.9790\n",
      "mAP@20: 0.9837\n",
      "205|347 - Reduced_Pycnopodia_helianthoides_full_event-unaware_training-split_2024-05-03-19-40__2024-05-08-17-52-42__0__densenet121__PT-True - Reduced_Pycnopodia_helianthoides_full_event-unaware_training-split_2024-05-03-19-40\n",
      "Gallery dataset path: ..\\..\\data\\Reduced_Pycnopodia_helianthoides_full_event-unaware_training-split_2024-05-03-19-40\\train True\n",
      "Query dataset path: ..\\..\\data\\Reduced_Pycnopodia_helianthoides_full_event-unaware_training-split_2024-05-03-19-40\\test True\n",
      "Number of identities: 219\n",
      "Number of gallery images: 4507\n",
      "Number of query images: 1286\n"
     ]
    },
    {
     "name": "stderr",
     "output_type": "stream",
     "text": [
      "100%|██████████| 4507/4507 [02:41<00:00, 27.99it/s]\n",
      "100%|██████████| 1286/1286 [00:45<00:00, 28.19it/s]\n"
     ]
    },
    {
     "name": "stdout",
     "output_type": "stream",
     "text": [
      "\n",
      "Computed mAP:\n",
      "mAP@1: 0.8880\n",
      "mAP@5: 0.9487\n",
      "mAP@10: 0.9658\n",
      "mAP@15: 0.9720\n",
      "mAP@20: 0.9743\n",
      "206|347 - Reduced_Pycnopodia_helianthoides_full_event-unaware_training-split_2024-05-03-19-40__2024-05-08-22-16-21__0__densenet121__PT-True - Reduced_Pycnopodia_helianthoides_full_event-unaware_training-split_2024-05-03-19-40\n",
      "Gallery dataset path: ..\\..\\data\\Reduced_Pycnopodia_helianthoides_full_event-unaware_training-split_2024-05-03-19-40\\train True\n",
      "Query dataset path: ..\\..\\data\\Reduced_Pycnopodia_helianthoides_full_event-unaware_training-split_2024-05-03-19-40\\test True\n",
      "Number of identities: 219\n",
      "Number of gallery images: 4507\n",
      "Number of query images: 1286\n"
     ]
    },
    {
     "name": "stderr",
     "output_type": "stream",
     "text": [
      "100%|██████████| 4507/4507 [02:39<00:00, 28.22it/s]\n",
      "100%|██████████| 1286/1286 [00:44<00:00, 28.62it/s]\n"
     ]
    },
    {
     "name": "stdout",
     "output_type": "stream",
     "text": [
      "\n",
      "Computed mAP:\n",
      "mAP@1: 0.8802\n",
      "mAP@5: 0.9510\n",
      "mAP@10: 0.9673\n",
      "mAP@15: 0.9743\n",
      "mAP@20: 0.9798\n",
      "207|347 - Reduced_Pycnopodia_helianthoides_full_event-unaware_training-split_2024-05-03-19-40__2024-05-08-22-21-51__1__densenet121__PT-True - Reduced_Pycnopodia_helianthoides_full_event-unaware_training-split_2024-05-03-19-40\n",
      "Gallery dataset path: ..\\..\\data\\Reduced_Pycnopodia_helianthoides_full_event-unaware_training-split_2024-05-03-19-40\\train True\n",
      "Query dataset path: ..\\..\\data\\Reduced_Pycnopodia_helianthoides_full_event-unaware_training-split_2024-05-03-19-40\\test True\n",
      "Number of identities: 219\n",
      "Number of gallery images: 4507\n",
      "Number of query images: 1286\n"
     ]
    },
    {
     "name": "stderr",
     "output_type": "stream",
     "text": [
      "100%|██████████| 4507/4507 [02:38<00:00, 28.40it/s]\n",
      "100%|██████████| 1286/1286 [00:44<00:00, 28.61it/s]\n"
     ]
    },
    {
     "name": "stdout",
     "output_type": "stream",
     "text": [
      "\n",
      "Computed mAP:\n",
      "mAP@1: 0.9121\n",
      "mAP@5: 0.9627\n",
      "mAP@10: 0.9782\n",
      "mAP@15: 0.9821\n",
      "mAP@20: 0.9852\n",
      "208|347 - Reduced_Pycnopodia_helianthoides_full_event-unaware_training-split_2024-05-03-20-02__2024-05-05-23-05-00__1__densenet121__PT-True - Reduced_Pycnopodia_helianthoides_full_event-unaware_training-split_2024-05-03-20-02\n",
      "Gallery dataset path: ..\\..\\data\\Reduced_Pycnopodia_helianthoides_full_event-unaware_training-split_2024-05-03-20-02\\train True\n",
      "Query dataset path: ..\\..\\data\\Reduced_Pycnopodia_helianthoides_full_event-unaware_training-split_2024-05-03-20-02\\test True\n",
      "Number of identities: 219\n",
      "Number of gallery images: 4513\n",
      "Number of query images: 1276\n"
     ]
    },
    {
     "name": "stderr",
     "output_type": "stream",
     "text": [
      "100%|██████████| 4513/4513 [02:40<00:00, 28.13it/s]\n",
      "100%|██████████| 1276/1276 [00:44<00:00, 28.59it/s]\n"
     ]
    },
    {
     "name": "stdout",
     "output_type": "stream",
     "text": [
      "\n",
      "Computed mAP:\n",
      "mAP@1: 0.8597\n",
      "mAP@5: 0.9436\n",
      "mAP@10: 0.9585\n",
      "mAP@15: 0.9679\n",
      "mAP@20: 0.9741\n",
      "209|347 - Reduced_Pycnopodia_helianthoides_full_event-unaware_training-split_2024-05-03-20-02__2024-05-05-23-42-27__0__densenet121__PT-True - Reduced_Pycnopodia_helianthoides_full_event-unaware_training-split_2024-05-03-20-02\n",
      "Gallery dataset path: ..\\..\\data\\Reduced_Pycnopodia_helianthoides_full_event-unaware_training-split_2024-05-03-20-02\\train True\n",
      "Query dataset path: ..\\..\\data\\Reduced_Pycnopodia_helianthoides_full_event-unaware_training-split_2024-05-03-20-02\\test True\n",
      "Number of identities: 219\n",
      "Number of gallery images: 4513\n",
      "Number of query images: 1276\n"
     ]
    },
    {
     "name": "stderr",
     "output_type": "stream",
     "text": [
      "100%|██████████| 4513/4513 [02:42<00:00, 27.80it/s]\n",
      "100%|██████████| 1276/1276 [00:45<00:00, 28.33it/s]\n"
     ]
    },
    {
     "name": "stdout",
     "output_type": "stream",
     "text": [
      "\n",
      "Computed mAP:\n",
      "mAP@1: 0.8817\n",
      "mAP@5: 0.9420\n",
      "mAP@10: 0.9663\n",
      "mAP@15: 0.9734\n",
      "mAP@20: 0.9788\n",
      "210|347 - Reduced_Pycnopodia_helianthoides_full_event-unaware_training-split_2024-05-03-20-02__2024-05-06-05-05-53__1__densenet121__PT-True - Reduced_Pycnopodia_helianthoides_full_event-unaware_training-split_2024-05-03-20-02\n",
      "Gallery dataset path: ..\\..\\data\\Reduced_Pycnopodia_helianthoides_full_event-unaware_training-split_2024-05-03-20-02\\train True\n",
      "Query dataset path: ..\\..\\data\\Reduced_Pycnopodia_helianthoides_full_event-unaware_training-split_2024-05-03-20-02\\test True\n",
      "Number of identities: 219\n",
      "Number of gallery images: 4513\n",
      "Number of query images: 1276\n"
     ]
    },
    {
     "name": "stderr",
     "output_type": "stream",
     "text": [
      "100%|██████████| 4513/4513 [02:38<00:00, 28.49it/s]\n",
      "100%|██████████| 1276/1276 [00:45<00:00, 28.07it/s]\n"
     ]
    },
    {
     "name": "stdout",
     "output_type": "stream",
     "text": [
      "\n",
      "Computed mAP:\n",
      "mAP@1: 0.8245\n",
      "mAP@5: 0.9177\n",
      "mAP@10: 0.9397\n",
      "mAP@15: 0.9514\n",
      "mAP@20: 0.9577\n",
      "211|347 - Reduced_Pycnopodia_helianthoides_full_event-unaware_training-split_2024-05-03-20-02__2024-05-06-05-14-22__0__densenet121__PT-True - Reduced_Pycnopodia_helianthoides_full_event-unaware_training-split_2024-05-03-20-02\n",
      "Gallery dataset path: ..\\..\\data\\Reduced_Pycnopodia_helianthoides_full_event-unaware_training-split_2024-05-03-20-02\\train True\n",
      "Query dataset path: ..\\..\\data\\Reduced_Pycnopodia_helianthoides_full_event-unaware_training-split_2024-05-03-20-02\\test True\n",
      "Number of identities: 219\n",
      "Number of gallery images: 4513\n",
      "Number of query images: 1276\n"
     ]
    },
    {
     "name": "stderr",
     "output_type": "stream",
     "text": [
      "100%|██████████| 4513/4513 [02:39<00:00, 28.21it/s]\n",
      "100%|██████████| 1276/1276 [00:45<00:00, 28.35it/s]\n"
     ]
    },
    {
     "name": "stdout",
     "output_type": "stream",
     "text": [
      "\n",
      "Computed mAP:\n",
      "mAP@1: 0.8511\n",
      "mAP@5: 0.9287\n",
      "mAP@10: 0.9553\n",
      "mAP@15: 0.9632\n",
      "mAP@20: 0.9694\n",
      "212|347 - Reduced_Pycnopodia_helianthoides_full_event-unaware_training-split_2024-05-03-20-02__2024-05-06-10-39-50__1__densenet121__PT-True - Reduced_Pycnopodia_helianthoides_full_event-unaware_training-split_2024-05-03-20-02\n",
      "Gallery dataset path: ..\\..\\data\\Reduced_Pycnopodia_helianthoides_full_event-unaware_training-split_2024-05-03-20-02\\train True\n",
      "Query dataset path: ..\\..\\data\\Reduced_Pycnopodia_helianthoides_full_event-unaware_training-split_2024-05-03-20-02\\test True\n",
      "Number of identities: 219\n",
      "Number of gallery images: 4513\n",
      "Number of query images: 1276\n"
     ]
    },
    {
     "name": "stderr",
     "output_type": "stream",
     "text": [
      "100%|██████████| 4513/4513 [02:40<00:00, 28.19it/s]\n",
      "100%|██████████| 1276/1276 [00:45<00:00, 28.19it/s]\n"
     ]
    },
    {
     "name": "stdout",
     "output_type": "stream",
     "text": [
      "\n",
      "Computed mAP:\n",
      "mAP@1: 0.7688\n",
      "mAP@5: 0.8989\n",
      "mAP@10: 0.9263\n",
      "mAP@15: 0.9373\n",
      "mAP@20: 0.9483\n",
      "213|347 - Reduced_Pycnopodia_helianthoides_full_event-unaware_training-split_2024-05-03-20-02__2024-05-06-10-48-39__0__densenet121__PT-True - Reduced_Pycnopodia_helianthoides_full_event-unaware_training-split_2024-05-03-20-02\n",
      "Gallery dataset path: ..\\..\\data\\Reduced_Pycnopodia_helianthoides_full_event-unaware_training-split_2024-05-03-20-02\\train True\n",
      "Query dataset path: ..\\..\\data\\Reduced_Pycnopodia_helianthoides_full_event-unaware_training-split_2024-05-03-20-02\\test True\n",
      "Number of identities: 219\n",
      "Number of gallery images: 4513\n",
      "Number of query images: 1276\n"
     ]
    },
    {
     "name": "stderr",
     "output_type": "stream",
     "text": [
      "100%|██████████| 4513/4513 [02:39<00:00, 28.35it/s]\n",
      "100%|██████████| 1276/1276 [00:45<00:00, 28.17it/s]\n"
     ]
    },
    {
     "name": "stdout",
     "output_type": "stream",
     "text": [
      "\n",
      "Computed mAP:\n",
      "mAP@1: 0.7853\n",
      "mAP@5: 0.8981\n",
      "mAP@10: 0.9404\n",
      "mAP@15: 0.9530\n",
      "mAP@20: 0.9608\n",
      "214|347 - Reduced_Pycnopodia_helianthoides_full_event-unaware_training-split_2024-05-03-20-02__2024-05-06-15-48-58__1__densenet121__PT-True - Reduced_Pycnopodia_helianthoides_full_event-unaware_training-split_2024-05-03-20-02\n",
      "Gallery dataset path: ..\\..\\data\\Reduced_Pycnopodia_helianthoides_full_event-unaware_training-split_2024-05-03-20-02\\train True\n",
      "Query dataset path: ..\\..\\data\\Reduced_Pycnopodia_helianthoides_full_event-unaware_training-split_2024-05-03-20-02\\test True\n",
      "Number of identities: 219\n",
      "Number of gallery images: 4513\n",
      "Number of query images: 1276\n"
     ]
    },
    {
     "name": "stderr",
     "output_type": "stream",
     "text": [
      "100%|██████████| 4513/4513 [02:38<00:00, 28.50it/s]\n",
      "100%|██████████| 1276/1276 [00:45<00:00, 28.12it/s]\n"
     ]
    },
    {
     "name": "stdout",
     "output_type": "stream",
     "text": [
      "\n",
      "Computed mAP:\n",
      "mAP@1: 0.9052\n",
      "mAP@5: 0.9514\n",
      "mAP@10: 0.9687\n",
      "mAP@15: 0.9765\n",
      "mAP@20: 0.9804\n",
      "215|347 - Reduced_Pycnopodia_helianthoides_full_event-unaware_training-split_2024-05-03-20-02__2024-05-06-16-20-32__0__densenet121__PT-True - Reduced_Pycnopodia_helianthoides_full_event-unaware_training-split_2024-05-03-20-02\n",
      "Gallery dataset path: ..\\..\\data\\Reduced_Pycnopodia_helianthoides_full_event-unaware_training-split_2024-05-03-20-02\\train True\n",
      "Query dataset path: ..\\..\\data\\Reduced_Pycnopodia_helianthoides_full_event-unaware_training-split_2024-05-03-20-02\\test True\n",
      "Number of identities: 219\n",
      "Number of gallery images: 4513\n",
      "Number of query images: 1276\n"
     ]
    },
    {
     "name": "stderr",
     "output_type": "stream",
     "text": [
      "100%|██████████| 4513/4513 [02:39<00:00, 28.25it/s]\n",
      "100%|██████████| 1276/1276 [00:45<00:00, 28.29it/s]\n"
     ]
    },
    {
     "name": "stdout",
     "output_type": "stream",
     "text": [
      "\n",
      "Computed mAP:\n",
      "mAP@1: 0.9169\n",
      "mAP@5: 0.9577\n",
      "mAP@10: 0.9687\n",
      "mAP@15: 0.9788\n",
      "mAP@20: 0.9804\n",
      "216|347 - Reduced_Pycnopodia_helianthoides_full_event-unaware_training-split_2024-05-03-20-02__2024-05-06-21-33-08__1__densenet121__PT-True - Reduced_Pycnopodia_helianthoides_full_event-unaware_training-split_2024-05-03-20-02\n",
      "Gallery dataset path: ..\\..\\data\\Reduced_Pycnopodia_helianthoides_full_event-unaware_training-split_2024-05-03-20-02\\train True\n",
      "Query dataset path: ..\\..\\data\\Reduced_Pycnopodia_helianthoides_full_event-unaware_training-split_2024-05-03-20-02\\test True\n",
      "Number of identities: 219\n",
      "Number of gallery images: 4513\n",
      "Number of query images: 1276\n"
     ]
    },
    {
     "name": "stderr",
     "output_type": "stream",
     "text": [
      "100%|██████████| 4513/4513 [02:40<00:00, 28.11it/s]\n",
      "100%|██████████| 1276/1276 [00:45<00:00, 27.94it/s]\n"
     ]
    },
    {
     "name": "stdout",
     "output_type": "stream",
     "text": [
      "\n",
      "Computed mAP:\n",
      "mAP@1: 0.8887\n",
      "mAP@5: 0.9475\n",
      "mAP@10: 0.9585\n",
      "mAP@15: 0.9647\n",
      "mAP@20: 0.9710\n",
      "217|347 - Reduced_Pycnopodia_helianthoides_full_event-unaware_training-split_2024-05-03-20-02__2024-05-06-21-35-14__0__densenet121__PT-True - Reduced_Pycnopodia_helianthoides_full_event-unaware_training-split_2024-05-03-20-02\n",
      "Gallery dataset path: ..\\..\\data\\Reduced_Pycnopodia_helianthoides_full_event-unaware_training-split_2024-05-03-20-02\\train True\n",
      "Query dataset path: ..\\..\\data\\Reduced_Pycnopodia_helianthoides_full_event-unaware_training-split_2024-05-03-20-02\\test True\n",
      "Number of identities: 219\n",
      "Number of gallery images: 4513\n",
      "Number of query images: 1276\n"
     ]
    },
    {
     "name": "stderr",
     "output_type": "stream",
     "text": [
      "100%|██████████| 4513/4513 [02:39<00:00, 28.37it/s]\n",
      "100%|██████████| 1276/1276 [00:44<00:00, 28.60it/s]\n"
     ]
    },
    {
     "name": "stdout",
     "output_type": "stream",
     "text": [
      "\n",
      "Computed mAP:\n",
      "mAP@1: 0.8973\n",
      "mAP@5: 0.9530\n",
      "mAP@10: 0.9687\n",
      "mAP@15: 0.9741\n",
      "mAP@20: 0.9773\n",
      "218|347 - Reduced_Pycnopodia_helianthoides_full_event-unaware_training-split_2024-05-03-20-02__2024-05-07-03-10-40__0__densenet121__PT-True - Reduced_Pycnopodia_helianthoides_full_event-unaware_training-split_2024-05-03-20-02\n",
      "Gallery dataset path: ..\\..\\data\\Reduced_Pycnopodia_helianthoides_full_event-unaware_training-split_2024-05-03-20-02\\train True\n",
      "Query dataset path: ..\\..\\data\\Reduced_Pycnopodia_helianthoides_full_event-unaware_training-split_2024-05-03-20-02\\test True\n",
      "Number of identities: 219\n",
      "Number of gallery images: 4513\n",
      "Number of query images: 1276\n"
     ]
    },
    {
     "name": "stderr",
     "output_type": "stream",
     "text": [
      "100%|██████████| 4513/4513 [02:39<00:00, 28.29it/s]\n",
      "100%|██████████| 1276/1276 [00:43<00:00, 29.20it/s]\n"
     ]
    },
    {
     "name": "stdout",
     "output_type": "stream",
     "text": [
      "\n",
      "Computed mAP:\n",
      "mAP@1: 0.8746\n",
      "mAP@5: 0.9428\n",
      "mAP@10: 0.9577\n",
      "mAP@15: 0.9734\n",
      "mAP@20: 0.9757\n",
      "219|347 - Reduced_Pycnopodia_helianthoides_full_event-unaware_training-split_2024-05-03-20-02__2024-05-07-03-12-28__1__densenet121__PT-True - Reduced_Pycnopodia_helianthoides_full_event-unaware_training-split_2024-05-03-20-02\n",
      "Gallery dataset path: ..\\..\\data\\Reduced_Pycnopodia_helianthoides_full_event-unaware_training-split_2024-05-03-20-02\\train True\n",
      "Query dataset path: ..\\..\\data\\Reduced_Pycnopodia_helianthoides_full_event-unaware_training-split_2024-05-03-20-02\\test True\n",
      "Number of identities: 219\n",
      "Number of gallery images: 4513\n",
      "Number of query images: 1276\n"
     ]
    },
    {
     "name": "stderr",
     "output_type": "stream",
     "text": [
      "100%|██████████| 4513/4513 [02:37<00:00, 28.65it/s]\n",
      "100%|██████████| 1276/1276 [00:43<00:00, 29.30it/s]\n"
     ]
    },
    {
     "name": "stdout",
     "output_type": "stream",
     "text": [
      "\n",
      "Computed mAP:\n",
      "mAP@1: 0.8762\n",
      "mAP@5: 0.9420\n",
      "mAP@10: 0.9600\n",
      "mAP@15: 0.9663\n",
      "mAP@20: 0.9687\n",
      "220|347 - Reduced_Pycnopodia_helianthoides_full_event-unaware_training-split_2024-05-03-20-02__2024-05-07-08-29-40__1__densenet121__PT-True - Reduced_Pycnopodia_helianthoides_full_event-unaware_training-split_2024-05-03-20-02\n",
      "Gallery dataset path: ..\\..\\data\\Reduced_Pycnopodia_helianthoides_full_event-unaware_training-split_2024-05-03-20-02\\train True\n",
      "Query dataset path: ..\\..\\data\\Reduced_Pycnopodia_helianthoides_full_event-unaware_training-split_2024-05-03-20-02\\test True\n",
      "Number of identities: 219\n",
      "Number of gallery images: 4513\n",
      "Number of query images: 1276\n"
     ]
    },
    {
     "name": "stderr",
     "output_type": "stream",
     "text": [
      "100%|██████████| 4513/4513 [02:43<00:00, 27.68it/s]\n",
      "100%|██████████| 1276/1276 [00:45<00:00, 28.09it/s]\n"
     ]
    },
    {
     "name": "stdout",
     "output_type": "stream",
     "text": [
      "\n",
      "Computed mAP:\n",
      "mAP@1: 0.9248\n",
      "mAP@5: 0.9561\n",
      "mAP@10: 0.9679\n",
      "mAP@15: 0.9773\n",
      "mAP@20: 0.9796\n",
      "221|347 - Reduced_Pycnopodia_helianthoides_full_event-unaware_training-split_2024-05-03-20-02__2024-05-07-09-33-31__0__densenet121__PT-True - Reduced_Pycnopodia_helianthoides_full_event-unaware_training-split_2024-05-03-20-02\n",
      "Gallery dataset path: ..\\..\\data\\Reduced_Pycnopodia_helianthoides_full_event-unaware_training-split_2024-05-03-20-02\\train True\n",
      "Query dataset path: ..\\..\\data\\Reduced_Pycnopodia_helianthoides_full_event-unaware_training-split_2024-05-03-20-02\\test True\n",
      "Number of identities: 219\n",
      "Number of gallery images: 4513\n",
      "Number of query images: 1276\n"
     ]
    },
    {
     "name": "stderr",
     "output_type": "stream",
     "text": [
      "100%|██████████| 4513/4513 [02:40<00:00, 28.05it/s]\n",
      "100%|██████████| 1276/1276 [00:45<00:00, 27.90it/s]\n"
     ]
    },
    {
     "name": "stdout",
     "output_type": "stream",
     "text": [
      "\n",
      "Computed mAP:\n",
      "mAP@1: 0.9295\n",
      "mAP@5: 0.9616\n",
      "mAP@10: 0.9710\n",
      "mAP@15: 0.9757\n",
      "mAP@20: 0.9812\n",
      "222|347 - Reduced_Pycnopodia_helianthoides_full_event-unaware_training-split_2024-05-03-20-02__2024-05-07-15-39-38__1__densenet121__PT-True - Reduced_Pycnopodia_helianthoides_full_event-unaware_training-split_2024-05-03-20-02\n",
      "Gallery dataset path: ..\\..\\data\\Reduced_Pycnopodia_helianthoides_full_event-unaware_training-split_2024-05-03-20-02\\train True\n",
      "Query dataset path: ..\\..\\data\\Reduced_Pycnopodia_helianthoides_full_event-unaware_training-split_2024-05-03-20-02\\test True\n",
      "Number of identities: 219\n",
      "Number of gallery images: 4513\n",
      "Number of query images: 1276\n"
     ]
    },
    {
     "name": "stderr",
     "output_type": "stream",
     "text": [
      "100%|██████████| 4513/4513 [02:38<00:00, 28.42it/s]\n",
      "100%|██████████| 1276/1276 [00:44<00:00, 28.47it/s]\n"
     ]
    },
    {
     "name": "stdout",
     "output_type": "stream",
     "text": [
      "\n",
      "Computed mAP:\n",
      "mAP@1: 0.9169\n",
      "mAP@5: 0.9608\n",
      "mAP@10: 0.9687\n",
      "mAP@15: 0.9741\n",
      "mAP@20: 0.9765\n",
      "223|347 - Reduced_Pycnopodia_helianthoides_full_event-unaware_training-split_2024-05-03-20-02__2024-05-07-16-00-58__0__densenet121__PT-True - Reduced_Pycnopodia_helianthoides_full_event-unaware_training-split_2024-05-03-20-02\n",
      "Gallery dataset path: ..\\..\\data\\Reduced_Pycnopodia_helianthoides_full_event-unaware_training-split_2024-05-03-20-02\\train True\n",
      "Query dataset path: ..\\..\\data\\Reduced_Pycnopodia_helianthoides_full_event-unaware_training-split_2024-05-03-20-02\\test True\n",
      "Number of identities: 219\n",
      "Number of gallery images: 4513\n",
      "Number of query images: 1276\n"
     ]
    },
    {
     "name": "stderr",
     "output_type": "stream",
     "text": [
      "100%|██████████| 4513/4513 [02:36<00:00, 28.77it/s]\n",
      "100%|██████████| 1276/1276 [00:45<00:00, 28.30it/s]\n"
     ]
    },
    {
     "name": "stdout",
     "output_type": "stream",
     "text": [
      "\n",
      "Computed mAP:\n",
      "mAP@1: 0.9154\n",
      "mAP@5: 0.9608\n",
      "mAP@10: 0.9702\n",
      "mAP@15: 0.9734\n",
      "mAP@20: 0.9788\n",
      "224|347 - Reduced_Pycnopodia_helianthoides_full_event-unaware_training-split_2024-05-03-20-02__2024-05-08-00-36-24__1__densenet121__PT-True - Reduced_Pycnopodia_helianthoides_full_event-unaware_training-split_2024-05-03-20-02\n",
      "Gallery dataset path: ..\\..\\data\\Reduced_Pycnopodia_helianthoides_full_event-unaware_training-split_2024-05-03-20-02\\train True\n",
      "Query dataset path: ..\\..\\data\\Reduced_Pycnopodia_helianthoides_full_event-unaware_training-split_2024-05-03-20-02\\test True\n",
      "Number of identities: 219\n",
      "Number of gallery images: 4513\n",
      "Number of query images: 1276\n"
     ]
    },
    {
     "name": "stderr",
     "output_type": "stream",
     "text": [
      "100%|██████████| 4513/4513 [02:40<00:00, 28.21it/s]\n",
      "100%|██████████| 1276/1276 [00:45<00:00, 28.21it/s]\n"
     ]
    },
    {
     "name": "stdout",
     "output_type": "stream",
     "text": [
      "\n",
      "Computed mAP:\n",
      "mAP@1: 0.9161\n",
      "mAP@5: 0.9561\n",
      "mAP@10: 0.9694\n",
      "mAP@15: 0.9726\n",
      "mAP@20: 0.9781\n",
      "225|347 - Reduced_Pycnopodia_helianthoides_full_event-unaware_training-split_2024-05-03-20-02__2024-05-08-00-53-55__0__densenet121__PT-True - Reduced_Pycnopodia_helianthoides_full_event-unaware_training-split_2024-05-03-20-02\n",
      "Gallery dataset path: ..\\..\\data\\Reduced_Pycnopodia_helianthoides_full_event-unaware_training-split_2024-05-03-20-02\\train True\n",
      "Query dataset path: ..\\..\\data\\Reduced_Pycnopodia_helianthoides_full_event-unaware_training-split_2024-05-03-20-02\\test True\n",
      "Number of identities: 219\n",
      "Number of gallery images: 4513\n",
      "Number of query images: 1276\n"
     ]
    },
    {
     "name": "stderr",
     "output_type": "stream",
     "text": [
      "100%|██████████| 4513/4513 [02:40<00:00, 28.12it/s]\n",
      "100%|██████████| 1276/1276 [00:46<00:00, 27.34it/s]\n"
     ]
    },
    {
     "name": "stdout",
     "output_type": "stream",
     "text": [
      "\n",
      "Computed mAP:\n",
      "mAP@1: 0.8644\n",
      "mAP@5: 0.9397\n",
      "mAP@10: 0.9553\n",
      "mAP@15: 0.9639\n",
      "mAP@20: 0.9671\n",
      "226|347 - Reduced_Pycnopodia_helianthoides_full_event-unaware_training-split_2024-05-03-20-02__2024-05-08-05-10-24__1__densenet121__PT-True - Reduced_Pycnopodia_helianthoides_full_event-unaware_training-split_2024-05-03-20-02\n",
      "Gallery dataset path: ..\\..\\data\\Reduced_Pycnopodia_helianthoides_full_event-unaware_training-split_2024-05-03-20-02\\train True\n",
      "Query dataset path: ..\\..\\data\\Reduced_Pycnopodia_helianthoides_full_event-unaware_training-split_2024-05-03-20-02\\test True\n",
      "Number of identities: 219\n",
      "Number of gallery images: 4513\n",
      "Number of query images: 1276\n"
     ]
    },
    {
     "name": "stderr",
     "output_type": "stream",
     "text": [
      "100%|██████████| 4513/4513 [02:39<00:00, 28.27it/s]\n",
      "100%|██████████| 1276/1276 [00:45<00:00, 28.03it/s]\n"
     ]
    },
    {
     "name": "stdout",
     "output_type": "stream",
     "text": [
      "\n",
      "Computed mAP:\n",
      "mAP@1: 0.9075\n",
      "mAP@5: 0.9569\n",
      "mAP@10: 0.9710\n",
      "mAP@15: 0.9741\n",
      "mAP@20: 0.9773\n",
      "227|347 - Reduced_Pycnopodia_helianthoides_full_event-unaware_training-split_2024-05-03-20-02__2024-05-08-05-14-34__0__densenet121__PT-True - Reduced_Pycnopodia_helianthoides_full_event-unaware_training-split_2024-05-03-20-02\n",
      "Gallery dataset path: ..\\..\\data\\Reduced_Pycnopodia_helianthoides_full_event-unaware_training-split_2024-05-03-20-02\\train True\n",
      "Query dataset path: ..\\..\\data\\Reduced_Pycnopodia_helianthoides_full_event-unaware_training-split_2024-05-03-20-02\\test True\n",
      "Number of identities: 219\n",
      "Number of gallery images: 4513\n",
      "Number of query images: 1276\n"
     ]
    },
    {
     "name": "stderr",
     "output_type": "stream",
     "text": [
      "100%|██████████| 4513/4513 [02:40<00:00, 28.16it/s]\n",
      "100%|██████████| 1276/1276 [00:44<00:00, 28.54it/s]\n"
     ]
    },
    {
     "name": "stdout",
     "output_type": "stream",
     "text": [
      "\n",
      "Computed mAP:\n",
      "mAP@1: 0.8926\n",
      "mAP@5: 0.9538\n",
      "mAP@10: 0.9647\n",
      "mAP@15: 0.9749\n",
      "mAP@20: 0.9788\n",
      "228|347 - Reduced_Pycnopodia_helianthoides_full_event-unaware_training-split_2024-05-03-20-02__2024-05-08-09-17-13__0__densenet121__PT-True - Reduced_Pycnopodia_helianthoides_full_event-unaware_training-split_2024-05-03-20-02\n",
      "Gallery dataset path: ..\\..\\data\\Reduced_Pycnopodia_helianthoides_full_event-unaware_training-split_2024-05-03-20-02\\train True\n",
      "Query dataset path: ..\\..\\data\\Reduced_Pycnopodia_helianthoides_full_event-unaware_training-split_2024-05-03-20-02\\test True\n",
      "Number of identities: 219\n",
      "Number of gallery images: 4513\n",
      "Number of query images: 1276\n"
     ]
    },
    {
     "name": "stderr",
     "output_type": "stream",
     "text": [
      "100%|██████████| 4513/4513 [02:39<00:00, 28.21it/s]\n",
      "100%|██████████| 1276/1276 [00:45<00:00, 28.23it/s]\n"
     ]
    },
    {
     "name": "stdout",
     "output_type": "stream",
     "text": [
      "\n",
      "Computed mAP:\n",
      "mAP@1: 0.8644\n",
      "mAP@5: 0.9412\n",
      "mAP@10: 0.9655\n",
      "mAP@15: 0.9718\n",
      "mAP@20: 0.9781\n",
      "229|347 - Reduced_Pycnopodia_helianthoides_full_event-unaware_training-split_2024-05-03-20-02__2024-05-08-09-26-33__1__densenet121__PT-True - Reduced_Pycnopodia_helianthoides_full_event-unaware_training-split_2024-05-03-20-02\n",
      "Gallery dataset path: ..\\..\\data\\Reduced_Pycnopodia_helianthoides_full_event-unaware_training-split_2024-05-03-20-02\\train True\n",
      "Query dataset path: ..\\..\\data\\Reduced_Pycnopodia_helianthoides_full_event-unaware_training-split_2024-05-03-20-02\\test True\n",
      "Number of identities: 219\n",
      "Number of gallery images: 4513\n",
      "Number of query images: 1276\n"
     ]
    },
    {
     "name": "stderr",
     "output_type": "stream",
     "text": [
      "100%|██████████| 4513/4513 [02:39<00:00, 28.22it/s]\n",
      "100%|██████████| 1276/1276 [00:45<00:00, 28.17it/s]\n"
     ]
    },
    {
     "name": "stdout",
     "output_type": "stream",
     "text": [
      "\n",
      "Computed mAP:\n",
      "mAP@1: 0.9169\n",
      "mAP@5: 0.9522\n",
      "mAP@10: 0.9647\n",
      "mAP@15: 0.9702\n",
      "mAP@20: 0.9749\n",
      "230|347 - Reduced_Pycnopodia_helianthoides_full_event-unaware_training-split_2024-05-03-20-02__2024-05-08-13-50-27__0__densenet121__PT-True - Reduced_Pycnopodia_helianthoides_full_event-unaware_training-split_2024-05-03-20-02\n",
      "Gallery dataset path: ..\\..\\data\\Reduced_Pycnopodia_helianthoides_full_event-unaware_training-split_2024-05-03-20-02\\train True\n",
      "Query dataset path: ..\\..\\data\\Reduced_Pycnopodia_helianthoides_full_event-unaware_training-split_2024-05-03-20-02\\test True\n",
      "Number of identities: 219\n",
      "Number of gallery images: 4513\n",
      "Number of query images: 1276\n"
     ]
    },
    {
     "name": "stderr",
     "output_type": "stream",
     "text": [
      "100%|██████████| 4513/4513 [02:40<00:00, 28.19it/s]\n",
      "100%|██████████| 1276/1276 [00:44<00:00, 28.51it/s]\n"
     ]
    },
    {
     "name": "stdout",
     "output_type": "stream",
     "text": [
      "\n",
      "Computed mAP:\n",
      "mAP@1: 0.8644\n",
      "mAP@5: 0.9350\n",
      "mAP@10: 0.9538\n",
      "mAP@15: 0.9608\n",
      "mAP@20: 0.9647\n",
      "231|347 - Reduced_Pycnopodia_helianthoides_full_event-unaware_training-split_2024-05-03-20-02__2024-05-08-13-53-46__1__densenet121__PT-True - Reduced_Pycnopodia_helianthoides_full_event-unaware_training-split_2024-05-03-20-02\n",
      "Gallery dataset path: ..\\..\\data\\Reduced_Pycnopodia_helianthoides_full_event-unaware_training-split_2024-05-03-20-02\\train True\n",
      "Query dataset path: ..\\..\\data\\Reduced_Pycnopodia_helianthoides_full_event-unaware_training-split_2024-05-03-20-02\\test True\n",
      "Number of identities: 219\n",
      "Number of gallery images: 4513\n",
      "Number of query images: 1276\n"
     ]
    },
    {
     "name": "stderr",
     "output_type": "stream",
     "text": [
      "100%|██████████| 4513/4513 [02:37<00:00, 28.59it/s]\n",
      "100%|██████████| 1276/1276 [00:45<00:00, 28.18it/s]\n"
     ]
    },
    {
     "name": "stdout",
     "output_type": "stream",
     "text": [
      "\n",
      "Computed mAP:\n",
      "mAP@1: 0.9122\n",
      "mAP@5: 0.9624\n",
      "mAP@10: 0.9726\n",
      "mAP@15: 0.9812\n",
      "mAP@20: 0.9828\n",
      "232|347 - Reduced_Pycnopodia_helianthoides_full_event-unaware_training-split_2024-05-03-20-02__2024-05-08-18-13-05__1__densenet121__PT-True - Reduced_Pycnopodia_helianthoides_full_event-unaware_training-split_2024-05-03-20-02\n",
      "Gallery dataset path: ..\\..\\data\\Reduced_Pycnopodia_helianthoides_full_event-unaware_training-split_2024-05-03-20-02\\train True\n",
      "Query dataset path: ..\\..\\data\\Reduced_Pycnopodia_helianthoides_full_event-unaware_training-split_2024-05-03-20-02\\test True\n",
      "Number of identities: 219\n",
      "Number of gallery images: 4513\n",
      "Number of query images: 1276\n"
     ]
    },
    {
     "name": "stderr",
     "output_type": "stream",
     "text": [
      "100%|██████████| 4513/4513 [02:39<00:00, 28.25it/s]\n",
      "100%|██████████| 1276/1276 [00:44<00:00, 28.40it/s]\n"
     ]
    },
    {
     "name": "stdout",
     "output_type": "stream",
     "text": [
      "\n",
      "Computed mAP:\n",
      "mAP@1: 0.9013\n",
      "mAP@5: 0.9491\n",
      "mAP@10: 0.9624\n",
      "mAP@15: 0.9710\n",
      "mAP@20: 0.9757\n",
      "233|347 - Reduced_Pycnopodia_helianthoides_full_event-unaware_training-split_2024-05-03-20-02__2024-05-08-18-22-32__0__densenet121__PT-True - Reduced_Pycnopodia_helianthoides_full_event-unaware_training-split_2024-05-03-20-02\n",
      "Gallery dataset path: ..\\..\\data\\Reduced_Pycnopodia_helianthoides_full_event-unaware_training-split_2024-05-03-20-02\\train True\n",
      "Query dataset path: ..\\..\\data\\Reduced_Pycnopodia_helianthoides_full_event-unaware_training-split_2024-05-03-20-02\\test True\n",
      "Number of identities: 219\n",
      "Number of gallery images: 4513\n",
      "Number of query images: 1276\n"
     ]
    },
    {
     "name": "stderr",
     "output_type": "stream",
     "text": [
      "100%|██████████| 4513/4513 [02:39<00:00, 28.24it/s]\n",
      "100%|██████████| 1276/1276 [00:44<00:00, 28.53it/s]\n"
     ]
    },
    {
     "name": "stdout",
     "output_type": "stream",
     "text": [
      "\n",
      "Computed mAP:\n",
      "mAP@1: 0.8707\n",
      "mAP@5: 0.9420\n",
      "mAP@10: 0.9624\n",
      "mAP@15: 0.9718\n",
      "mAP@20: 0.9796\n",
      "234|347 - Reduced_Pycnopodia_helianthoides_full_event-unaware_training-split_2024-05-03-20-02__2024-05-08-22-45-28__0__densenet121__PT-True - Reduced_Pycnopodia_helianthoides_full_event-unaware_training-split_2024-05-03-20-02\n",
      "Gallery dataset path: ..\\..\\data\\Reduced_Pycnopodia_helianthoides_full_event-unaware_training-split_2024-05-03-20-02\\train True\n",
      "Query dataset path: ..\\..\\data\\Reduced_Pycnopodia_helianthoides_full_event-unaware_training-split_2024-05-03-20-02\\test True\n",
      "Number of identities: 219\n",
      "Number of gallery images: 4513\n",
      "Number of query images: 1276\n"
     ]
    },
    {
     "name": "stderr",
     "output_type": "stream",
     "text": [
      "100%|██████████| 4513/4513 [02:43<00:00, 27.67it/s]\n",
      "100%|██████████| 1276/1276 [00:46<00:00, 27.67it/s]\n"
     ]
    },
    {
     "name": "stdout",
     "output_type": "stream",
     "text": [
      "\n",
      "Computed mAP:\n",
      "mAP@1: 0.8668\n",
      "mAP@5: 0.9404\n",
      "mAP@10: 0.9608\n",
      "mAP@15: 0.9687\n",
      "mAP@20: 0.9726\n",
      "235|347 - Reduced_Pycnopodia_helianthoides_full_event-unaware_training-split_2024-05-03-20-02__2024-05-08-22-52-01__1__densenet121__PT-True - Reduced_Pycnopodia_helianthoides_full_event-unaware_training-split_2024-05-03-20-02\n",
      "Gallery dataset path: ..\\..\\data\\Reduced_Pycnopodia_helianthoides_full_event-unaware_training-split_2024-05-03-20-02\\train True\n",
      "Query dataset path: ..\\..\\data\\Reduced_Pycnopodia_helianthoides_full_event-unaware_training-split_2024-05-03-20-02\\test True\n",
      "Number of identities: 219\n",
      "Number of gallery images: 4513\n",
      "Number of query images: 1276\n"
     ]
    },
    {
     "name": "stderr",
     "output_type": "stream",
     "text": [
      "100%|██████████| 4513/4513 [02:39<00:00, 28.27it/s]\n",
      "100%|██████████| 1276/1276 [00:45<00:00, 28.20it/s]\n"
     ]
    },
    {
     "name": "stdout",
     "output_type": "stream",
     "text": [
      "\n",
      "Computed mAP:\n",
      "mAP@1: 0.9028\n",
      "mAP@5: 0.9459\n",
      "mAP@10: 0.9592\n",
      "mAP@15: 0.9663\n",
      "mAP@20: 0.9694\n",
      "236|347 - Reduced_Pycnopodia_helianthoides_full_event-unaware_training-split_2024-05-03-20-24__2024-05-05-23-40-47__1__densenet121__PT-True - Reduced_Pycnopodia_helianthoides_full_event-unaware_training-split_2024-05-03-20-24\n",
      "Gallery dataset path: ..\\..\\data\\Reduced_Pycnopodia_helianthoides_full_event-unaware_training-split_2024-05-03-20-24\\train True\n",
      "Query dataset path: ..\\..\\data\\Reduced_Pycnopodia_helianthoides_full_event-unaware_training-split_2024-05-03-20-24\\test True\n",
      "Number of identities: 219\n",
      "Number of gallery images: 4522\n",
      "Number of query images: 1288\n"
     ]
    },
    {
     "name": "stderr",
     "output_type": "stream",
     "text": [
      "100%|██████████| 4522/4522 [02:41<00:00, 27.96it/s]\n",
      "100%|██████████| 1288/1288 [00:44<00:00, 28.96it/s]\n"
     ]
    },
    {
     "name": "stdout",
     "output_type": "stream",
     "text": [
      "\n",
      "Computed mAP:\n",
      "mAP@1: 0.8688\n",
      "mAP@5: 0.9356\n",
      "mAP@10: 0.9488\n",
      "mAP@15: 0.9604\n",
      "mAP@20: 0.9651\n",
      "237|347 - Reduced_Pycnopodia_helianthoides_full_event-unaware_training-split_2024-05-03-20-24__2024-05-06-00-24-25__0__densenet121__PT-True - Reduced_Pycnopodia_helianthoides_full_event-unaware_training-split_2024-05-03-20-24\n",
      "Gallery dataset path: ..\\..\\data\\Reduced_Pycnopodia_helianthoides_full_event-unaware_training-split_2024-05-03-20-24\\train True\n",
      "Query dataset path: ..\\..\\data\\Reduced_Pycnopodia_helianthoides_full_event-unaware_training-split_2024-05-03-20-24\\test True\n",
      "Number of identities: 219\n",
      "Number of gallery images: 4522\n",
      "Number of query images: 1288\n"
     ]
    },
    {
     "name": "stderr",
     "output_type": "stream",
     "text": [
      "100%|██████████| 4522/4522 [02:39<00:00, 28.28it/s]\n",
      "100%|██████████| 1288/1288 [00:44<00:00, 28.89it/s]\n"
     ]
    },
    {
     "name": "stdout",
     "output_type": "stream",
     "text": [
      "\n",
      "Computed mAP:\n",
      "mAP@1: 0.8820\n",
      "mAP@5: 0.9495\n",
      "mAP@10: 0.9651\n",
      "mAP@15: 0.9736\n",
      "mAP@20: 0.9790\n",
      "238|347 - Reduced_Pycnopodia_helianthoides_full_event-unaware_training-split_2024-05-03-20-24__2024-05-06-05-38-48__1__densenet121__PT-True - Reduced_Pycnopodia_helianthoides_full_event-unaware_training-split_2024-05-03-20-24\n",
      "Gallery dataset path: ..\\..\\data\\Reduced_Pycnopodia_helianthoides_full_event-unaware_training-split_2024-05-03-20-24\\train True\n",
      "Query dataset path: ..\\..\\data\\Reduced_Pycnopodia_helianthoides_full_event-unaware_training-split_2024-05-03-20-24\\test True\n",
      "Number of identities: 219\n",
      "Number of gallery images: 4522\n",
      "Number of query images: 1288\n"
     ]
    },
    {
     "name": "stderr",
     "output_type": "stream",
     "text": [
      "100%|██████████| 4522/4522 [02:38<00:00, 28.55it/s]\n",
      "100%|██████████| 1288/1288 [00:45<00:00, 28.38it/s]\n"
     ]
    },
    {
     "name": "stdout",
     "output_type": "stream",
     "text": [
      "\n",
      "Computed mAP:\n",
      "mAP@1: 0.7950\n",
      "mAP@5: 0.9061\n",
      "mAP@10: 0.9418\n",
      "mAP@15: 0.9596\n",
      "mAP@20: 0.9705\n",
      "239|347 - Reduced_Pycnopodia_helianthoides_full_event-unaware_training-split_2024-05-03-20-24__2024-05-06-05-49-15__0__densenet121__PT-True - Reduced_Pycnopodia_helianthoides_full_event-unaware_training-split_2024-05-03-20-24\n",
      "Gallery dataset path: ..\\..\\data\\Reduced_Pycnopodia_helianthoides_full_event-unaware_training-split_2024-05-03-20-24\\train True\n",
      "Query dataset path: ..\\..\\data\\Reduced_Pycnopodia_helianthoides_full_event-unaware_training-split_2024-05-03-20-24\\test True\n",
      "Number of identities: 219\n",
      "Number of gallery images: 4522\n",
      "Number of query images: 1288\n"
     ]
    },
    {
     "name": "stderr",
     "output_type": "stream",
     "text": [
      "100%|██████████| 4522/4522 [02:41<00:00, 28.06it/s]\n",
      "100%|██████████| 1288/1288 [00:46<00:00, 27.89it/s]\n"
     ]
    },
    {
     "name": "stdout",
     "output_type": "stream",
     "text": [
      "\n",
      "Computed mAP:\n",
      "mAP@1: 0.8098\n",
      "mAP@5: 0.9270\n",
      "mAP@10: 0.9495\n",
      "mAP@15: 0.9612\n",
      "mAP@20: 0.9736\n",
      "240|347 - Reduced_Pycnopodia_helianthoides_full_event-unaware_training-split_2024-05-03-20-24__2024-05-06-11-16-45__1__densenet121__PT-True - Reduced_Pycnopodia_helianthoides_full_event-unaware_training-split_2024-05-03-20-24\n",
      "Gallery dataset path: ..\\..\\data\\Reduced_Pycnopodia_helianthoides_full_event-unaware_training-split_2024-05-03-20-24\\train True\n",
      "Query dataset path: ..\\..\\data\\Reduced_Pycnopodia_helianthoides_full_event-unaware_training-split_2024-05-03-20-24\\test True\n",
      "Number of identities: 219\n",
      "Number of gallery images: 4522\n",
      "Number of query images: 1288\n"
     ]
    },
    {
     "name": "stderr",
     "output_type": "stream",
     "text": [
      "100%|██████████| 4522/4522 [02:43<00:00, 27.60it/s]\n",
      "100%|██████████| 1288/1288 [00:44<00:00, 28.63it/s]\n"
     ]
    },
    {
     "name": "stdout",
     "output_type": "stream",
     "text": [
      "\n",
      "Computed mAP:\n",
      "mAP@1: 0.7593\n",
      "mAP@5: 0.8742\n",
      "mAP@10: 0.9068\n",
      "mAP@15: 0.9200\n",
      "mAP@20: 0.9332\n",
      "241|347 - Reduced_Pycnopodia_helianthoides_full_event-unaware_training-split_2024-05-03-20-24__2024-05-06-11-27-26__0__densenet121__PT-True - Reduced_Pycnopodia_helianthoides_full_event-unaware_training-split_2024-05-03-20-24\n",
      "Gallery dataset path: ..\\..\\data\\Reduced_Pycnopodia_helianthoides_full_event-unaware_training-split_2024-05-03-20-24\\train True\n",
      "Query dataset path: ..\\..\\data\\Reduced_Pycnopodia_helianthoides_full_event-unaware_training-split_2024-05-03-20-24\\test True\n",
      "Number of identities: 219\n",
      "Number of gallery images: 4522\n",
      "Number of query images: 1288\n"
     ]
    },
    {
     "name": "stderr",
     "output_type": "stream",
     "text": [
      "100%|██████████| 4522/4522 [02:41<00:00, 28.00it/s]\n",
      "100%|██████████| 1288/1288 [00:45<00:00, 28.61it/s]\n"
     ]
    },
    {
     "name": "stdout",
     "output_type": "stream",
     "text": [
      "\n",
      "Computed mAP:\n",
      "mAP@1: 0.7919\n",
      "mAP@5: 0.9037\n",
      "mAP@10: 0.9402\n",
      "mAP@15: 0.9511\n",
      "mAP@20: 0.9612\n",
      "242|347 - Reduced_Pycnopodia_helianthoides_full_event-unaware_training-split_2024-05-03-20-24__2024-05-06-16-19-37__1__densenet121__PT-True - Reduced_Pycnopodia_helianthoides_full_event-unaware_training-split_2024-05-03-20-24\n",
      "Gallery dataset path: ..\\..\\data\\Reduced_Pycnopodia_helianthoides_full_event-unaware_training-split_2024-05-03-20-24\\train True\n",
      "Query dataset path: ..\\..\\data\\Reduced_Pycnopodia_helianthoides_full_event-unaware_training-split_2024-05-03-20-24\\test True\n",
      "Number of identities: 219\n",
      "Number of gallery images: 4522\n",
      "Number of query images: 1288\n"
     ]
    },
    {
     "name": "stderr",
     "output_type": "stream",
     "text": [
      "100%|██████████| 4522/4522 [02:40<00:00, 28.15it/s]\n",
      "100%|██████████| 1288/1288 [00:46<00:00, 27.95it/s]\n"
     ]
    },
    {
     "name": "stdout",
     "output_type": "stream",
     "text": [
      "\n",
      "Computed mAP:\n",
      "mAP@1: 0.8983\n",
      "mAP@5: 0.9472\n",
      "mAP@10: 0.9627\n",
      "mAP@15: 0.9697\n",
      "mAP@20: 0.9736\n",
      "243|347 - Reduced_Pycnopodia_helianthoides_full_event-unaware_training-split_2024-05-03-20-24__2024-05-06-16-57-09__0__densenet121__PT-True - Reduced_Pycnopodia_helianthoides_full_event-unaware_training-split_2024-05-03-20-24\n",
      "Gallery dataset path: ..\\..\\data\\Reduced_Pycnopodia_helianthoides_full_event-unaware_training-split_2024-05-03-20-24\\train True\n",
      "Query dataset path: ..\\..\\data\\Reduced_Pycnopodia_helianthoides_full_event-unaware_training-split_2024-05-03-20-24\\test True\n",
      "Number of identities: 219\n",
      "Number of gallery images: 4522\n",
      "Number of query images: 1288\n"
     ]
    },
    {
     "name": "stderr",
     "output_type": "stream",
     "text": [
      "100%|██████████| 4522/4522 [02:40<00:00, 28.22it/s]\n",
      "100%|██████████| 1288/1288 [00:46<00:00, 27.68it/s]\n"
     ]
    },
    {
     "name": "stdout",
     "output_type": "stream",
     "text": [
      "\n",
      "Computed mAP:\n",
      "mAP@1: 0.9037\n",
      "mAP@5: 0.9526\n",
      "mAP@10: 0.9674\n",
      "mAP@15: 0.9752\n",
      "mAP@20: 0.9790\n",
      "244|347 - Reduced_Pycnopodia_helianthoides_full_event-unaware_training-split_2024-05-03-20-24__2024-05-06-22-08-58__1__densenet121__PT-True - Reduced_Pycnopodia_helianthoides_full_event-unaware_training-split_2024-05-03-20-24\n",
      "Gallery dataset path: ..\\..\\data\\Reduced_Pycnopodia_helianthoides_full_event-unaware_training-split_2024-05-03-20-24\\train True\n",
      "Query dataset path: ..\\..\\data\\Reduced_Pycnopodia_helianthoides_full_event-unaware_training-split_2024-05-03-20-24\\test True\n",
      "Number of identities: 219\n",
      "Number of gallery images: 4522\n",
      "Number of query images: 1288\n"
     ]
    },
    {
     "name": "stderr",
     "output_type": "stream",
     "text": [
      "100%|██████████| 4522/4522 [02:38<00:00, 28.55it/s]\n",
      "100%|██████████| 1288/1288 [00:44<00:00, 28.95it/s]\n"
     ]
    },
    {
     "name": "stdout",
     "output_type": "stream",
     "text": [
      "\n",
      "Computed mAP:\n",
      "mAP@1: 0.8665\n",
      "mAP@5: 0.9348\n",
      "mAP@10: 0.9581\n",
      "mAP@15: 0.9658\n",
      "mAP@20: 0.9713\n",
      "245|347 - Reduced_Pycnopodia_helianthoides_full_event-unaware_training-split_2024-05-03-20-24__2024-05-06-22-11-32__0__densenet121__PT-True - Reduced_Pycnopodia_helianthoides_full_event-unaware_training-split_2024-05-03-20-24\n",
      "Gallery dataset path: ..\\..\\data\\Reduced_Pycnopodia_helianthoides_full_event-unaware_training-split_2024-05-03-20-24\\train True\n",
      "Query dataset path: ..\\..\\data\\Reduced_Pycnopodia_helianthoides_full_event-unaware_training-split_2024-05-03-20-24\\test True\n",
      "Number of identities: 219\n",
      "Number of gallery images: 4522\n",
      "Number of query images: 1288\n"
     ]
    },
    {
     "name": "stderr",
     "output_type": "stream",
     "text": [
      "100%|██████████| 4522/4522 [02:40<00:00, 28.25it/s]\n",
      "100%|██████████| 1288/1288 [00:45<00:00, 28.14it/s]\n"
     ]
    },
    {
     "name": "stdout",
     "output_type": "stream",
     "text": [
      "\n",
      "Computed mAP:\n",
      "mAP@1: 0.8944\n",
      "mAP@5: 0.9464\n",
      "mAP@10: 0.9674\n",
      "mAP@15: 0.9775\n",
      "mAP@20: 0.9775\n",
      "246|347 - Reduced_Pycnopodia_helianthoides_full_event-unaware_training-split_2024-05-03-20-24__2024-05-07-03-48-24__0__densenet121__PT-True - Reduced_Pycnopodia_helianthoides_full_event-unaware_training-split_2024-05-03-20-24\n",
      "Gallery dataset path: ..\\..\\data\\Reduced_Pycnopodia_helianthoides_full_event-unaware_training-split_2024-05-03-20-24\\train True\n",
      "Query dataset path: ..\\..\\data\\Reduced_Pycnopodia_helianthoides_full_event-unaware_training-split_2024-05-03-20-24\\test True\n",
      "Number of identities: 219\n",
      "Number of gallery images: 4522\n",
      "Number of query images: 1288\n"
     ]
    },
    {
     "name": "stderr",
     "output_type": "stream",
     "text": [
      "100%|██████████| 4522/4522 [02:39<00:00, 28.28it/s]\n",
      "100%|██████████| 1288/1288 [00:46<00:00, 27.87it/s]\n"
     ]
    },
    {
     "name": "stdout",
     "output_type": "stream",
     "text": [
      "\n",
      "Computed mAP:\n",
      "mAP@1: 0.8680\n",
      "mAP@5: 0.9425\n",
      "mAP@10: 0.9557\n",
      "mAP@15: 0.9635\n",
      "mAP@20: 0.9697\n",
      "247|347 - Reduced_Pycnopodia_helianthoides_full_event-unaware_training-split_2024-05-03-20-24__2024-05-07-03-50-25__1__densenet121__PT-True - Reduced_Pycnopodia_helianthoides_full_event-unaware_training-split_2024-05-03-20-24\n",
      "Gallery dataset path: ..\\..\\data\\Reduced_Pycnopodia_helianthoides_full_event-unaware_training-split_2024-05-03-20-24\\train True\n",
      "Query dataset path: ..\\..\\data\\Reduced_Pycnopodia_helianthoides_full_event-unaware_training-split_2024-05-03-20-24\\test True\n",
      "Number of identities: 219\n",
      "Number of gallery images: 4522\n",
      "Number of query images: 1288\n"
     ]
    },
    {
     "name": "stderr",
     "output_type": "stream",
     "text": [
      "100%|██████████| 4522/4522 [02:40<00:00, 28.21it/s]\n",
      "100%|██████████| 1288/1288 [00:46<00:00, 27.73it/s]\n"
     ]
    },
    {
     "name": "stdout",
     "output_type": "stream",
     "text": [
      "\n",
      "Computed mAP:\n",
      "mAP@1: 0.8595\n",
      "mAP@5: 0.9278\n",
      "mAP@10: 0.9511\n",
      "mAP@15: 0.9658\n",
      "mAP@20: 0.9720\n",
      "248|347 - Reduced_Pycnopodia_helianthoides_full_event-unaware_training-split_2024-05-03-20-24__2024-05-07-09-02-13__1__densenet121__PT-True - Reduced_Pycnopodia_helianthoides_full_event-unaware_training-split_2024-05-03-20-24\n",
      "Gallery dataset path: ..\\..\\data\\Reduced_Pycnopodia_helianthoides_full_event-unaware_training-split_2024-05-03-20-24\\train True\n",
      "Query dataset path: ..\\..\\data\\Reduced_Pycnopodia_helianthoides_full_event-unaware_training-split_2024-05-03-20-24\\test True\n",
      "Number of identities: 219\n",
      "Number of gallery images: 4522\n",
      "Number of query images: 1288\n"
     ]
    },
    {
     "name": "stderr",
     "output_type": "stream",
     "text": [
      "100%|██████████| 4522/4522 [02:39<00:00, 28.36it/s]\n",
      "100%|██████████| 1288/1288 [00:45<00:00, 28.44it/s]\n"
     ]
    },
    {
     "name": "stdout",
     "output_type": "stream",
     "text": [
      "\n",
      "Computed mAP:\n",
      "mAP@1: 0.9107\n",
      "mAP@5: 0.9573\n",
      "mAP@10: 0.9720\n",
      "mAP@15: 0.9767\n",
      "mAP@20: 0.9806\n",
      "249|347 - Reduced_Pycnopodia_helianthoides_full_event-unaware_training-split_2024-05-03-20-24__2024-05-07-10-16-07__0__densenet121__PT-True - Reduced_Pycnopodia_helianthoides_full_event-unaware_training-split_2024-05-03-20-24\n",
      "Gallery dataset path: ..\\..\\data\\Reduced_Pycnopodia_helianthoides_full_event-unaware_training-split_2024-05-03-20-24\\train True\n",
      "Query dataset path: ..\\..\\data\\Reduced_Pycnopodia_helianthoides_full_event-unaware_training-split_2024-05-03-20-24\\test True\n",
      "Number of identities: 219\n",
      "Number of gallery images: 4522\n",
      "Number of query images: 1288\n"
     ]
    },
    {
     "name": "stderr",
     "output_type": "stream",
     "text": [
      "100%|██████████| 4522/4522 [02:40<00:00, 28.19it/s]\n",
      "100%|██████████| 1288/1288 [00:45<00:00, 28.34it/s]\n"
     ]
    },
    {
     "name": "stdout",
     "output_type": "stream",
     "text": [
      "\n",
      "Computed mAP:\n",
      "mAP@1: 0.9193\n",
      "mAP@5: 0.9596\n",
      "mAP@10: 0.9744\n",
      "mAP@15: 0.9814\n",
      "mAP@20: 0.9845\n",
      "250|347 - Reduced_Pycnopodia_helianthoides_full_event-unaware_training-split_2024-05-03-20-24__2024-05-07-16-18-49__1__densenet121__PT-True - Reduced_Pycnopodia_helianthoides_full_event-unaware_training-split_2024-05-03-20-24\n",
      "Gallery dataset path: ..\\..\\data\\Reduced_Pycnopodia_helianthoides_full_event-unaware_training-split_2024-05-03-20-24\\train True\n",
      "Query dataset path: ..\\..\\data\\Reduced_Pycnopodia_helianthoides_full_event-unaware_training-split_2024-05-03-20-24\\test True\n",
      "Number of identities: 219\n",
      "Number of gallery images: 4522\n",
      "Number of query images: 1288\n"
     ]
    },
    {
     "name": "stderr",
     "output_type": "stream",
     "text": [
      "100%|██████████| 4522/4522 [02:42<00:00, 27.76it/s]\n",
      "100%|██████████| 1288/1288 [00:44<00:00, 29.03it/s]\n"
     ]
    },
    {
     "name": "stdout",
     "output_type": "stream",
     "text": [
      "\n",
      "Computed mAP:\n",
      "mAP@1: 0.9084\n",
      "mAP@5: 0.9550\n",
      "mAP@10: 0.9674\n",
      "mAP@15: 0.9752\n",
      "mAP@20: 0.9790\n",
      "251|347 - Reduced_Pycnopodia_helianthoides_full_event-unaware_training-split_2024-05-03-20-24__2024-05-07-16-43-43__0__densenet121__PT-True - Reduced_Pycnopodia_helianthoides_full_event-unaware_training-split_2024-05-03-20-24\n",
      "Gallery dataset path: ..\\..\\data\\Reduced_Pycnopodia_helianthoides_full_event-unaware_training-split_2024-05-03-20-24\\train True\n",
      "Query dataset path: ..\\..\\data\\Reduced_Pycnopodia_helianthoides_full_event-unaware_training-split_2024-05-03-20-24\\test True\n",
      "Number of identities: 219\n",
      "Number of gallery images: 4522\n",
      "Number of query images: 1288\n"
     ]
    },
    {
     "name": "stderr",
     "output_type": "stream",
     "text": [
      "100%|██████████| 4522/4522 [02:38<00:00, 28.56it/s]\n",
      "100%|██████████| 1288/1288 [00:44<00:00, 29.02it/s]\n"
     ]
    },
    {
     "name": "stdout",
     "output_type": "stream",
     "text": [
      "\n",
      "Computed mAP:\n",
      "mAP@1: 0.9045\n",
      "mAP@5: 0.9589\n",
      "mAP@10: 0.9713\n",
      "mAP@15: 0.9775\n",
      "mAP@20: 0.9814\n",
      "252|347 - Reduced_Pycnopodia_helianthoides_full_event-unaware_training-split_2024-05-03-20-24__2024-05-08-01-06-48__1__densenet121__PT-True - Reduced_Pycnopodia_helianthoides_full_event-unaware_training-split_2024-05-03-20-24\n",
      "Gallery dataset path: ..\\..\\data\\Reduced_Pycnopodia_helianthoides_full_event-unaware_training-split_2024-05-03-20-24\\train True\n",
      "Query dataset path: ..\\..\\data\\Reduced_Pycnopodia_helianthoides_full_event-unaware_training-split_2024-05-03-20-24\\test True\n",
      "Number of identities: 219\n",
      "Number of gallery images: 4522\n",
      "Number of query images: 1288\n"
     ]
    },
    {
     "name": "stderr",
     "output_type": "stream",
     "text": [
      "100%|██████████| 4522/4522 [02:39<00:00, 28.30it/s]\n",
      "100%|██████████| 1288/1288 [00:45<00:00, 28.13it/s]\n"
     ]
    },
    {
     "name": "stdout",
     "output_type": "stream",
     "text": [
      "\n",
      "Computed mAP:\n",
      "mAP@1: 0.8905\n",
      "mAP@5: 0.9410\n",
      "mAP@10: 0.9589\n",
      "mAP@15: 0.9697\n",
      "mAP@20: 0.9728\n",
      "253|347 - Reduced_Pycnopodia_helianthoides_full_event-unaware_training-split_2024-05-03-20-24__2024-05-08-01-27-27__0__densenet121__PT-True - Reduced_Pycnopodia_helianthoides_full_event-unaware_training-split_2024-05-03-20-24\n",
      "Gallery dataset path: ..\\..\\data\\Reduced_Pycnopodia_helianthoides_full_event-unaware_training-split_2024-05-03-20-24\\train True\n",
      "Query dataset path: ..\\..\\data\\Reduced_Pycnopodia_helianthoides_full_event-unaware_training-split_2024-05-03-20-24\\test True\n",
      "Number of identities: 219\n",
      "Number of gallery images: 4522\n",
      "Number of query images: 1288\n"
     ]
    },
    {
     "name": "stderr",
     "output_type": "stream",
     "text": [
      "100%|██████████| 4522/4522 [02:38<00:00, 28.45it/s]\n",
      "100%|██████████| 1288/1288 [00:46<00:00, 27.77it/s]\n"
     ]
    },
    {
     "name": "stdout",
     "output_type": "stream",
     "text": [
      "\n",
      "Computed mAP:\n",
      "mAP@1: 0.8587\n",
      "mAP@5: 0.9425\n",
      "mAP@10: 0.9643\n",
      "mAP@15: 0.9720\n",
      "mAP@20: 0.9759\n",
      "254|347 - Reduced_Pycnopodia_helianthoides_full_event-unaware_training-split_2024-05-03-20-24__2024-05-08-05-36-16__1__densenet121__PT-True - Reduced_Pycnopodia_helianthoides_full_event-unaware_training-split_2024-05-03-20-24\n",
      "Gallery dataset path: ..\\..\\data\\Reduced_Pycnopodia_helianthoides_full_event-unaware_training-split_2024-05-03-20-24\\train True\n",
      "Query dataset path: ..\\..\\data\\Reduced_Pycnopodia_helianthoides_full_event-unaware_training-split_2024-05-03-20-24\\test True\n",
      "Number of identities: 219\n",
      "Number of gallery images: 4522\n",
      "Number of query images: 1288\n"
     ]
    },
    {
     "name": "stderr",
     "output_type": "stream",
     "text": [
      "100%|██████████| 4522/4522 [02:42<00:00, 27.88it/s]\n",
      "100%|██████████| 1288/1288 [00:45<00:00, 28.39it/s]\n"
     ]
    },
    {
     "name": "stdout",
     "output_type": "stream",
     "text": [
      "\n",
      "Computed mAP:\n",
      "mAP@1: 0.9053\n",
      "mAP@5: 0.9573\n",
      "mAP@10: 0.9689\n",
      "mAP@15: 0.9767\n",
      "mAP@20: 0.9790\n",
      "255|347 - Reduced_Pycnopodia_helianthoides_full_event-unaware_training-split_2024-05-03-20-24__2024-05-08-05-41-16__0__densenet121__PT-True - Reduced_Pycnopodia_helianthoides_full_event-unaware_training-split_2024-05-03-20-24\n",
      "Gallery dataset path: ..\\..\\data\\Reduced_Pycnopodia_helianthoides_full_event-unaware_training-split_2024-05-03-20-24\\train True\n",
      "Query dataset path: ..\\..\\data\\Reduced_Pycnopodia_helianthoides_full_event-unaware_training-split_2024-05-03-20-24\\test True\n",
      "Number of identities: 219\n",
      "Number of gallery images: 4522\n",
      "Number of query images: 1288\n"
     ]
    },
    {
     "name": "stderr",
     "output_type": "stream",
     "text": [
      "100%|██████████| 4522/4522 [02:40<00:00, 28.18it/s]\n",
      "100%|██████████| 1288/1288 [00:45<00:00, 28.32it/s]\n"
     ]
    },
    {
     "name": "stdout",
     "output_type": "stream",
     "text": [
      "\n",
      "Computed mAP:\n",
      "mAP@1: 0.8657\n",
      "mAP@5: 0.9433\n",
      "mAP@10: 0.9604\n",
      "mAP@15: 0.9705\n",
      "mAP@20: 0.9767\n",
      "256|347 - Reduced_Pycnopodia_helianthoides_full_event-unaware_training-split_2024-05-03-20-24__2024-05-08-09-44-32__0__densenet121__PT-True - Reduced_Pycnopodia_helianthoides_full_event-unaware_training-split_2024-05-03-20-24\n",
      "Gallery dataset path: ..\\..\\data\\Reduced_Pycnopodia_helianthoides_full_event-unaware_training-split_2024-05-03-20-24\\train True\n",
      "Query dataset path: ..\\..\\data\\Reduced_Pycnopodia_helianthoides_full_event-unaware_training-split_2024-05-03-20-24\\test True\n",
      "Number of identities: 219\n",
      "Number of gallery images: 4522\n",
      "Number of query images: 1288\n"
     ]
    },
    {
     "name": "stderr",
     "output_type": "stream",
     "text": [
      "100%|██████████| 4522/4522 [02:42<00:00, 27.76it/s]\n",
      "100%|██████████| 1288/1288 [00:45<00:00, 28.21it/s]\n"
     ]
    },
    {
     "name": "stdout",
     "output_type": "stream",
     "text": [
      "\n",
      "Computed mAP:\n",
      "mAP@1: 0.8758\n",
      "mAP@5: 0.9488\n",
      "mAP@10: 0.9589\n",
      "mAP@15: 0.9682\n",
      "mAP@20: 0.9752\n",
      "257|347 - Reduced_Pycnopodia_helianthoides_full_event-unaware_training-split_2024-05-03-20-24__2024-05-08-09-55-34__1__densenet121__PT-True - Reduced_Pycnopodia_helianthoides_full_event-unaware_training-split_2024-05-03-20-24\n",
      "Gallery dataset path: ..\\..\\data\\Reduced_Pycnopodia_helianthoides_full_event-unaware_training-split_2024-05-03-20-24\\train True\n",
      "Query dataset path: ..\\..\\data\\Reduced_Pycnopodia_helianthoides_full_event-unaware_training-split_2024-05-03-20-24\\test True\n",
      "Number of identities: 219\n",
      "Number of gallery images: 4522\n",
      "Number of query images: 1288\n"
     ]
    },
    {
     "name": "stderr",
     "output_type": "stream",
     "text": [
      "100%|██████████| 4522/4522 [02:41<00:00, 28.07it/s]\n",
      "100%|██████████| 1288/1288 [00:44<00:00, 28.75it/s]\n"
     ]
    },
    {
     "name": "stdout",
     "output_type": "stream",
     "text": [
      "\n",
      "Computed mAP:\n",
      "mAP@1: 0.9053\n",
      "mAP@5: 0.9519\n",
      "mAP@10: 0.9682\n",
      "mAP@15: 0.9752\n",
      "mAP@20: 0.9790\n",
      "258|347 - Reduced_Pycnopodia_helianthoides_full_event-unaware_training-split_2024-05-03-20-24__2024-05-08-14-19-55__0__densenet121__PT-True - Reduced_Pycnopodia_helianthoides_full_event-unaware_training-split_2024-05-03-20-24\n",
      "Gallery dataset path: ..\\..\\data\\Reduced_Pycnopodia_helianthoides_full_event-unaware_training-split_2024-05-03-20-24\\train True\n",
      "Query dataset path: ..\\..\\data\\Reduced_Pycnopodia_helianthoides_full_event-unaware_training-split_2024-05-03-20-24\\test True\n",
      "Number of identities: 219\n",
      "Number of gallery images: 4522\n",
      "Number of query images: 1288\n"
     ]
    },
    {
     "name": "stderr",
     "output_type": "stream",
     "text": [
      "100%|██████████| 4522/4522 [02:39<00:00, 28.40it/s]\n",
      "100%|██████████| 1288/1288 [00:45<00:00, 28.46it/s]\n"
     ]
    },
    {
     "name": "stdout",
     "output_type": "stream",
     "text": [
      "\n",
      "Computed mAP:\n",
      "mAP@1: 0.8719\n",
      "mAP@5: 0.9387\n",
      "mAP@10: 0.9581\n",
      "mAP@15: 0.9682\n",
      "mAP@20: 0.9744\n",
      "259|347 - Reduced_Pycnopodia_helianthoides_full_event-unaware_training-split_2024-05-03-20-24__2024-05-08-14-23-50__1__densenet121__PT-True - Reduced_Pycnopodia_helianthoides_full_event-unaware_training-split_2024-05-03-20-24\n",
      "Gallery dataset path: ..\\..\\data\\Reduced_Pycnopodia_helianthoides_full_event-unaware_training-split_2024-05-03-20-24\\train True\n",
      "Query dataset path: ..\\..\\data\\Reduced_Pycnopodia_helianthoides_full_event-unaware_training-split_2024-05-03-20-24\\test True\n",
      "Number of identities: 219\n",
      "Number of gallery images: 4522\n",
      "Number of query images: 1288\n"
     ]
    },
    {
     "name": "stderr",
     "output_type": "stream",
     "text": [
      "100%|██████████| 4522/4522 [02:39<00:00, 28.40it/s]\n",
      "100%|██████████| 1288/1288 [00:46<00:00, 27.92it/s]\n"
     ]
    },
    {
     "name": "stdout",
     "output_type": "stream",
     "text": [
      "\n",
      "Computed mAP:\n",
      "mAP@1: 0.9092\n",
      "mAP@5: 0.9557\n",
      "mAP@10: 0.9689\n",
      "mAP@15: 0.9744\n",
      "mAP@20: 0.9798\n",
      "260|347 - Reduced_Pycnopodia_helianthoides_full_event-unaware_training-split_2024-05-03-20-24__2024-05-08-18-41-09__1__densenet121__PT-True - Reduced_Pycnopodia_helianthoides_full_event-unaware_training-split_2024-05-03-20-24\n",
      "Gallery dataset path: ..\\..\\data\\Reduced_Pycnopodia_helianthoides_full_event-unaware_training-split_2024-05-03-20-24\\train True\n",
      "Query dataset path: ..\\..\\data\\Reduced_Pycnopodia_helianthoides_full_event-unaware_training-split_2024-05-03-20-24\\test True\n",
      "Number of identities: 219\n",
      "Number of gallery images: 4522\n",
      "Number of query images: 1288\n"
     ]
    },
    {
     "name": "stderr",
     "output_type": "stream",
     "text": [
      "100%|██████████| 4522/4522 [02:41<00:00, 28.06it/s]\n",
      "100%|██████████| 1288/1288 [00:46<00:00, 27.97it/s]\n"
     ]
    },
    {
     "name": "stdout",
     "output_type": "stream",
     "text": [
      "\n",
      "Computed mAP:\n",
      "mAP@1: 0.8898\n",
      "mAP@5: 0.9464\n",
      "mAP@10: 0.9658\n",
      "mAP@15: 0.9720\n",
      "mAP@20: 0.9736\n",
      "261|347 - Reduced_Pycnopodia_helianthoides_full_event-unaware_training-split_2024-05-03-20-24__2024-05-08-18-52-22__0__densenet121__PT-True - Reduced_Pycnopodia_helianthoides_full_event-unaware_training-split_2024-05-03-20-24\n",
      "Gallery dataset path: ..\\..\\data\\Reduced_Pycnopodia_helianthoides_full_event-unaware_training-split_2024-05-03-20-24\\train True\n",
      "Query dataset path: ..\\..\\data\\Reduced_Pycnopodia_helianthoides_full_event-unaware_training-split_2024-05-03-20-24\\test True\n",
      "Number of identities: 219\n",
      "Number of gallery images: 4522\n",
      "Number of query images: 1288\n"
     ]
    },
    {
     "name": "stderr",
     "output_type": "stream",
     "text": [
      "100%|██████████| 4522/4522 [02:39<00:00, 28.39it/s]\n",
      "100%|██████████| 1288/1288 [00:45<00:00, 28.40it/s]\n"
     ]
    },
    {
     "name": "stdout",
     "output_type": "stream",
     "text": [
      "\n",
      "Computed mAP:\n",
      "mAP@1: 0.8634\n",
      "mAP@5: 0.9332\n",
      "mAP@10: 0.9557\n",
      "mAP@15: 0.9604\n",
      "mAP@20: 0.9674\n",
      "262|347 - Reduced_Pycnopodia_helianthoides_full_event-unaware_training-split_2024-05-03-20-24__2024-05-08-23-14-35__0__densenet121__PT-True - Reduced_Pycnopodia_helianthoides_full_event-unaware_training-split_2024-05-03-20-24\n",
      "Gallery dataset path: ..\\..\\data\\Reduced_Pycnopodia_helianthoides_full_event-unaware_training-split_2024-05-03-20-24\\train True\n",
      "Query dataset path: ..\\..\\data\\Reduced_Pycnopodia_helianthoides_full_event-unaware_training-split_2024-05-03-20-24\\test True\n",
      "Number of identities: 219\n",
      "Number of gallery images: 4522\n",
      "Number of query images: 1288\n"
     ]
    },
    {
     "name": "stderr",
     "output_type": "stream",
     "text": [
      "100%|██████████| 4522/4522 [02:42<00:00, 27.79it/s]\n",
      "100%|██████████| 1288/1288 [00:46<00:00, 27.69it/s]\n"
     ]
    },
    {
     "name": "stdout",
     "output_type": "stream",
     "text": [
      "\n",
      "Computed mAP:\n",
      "mAP@1: 0.8657\n",
      "mAP@5: 0.9379\n",
      "mAP@10: 0.9542\n",
      "mAP@15: 0.9627\n",
      "mAP@20: 0.9720\n",
      "263|347 - Reduced_Pycnopodia_helianthoides_full_event-unaware_training-split_2024-05-03-20-24__2024-05-08-23-22-15__1__densenet121__PT-True - Reduced_Pycnopodia_helianthoides_full_event-unaware_training-split_2024-05-03-20-24\n",
      "Gallery dataset path: ..\\..\\data\\Reduced_Pycnopodia_helianthoides_full_event-unaware_training-split_2024-05-03-20-24\\train True\n",
      "Query dataset path: ..\\..\\data\\Reduced_Pycnopodia_helianthoides_full_event-unaware_training-split_2024-05-03-20-24\\test True\n",
      "Number of identities: 219\n",
      "Number of gallery images: 4522\n",
      "Number of query images: 1288\n"
     ]
    },
    {
     "name": "stderr",
     "output_type": "stream",
     "text": [
      "100%|██████████| 4522/4522 [02:42<00:00, 27.90it/s]\n",
      "100%|██████████| 1288/1288 [00:45<00:00, 28.26it/s]\n"
     ]
    },
    {
     "name": "stdout",
     "output_type": "stream",
     "text": [
      "\n",
      "Computed mAP:\n",
      "mAP@1: 0.9061\n",
      "mAP@5: 0.9542\n",
      "mAP@10: 0.9689\n",
      "mAP@15: 0.9736\n",
      "mAP@20: 0.9783\n",
      "264|347 - Unmasked_Other_species_sea-star-re-id-full_event-unaware_training-split_2024-05-05-15-26__2024-05-06-00-16-44__1__densenet121__PT-True - Unmasked_Other_species_sea-star-re-id-full_event-unaware_training-split_2024-05-05-15-26\n",
      "Gallery dataset path: ..\\..\\data\\Unmasked_Other_species_sea-star-re-id-full_event-unaware_training-split_2024-05-05-15-26\\train True\n",
      "Query dataset path: ..\\..\\data\\Unmasked_Other_species_sea-star-re-id-full_event-unaware_training-split_2024-05-05-15-26\\test True\n",
      "Number of identities: 95\n",
      "Number of gallery images: 1509\n",
      "Number of query images: 425\n"
     ]
    },
    {
     "name": "stderr",
     "output_type": "stream",
     "text": [
      "100%|██████████| 1509/1509 [00:51<00:00, 29.12it/s]\n",
      "100%|██████████| 425/425 [00:14<00:00, 30.04it/s]\n"
     ]
    },
    {
     "name": "stdout",
     "output_type": "stream",
     "text": [
      "\n",
      "Computed mAP:\n",
      "mAP@1: 0.7906\n",
      "mAP@5: 0.9271\n",
      "mAP@10: 0.9600\n",
      "mAP@15: 0.9765\n",
      "mAP@20: 0.9835\n",
      "265|347 - Unmasked_Other_species_sea-star-re-id-full_event-unaware_training-split_2024-05-05-15-26__2024-05-06-01-05-33__0__densenet121__PT-True - Unmasked_Other_species_sea-star-re-id-full_event-unaware_training-split_2024-05-05-15-26\n",
      "Gallery dataset path: ..\\..\\data\\Unmasked_Other_species_sea-star-re-id-full_event-unaware_training-split_2024-05-05-15-26\\train True\n",
      "Query dataset path: ..\\..\\data\\Unmasked_Other_species_sea-star-re-id-full_event-unaware_training-split_2024-05-05-15-26\\test True\n",
      "Number of identities: 95\n",
      "Number of gallery images: 1509\n",
      "Number of query images: 425\n"
     ]
    },
    {
     "name": "stderr",
     "output_type": "stream",
     "text": [
      "100%|██████████| 1509/1509 [00:51<00:00, 29.21it/s]\n",
      "100%|██████████| 425/425 [00:14<00:00, 29.76it/s]\n"
     ]
    },
    {
     "name": "stdout",
     "output_type": "stream",
     "text": [
      "\n",
      "Computed mAP:\n",
      "mAP@1: 0.8353\n",
      "mAP@5: 0.9600\n",
      "mAP@10: 0.9788\n",
      "mAP@15: 0.9882\n",
      "mAP@20: 0.9906\n",
      "266|347 - Unmasked_Other_species_sea-star-re-id-full_event-unaware_training-split_2024-05-05-15-26__2024-05-06-06-12-28__1__densenet121__PT-True - Unmasked_Other_species_sea-star-re-id-full_event-unaware_training-split_2024-05-05-15-26\n",
      "Gallery dataset path: ..\\..\\data\\Unmasked_Other_species_sea-star-re-id-full_event-unaware_training-split_2024-05-05-15-26\\train True\n",
      "Query dataset path: ..\\..\\data\\Unmasked_Other_species_sea-star-re-id-full_event-unaware_training-split_2024-05-05-15-26\\test True\n",
      "Number of identities: 95\n",
      "Number of gallery images: 1509\n",
      "Number of query images: 425\n"
     ]
    },
    {
     "name": "stderr",
     "output_type": "stream",
     "text": [
      "100%|██████████| 1509/1509 [00:50<00:00, 29.67it/s]\n",
      "100%|██████████| 425/425 [00:14<00:00, 30.28it/s]\n"
     ]
    },
    {
     "name": "stdout",
     "output_type": "stream",
     "text": [
      "\n",
      "Computed mAP:\n",
      "mAP@1: 0.7106\n",
      "mAP@5: 0.8965\n",
      "mAP@10: 0.9435\n",
      "mAP@15: 0.9647\n",
      "mAP@20: 0.9718\n",
      "267|347 - Unmasked_Other_species_sea-star-re-id-full_event-unaware_training-split_2024-05-05-15-26__2024-05-06-06-25-24__0__densenet121__PT-True - Unmasked_Other_species_sea-star-re-id-full_event-unaware_training-split_2024-05-05-15-26\n",
      "Gallery dataset path: ..\\..\\data\\Unmasked_Other_species_sea-star-re-id-full_event-unaware_training-split_2024-05-05-15-26\\train True\n",
      "Query dataset path: ..\\..\\data\\Unmasked_Other_species_sea-star-re-id-full_event-unaware_training-split_2024-05-05-15-26\\test True\n",
      "Number of identities: 95\n",
      "Number of gallery images: 1509\n",
      "Number of query images: 425\n"
     ]
    },
    {
     "name": "stderr",
     "output_type": "stream",
     "text": [
      "100%|██████████| 1509/1509 [00:50<00:00, 30.09it/s]\n",
      "100%|██████████| 425/425 [00:14<00:00, 29.95it/s]\n"
     ]
    },
    {
     "name": "stdout",
     "output_type": "stream",
     "text": [
      "\n",
      "Computed mAP:\n",
      "mAP@1: 0.7718\n",
      "mAP@5: 0.9224\n",
      "mAP@10: 0.9529\n",
      "mAP@15: 0.9671\n",
      "mAP@20: 0.9788\n",
      "268|347 - Unmasked_Other_species_sea-star-re-id-full_event-unaware_training-split_2024-05-05-15-26__2024-05-06-11-53-35__1__densenet121__PT-True - Unmasked_Other_species_sea-star-re-id-full_event-unaware_training-split_2024-05-05-15-26\n",
      "Gallery dataset path: ..\\..\\data\\Unmasked_Other_species_sea-star-re-id-full_event-unaware_training-split_2024-05-05-15-26\\train True\n",
      "Query dataset path: ..\\..\\data\\Unmasked_Other_species_sea-star-re-id-full_event-unaware_training-split_2024-05-05-15-26\\test True\n",
      "Number of identities: 95\n",
      "Number of gallery images: 1509\n",
      "Number of query images: 425\n"
     ]
    },
    {
     "name": "stderr",
     "output_type": "stream",
     "text": [
      "100%|██████████| 1509/1509 [00:52<00:00, 29.01it/s]\n",
      "100%|██████████| 425/425 [00:14<00:00, 29.71it/s]\n"
     ]
    },
    {
     "name": "stdout",
     "output_type": "stream",
     "text": [
      "\n",
      "Computed mAP:\n",
      "mAP@1: 0.7412\n",
      "mAP@5: 0.8965\n",
      "mAP@10: 0.9412\n",
      "mAP@15: 0.9600\n",
      "mAP@20: 0.9671\n",
      "269|347 - Unmasked_Other_species_sea-star-re-id-full_event-unaware_training-split_2024-05-05-15-26__2024-05-06-12-05-08__0__densenet121__PT-True - Unmasked_Other_species_sea-star-re-id-full_event-unaware_training-split_2024-05-05-15-26\n",
      "Gallery dataset path: ..\\..\\data\\Unmasked_Other_species_sea-star-re-id-full_event-unaware_training-split_2024-05-05-15-26\\train True\n",
      "Query dataset path: ..\\..\\data\\Unmasked_Other_species_sea-star-re-id-full_event-unaware_training-split_2024-05-05-15-26\\test True\n",
      "Number of identities: 95\n",
      "Number of gallery images: 1509\n",
      "Number of query images: 425\n"
     ]
    },
    {
     "name": "stderr",
     "output_type": "stream",
     "text": [
      "100%|██████████| 1509/1509 [00:52<00:00, 28.98it/s]\n",
      "100%|██████████| 425/425 [00:14<00:00, 29.09it/s]\n"
     ]
    },
    {
     "name": "stdout",
     "output_type": "stream",
     "text": [
      "\n",
      "Computed mAP:\n",
      "mAP@1: 0.7129\n",
      "mAP@5: 0.9059\n",
      "mAP@10: 0.9529\n",
      "mAP@15: 0.9788\n",
      "mAP@20: 0.9859\n",
      "270|347 - Unmasked_Other_species_sea-star-re-id-full_event-unaware_training-split_2024-05-05-15-26__2024-05-06-16-50-46__1__densenet121__PT-True - Unmasked_Other_species_sea-star-re-id-full_event-unaware_training-split_2024-05-05-15-26\n",
      "Gallery dataset path: ..\\..\\data\\Unmasked_Other_species_sea-star-re-id-full_event-unaware_training-split_2024-05-05-15-26\\train True\n",
      "Query dataset path: ..\\..\\data\\Unmasked_Other_species_sea-star-re-id-full_event-unaware_training-split_2024-05-05-15-26\\test True\n",
      "Number of identities: 95\n",
      "Number of gallery images: 1509\n",
      "Number of query images: 425\n"
     ]
    },
    {
     "name": "stderr",
     "output_type": "stream",
     "text": [
      "100%|██████████| 1509/1509 [00:51<00:00, 29.43it/s]\n",
      "100%|██████████| 425/425 [00:14<00:00, 29.41it/s]\n"
     ]
    },
    {
     "name": "stdout",
     "output_type": "stream",
     "text": [
      "\n",
      "Computed mAP:\n",
      "mAP@1: 0.8471\n",
      "mAP@5: 0.9671\n",
      "mAP@10: 0.9812\n",
      "mAP@15: 0.9882\n",
      "mAP@20: 0.9882\n",
      "271|347 - Unmasked_Other_species_sea-star-re-id-full_event-unaware_training-split_2024-05-05-15-26__2024-05-06-17-31-36__0__densenet121__PT-True - Unmasked_Other_species_sea-star-re-id-full_event-unaware_training-split_2024-05-05-15-26\n",
      "Gallery dataset path: ..\\..\\data\\Unmasked_Other_species_sea-star-re-id-full_event-unaware_training-split_2024-05-05-15-26\\train True\n",
      "Query dataset path: ..\\..\\data\\Unmasked_Other_species_sea-star-re-id-full_event-unaware_training-split_2024-05-05-15-26\\test True\n",
      "Number of identities: 95\n",
      "Number of gallery images: 1509\n",
      "Number of query images: 425\n"
     ]
    },
    {
     "name": "stderr",
     "output_type": "stream",
     "text": [
      "100%|██████████| 1509/1509 [00:50<00:00, 29.81it/s]\n",
      "100%|██████████| 425/425 [00:14<00:00, 29.40it/s]\n"
     ]
    },
    {
     "name": "stdout",
     "output_type": "stream",
     "text": [
      "\n",
      "Computed mAP:\n",
      "mAP@1: 0.8635\n",
      "mAP@5: 0.9576\n",
      "mAP@10: 0.9788\n",
      "mAP@15: 0.9859\n",
      "mAP@20: 0.9929\n",
      "272|347 - Unmasked_Other_species_sea-star-re-id-full_event-unaware_training-split_2024-05-05-15-26__2024-05-06-22-44-48__1__densenet121__PT-True - Unmasked_Other_species_sea-star-re-id-full_event-unaware_training-split_2024-05-05-15-26\n",
      "Gallery dataset path: ..\\..\\data\\Unmasked_Other_species_sea-star-re-id-full_event-unaware_training-split_2024-05-05-15-26\\train True\n",
      "Query dataset path: ..\\..\\data\\Unmasked_Other_species_sea-star-re-id-full_event-unaware_training-split_2024-05-05-15-26\\test True\n",
      "Number of identities: 95\n",
      "Number of gallery images: 1509\n",
      "Number of query images: 425\n"
     ]
    },
    {
     "name": "stderr",
     "output_type": "stream",
     "text": [
      "100%|██████████| 1509/1509 [00:52<00:00, 28.71it/s]\n",
      "100%|██████████| 425/425 [00:14<00:00, 29.91it/s]\n"
     ]
    },
    {
     "name": "stdout",
     "output_type": "stream",
     "text": [
      "\n",
      "Computed mAP:\n",
      "mAP@1: 0.8282\n",
      "mAP@5: 0.9624\n",
      "mAP@10: 0.9812\n",
      "mAP@15: 0.9882\n",
      "mAP@20: 0.9906\n",
      "273|347 - Unmasked_Other_species_sea-star-re-id-full_event-unaware_training-split_2024-05-05-15-26__2024-05-06-22-47-58__0__densenet121__PT-True - Unmasked_Other_species_sea-star-re-id-full_event-unaware_training-split_2024-05-05-15-26\n",
      "Gallery dataset path: ..\\..\\data\\Unmasked_Other_species_sea-star-re-id-full_event-unaware_training-split_2024-05-05-15-26\\train True\n",
      "Query dataset path: ..\\..\\data\\Unmasked_Other_species_sea-star-re-id-full_event-unaware_training-split_2024-05-05-15-26\\test True\n",
      "Number of identities: 95\n",
      "Number of gallery images: 1509\n",
      "Number of query images: 425\n"
     ]
    },
    {
     "name": "stderr",
     "output_type": "stream",
     "text": [
      "100%|██████████| 1509/1509 [00:50<00:00, 29.75it/s]\n",
      "100%|██████████| 425/425 [00:14<00:00, 29.17it/s]\n"
     ]
    },
    {
     "name": "stdout",
     "output_type": "stream",
     "text": [
      "\n",
      "Computed mAP:\n",
      "mAP@1: 0.8376\n",
      "mAP@5: 0.9482\n",
      "mAP@10: 0.9765\n",
      "mAP@15: 0.9835\n",
      "mAP@20: 0.9953\n",
      "274|347 - Unmasked_Other_species_sea-star-re-id-full_event-unaware_training-split_2024-05-05-15-26__2024-05-07-04-27-24__0__densenet121__PT-True - Unmasked_Other_species_sea-star-re-id-full_event-unaware_training-split_2024-05-05-15-26\n",
      "Gallery dataset path: ..\\..\\data\\Unmasked_Other_species_sea-star-re-id-full_event-unaware_training-split_2024-05-05-15-26\\train True\n",
      "Query dataset path: ..\\..\\data\\Unmasked_Other_species_sea-star-re-id-full_event-unaware_training-split_2024-05-05-15-26\\test True\n",
      "Number of identities: 95\n",
      "Number of gallery images: 1509\n",
      "Number of query images: 425\n"
     ]
    },
    {
     "name": "stderr",
     "output_type": "stream",
     "text": [
      "100%|██████████| 1509/1509 [00:51<00:00, 29.11it/s]\n",
      "100%|██████████| 425/425 [00:14<00:00, 28.93it/s]\n"
     ]
    },
    {
     "name": "stdout",
     "output_type": "stream",
     "text": [
      "\n",
      "Computed mAP:\n",
      "mAP@1: 0.8400\n",
      "mAP@5: 0.9529\n",
      "mAP@10: 0.9765\n",
      "mAP@15: 0.9835\n",
      "mAP@20: 0.9906\n",
      "275|347 - Unmasked_Other_species_sea-star-re-id-full_event-unaware_training-split_2024-05-05-15-26__2024-05-07-04-30-05__1__densenet121__PT-True - Unmasked_Other_species_sea-star-re-id-full_event-unaware_training-split_2024-05-05-15-26\n",
      "Gallery dataset path: ..\\..\\data\\Unmasked_Other_species_sea-star-re-id-full_event-unaware_training-split_2024-05-05-15-26\\train True\n",
      "Query dataset path: ..\\..\\data\\Unmasked_Other_species_sea-star-re-id-full_event-unaware_training-split_2024-05-05-15-26\\test True\n",
      "Number of identities: 95\n",
      "Number of gallery images: 1509\n",
      "Number of query images: 425\n"
     ]
    },
    {
     "name": "stderr",
     "output_type": "stream",
     "text": [
      "100%|██████████| 1509/1509 [00:52<00:00, 28.69it/s]\n",
      "100%|██████████| 425/425 [00:14<00:00, 29.41it/s]\n"
     ]
    },
    {
     "name": "stdout",
     "output_type": "stream",
     "text": [
      "\n",
      "Computed mAP:\n",
      "mAP@1: 0.7882\n",
      "mAP@5: 0.9153\n",
      "mAP@10: 0.9482\n",
      "mAP@15: 0.9765\n",
      "mAP@20: 0.9812\n",
      "276|347 - Unmasked_Other_species_sea-star-re-id-full_event-unaware_training-split_2024-05-05-15-26__2024-05-07-09-35-46__1__densenet121__PT-True - Unmasked_Other_species_sea-star-re-id-full_event-unaware_training-split_2024-05-05-15-26\n",
      "Gallery dataset path: ..\\..\\data\\Unmasked_Other_species_sea-star-re-id-full_event-unaware_training-split_2024-05-05-15-26\\train True\n",
      "Query dataset path: ..\\..\\data\\Unmasked_Other_species_sea-star-re-id-full_event-unaware_training-split_2024-05-05-15-26\\test True\n",
      "Number of identities: 95\n",
      "Number of gallery images: 1509\n",
      "Number of query images: 425\n"
     ]
    },
    {
     "name": "stderr",
     "output_type": "stream",
     "text": [
      "100%|██████████| 1509/1509 [00:50<00:00, 30.12it/s]\n",
      "100%|██████████| 425/425 [00:14<00:00, 29.11it/s]\n"
     ]
    },
    {
     "name": "stdout",
     "output_type": "stream",
     "text": [
      "\n",
      "Computed mAP:\n",
      "mAP@1: 0.8965\n",
      "mAP@5: 0.9647\n",
      "mAP@10: 0.9812\n",
      "mAP@15: 0.9882\n",
      "mAP@20: 0.9906\n",
      "277|347 - Unmasked_Other_species_sea-star-re-id-full_event-unaware_training-split_2024-05-05-15-26__2024-05-07-10-59-02__0__densenet121__PT-True - Unmasked_Other_species_sea-star-re-id-full_event-unaware_training-split_2024-05-05-15-26\n",
      "Gallery dataset path: ..\\..\\data\\Unmasked_Other_species_sea-star-re-id-full_event-unaware_training-split_2024-05-05-15-26\\train True\n",
      "Query dataset path: ..\\..\\data\\Unmasked_Other_species_sea-star-re-id-full_event-unaware_training-split_2024-05-05-15-26\\test True\n",
      "Number of identities: 95\n",
      "Number of gallery images: 1509\n",
      "Number of query images: 425\n"
     ]
    },
    {
     "name": "stderr",
     "output_type": "stream",
     "text": [
      "100%|██████████| 1509/1509 [00:52<00:00, 28.82it/s]\n",
      "100%|██████████| 425/425 [00:14<00:00, 29.57it/s]\n"
     ]
    },
    {
     "name": "stdout",
     "output_type": "stream",
     "text": [
      "\n",
      "Computed mAP:\n",
      "mAP@1: 0.8800\n",
      "mAP@5: 0.9671\n",
      "mAP@10: 0.9835\n",
      "mAP@15: 0.9953\n",
      "mAP@20: 0.9976\n",
      "278|347 - Unmasked_Other_species_sea-star-re-id-full_event-unaware_training-split_2024-05-05-15-26__2024-05-07-16-57-46__1__densenet121__PT-True - Unmasked_Other_species_sea-star-re-id-full_event-unaware_training-split_2024-05-05-15-26\n",
      "Gallery dataset path: ..\\..\\data\\Unmasked_Other_species_sea-star-re-id-full_event-unaware_training-split_2024-05-05-15-26\\train True\n",
      "Query dataset path: ..\\..\\data\\Unmasked_Other_species_sea-star-re-id-full_event-unaware_training-split_2024-05-05-15-26\\test True\n",
      "Number of identities: 95\n",
      "Number of gallery images: 1509\n",
      "Number of query images: 425\n"
     ]
    },
    {
     "name": "stderr",
     "output_type": "stream",
     "text": [
      "100%|██████████| 1509/1509 [00:51<00:00, 29.28it/s]\n",
      "100%|██████████| 425/425 [00:14<00:00, 28.86it/s]\n"
     ]
    },
    {
     "name": "stdout",
     "output_type": "stream",
     "text": [
      "\n",
      "Computed mAP:\n",
      "mAP@1: 0.8871\n",
      "mAP@5: 0.9647\n",
      "mAP@10: 0.9812\n",
      "mAP@15: 0.9835\n",
      "mAP@20: 0.9906\n",
      "279|347 - Unmasked_Other_species_sea-star-re-id-full_event-unaware_training-split_2024-05-05-15-26__2024-05-07-17-26-32__0__densenet121__PT-True - Unmasked_Other_species_sea-star-re-id-full_event-unaware_training-split_2024-05-05-15-26\n",
      "Gallery dataset path: ..\\..\\data\\Unmasked_Other_species_sea-star-re-id-full_event-unaware_training-split_2024-05-05-15-26\\train True\n",
      "Query dataset path: ..\\..\\data\\Unmasked_Other_species_sea-star-re-id-full_event-unaware_training-split_2024-05-05-15-26\\test True\n",
      "Number of identities: 95\n",
      "Number of gallery images: 1509\n",
      "Number of query images: 425\n"
     ]
    },
    {
     "name": "stderr",
     "output_type": "stream",
     "text": [
      "100%|██████████| 1509/1509 [00:51<00:00, 29.38it/s]\n",
      "100%|██████████| 425/425 [00:14<00:00, 30.10it/s]\n"
     ]
    },
    {
     "name": "stdout",
     "output_type": "stream",
     "text": [
      "\n",
      "Computed mAP:\n",
      "mAP@1: 0.8824\n",
      "mAP@5: 0.9624\n",
      "mAP@10: 0.9882\n",
      "mAP@15: 0.9882\n",
      "mAP@20: 0.9906\n",
      "280|347 - Unmasked_Other_species_sea-star-re-id-full_event-unaware_training-split_2024-05-05-15-26__2024-05-08-01-37-20__1__densenet121__PT-True - Unmasked_Other_species_sea-star-re-id-full_event-unaware_training-split_2024-05-05-15-26\n",
      "Gallery dataset path: ..\\..\\data\\Unmasked_Other_species_sea-star-re-id-full_event-unaware_training-split_2024-05-05-15-26\\train True\n",
      "Query dataset path: ..\\..\\data\\Unmasked_Other_species_sea-star-re-id-full_event-unaware_training-split_2024-05-05-15-26\\test True\n",
      "Number of identities: 95\n",
      "Number of gallery images: 1509\n",
      "Number of query images: 425\n"
     ]
    },
    {
     "name": "stderr",
     "output_type": "stream",
     "text": [
      "100%|██████████| 1509/1509 [00:50<00:00, 29.81it/s]\n",
      "100%|██████████| 425/425 [00:14<00:00, 29.66it/s]\n"
     ]
    },
    {
     "name": "stdout",
     "output_type": "stream",
     "text": [
      "\n",
      "Computed mAP:\n",
      "mAP@1: 0.8541\n",
      "mAP@5: 0.9624\n",
      "mAP@10: 0.9765\n",
      "mAP@15: 0.9835\n",
      "mAP@20: 0.9882\n",
      "281|347 - Unmasked_Other_species_sea-star-re-id-full_event-unaware_training-split_2024-05-05-15-26__2024-05-08-02-01-04__0__densenet121__PT-True - Unmasked_Other_species_sea-star-re-id-full_event-unaware_training-split_2024-05-05-15-26\n",
      "Gallery dataset path: ..\\..\\data\\Unmasked_Other_species_sea-star-re-id-full_event-unaware_training-split_2024-05-05-15-26\\train True\n",
      "Query dataset path: ..\\..\\data\\Unmasked_Other_species_sea-star-re-id-full_event-unaware_training-split_2024-05-05-15-26\\test True\n",
      "Number of identities: 95\n",
      "Number of gallery images: 1509\n",
      "Number of query images: 425\n"
     ]
    },
    {
     "name": "stderr",
     "output_type": "stream",
     "text": [
      "100%|██████████| 1509/1509 [00:50<00:00, 29.67it/s]\n",
      "100%|██████████| 425/425 [00:14<00:00, 29.08it/s]\n"
     ]
    },
    {
     "name": "stdout",
     "output_type": "stream",
     "text": [
      "\n",
      "Computed mAP:\n",
      "mAP@1: 0.8118\n",
      "mAP@5: 0.9318\n",
      "mAP@10: 0.9671\n",
      "mAP@15: 0.9859\n",
      "mAP@20: 0.9929\n",
      "282|347 - Unmasked_Other_species_sea-star-re-id-full_event-unaware_training-split_2024-05-05-15-26__2024-05-08-06-02-23__1__densenet121__PT-True - Unmasked_Other_species_sea-star-re-id-full_event-unaware_training-split_2024-05-05-15-26\n",
      "Gallery dataset path: ..\\..\\data\\Unmasked_Other_species_sea-star-re-id-full_event-unaware_training-split_2024-05-05-15-26\\train True\n",
      "Query dataset path: ..\\..\\data\\Unmasked_Other_species_sea-star-re-id-full_event-unaware_training-split_2024-05-05-15-26\\test True\n",
      "Number of identities: 95\n",
      "Number of gallery images: 1509\n",
      "Number of query images: 425\n"
     ]
    },
    {
     "name": "stderr",
     "output_type": "stream",
     "text": [
      "100%|██████████| 1509/1509 [00:51<00:00, 29.08it/s]\n",
      "100%|██████████| 425/425 [00:14<00:00, 28.47it/s]\n"
     ]
    },
    {
     "name": "stdout",
     "output_type": "stream",
     "text": [
      "\n",
      "Computed mAP:\n",
      "mAP@1: 0.8894\n",
      "mAP@5: 0.9600\n",
      "mAP@10: 0.9835\n",
      "mAP@15: 0.9859\n",
      "mAP@20: 0.9882\n",
      "283|347 - Unmasked_Other_species_sea-star-re-id-full_event-unaware_training-split_2024-05-05-15-26__2024-05-08-06-08-00__0__densenet121__PT-True - Unmasked_Other_species_sea-star-re-id-full_event-unaware_training-split_2024-05-05-15-26\n",
      "Gallery dataset path: ..\\..\\data\\Unmasked_Other_species_sea-star-re-id-full_event-unaware_training-split_2024-05-05-15-26\\train True\n",
      "Query dataset path: ..\\..\\data\\Unmasked_Other_species_sea-star-re-id-full_event-unaware_training-split_2024-05-05-15-26\\test True\n",
      "Number of identities: 95\n",
      "Number of gallery images: 1509\n",
      "Number of query images: 425\n"
     ]
    },
    {
     "name": "stderr",
     "output_type": "stream",
     "text": [
      "100%|██████████| 1509/1509 [00:50<00:00, 29.93it/s]\n",
      "100%|██████████| 425/425 [00:14<00:00, 30.17it/s]\n"
     ]
    },
    {
     "name": "stdout",
     "output_type": "stream",
     "text": [
      "\n",
      "Computed mAP:\n",
      "mAP@1: 0.8424\n",
      "mAP@5: 0.9553\n",
      "mAP@10: 0.9741\n",
      "mAP@15: 0.9812\n",
      "mAP@20: 0.9859\n",
      "284|347 - Unmasked_Other_species_sea-star-re-id-full_event-unaware_training-split_2024-05-05-15-26__2024-05-08-10-12-00__0__densenet121__PT-True - Unmasked_Other_species_sea-star-re-id-full_event-unaware_training-split_2024-05-05-15-26\n",
      "Gallery dataset path: ..\\..\\data\\Unmasked_Other_species_sea-star-re-id-full_event-unaware_training-split_2024-05-05-15-26\\train True\n",
      "Query dataset path: ..\\..\\data\\Unmasked_Other_species_sea-star-re-id-full_event-unaware_training-split_2024-05-05-15-26\\test True\n",
      "Number of identities: 95\n",
      "Number of gallery images: 1509\n",
      "Number of query images: 425\n"
     ]
    },
    {
     "name": "stderr",
     "output_type": "stream",
     "text": [
      "100%|██████████| 1509/1509 [00:51<00:00, 29.38it/s]\n",
      "100%|██████████| 425/425 [00:14<00:00, 29.07it/s]\n"
     ]
    },
    {
     "name": "stdout",
     "output_type": "stream",
     "text": [
      "\n",
      "Computed mAP:\n",
      "mAP@1: 0.8094\n",
      "mAP@5: 0.9341\n",
      "mAP@10: 0.9671\n",
      "mAP@15: 0.9812\n",
      "mAP@20: 0.9906\n",
      "285|347 - Unmasked_Other_species_sea-star-re-id-full_event-unaware_training-split_2024-05-05-15-26__2024-05-08-10-24-41__1__densenet121__PT-True - Unmasked_Other_species_sea-star-re-id-full_event-unaware_training-split_2024-05-05-15-26\n",
      "Gallery dataset path: ..\\..\\data\\Unmasked_Other_species_sea-star-re-id-full_event-unaware_training-split_2024-05-05-15-26\\train True\n",
      "Query dataset path: ..\\..\\data\\Unmasked_Other_species_sea-star-re-id-full_event-unaware_training-split_2024-05-05-15-26\\test True\n",
      "Number of identities: 95\n",
      "Number of gallery images: 1509\n",
      "Number of query images: 425\n"
     ]
    },
    {
     "name": "stderr",
     "output_type": "stream",
     "text": [
      "100%|██████████| 1509/1509 [00:50<00:00, 29.69it/s]\n",
      "100%|██████████| 425/425 [00:13<00:00, 30.38it/s]\n"
     ]
    },
    {
     "name": "stdout",
     "output_type": "stream",
     "text": [
      "\n",
      "Computed mAP:\n",
      "mAP@1: 0.8541\n",
      "mAP@5: 0.9600\n",
      "mAP@10: 0.9788\n",
      "mAP@15: 0.9835\n",
      "mAP@20: 0.9882\n",
      "286|347 - Unmasked_Other_species_sea-star-re-id-full_event-unaware_training-split_2024-05-05-15-26__2024-05-08-14-49-25__0__densenet121__PT-True - Unmasked_Other_species_sea-star-re-id-full_event-unaware_training-split_2024-05-05-15-26\n",
      "Gallery dataset path: ..\\..\\data\\Unmasked_Other_species_sea-star-re-id-full_event-unaware_training-split_2024-05-05-15-26\\train True\n",
      "Query dataset path: ..\\..\\data\\Unmasked_Other_species_sea-star-re-id-full_event-unaware_training-split_2024-05-05-15-26\\test True\n",
      "Number of identities: 95\n",
      "Number of gallery images: 1509\n",
      "Number of query images: 425\n"
     ]
    },
    {
     "name": "stderr",
     "output_type": "stream",
     "text": [
      "100%|██████████| 1509/1509 [00:51<00:00, 29.16it/s]\n",
      "100%|██████████| 425/425 [00:14<00:00, 29.15it/s]\n"
     ]
    },
    {
     "name": "stdout",
     "output_type": "stream",
     "text": [
      "\n",
      "Computed mAP:\n",
      "mAP@1: 0.7976\n",
      "mAP@5: 0.9318\n",
      "mAP@10: 0.9600\n",
      "mAP@15: 0.9835\n",
      "mAP@20: 0.9882\n",
      "287|347 - Unmasked_Other_species_sea-star-re-id-full_event-unaware_training-split_2024-05-05-15-26__2024-05-08-14-53-53__1__densenet121__PT-True - Unmasked_Other_species_sea-star-re-id-full_event-unaware_training-split_2024-05-05-15-26\n",
      "Gallery dataset path: ..\\..\\data\\Unmasked_Other_species_sea-star-re-id-full_event-unaware_training-split_2024-05-05-15-26\\train True\n",
      "Query dataset path: ..\\..\\data\\Unmasked_Other_species_sea-star-re-id-full_event-unaware_training-split_2024-05-05-15-26\\test True\n",
      "Number of identities: 95\n",
      "Number of gallery images: 1509\n",
      "Number of query images: 425\n"
     ]
    },
    {
     "name": "stderr",
     "output_type": "stream",
     "text": [
      "100%|██████████| 1509/1509 [00:50<00:00, 29.81it/s]\n",
      "100%|██████████| 425/425 [00:13<00:00, 30.44it/s]\n"
     ]
    },
    {
     "name": "stdout",
     "output_type": "stream",
     "text": [
      "\n",
      "Computed mAP:\n",
      "mAP@1: 0.8588\n",
      "mAP@5: 0.9576\n",
      "mAP@10: 0.9765\n",
      "mAP@15: 0.9835\n",
      "mAP@20: 0.9859\n",
      "288|347 - Unmasked_Other_species_sea-star-re-id-full_event-unaware_training-split_2024-05-05-15-26__2024-05-08-19-09-21__1__densenet121__PT-True - Unmasked_Other_species_sea-star-re-id-full_event-unaware_training-split_2024-05-05-15-26\n",
      "Gallery dataset path: ..\\..\\data\\Unmasked_Other_species_sea-star-re-id-full_event-unaware_training-split_2024-05-05-15-26\\train True\n",
      "Query dataset path: ..\\..\\data\\Unmasked_Other_species_sea-star-re-id-full_event-unaware_training-split_2024-05-05-15-26\\test True\n",
      "Number of identities: 95\n",
      "Number of gallery images: 1509\n",
      "Number of query images: 425\n"
     ]
    },
    {
     "name": "stderr",
     "output_type": "stream",
     "text": [
      "100%|██████████| 1509/1509 [00:51<00:00, 29.19it/s]\n",
      "100%|██████████| 425/425 [00:14<00:00, 29.56it/s]\n"
     ]
    },
    {
     "name": "stdout",
     "output_type": "stream",
     "text": [
      "\n",
      "Computed mAP:\n",
      "mAP@1: 0.8471\n",
      "mAP@5: 0.9694\n",
      "mAP@10: 0.9859\n",
      "mAP@15: 0.9882\n",
      "mAP@20: 0.9882\n",
      "289|347 - Unmasked_Other_species_sea-star-re-id-full_event-unaware_training-split_2024-05-05-15-26__2024-05-08-19-22-10__0__densenet121__PT-True - Unmasked_Other_species_sea-star-re-id-full_event-unaware_training-split_2024-05-05-15-26\n",
      "Gallery dataset path: ..\\..\\data\\Unmasked_Other_species_sea-star-re-id-full_event-unaware_training-split_2024-05-05-15-26\\train True\n",
      "Query dataset path: ..\\..\\data\\Unmasked_Other_species_sea-star-re-id-full_event-unaware_training-split_2024-05-05-15-26\\test True\n",
      "Number of identities: 95\n",
      "Number of gallery images: 1509\n",
      "Number of query images: 425\n"
     ]
    },
    {
     "name": "stderr",
     "output_type": "stream",
     "text": [
      "100%|██████████| 1509/1509 [00:51<00:00, 29.28it/s]\n",
      "100%|██████████| 425/425 [00:14<00:00, 29.75it/s]\n"
     ]
    },
    {
     "name": "stdout",
     "output_type": "stream",
     "text": [
      "\n",
      "Computed mAP:\n",
      "mAP@1: 0.8000\n",
      "mAP@5: 0.9129\n",
      "mAP@10: 0.9553\n",
      "mAP@15: 0.9671\n",
      "mAP@20: 0.9741\n",
      "290|347 - Unmasked_Other_species_sea-star-re-id-full_event-unaware_training-split_2024-05-05-15-26__2024-05-08-23-43-52__0__densenet121__PT-True - Unmasked_Other_species_sea-star-re-id-full_event-unaware_training-split_2024-05-05-15-26\n",
      "Gallery dataset path: ..\\..\\data\\Unmasked_Other_species_sea-star-re-id-full_event-unaware_training-split_2024-05-05-15-26\\train True\n",
      "Query dataset path: ..\\..\\data\\Unmasked_Other_species_sea-star-re-id-full_event-unaware_training-split_2024-05-05-15-26\\test True\n",
      "Number of identities: 95\n",
      "Number of gallery images: 1509\n",
      "Number of query images: 425\n"
     ]
    },
    {
     "name": "stderr",
     "output_type": "stream",
     "text": [
      "100%|██████████| 1509/1509 [00:51<00:00, 29.46it/s]\n",
      "100%|██████████| 425/425 [00:14<00:00, 30.09it/s]\n"
     ]
    },
    {
     "name": "stdout",
     "output_type": "stream",
     "text": [
      "\n",
      "Computed mAP:\n",
      "mAP@1: 0.7906\n",
      "mAP@5: 0.9341\n",
      "mAP@10: 0.9694\n",
      "mAP@15: 0.9812\n",
      "mAP@20: 0.9812\n",
      "291|347 - Unmasked_Other_species_sea-star-re-id-full_event-unaware_training-split_2024-05-05-15-26__2024-05-08-23-52-29__1__densenet121__PT-True - Unmasked_Other_species_sea-star-re-id-full_event-unaware_training-split_2024-05-05-15-26\n",
      "Gallery dataset path: ..\\..\\data\\Unmasked_Other_species_sea-star-re-id-full_event-unaware_training-split_2024-05-05-15-26\\train True\n",
      "Query dataset path: ..\\..\\data\\Unmasked_Other_species_sea-star-re-id-full_event-unaware_training-split_2024-05-05-15-26\\test True\n",
      "Number of identities: 95\n",
      "Number of gallery images: 1509\n",
      "Number of query images: 425\n"
     ]
    },
    {
     "name": "stderr",
     "output_type": "stream",
     "text": [
      "100%|██████████| 1509/1509 [00:51<00:00, 29.19it/s]\n",
      "100%|██████████| 425/425 [00:14<00:00, 29.45it/s]\n"
     ]
    },
    {
     "name": "stdout",
     "output_type": "stream",
     "text": [
      "\n",
      "Computed mAP:\n",
      "mAP@1: 0.8753\n",
      "mAP@5: 0.9741\n",
      "mAP@10: 0.9906\n",
      "mAP@15: 0.9953\n",
      "mAP@20: 0.9953\n",
      "292|347 - Unmasked_Other_species_sea-star-re-id-full_event-unaware_training-split_2024-05-05-15-33__2024-05-06-00-32-15__1__densenet121__PT-True - Unmasked_Other_species_sea-star-re-id-full_event-unaware_training-split_2024-05-05-15-33\n",
      "Gallery dataset path: ..\\..\\data\\Unmasked_Other_species_sea-star-re-id-full_event-unaware_training-split_2024-05-05-15-33\\train True\n",
      "Query dataset path: ..\\..\\data\\Unmasked_Other_species_sea-star-re-id-full_event-unaware_training-split_2024-05-05-15-33\\test True\n",
      "Number of identities: 95\n",
      "Number of gallery images: 1512\n",
      "Number of query images: 422\n"
     ]
    },
    {
     "name": "stderr",
     "output_type": "stream",
     "text": [
      "100%|██████████| 1512/1512 [00:50<00:00, 29.97it/s]\n",
      "100%|██████████| 422/422 [00:13<00:00, 30.21it/s]\n"
     ]
    },
    {
     "name": "stdout",
     "output_type": "stream",
     "text": [
      "\n",
      "Computed mAP:\n",
      "mAP@1: 0.8057\n",
      "mAP@5: 0.9550\n",
      "mAP@10: 0.9763\n",
      "mAP@15: 0.9834\n",
      "mAP@20: 0.9905\n",
      "293|347 - Unmasked_Other_species_sea-star-re-id-full_event-unaware_training-split_2024-05-05-15-33__2024-05-06-01-23-41__0__densenet121__PT-True - Unmasked_Other_species_sea-star-re-id-full_event-unaware_training-split_2024-05-05-15-33\n",
      "Gallery dataset path: ..\\..\\data\\Unmasked_Other_species_sea-star-re-id-full_event-unaware_training-split_2024-05-05-15-33\\train True\n",
      "Query dataset path: ..\\..\\data\\Unmasked_Other_species_sea-star-re-id-full_event-unaware_training-split_2024-05-05-15-33\\test True\n",
      "Number of identities: 95\n",
      "Number of gallery images: 1512\n",
      "Number of query images: 422\n"
     ]
    },
    {
     "name": "stderr",
     "output_type": "stream",
     "text": [
      "100%|██████████| 1512/1512 [00:51<00:00, 29.15it/s]\n",
      "100%|██████████| 422/422 [00:14<00:00, 28.41it/s]\n"
     ]
    },
    {
     "name": "stdout",
     "output_type": "stream",
     "text": [
      "\n",
      "Computed mAP:\n",
      "mAP@1: 0.8009\n",
      "mAP@5: 0.9265\n",
      "mAP@10: 0.9573\n",
      "mAP@15: 0.9787\n",
      "mAP@20: 0.9882\n",
      "294|347 - Unmasked_Other_species_sea-star-re-id-full_event-unaware_training-split_2024-05-05-15-33__2024-05-06-06-28-23__1__densenet121__PT-True - Unmasked_Other_species_sea-star-re-id-full_event-unaware_training-split_2024-05-05-15-33\n",
      "Gallery dataset path: ..\\..\\data\\Unmasked_Other_species_sea-star-re-id-full_event-unaware_training-split_2024-05-05-15-33\\train True\n",
      "Query dataset path: ..\\..\\data\\Unmasked_Other_species_sea-star-re-id-full_event-unaware_training-split_2024-05-05-15-33\\test True\n",
      "Number of identities: 95\n",
      "Number of gallery images: 1512\n",
      "Number of query images: 422\n"
     ]
    },
    {
     "name": "stderr",
     "output_type": "stream",
     "text": [
      "100%|██████████| 1512/1512 [00:50<00:00, 29.70it/s]\n",
      "100%|██████████| 422/422 [00:13<00:00, 30.25it/s]\n"
     ]
    },
    {
     "name": "stdout",
     "output_type": "stream",
     "text": [
      "\n",
      "Computed mAP:\n",
      "mAP@1: 0.7630\n",
      "mAP@5: 0.8934\n",
      "mAP@10: 0.9408\n",
      "mAP@15: 0.9621\n",
      "mAP@20: 0.9716\n",
      "295|347 - Unmasked_Other_species_sea-star-re-id-full_event-unaware_training-split_2024-05-05-15-33__2024-05-06-06-40-54__0__densenet121__PT-True - Unmasked_Other_species_sea-star-re-id-full_event-unaware_training-split_2024-05-05-15-33\n",
      "Gallery dataset path: ..\\..\\data\\Unmasked_Other_species_sea-star-re-id-full_event-unaware_training-split_2024-05-05-15-33\\train True\n",
      "Query dataset path: ..\\..\\data\\Unmasked_Other_species_sea-star-re-id-full_event-unaware_training-split_2024-05-05-15-33\\test True\n",
      "Number of identities: 95\n",
      "Number of gallery images: 1512\n",
      "Number of query images: 422\n"
     ]
    },
    {
     "name": "stderr",
     "output_type": "stream",
     "text": [
      "100%|██████████| 1512/1512 [00:51<00:00, 29.49it/s]\n",
      "100%|██████████| 422/422 [00:14<00:00, 29.72it/s]\n"
     ]
    },
    {
     "name": "stdout",
     "output_type": "stream",
     "text": [
      "\n",
      "Computed mAP:\n",
      "mAP@1: 0.7464\n",
      "mAP@5: 0.9265\n",
      "mAP@10: 0.9716\n",
      "mAP@15: 0.9810\n",
      "mAP@20: 0.9834\n",
      "296|347 - Unmasked_Other_species_sea-star-re-id-full_event-unaware_training-split_2024-05-05-15-33__2024-05-06-12-09-36__1__densenet121__PT-True - Unmasked_Other_species_sea-star-re-id-full_event-unaware_training-split_2024-05-05-15-33\n",
      "Gallery dataset path: ..\\..\\data\\Unmasked_Other_species_sea-star-re-id-full_event-unaware_training-split_2024-05-05-15-33\\train True\n",
      "Query dataset path: ..\\..\\data\\Unmasked_Other_species_sea-star-re-id-full_event-unaware_training-split_2024-05-05-15-33\\test True\n",
      "Number of identities: 95\n",
      "Number of gallery images: 1512\n",
      "Number of query images: 422\n"
     ]
    },
    {
     "name": "stderr",
     "output_type": "stream",
     "text": [
      "100%|██████████| 1512/1512 [00:50<00:00, 29.79it/s]\n",
      "100%|██████████| 422/422 [00:14<00:00, 30.10it/s]\n"
     ]
    },
    {
     "name": "stdout",
     "output_type": "stream",
     "text": [
      "\n",
      "Computed mAP:\n",
      "mAP@1: 0.6209\n",
      "mAP@5: 0.8555\n",
      "mAP@10: 0.9100\n",
      "mAP@15: 0.9455\n",
      "mAP@20: 0.9645\n",
      "297|347 - Unmasked_Other_species_sea-star-re-id-full_event-unaware_training-split_2024-05-05-15-33__2024-05-06-12-22-47__0__densenet121__PT-True - Unmasked_Other_species_sea-star-re-id-full_event-unaware_training-split_2024-05-05-15-33\n",
      "Gallery dataset path: ..\\..\\data\\Unmasked_Other_species_sea-star-re-id-full_event-unaware_training-split_2024-05-05-15-33\\train True\n",
      "Query dataset path: ..\\..\\data\\Unmasked_Other_species_sea-star-re-id-full_event-unaware_training-split_2024-05-05-15-33\\test True\n",
      "Number of identities: 95\n",
      "Number of gallery images: 1512\n",
      "Number of query images: 422\n"
     ]
    },
    {
     "name": "stderr",
     "output_type": "stream",
     "text": [
      "100%|██████████| 1512/1512 [00:51<00:00, 29.62it/s]\n",
      "100%|██████████| 422/422 [00:14<00:00, 28.36it/s]\n"
     ]
    },
    {
     "name": "stdout",
     "output_type": "stream",
     "text": [
      "\n",
      "Computed mAP:\n",
      "mAP@1: 0.6754\n",
      "mAP@5: 0.8697\n",
      "mAP@10: 0.9384\n",
      "mAP@15: 0.9550\n",
      "mAP@20: 0.9668\n",
      "298|347 - Unmasked_Other_species_sea-star-re-id-full_event-unaware_training-split_2024-05-05-15-33__2024-05-06-17-04-12__1__densenet121__PT-True - Unmasked_Other_species_sea-star-re-id-full_event-unaware_training-split_2024-05-05-15-33\n",
      "Gallery dataset path: ..\\..\\data\\Unmasked_Other_species_sea-star-re-id-full_event-unaware_training-split_2024-05-05-15-33\\train True\n",
      "Query dataset path: ..\\..\\data\\Unmasked_Other_species_sea-star-re-id-full_event-unaware_training-split_2024-05-05-15-33\\test True\n",
      "Number of identities: 95\n",
      "Number of gallery images: 1512\n",
      "Number of query images: 422\n"
     ]
    },
    {
     "name": "stderr",
     "output_type": "stream",
     "text": [
      "100%|██████████| 1512/1512 [00:51<00:00, 29.33it/s]\n",
      "100%|██████████| 422/422 [00:14<00:00, 29.95it/s]\n"
     ]
    },
    {
     "name": "stdout",
     "output_type": "stream",
     "text": [
      "\n",
      "Computed mAP:\n",
      "mAP@1: 0.8815\n",
      "mAP@5: 0.9668\n",
      "mAP@10: 0.9858\n",
      "mAP@15: 0.9905\n",
      "mAP@20: 0.9929\n",
      "299|347 - Unmasked_Other_species_sea-star-re-id-full_event-unaware_training-split_2024-05-05-15-33__2024-05-06-17-46-33__0__densenet121__PT-True - Unmasked_Other_species_sea-star-re-id-full_event-unaware_training-split_2024-05-05-15-33\n",
      "Gallery dataset path: ..\\..\\data\\Unmasked_Other_species_sea-star-re-id-full_event-unaware_training-split_2024-05-05-15-33\\train True\n",
      "Query dataset path: ..\\..\\data\\Unmasked_Other_species_sea-star-re-id-full_event-unaware_training-split_2024-05-05-15-33\\test True\n",
      "Number of identities: 95\n",
      "Number of gallery images: 1512\n",
      "Number of query images: 422\n"
     ]
    },
    {
     "name": "stderr",
     "output_type": "stream",
     "text": [
      "100%|██████████| 1512/1512 [00:49<00:00, 30.37it/s]\n",
      "100%|██████████| 422/422 [00:14<00:00, 29.74it/s]\n"
     ]
    },
    {
     "name": "stdout",
     "output_type": "stream",
     "text": [
      "\n",
      "Computed mAP:\n",
      "mAP@1: 0.8507\n",
      "mAP@5: 0.9550\n",
      "mAP@10: 0.9810\n",
      "mAP@15: 0.9834\n",
      "mAP@20: 0.9905\n",
      "300|347 - Unmasked_Other_species_sea-star-re-id-full_event-unaware_training-split_2024-05-05-15-33__2024-05-06-23-00-31__1__densenet121__PT-True - Unmasked_Other_species_sea-star-re-id-full_event-unaware_training-split_2024-05-05-15-33\n",
      "Gallery dataset path: ..\\..\\data\\Unmasked_Other_species_sea-star-re-id-full_event-unaware_training-split_2024-05-05-15-33\\train True\n",
      "Query dataset path: ..\\..\\data\\Unmasked_Other_species_sea-star-re-id-full_event-unaware_training-split_2024-05-05-15-33\\test True\n",
      "Number of identities: 95\n",
      "Number of gallery images: 1512\n",
      "Number of query images: 422\n"
     ]
    },
    {
     "name": "stderr",
     "output_type": "stream",
     "text": [
      "100%|██████████| 1512/1512 [00:51<00:00, 29.28it/s]\n",
      "100%|██████████| 422/422 [00:14<00:00, 29.27it/s]\n"
     ]
    },
    {
     "name": "stdout",
     "output_type": "stream",
     "text": [
      "\n",
      "Computed mAP:\n",
      "mAP@1: 0.8318\n",
      "mAP@5: 0.9526\n",
      "mAP@10: 0.9787\n",
      "mAP@15: 0.9858\n",
      "mAP@20: 0.9858\n",
      "301|347 - Unmasked_Other_species_sea-star-re-id-full_event-unaware_training-split_2024-05-05-15-33__2024-05-06-23-03-21__0__densenet121__PT-True - Unmasked_Other_species_sea-star-re-id-full_event-unaware_training-split_2024-05-05-15-33\n",
      "Gallery dataset path: ..\\..\\data\\Unmasked_Other_species_sea-star-re-id-full_event-unaware_training-split_2024-05-05-15-33\\train True\n",
      "Query dataset path: ..\\..\\data\\Unmasked_Other_species_sea-star-re-id-full_event-unaware_training-split_2024-05-05-15-33\\test True\n",
      "Number of identities: 95\n",
      "Number of gallery images: 1512\n",
      "Number of query images: 422\n"
     ]
    },
    {
     "name": "stderr",
     "output_type": "stream",
     "text": [
      "100%|██████████| 1512/1512 [00:51<00:00, 29.35it/s]\n",
      "100%|██████████| 422/422 [00:14<00:00, 30.08it/s]\n"
     ]
    },
    {
     "name": "stdout",
     "output_type": "stream",
     "text": [
      "\n",
      "Computed mAP:\n",
      "mAP@1: 0.8531\n",
      "mAP@5: 0.9550\n",
      "mAP@10: 0.9787\n",
      "mAP@15: 0.9882\n",
      "mAP@20: 0.9929\n",
      "302|347 - Unmasked_Other_species_sea-star-re-id-full_event-unaware_training-split_2024-05-05-15-33__2024-05-07-04-44-28__0__densenet121__PT-True - Unmasked_Other_species_sea-star-re-id-full_event-unaware_training-split_2024-05-05-15-33\n",
      "Gallery dataset path: ..\\..\\data\\Unmasked_Other_species_sea-star-re-id-full_event-unaware_training-split_2024-05-05-15-33\\train True\n",
      "Query dataset path: ..\\..\\data\\Unmasked_Other_species_sea-star-re-id-full_event-unaware_training-split_2024-05-05-15-33\\test True\n",
      "Number of identities: 95\n",
      "Number of gallery images: 1512\n",
      "Number of query images: 422\n"
     ]
    },
    {
     "name": "stderr",
     "output_type": "stream",
     "text": [
      "100%|██████████| 1512/1512 [00:52<00:00, 28.98it/s]\n",
      "100%|██████████| 422/422 [00:13<00:00, 30.46it/s]\n"
     ]
    },
    {
     "name": "stdout",
     "output_type": "stream",
     "text": [
      "\n",
      "Computed mAP:\n",
      "mAP@1: 0.8057\n",
      "mAP@5: 0.9550\n",
      "mAP@10: 0.9763\n",
      "mAP@15: 0.9834\n",
      "mAP@20: 0.9882\n",
      "303|347 - Unmasked_Other_species_sea-star-re-id-full_event-unaware_training-split_2024-05-05-15-33__2024-05-07-04-47-18__1__densenet121__PT-True - Unmasked_Other_species_sea-star-re-id-full_event-unaware_training-split_2024-05-05-15-33\n",
      "Gallery dataset path: ..\\..\\data\\Unmasked_Other_species_sea-star-re-id-full_event-unaware_training-split_2024-05-05-15-33\\train True\n",
      "Query dataset path: ..\\..\\data\\Unmasked_Other_species_sea-star-re-id-full_event-unaware_training-split_2024-05-05-15-33\\test True\n",
      "Number of identities: 95\n",
      "Number of gallery images: 1512\n",
      "Number of query images: 422\n"
     ]
    },
    {
     "name": "stderr",
     "output_type": "stream",
     "text": [
      "100%|██████████| 1512/1512 [00:50<00:00, 29.74it/s]\n",
      "100%|██████████| 422/422 [00:14<00:00, 30.11it/s]\n"
     ]
    },
    {
     "name": "stdout",
     "output_type": "stream",
     "text": [
      "\n",
      "Computed mAP:\n",
      "mAP@1: 0.8009\n",
      "mAP@5: 0.9526\n",
      "mAP@10: 0.9763\n",
      "mAP@15: 0.9834\n",
      "mAP@20: 0.9858\n",
      "304|347 - Unmasked_Other_species_sea-star-re-id-full_event-unaware_training-split_2024-05-05-15-33__2024-05-07-09-50-12__1__densenet121__PT-True - Unmasked_Other_species_sea-star-re-id-full_event-unaware_training-split_2024-05-05-15-33\n",
      "Gallery dataset path: ..\\..\\data\\Unmasked_Other_species_sea-star-re-id-full_event-unaware_training-split_2024-05-05-15-33\\train True\n",
      "Query dataset path: ..\\..\\data\\Unmasked_Other_species_sea-star-re-id-full_event-unaware_training-split_2024-05-05-15-33\\test True\n",
      "Number of identities: 95\n",
      "Number of gallery images: 1512\n",
      "Number of query images: 422\n"
     ]
    },
    {
     "name": "stderr",
     "output_type": "stream",
     "text": [
      "100%|██████████| 1512/1512 [00:51<00:00, 29.15it/s]\n",
      "100%|██████████| 422/422 [00:14<00:00, 30.10it/s]\n"
     ]
    },
    {
     "name": "stdout",
     "output_type": "stream",
     "text": [
      "\n",
      "Computed mAP:\n",
      "mAP@1: 0.8957\n",
      "mAP@5: 0.9739\n",
      "mAP@10: 0.9858\n",
      "mAP@15: 0.9976\n",
      "mAP@20: 0.9976\n",
      "305|347 - Unmasked_Other_species_sea-star-re-id-full_event-unaware_training-split_2024-05-05-15-33__2024-05-07-11-18-00__0__densenet121__PT-True - Unmasked_Other_species_sea-star-re-id-full_event-unaware_training-split_2024-05-05-15-33\n",
      "Gallery dataset path: ..\\..\\data\\Unmasked_Other_species_sea-star-re-id-full_event-unaware_training-split_2024-05-05-15-33\\train True\n",
      "Query dataset path: ..\\..\\data\\Unmasked_Other_species_sea-star-re-id-full_event-unaware_training-split_2024-05-05-15-33\\test True\n",
      "Number of identities: 95\n",
      "Number of gallery images: 1512\n",
      "Number of query images: 422\n"
     ]
    },
    {
     "name": "stderr",
     "output_type": "stream",
     "text": [
      "100%|██████████| 1512/1512 [00:50<00:00, 29.69it/s]\n",
      "100%|██████████| 422/422 [00:14<00:00, 29.58it/s]\n"
     ]
    },
    {
     "name": "stdout",
     "output_type": "stream",
     "text": [
      "\n",
      "Computed mAP:\n",
      "mAP@1: 0.8934\n",
      "mAP@5: 0.9739\n",
      "mAP@10: 0.9905\n",
      "mAP@15: 0.9929\n",
      "mAP@20: 0.9953\n",
      "306|347 - Unmasked_Other_species_sea-star-re-id-full_event-unaware_training-split_2024-05-05-15-33__2024-05-07-17-15-15__1__densenet121__PT-True - Unmasked_Other_species_sea-star-re-id-full_event-unaware_training-split_2024-05-05-15-33\n",
      "Gallery dataset path: ..\\..\\data\\Unmasked_Other_species_sea-star-re-id-full_event-unaware_training-split_2024-05-05-15-33\\train True\n",
      "Query dataset path: ..\\..\\data\\Unmasked_Other_species_sea-star-re-id-full_event-unaware_training-split_2024-05-05-15-33\\test True\n",
      "Number of identities: 95\n",
      "Number of gallery images: 1512\n",
      "Number of query images: 422\n"
     ]
    },
    {
     "name": "stderr",
     "output_type": "stream",
     "text": [
      "100%|██████████| 1512/1512 [00:51<00:00, 29.34it/s]\n",
      "100%|██████████| 422/422 [00:14<00:00, 29.63it/s]\n"
     ]
    },
    {
     "name": "stdout",
     "output_type": "stream",
     "text": [
      "\n",
      "Computed mAP:\n",
      "mAP@1: 0.8507\n",
      "mAP@5: 0.9502\n",
      "mAP@10: 0.9834\n",
      "mAP@15: 0.9905\n",
      "mAP@20: 0.9905\n",
      "307|347 - Unmasked_Other_species_sea-star-re-id-full_event-unaware_training-split_2024-05-05-15-33__2024-05-07-17-45-59__0__densenet121__PT-True - Unmasked_Other_species_sea-star-re-id-full_event-unaware_training-split_2024-05-05-15-33\n",
      "Gallery dataset path: ..\\..\\data\\Unmasked_Other_species_sea-star-re-id-full_event-unaware_training-split_2024-05-05-15-33\\train True\n",
      "Query dataset path: ..\\..\\data\\Unmasked_Other_species_sea-star-re-id-full_event-unaware_training-split_2024-05-05-15-33\\test True\n",
      "Number of identities: 95\n",
      "Number of gallery images: 1512\n",
      "Number of query images: 422\n"
     ]
    },
    {
     "name": "stderr",
     "output_type": "stream",
     "text": [
      "100%|██████████| 1512/1512 [00:50<00:00, 29.98it/s]\n",
      "100%|██████████| 422/422 [00:14<00:00, 29.49it/s]\n"
     ]
    },
    {
     "name": "stdout",
     "output_type": "stream",
     "text": [
      "\n",
      "Computed mAP:\n",
      "mAP@1: 0.8886\n",
      "mAP@5: 0.9645\n",
      "mAP@10: 0.9834\n",
      "mAP@15: 0.9882\n",
      "mAP@20: 0.9905\n",
      "308|347 - Unmasked_Other_species_sea-star-re-id-full_event-unaware_training-split_2024-05-05-15-33__2024-05-08-01-50-46__1__densenet121__PT-True - Unmasked_Other_species_sea-star-re-id-full_event-unaware_training-split_2024-05-05-15-33\n",
      "Gallery dataset path: ..\\..\\data\\Unmasked_Other_species_sea-star-re-id-full_event-unaware_training-split_2024-05-05-15-33\\train True\n",
      "Query dataset path: ..\\..\\data\\Unmasked_Other_species_sea-star-re-id-full_event-unaware_training-split_2024-05-05-15-33\\test True\n",
      "Number of identities: 95\n",
      "Number of gallery images: 1512\n",
      "Number of query images: 422\n"
     ]
    },
    {
     "name": "stderr",
     "output_type": "stream",
     "text": [
      "100%|██████████| 1512/1512 [00:52<00:00, 28.82it/s]\n",
      "100%|██████████| 422/422 [00:14<00:00, 29.95it/s]\n"
     ]
    },
    {
     "name": "stdout",
     "output_type": "stream",
     "text": [
      "\n",
      "Computed mAP:\n",
      "mAP@1: 0.8863\n",
      "mAP@5: 0.9716\n",
      "mAP@10: 0.9810\n",
      "mAP@15: 0.9905\n",
      "mAP@20: 0.9905\n",
      "309|347 - Unmasked_Other_species_sea-star-re-id-full_event-unaware_training-split_2024-05-05-15-33__2024-05-08-02-15-47__0__densenet121__PT-True - Unmasked_Other_species_sea-star-re-id-full_event-unaware_training-split_2024-05-05-15-33\n",
      "Gallery dataset path: ..\\..\\data\\Unmasked_Other_species_sea-star-re-id-full_event-unaware_training-split_2024-05-05-15-33\\train True\n",
      "Query dataset path: ..\\..\\data\\Unmasked_Other_species_sea-star-re-id-full_event-unaware_training-split_2024-05-05-15-33\\test True\n",
      "Number of identities: 95\n",
      "Number of gallery images: 1512\n",
      "Number of query images: 422\n"
     ]
    },
    {
     "name": "stderr",
     "output_type": "stream",
     "text": [
      "100%|██████████| 1512/1512 [00:51<00:00, 29.11it/s]\n",
      "100%|██████████| 422/422 [00:14<00:00, 29.60it/s]\n"
     ]
    },
    {
     "name": "stdout",
     "output_type": "stream",
     "text": [
      "\n",
      "Computed mAP:\n",
      "mAP@1: 0.8104\n",
      "mAP@5: 0.9502\n",
      "mAP@10: 0.9858\n",
      "mAP@15: 0.9929\n",
      "mAP@20: 0.9953\n",
      "310|347 - Unmasked_Other_species_sea-star-re-id-full_event-unaware_training-split_2024-05-05-15-33__2024-05-08-06-13-59__1__densenet121__PT-True - Unmasked_Other_species_sea-star-re-id-full_event-unaware_training-split_2024-05-05-15-33\n",
      "Gallery dataset path: ..\\..\\data\\Unmasked_Other_species_sea-star-re-id-full_event-unaware_training-split_2024-05-05-15-33\\train True\n",
      "Query dataset path: ..\\..\\data\\Unmasked_Other_species_sea-star-re-id-full_event-unaware_training-split_2024-05-05-15-33\\test True\n",
      "Number of identities: 95\n",
      "Number of gallery images: 1512\n",
      "Number of query images: 422\n"
     ]
    },
    {
     "name": "stderr",
     "output_type": "stream",
     "text": [
      "100%|██████████| 1512/1512 [00:52<00:00, 28.59it/s]\n",
      "100%|██████████| 422/422 [00:14<00:00, 29.45it/s]\n"
     ]
    },
    {
     "name": "stdout",
     "output_type": "stream",
     "text": [
      "\n",
      "Computed mAP:\n",
      "mAP@1: 0.8863\n",
      "mAP@5: 0.9739\n",
      "mAP@10: 0.9787\n",
      "mAP@15: 0.9834\n",
      "mAP@20: 0.9858\n",
      "311|347 - Unmasked_Other_species_sea-star-re-id-full_event-unaware_training-split_2024-05-05-15-33__2024-05-08-06-19-45__0__densenet121__PT-True - Unmasked_Other_species_sea-star-re-id-full_event-unaware_training-split_2024-05-05-15-33\n",
      "Gallery dataset path: ..\\..\\data\\Unmasked_Other_species_sea-star-re-id-full_event-unaware_training-split_2024-05-05-15-33\\train True\n",
      "Query dataset path: ..\\..\\data\\Unmasked_Other_species_sea-star-re-id-full_event-unaware_training-split_2024-05-05-15-33\\test True\n",
      "Number of identities: 95\n",
      "Number of gallery images: 1512\n",
      "Number of query images: 422\n"
     ]
    },
    {
     "name": "stderr",
     "output_type": "stream",
     "text": [
      "100%|██████████| 1512/1512 [00:51<00:00, 29.41it/s]\n",
      "100%|██████████| 422/422 [00:14<00:00, 29.68it/s]\n"
     ]
    },
    {
     "name": "stdout",
     "output_type": "stream",
     "text": [
      "\n",
      "Computed mAP:\n",
      "mAP@1: 0.8436\n",
      "mAP@5: 0.9597\n",
      "mAP@10: 0.9858\n",
      "mAP@15: 0.9929\n",
      "mAP@20: 0.9953\n",
      "312|347 - Unmasked_Other_species_sea-star-re-id-full_event-unaware_training-split_2024-05-05-15-33__2024-05-08-10-24-22__0__densenet121__PT-True - Unmasked_Other_species_sea-star-re-id-full_event-unaware_training-split_2024-05-05-15-33\n",
      "Gallery dataset path: ..\\..\\data\\Unmasked_Other_species_sea-star-re-id-full_event-unaware_training-split_2024-05-05-15-33\\train True\n",
      "Query dataset path: ..\\..\\data\\Unmasked_Other_species_sea-star-re-id-full_event-unaware_training-split_2024-05-05-15-33\\test True\n",
      "Number of identities: 95\n",
      "Number of gallery images: 1512\n",
      "Number of query images: 422\n"
     ]
    },
    {
     "name": "stderr",
     "output_type": "stream",
     "text": [
      "100%|██████████| 1512/1512 [00:50<00:00, 29.67it/s]\n",
      "100%|██████████| 422/422 [00:14<00:00, 30.03it/s]\n"
     ]
    },
    {
     "name": "stdout",
     "output_type": "stream",
     "text": [
      "\n",
      "Computed mAP:\n",
      "mAP@1: 0.8223\n",
      "mAP@5: 0.9431\n",
      "mAP@10: 0.9668\n",
      "mAP@15: 0.9692\n",
      "mAP@20: 0.9739\n",
      "313|347 - Unmasked_Other_species_sea-star-re-id-full_event-unaware_training-split_2024-05-05-15-33__2024-05-08-10-37-40__1__densenet121__PT-True - Unmasked_Other_species_sea-star-re-id-full_event-unaware_training-split_2024-05-05-15-33\n",
      "Gallery dataset path: ..\\..\\data\\Unmasked_Other_species_sea-star-re-id-full_event-unaware_training-split_2024-05-05-15-33\\train True\n",
      "Query dataset path: ..\\..\\data\\Unmasked_Other_species_sea-star-re-id-full_event-unaware_training-split_2024-05-05-15-33\\test True\n",
      "Number of identities: 95\n",
      "Number of gallery images: 1512\n",
      "Number of query images: 422\n"
     ]
    },
    {
     "name": "stderr",
     "output_type": "stream",
     "text": [
      "100%|██████████| 1512/1512 [00:51<00:00, 29.54it/s]\n",
      "100%|██████████| 422/422 [00:13<00:00, 30.73it/s]\n"
     ]
    },
    {
     "name": "stdout",
     "output_type": "stream",
     "text": [
      "\n",
      "Computed mAP:\n",
      "mAP@1: 0.8626\n",
      "mAP@5: 0.9550\n",
      "mAP@10: 0.9787\n",
      "mAP@15: 0.9882\n",
      "mAP@20: 0.9976\n",
      "314|347 - Unmasked_Other_species_sea-star-re-id-full_event-unaware_training-split_2024-05-05-15-33__2024-05-08-15-02-31__0__densenet121__PT-True - Unmasked_Other_species_sea-star-re-id-full_event-unaware_training-split_2024-05-05-15-33\n",
      "Gallery dataset path: ..\\..\\data\\Unmasked_Other_species_sea-star-re-id-full_event-unaware_training-split_2024-05-05-15-33\\train True\n",
      "Query dataset path: ..\\..\\data\\Unmasked_Other_species_sea-star-re-id-full_event-unaware_training-split_2024-05-05-15-33\\test True\n",
      "Number of identities: 95\n",
      "Number of gallery images: 1512\n",
      "Number of query images: 422\n"
     ]
    },
    {
     "name": "stderr",
     "output_type": "stream",
     "text": [
      "100%|██████████| 1512/1512 [00:50<00:00, 30.07it/s]\n",
      "100%|██████████| 422/422 [00:13<00:00, 30.41it/s]\n"
     ]
    },
    {
     "name": "stdout",
     "output_type": "stream",
     "text": [
      "\n",
      "Computed mAP:\n",
      "mAP@1: 0.7796\n",
      "mAP@5: 0.9242\n",
      "mAP@10: 0.9692\n",
      "mAP@15: 0.9834\n",
      "mAP@20: 0.9858\n",
      "315|347 - Unmasked_Other_species_sea-star-re-id-full_event-unaware_training-split_2024-05-05-15-33__2024-05-08-15-07-24__1__densenet121__PT-True - Unmasked_Other_species_sea-star-re-id-full_event-unaware_training-split_2024-05-05-15-33\n",
      "Gallery dataset path: ..\\..\\data\\Unmasked_Other_species_sea-star-re-id-full_event-unaware_training-split_2024-05-05-15-33\\train True\n",
      "Query dataset path: ..\\..\\data\\Unmasked_Other_species_sea-star-re-id-full_event-unaware_training-split_2024-05-05-15-33\\test True\n",
      "Number of identities: 95\n",
      "Number of gallery images: 1512\n",
      "Number of query images: 422\n"
     ]
    },
    {
     "name": "stderr",
     "output_type": "stream",
     "text": [
      "100%|██████████| 1512/1512 [00:51<00:00, 29.52it/s]\n",
      "100%|██████████| 422/422 [00:14<00:00, 29.76it/s]\n"
     ]
    },
    {
     "name": "stdout",
     "output_type": "stream",
     "text": [
      "\n",
      "Computed mAP:\n",
      "mAP@1: 0.8720\n",
      "mAP@5: 0.9763\n",
      "mAP@10: 0.9905\n",
      "mAP@15: 0.9929\n",
      "mAP@20: 0.9953\n",
      "316|347 - Unmasked_Other_species_sea-star-re-id-full_event-unaware_training-split_2024-05-05-15-33__2024-05-08-19-21-55__1__densenet121__PT-True - Unmasked_Other_species_sea-star-re-id-full_event-unaware_training-split_2024-05-05-15-33\n",
      "Gallery dataset path: ..\\..\\data\\Unmasked_Other_species_sea-star-re-id-full_event-unaware_training-split_2024-05-05-15-33\\train True\n",
      "Query dataset path: ..\\..\\data\\Unmasked_Other_species_sea-star-re-id-full_event-unaware_training-split_2024-05-05-15-33\\test True\n",
      "Number of identities: 95\n",
      "Number of gallery images: 1512\n",
      "Number of query images: 422\n"
     ]
    },
    {
     "name": "stderr",
     "output_type": "stream",
     "text": [
      "100%|██████████| 1512/1512 [00:50<00:00, 29.82it/s]\n",
      "100%|██████████| 422/422 [00:14<00:00, 29.87it/s]\n"
     ]
    },
    {
     "name": "stdout",
     "output_type": "stream",
     "text": [
      "\n",
      "Computed mAP:\n",
      "mAP@1: 0.8673\n",
      "mAP@5: 0.9573\n",
      "mAP@10: 0.9834\n",
      "mAP@15: 0.9858\n",
      "mAP@20: 0.9905\n",
      "317|347 - Unmasked_Other_species_sea-star-re-id-full_event-unaware_training-split_2024-05-05-15-33__2024-05-08-19-35-32__0__densenet121__PT-True - Unmasked_Other_species_sea-star-re-id-full_event-unaware_training-split_2024-05-05-15-33\n",
      "Gallery dataset path: ..\\..\\data\\Unmasked_Other_species_sea-star-re-id-full_event-unaware_training-split_2024-05-05-15-33\\train True\n",
      "Query dataset path: ..\\..\\data\\Unmasked_Other_species_sea-star-re-id-full_event-unaware_training-split_2024-05-05-15-33\\test True\n",
      "Number of identities: 95\n",
      "Number of gallery images: 1512\n",
      "Number of query images: 422\n"
     ]
    },
    {
     "name": "stderr",
     "output_type": "stream",
     "text": [
      "100%|██████████| 1512/1512 [00:50<00:00, 30.10it/s]\n",
      "100%|██████████| 422/422 [00:14<00:00, 29.78it/s]\n"
     ]
    },
    {
     "name": "stdout",
     "output_type": "stream",
     "text": [
      "\n",
      "Computed mAP:\n",
      "mAP@1: 0.8009\n",
      "mAP@5: 0.9431\n",
      "mAP@10: 0.9692\n",
      "mAP@15: 0.9787\n",
      "mAP@20: 0.9858\n",
      "318|347 - Unmasked_Other_species_sea-star-re-id-full_event-unaware_training-split_2024-05-05-15-33__2024-05-08-23-56-44__0__densenet121__PT-True - Unmasked_Other_species_sea-star-re-id-full_event-unaware_training-split_2024-05-05-15-33\n",
      "Gallery dataset path: ..\\..\\data\\Unmasked_Other_species_sea-star-re-id-full_event-unaware_training-split_2024-05-05-15-33\\train True\n",
      "Query dataset path: ..\\..\\data\\Unmasked_Other_species_sea-star-re-id-full_event-unaware_training-split_2024-05-05-15-33\\test True\n",
      "Number of identities: 95\n",
      "Number of gallery images: 1512\n",
      "Number of query images: 422\n"
     ]
    },
    {
     "name": "stderr",
     "output_type": "stream",
     "text": [
      "100%|██████████| 1512/1512 [00:52<00:00, 28.82it/s]\n",
      "100%|██████████| 422/422 [00:13<00:00, 30.21it/s]\n"
     ]
    },
    {
     "name": "stdout",
     "output_type": "stream",
     "text": [
      "\n",
      "Computed mAP:\n",
      "mAP@1: 0.8152\n",
      "mAP@5: 0.9431\n",
      "mAP@10: 0.9692\n",
      "mAP@15: 0.9787\n",
      "mAP@20: 0.9882\n",
      "319|347 - Unmasked_Other_species_sea-star-re-id-full_event-unaware_training-split_2024-05-05-15-33__2024-05-09-00-06-08__1__densenet121__PT-True - Unmasked_Other_species_sea-star-re-id-full_event-unaware_training-split_2024-05-05-15-33\n",
      "Gallery dataset path: ..\\..\\data\\Unmasked_Other_species_sea-star-re-id-full_event-unaware_training-split_2024-05-05-15-33\\train True\n",
      "Query dataset path: ..\\..\\data\\Unmasked_Other_species_sea-star-re-id-full_event-unaware_training-split_2024-05-05-15-33\\test True\n",
      "Number of identities: 95\n",
      "Number of gallery images: 1512\n",
      "Number of query images: 422\n"
     ]
    },
    {
     "name": "stderr",
     "output_type": "stream",
     "text": [
      "100%|██████████| 1512/1512 [00:51<00:00, 29.56it/s]\n",
      "100%|██████████| 422/422 [00:13<00:00, 30.19it/s]\n"
     ]
    },
    {
     "name": "stdout",
     "output_type": "stream",
     "text": [
      "\n",
      "Computed mAP:\n",
      "mAP@1: 0.8673\n",
      "mAP@5: 0.9621\n",
      "mAP@10: 0.9787\n",
      "mAP@15: 0.9905\n",
      "mAP@20: 0.9905\n",
      "320|347 - Unmasked_Other_species_sea-star-re-id-full_event-unaware_training-split_2024-05-05-15-40__2024-05-06-00-47-44__1__densenet121__PT-True - Unmasked_Other_species_sea-star-re-id-full_event-unaware_training-split_2024-05-05-15-40\n",
      "Gallery dataset path: ..\\..\\data\\Unmasked_Other_species_sea-star-re-id-full_event-unaware_training-split_2024-05-05-15-40\\train True\n",
      "Query dataset path: ..\\..\\data\\Unmasked_Other_species_sea-star-re-id-full_event-unaware_training-split_2024-05-05-15-40\\test True\n",
      "Number of identities: 95\n",
      "Number of gallery images: 1508\n",
      "Number of query images: 426\n"
     ]
    },
    {
     "name": "stderr",
     "output_type": "stream",
     "text": [
      "100%|██████████| 1508/1508 [00:49<00:00, 30.34it/s]\n",
      "100%|██████████| 426/426 [00:14<00:00, 30.38it/s]\n"
     ]
    },
    {
     "name": "stdout",
     "output_type": "stream",
     "text": [
      "\n",
      "Computed mAP:\n",
      "mAP@1: 0.8028\n",
      "mAP@5: 0.9296\n",
      "mAP@10: 0.9671\n",
      "mAP@15: 0.9789\n",
      "mAP@20: 0.9906\n",
      "321|347 - Unmasked_Other_species_sea-star-re-id-full_event-unaware_training-split_2024-05-05-15-40__2024-05-06-01-41-47__0__densenet121__PT-True - Unmasked_Other_species_sea-star-re-id-full_event-unaware_training-split_2024-05-05-15-40\n",
      "Gallery dataset path: ..\\..\\data\\Unmasked_Other_species_sea-star-re-id-full_event-unaware_training-split_2024-05-05-15-40\\train True\n",
      "Query dataset path: ..\\..\\data\\Unmasked_Other_species_sea-star-re-id-full_event-unaware_training-split_2024-05-05-15-40\\test True\n",
      "Number of identities: 95\n",
      "Number of gallery images: 1508\n",
      "Number of query images: 426\n"
     ]
    },
    {
     "name": "stderr",
     "output_type": "stream",
     "text": [
      "100%|██████████| 1508/1508 [00:50<00:00, 30.03it/s]\n",
      "100%|██████████| 426/426 [00:14<00:00, 30.29it/s]\n"
     ]
    },
    {
     "name": "stdout",
     "output_type": "stream",
     "text": [
      "\n",
      "Computed mAP:\n",
      "mAP@1: 0.8357\n",
      "mAP@5: 0.9390\n",
      "mAP@10: 0.9624\n",
      "mAP@15: 0.9836\n",
      "mAP@20: 0.9906\n",
      "322|347 - Unmasked_Other_species_sea-star-re-id-full_event-unaware_training-split_2024-05-05-15-40__2024-05-06-06-43-22__1__densenet121__PT-True - Unmasked_Other_species_sea-star-re-id-full_event-unaware_training-split_2024-05-05-15-40\n",
      "Gallery dataset path: ..\\..\\data\\Unmasked_Other_species_sea-star-re-id-full_event-unaware_training-split_2024-05-05-15-40\\train True\n",
      "Query dataset path: ..\\..\\data\\Unmasked_Other_species_sea-star-re-id-full_event-unaware_training-split_2024-05-05-15-40\\test True\n",
      "Number of identities: 95\n",
      "Number of gallery images: 1508\n",
      "Number of query images: 426\n"
     ]
    },
    {
     "name": "stderr",
     "output_type": "stream",
     "text": [
      "100%|██████████| 1508/1508 [00:51<00:00, 29.27it/s]\n",
      "100%|██████████| 426/426 [00:14<00:00, 30.18it/s]\n"
     ]
    },
    {
     "name": "stdout",
     "output_type": "stream",
     "text": [
      "\n",
      "Computed mAP:\n",
      "mAP@1: 0.6948\n",
      "mAP@5: 0.8709\n",
      "mAP@10: 0.9484\n",
      "mAP@15: 0.9624\n",
      "mAP@20: 0.9695\n",
      "323|347 - Unmasked_Other_species_sea-star-re-id-full_event-unaware_training-split_2024-05-05-15-40__2024-05-06-06-56-17__0__densenet121__PT-True - Unmasked_Other_species_sea-star-re-id-full_event-unaware_training-split_2024-05-05-15-40\n",
      "Gallery dataset path: ..\\..\\data\\Unmasked_Other_species_sea-star-re-id-full_event-unaware_training-split_2024-05-05-15-40\\train True\n",
      "Query dataset path: ..\\..\\data\\Unmasked_Other_species_sea-star-re-id-full_event-unaware_training-split_2024-05-05-15-40\\test True\n",
      "Number of identities: 95\n",
      "Number of gallery images: 1508\n",
      "Number of query images: 426\n"
     ]
    },
    {
     "name": "stderr",
     "output_type": "stream",
     "text": [
      "100%|██████████| 1508/1508 [00:51<00:00, 29.28it/s]\n",
      "100%|██████████| 426/426 [00:14<00:00, 30.41it/s]\n"
     ]
    },
    {
     "name": "stdout",
     "output_type": "stream",
     "text": [
      "\n",
      "Computed mAP:\n",
      "mAP@1: 0.7230\n",
      "mAP@5: 0.8967\n",
      "mAP@10: 0.9437\n",
      "mAP@15: 0.9601\n",
      "mAP@20: 0.9742\n",
      "324|347 - Unmasked_Other_species_sea-star-re-id-full_event-unaware_training-split_2024-05-05-15-40__2024-05-06-12-26-31__1__densenet121__PT-True - Unmasked_Other_species_sea-star-re-id-full_event-unaware_training-split_2024-05-05-15-40\n",
      "Gallery dataset path: ..\\..\\data\\Unmasked_Other_species_sea-star-re-id-full_event-unaware_training-split_2024-05-05-15-40\\train True\n",
      "Query dataset path: ..\\..\\data\\Unmasked_Other_species_sea-star-re-id-full_event-unaware_training-split_2024-05-05-15-40\\test True\n",
      "Number of identities: 95\n",
      "Number of gallery images: 1508\n",
      "Number of query images: 426\n"
     ]
    },
    {
     "name": "stderr",
     "output_type": "stream",
     "text": [
      "100%|██████████| 1508/1508 [00:51<00:00, 29.52it/s]\n",
      "100%|██████████| 426/426 [00:14<00:00, 30.25it/s]\n"
     ]
    },
    {
     "name": "stdout",
     "output_type": "stream",
     "text": [
      "\n",
      "Computed mAP:\n",
      "mAP@1: 0.6479\n",
      "mAP@5: 0.8333\n",
      "mAP@10: 0.8850\n",
      "mAP@15: 0.9319\n",
      "mAP@20: 0.9437\n",
      "325|347 - Unmasked_Other_species_sea-star-re-id-full_event-unaware_training-split_2024-05-05-15-40__2024-05-06-12-40-28__0__densenet121__PT-True - Unmasked_Other_species_sea-star-re-id-full_event-unaware_training-split_2024-05-05-15-40\n",
      "Gallery dataset path: ..\\..\\data\\Unmasked_Other_species_sea-star-re-id-full_event-unaware_training-split_2024-05-05-15-40\\train True\n",
      "Query dataset path: ..\\..\\data\\Unmasked_Other_species_sea-star-re-id-full_event-unaware_training-split_2024-05-05-15-40\\test True\n",
      "Number of identities: 95\n",
      "Number of gallery images: 1508\n",
      "Number of query images: 426\n"
     ]
    },
    {
     "name": "stderr",
     "output_type": "stream",
     "text": [
      "100%|██████████| 1508/1508 [00:50<00:00, 29.90it/s]\n",
      "100%|██████████| 426/426 [00:13<00:00, 30.74it/s]\n"
     ]
    },
    {
     "name": "stdout",
     "output_type": "stream",
     "text": [
      "\n",
      "Computed mAP:\n",
      "mAP@1: 0.6549\n",
      "mAP@5: 0.8498\n",
      "mAP@10: 0.9202\n",
      "mAP@15: 0.9413\n",
      "mAP@20: 0.9577\n",
      "326|347 - Unmasked_Other_species_sea-star-re-id-full_event-unaware_training-split_2024-05-05-15-40__2024-05-06-17-17-19__1__densenet121__PT-True - Unmasked_Other_species_sea-star-re-id-full_event-unaware_training-split_2024-05-05-15-40\n",
      "Gallery dataset path: ..\\..\\data\\Unmasked_Other_species_sea-star-re-id-full_event-unaware_training-split_2024-05-05-15-40\\train True\n",
      "Query dataset path: ..\\..\\data\\Unmasked_Other_species_sea-star-re-id-full_event-unaware_training-split_2024-05-05-15-40\\test True\n",
      "Number of identities: 95\n",
      "Number of gallery images: 1508\n",
      "Number of query images: 426\n"
     ]
    },
    {
     "name": "stderr",
     "output_type": "stream",
     "text": [
      "100%|██████████| 1508/1508 [00:50<00:00, 29.78it/s]\n",
      "100%|██████████| 426/426 [00:14<00:00, 29.71it/s]\n"
     ]
    },
    {
     "name": "stdout",
     "output_type": "stream",
     "text": [
      "\n",
      "Computed mAP:\n",
      "mAP@1: 0.8357\n",
      "mAP@5: 0.9343\n",
      "mAP@10: 0.9671\n",
      "mAP@15: 0.9812\n",
      "mAP@20: 0.9859\n",
      "327|347 - Unmasked_Other_species_sea-star-re-id-full_event-unaware_training-split_2024-05-05-15-40__2024-05-06-18-01-06__0__densenet121__PT-True - Unmasked_Other_species_sea-star-re-id-full_event-unaware_training-split_2024-05-05-15-40\n",
      "Gallery dataset path: ..\\..\\data\\Unmasked_Other_species_sea-star-re-id-full_event-unaware_training-split_2024-05-05-15-40\\train True\n",
      "Query dataset path: ..\\..\\data\\Unmasked_Other_species_sea-star-re-id-full_event-unaware_training-split_2024-05-05-15-40\\test True\n",
      "Number of identities: 95\n",
      "Number of gallery images: 1508\n",
      "Number of query images: 426\n"
     ]
    },
    {
     "name": "stderr",
     "output_type": "stream",
     "text": [
      "100%|██████████| 1508/1508 [00:51<00:00, 29.36it/s]\n",
      "100%|██████████| 426/426 [00:14<00:00, 29.50it/s]\n"
     ]
    },
    {
     "name": "stdout",
     "output_type": "stream",
     "text": [
      "\n",
      "Computed mAP:\n",
      "mAP@1: 0.8451\n",
      "mAP@5: 0.9460\n",
      "mAP@10: 0.9836\n",
      "mAP@15: 0.9883\n",
      "mAP@20: 0.9930\n",
      "328|347 - Unmasked_Other_species_sea-star-re-id-full_event-unaware_training-split_2024-05-05-15-40__2024-05-06-23-15-56__1__densenet121__PT-True - Unmasked_Other_species_sea-star-re-id-full_event-unaware_training-split_2024-05-05-15-40\n",
      "Gallery dataset path: ..\\..\\data\\Unmasked_Other_species_sea-star-re-id-full_event-unaware_training-split_2024-05-05-15-40\\train True\n",
      "Query dataset path: ..\\..\\data\\Unmasked_Other_species_sea-star-re-id-full_event-unaware_training-split_2024-05-05-15-40\\test True\n",
      "Number of identities: 95\n",
      "Number of gallery images: 1508\n",
      "Number of query images: 426\n"
     ]
    },
    {
     "name": "stderr",
     "output_type": "stream",
     "text": [
      "100%|██████████| 1508/1508 [00:51<00:00, 29.55it/s]\n",
      "100%|██████████| 426/426 [00:15<00:00, 28.11it/s]\n"
     ]
    },
    {
     "name": "stdout",
     "output_type": "stream",
     "text": [
      "\n",
      "Computed mAP:\n",
      "mAP@1: 0.8192\n",
      "mAP@5: 0.9507\n",
      "mAP@10: 0.9742\n",
      "mAP@15: 0.9765\n",
      "mAP@20: 0.9789\n",
      "329|347 - Unmasked_Other_species_sea-star-re-id-full_event-unaware_training-split_2024-05-05-15-40__2024-05-06-23-19-03__0__densenet121__PT-True - Unmasked_Other_species_sea-star-re-id-full_event-unaware_training-split_2024-05-05-15-40\n",
      "Gallery dataset path: ..\\..\\data\\Unmasked_Other_species_sea-star-re-id-full_event-unaware_training-split_2024-05-05-15-40\\train True\n",
      "Query dataset path: ..\\..\\data\\Unmasked_Other_species_sea-star-re-id-full_event-unaware_training-split_2024-05-05-15-40\\test True\n",
      "Number of identities: 95\n",
      "Number of gallery images: 1508\n",
      "Number of query images: 426\n"
     ]
    },
    {
     "name": "stderr",
     "output_type": "stream",
     "text": [
      "100%|██████████| 1508/1508 [00:51<00:00, 29.12it/s]\n",
      "100%|██████████| 426/426 [00:13<00:00, 30.88it/s]\n"
     ]
    },
    {
     "name": "stdout",
     "output_type": "stream",
     "text": [
      "\n",
      "Computed mAP:\n",
      "mAP@1: 0.8005\n",
      "mAP@5: 0.9366\n",
      "mAP@10: 0.9742\n",
      "mAP@15: 0.9906\n",
      "mAP@20: 0.9930\n",
      "330|347 - Unmasked_Other_species_sea-star-re-id-full_event-unaware_training-split_2024-05-05-15-40__2024-05-07-05-01-38__0__densenet121__PT-True - Unmasked_Other_species_sea-star-re-id-full_event-unaware_training-split_2024-05-05-15-40\n",
      "Gallery dataset path: ..\\..\\data\\Unmasked_Other_species_sea-star-re-id-full_event-unaware_training-split_2024-05-05-15-40\\train True\n",
      "Query dataset path: ..\\..\\data\\Unmasked_Other_species_sea-star-re-id-full_event-unaware_training-split_2024-05-05-15-40\\test True\n",
      "Number of identities: 95\n",
      "Number of gallery images: 1508\n",
      "Number of query images: 426\n"
     ]
    },
    {
     "name": "stderr",
     "output_type": "stream",
     "text": [
      "100%|██████████| 1508/1508 [00:50<00:00, 29.98it/s]\n",
      "100%|██████████| 426/426 [00:14<00:00, 29.58it/s]\n"
     ]
    },
    {
     "name": "stdout",
     "output_type": "stream",
     "text": [
      "\n",
      "Computed mAP:\n",
      "mAP@1: 0.8216\n",
      "mAP@5: 0.9343\n",
      "mAP@10: 0.9577\n",
      "mAP@15: 0.9695\n",
      "mAP@20: 0.9718\n",
      "331|347 - Unmasked_Other_species_sea-star-re-id-full_event-unaware_training-split_2024-05-05-15-40__2024-05-07-05-04-45__1__densenet121__PT-True - Unmasked_Other_species_sea-star-re-id-full_event-unaware_training-split_2024-05-05-15-40\n",
      "Gallery dataset path: ..\\..\\data\\Unmasked_Other_species_sea-star-re-id-full_event-unaware_training-split_2024-05-05-15-40\\train True\n",
      "Query dataset path: ..\\..\\data\\Unmasked_Other_species_sea-star-re-id-full_event-unaware_training-split_2024-05-05-15-40\\test True\n",
      "Number of identities: 95\n",
      "Number of gallery images: 1508\n",
      "Number of query images: 426\n"
     ]
    },
    {
     "name": "stderr",
     "output_type": "stream",
     "text": [
      "100%|██████████| 1508/1508 [00:50<00:00, 29.62it/s]\n",
      "100%|██████████| 426/426 [00:14<00:00, 29.91it/s]\n"
     ]
    },
    {
     "name": "stdout",
     "output_type": "stream",
     "text": [
      "\n",
      "Computed mAP:\n",
      "mAP@1: 0.7840\n",
      "mAP@5: 0.9272\n",
      "mAP@10: 0.9577\n",
      "mAP@15: 0.9718\n",
      "mAP@20: 0.9789\n",
      "332|347 - Unmasked_Other_species_sea-star-re-id-full_event-unaware_training-split_2024-05-05-15-40__2024-05-07-10-04-03__1__densenet121__PT-True - Unmasked_Other_species_sea-star-re-id-full_event-unaware_training-split_2024-05-05-15-40\n",
      "Gallery dataset path: ..\\..\\data\\Unmasked_Other_species_sea-star-re-id-full_event-unaware_training-split_2024-05-05-15-40\\train True\n",
      "Query dataset path: ..\\..\\data\\Unmasked_Other_species_sea-star-re-id-full_event-unaware_training-split_2024-05-05-15-40\\test True\n",
      "Number of identities: 95\n",
      "Number of gallery images: 1508\n",
      "Number of query images: 426\n"
     ]
    },
    {
     "name": "stderr",
     "output_type": "stream",
     "text": [
      "100%|██████████| 1508/1508 [00:50<00:00, 29.68it/s]\n",
      "100%|██████████| 426/426 [00:14<00:00, 28.97it/s]\n"
     ]
    },
    {
     "name": "stdout",
     "output_type": "stream",
     "text": [
      "\n",
      "Computed mAP:\n",
      "mAP@1: 0.8568\n",
      "mAP@5: 0.9671\n",
      "mAP@10: 0.9789\n",
      "mAP@15: 0.9812\n",
      "mAP@20: 0.9836\n",
      "333|347 - Unmasked_Other_species_sea-star-re-id-full_event-unaware_training-split_2024-05-05-15-40__2024-05-07-11-37-16__0__densenet121__PT-True - Unmasked_Other_species_sea-star-re-id-full_event-unaware_training-split_2024-05-05-15-40\n",
      "Gallery dataset path: ..\\..\\data\\Unmasked_Other_species_sea-star-re-id-full_event-unaware_training-split_2024-05-05-15-40\\train True\n",
      "Query dataset path: ..\\..\\data\\Unmasked_Other_species_sea-star-re-id-full_event-unaware_training-split_2024-05-05-15-40\\test True\n",
      "Number of identities: 95\n",
      "Number of gallery images: 1508\n",
      "Number of query images: 426\n"
     ]
    },
    {
     "name": "stderr",
     "output_type": "stream",
     "text": [
      "100%|██████████| 1508/1508 [00:50<00:00, 29.66it/s]\n",
      "100%|██████████| 426/426 [00:14<00:00, 30.01it/s]\n"
     ]
    },
    {
     "name": "stdout",
     "output_type": "stream",
     "text": [
      "\n",
      "Computed mAP:\n",
      "mAP@1: 0.8756\n",
      "mAP@5: 0.9648\n",
      "mAP@10: 0.9859\n",
      "mAP@15: 0.9906\n",
      "mAP@20: 0.9930\n",
      "334|347 - Unmasked_Other_species_sea-star-re-id-full_event-unaware_training-split_2024-05-05-15-40__2024-05-07-17-32-53__1__densenet121__PT-True - Unmasked_Other_species_sea-star-re-id-full_event-unaware_training-split_2024-05-05-15-40\n",
      "Gallery dataset path: ..\\..\\data\\Unmasked_Other_species_sea-star-re-id-full_event-unaware_training-split_2024-05-05-15-40\\train True\n",
      "Query dataset path: ..\\..\\data\\Unmasked_Other_species_sea-star-re-id-full_event-unaware_training-split_2024-05-05-15-40\\test True\n",
      "Number of identities: 95\n",
      "Number of gallery images: 1508\n",
      "Number of query images: 426\n"
     ]
    },
    {
     "name": "stderr",
     "output_type": "stream",
     "text": [
      "100%|██████████| 1508/1508 [00:50<00:00, 29.82it/s]\n",
      "100%|██████████| 426/426 [00:13<00:00, 30.47it/s]\n"
     ]
    },
    {
     "name": "stdout",
     "output_type": "stream",
     "text": [
      "\n",
      "Computed mAP:\n",
      "mAP@1: 0.8427\n",
      "mAP@5: 0.9390\n",
      "mAP@10: 0.9742\n",
      "mAP@15: 0.9836\n",
      "mAP@20: 0.9859\n",
      "335|347 - Unmasked_Other_species_sea-star-re-id-full_event-unaware_training-split_2024-05-05-15-40__2024-05-07-18-05-06__0__densenet121__PT-True - Unmasked_Other_species_sea-star-re-id-full_event-unaware_training-split_2024-05-05-15-40\n",
      "Gallery dataset path: ..\\..\\data\\Unmasked_Other_species_sea-star-re-id-full_event-unaware_training-split_2024-05-05-15-40\\train True\n",
      "Query dataset path: ..\\..\\data\\Unmasked_Other_species_sea-star-re-id-full_event-unaware_training-split_2024-05-05-15-40\\test True\n",
      "Number of identities: 95\n",
      "Number of gallery images: 1508\n",
      "Number of query images: 426\n"
     ]
    },
    {
     "name": "stderr",
     "output_type": "stream",
     "text": [
      "100%|██████████| 1508/1508 [00:50<00:00, 29.62it/s]\n",
      "100%|██████████| 426/426 [00:14<00:00, 30.10it/s]\n"
     ]
    },
    {
     "name": "stdout",
     "output_type": "stream",
     "text": [
      "\n",
      "Computed mAP:\n",
      "mAP@1: 0.8662\n",
      "mAP@5: 0.9577\n",
      "mAP@10: 0.9765\n",
      "mAP@15: 0.9859\n",
      "mAP@20: 0.9906\n",
      "336|347 - Unmasked_Other_species_sea-star-re-id-full_event-unaware_training-split_2024-05-05-15-40__2024-05-08-02-04-17__1__densenet121__PT-True - Unmasked_Other_species_sea-star-re-id-full_event-unaware_training-split_2024-05-05-15-40\n",
      "Gallery dataset path: ..\\..\\data\\Unmasked_Other_species_sea-star-re-id-full_event-unaware_training-split_2024-05-05-15-40\\train True\n",
      "Query dataset path: ..\\..\\data\\Unmasked_Other_species_sea-star-re-id-full_event-unaware_training-split_2024-05-05-15-40\\test True\n",
      "Number of identities: 95\n",
      "Number of gallery images: 1508\n",
      "Number of query images: 426\n"
     ]
    },
    {
     "name": "stderr",
     "output_type": "stream",
     "text": [
      "100%|██████████| 1508/1508 [00:51<00:00, 29.34it/s]\n",
      "100%|██████████| 426/426 [00:15<00:00, 28.39it/s]\n"
     ]
    },
    {
     "name": "stdout",
     "output_type": "stream",
     "text": [
      "\n",
      "Computed mAP:\n",
      "mAP@1: 0.8732\n",
      "mAP@5: 0.9671\n",
      "mAP@10: 0.9906\n",
      "mAP@15: 0.9906\n",
      "mAP@20: 0.9930\n",
      "337|347 - Unmasked_Other_species_sea-star-re-id-full_event-unaware_training-split_2024-05-05-15-40__2024-05-08-02-30-00__0__densenet121__PT-True - Unmasked_Other_species_sea-star-re-id-full_event-unaware_training-split_2024-05-05-15-40\n",
      "Gallery dataset path: ..\\..\\data\\Unmasked_Other_species_sea-star-re-id-full_event-unaware_training-split_2024-05-05-15-40\\train True\n",
      "Query dataset path: ..\\..\\data\\Unmasked_Other_species_sea-star-re-id-full_event-unaware_training-split_2024-05-05-15-40\\test True\n",
      "Number of identities: 95\n",
      "Number of gallery images: 1508\n",
      "Number of query images: 426\n"
     ]
    },
    {
     "name": "stderr",
     "output_type": "stream",
     "text": [
      "100%|██████████| 1508/1508 [00:49<00:00, 30.20it/s]\n",
      "100%|██████████| 426/426 [00:14<00:00, 29.86it/s]\n"
     ]
    },
    {
     "name": "stdout",
     "output_type": "stream",
     "text": [
      "\n",
      "Computed mAP:\n",
      "mAP@1: 0.7629\n",
      "mAP@5: 0.9014\n",
      "mAP@10: 0.9601\n",
      "mAP@15: 0.9765\n",
      "mAP@20: 0.9859\n",
      "338|347 - Unmasked_Other_species_sea-star-re-id-full_event-unaware_training-split_2024-05-05-15-40__2024-05-08-06-25-27__1__densenet121__PT-True - Unmasked_Other_species_sea-star-re-id-full_event-unaware_training-split_2024-05-05-15-40\n",
      "Gallery dataset path: ..\\..\\data\\Unmasked_Other_species_sea-star-re-id-full_event-unaware_training-split_2024-05-05-15-40\\train True\n",
      "Query dataset path: ..\\..\\data\\Unmasked_Other_species_sea-star-re-id-full_event-unaware_training-split_2024-05-05-15-40\\test True\n",
      "Number of identities: 95\n",
      "Number of gallery images: 1508\n",
      "Number of query images: 426\n"
     ]
    },
    {
     "name": "stderr",
     "output_type": "stream",
     "text": [
      "100%|██████████| 1508/1508 [00:50<00:00, 29.67it/s]\n",
      "100%|██████████| 426/426 [00:15<00:00, 28.22it/s]\n"
     ]
    },
    {
     "name": "stdout",
     "output_type": "stream",
     "text": [
      "\n",
      "Computed mAP:\n",
      "mAP@1: 0.8756\n",
      "mAP@5: 0.9601\n",
      "mAP@10: 0.9859\n",
      "mAP@15: 0.9883\n",
      "mAP@20: 0.9906\n",
      "339|347 - Unmasked_Other_species_sea-star-re-id-full_event-unaware_training-split_2024-05-05-15-40__2024-05-08-06-31-37__0__densenet121__PT-True - Unmasked_Other_species_sea-star-re-id-full_event-unaware_training-split_2024-05-05-15-40\n",
      "Gallery dataset path: ..\\..\\data\\Unmasked_Other_species_sea-star-re-id-full_event-unaware_training-split_2024-05-05-15-40\\train True\n",
      "Query dataset path: ..\\..\\data\\Unmasked_Other_species_sea-star-re-id-full_event-unaware_training-split_2024-05-05-15-40\\test True\n",
      "Number of identities: 95\n",
      "Number of gallery images: 1508\n",
      "Number of query images: 426\n"
     ]
    },
    {
     "name": "stderr",
     "output_type": "stream",
     "text": [
      "100%|██████████| 1508/1508 [00:50<00:00, 29.64it/s]\n",
      "100%|██████████| 426/426 [00:14<00:00, 29.98it/s]\n"
     ]
    },
    {
     "name": "stdout",
     "output_type": "stream",
     "text": [
      "\n",
      "Computed mAP:\n",
      "mAP@1: 0.7864\n",
      "mAP@5: 0.9178\n",
      "mAP@10: 0.9554\n",
      "mAP@15: 0.9742\n",
      "mAP@20: 0.9812\n",
      "340|347 - Unmasked_Other_species_sea-star-re-id-full_event-unaware_training-split_2024-05-05-15-40__2024-05-08-10-36-43__0__densenet121__PT-True - Unmasked_Other_species_sea-star-re-id-full_event-unaware_training-split_2024-05-05-15-40\n",
      "Gallery dataset path: ..\\..\\data\\Unmasked_Other_species_sea-star-re-id-full_event-unaware_training-split_2024-05-05-15-40\\train True\n",
      "Query dataset path: ..\\..\\data\\Unmasked_Other_species_sea-star-re-id-full_event-unaware_training-split_2024-05-05-15-40\\test True\n",
      "Number of identities: 95\n",
      "Number of gallery images: 1508\n",
      "Number of query images: 426\n"
     ]
    },
    {
     "name": "stderr",
     "output_type": "stream",
     "text": [
      "100%|██████████| 1508/1508 [00:50<00:00, 30.01it/s]\n",
      "100%|██████████| 426/426 [00:14<00:00, 30.00it/s]\n"
     ]
    },
    {
     "name": "stdout",
     "output_type": "stream",
     "text": [
      "\n",
      "Computed mAP:\n",
      "mAP@1: 0.7864\n",
      "mAP@5: 0.9272\n",
      "mAP@10: 0.9601\n",
      "mAP@15: 0.9765\n",
      "mAP@20: 0.9836\n",
      "341|347 - Unmasked_Other_species_sea-star-re-id-full_event-unaware_training-split_2024-05-05-15-40__2024-05-08-10-50-38__1__densenet121__PT-True - Unmasked_Other_species_sea-star-re-id-full_event-unaware_training-split_2024-05-05-15-40\n",
      "Gallery dataset path: ..\\..\\data\\Unmasked_Other_species_sea-star-re-id-full_event-unaware_training-split_2024-05-05-15-40\\train True\n",
      "Query dataset path: ..\\..\\data\\Unmasked_Other_species_sea-star-re-id-full_event-unaware_training-split_2024-05-05-15-40\\test True\n",
      "Number of identities: 95\n",
      "Number of gallery images: 1508\n",
      "Number of query images: 426\n"
     ]
    },
    {
     "name": "stderr",
     "output_type": "stream",
     "text": [
      "100%|██████████| 1508/1508 [00:50<00:00, 30.08it/s]\n",
      "100%|██████████| 426/426 [00:14<00:00, 29.38it/s]\n"
     ]
    },
    {
     "name": "stdout",
     "output_type": "stream",
     "text": [
      "\n",
      "Computed mAP:\n",
      "mAP@1: 0.8521\n",
      "mAP@5: 0.9484\n",
      "mAP@10: 0.9765\n",
      "mAP@15: 0.9859\n",
      "mAP@20: 0.9883\n",
      "342|347 - Unmasked_Other_species_sea-star-re-id-full_event-unaware_training-split_2024-05-05-15-40__2024-05-08-15-15-43__0__densenet121__PT-True - Unmasked_Other_species_sea-star-re-id-full_event-unaware_training-split_2024-05-05-15-40\n",
      "Gallery dataset path: ..\\..\\data\\Unmasked_Other_species_sea-star-re-id-full_event-unaware_training-split_2024-05-05-15-40\\train True\n",
      "Query dataset path: ..\\..\\data\\Unmasked_Other_species_sea-star-re-id-full_event-unaware_training-split_2024-05-05-15-40\\test True\n",
      "Number of identities: 95\n",
      "Number of gallery images: 1508\n",
      "Number of query images: 426\n"
     ]
    },
    {
     "name": "stderr",
     "output_type": "stream",
     "text": [
      "100%|██████████| 1508/1508 [00:50<00:00, 29.74it/s]\n",
      "100%|██████████| 426/426 [00:14<00:00, 29.50it/s]\n"
     ]
    },
    {
     "name": "stdout",
     "output_type": "stream",
     "text": [
      "\n",
      "Computed mAP:\n",
      "mAP@1: 0.7606\n",
      "mAP@5: 0.9085\n",
      "mAP@10: 0.9413\n",
      "mAP@15: 0.9531\n",
      "mAP@20: 0.9671\n",
      "343|347 - Unmasked_Other_species_sea-star-re-id-full_event-unaware_training-split_2024-05-05-15-40__2024-05-08-15-20-57__1__densenet121__PT-True - Unmasked_Other_species_sea-star-re-id-full_event-unaware_training-split_2024-05-05-15-40\n",
      "Gallery dataset path: ..\\..\\data\\Unmasked_Other_species_sea-star-re-id-full_event-unaware_training-split_2024-05-05-15-40\\train True\n",
      "Query dataset path: ..\\..\\data\\Unmasked_Other_species_sea-star-re-id-full_event-unaware_training-split_2024-05-05-15-40\\test True\n",
      "Number of identities: 95\n",
      "Number of gallery images: 1508\n",
      "Number of query images: 426\n"
     ]
    },
    {
     "name": "stderr",
     "output_type": "stream",
     "text": [
      "100%|██████████| 1508/1508 [00:50<00:00, 29.78it/s]\n",
      "100%|██████████| 426/426 [00:14<00:00, 28.78it/s]\n"
     ]
    },
    {
     "name": "stdout",
     "output_type": "stream",
     "text": [
      "\n",
      "Computed mAP:\n",
      "mAP@1: 0.8498\n",
      "mAP@5: 0.9507\n",
      "mAP@10: 0.9742\n",
      "mAP@15: 0.9859\n",
      "mAP@20: 0.9906\n",
      "344|347 - Unmasked_Other_species_sea-star-re-id-full_event-unaware_training-split_2024-05-05-15-40__2024-05-08-19-34-28__1__densenet121__PT-True - Unmasked_Other_species_sea-star-re-id-full_event-unaware_training-split_2024-05-05-15-40\n",
      "Gallery dataset path: ..\\..\\data\\Unmasked_Other_species_sea-star-re-id-full_event-unaware_training-split_2024-05-05-15-40\\train True\n",
      "Query dataset path: ..\\..\\data\\Unmasked_Other_species_sea-star-re-id-full_event-unaware_training-split_2024-05-05-15-40\\test True\n",
      "Number of identities: 95\n",
      "Number of gallery images: 1508\n",
      "Number of query images: 426\n"
     ]
    },
    {
     "name": "stderr",
     "output_type": "stream",
     "text": [
      "100%|██████████| 1508/1508 [00:50<00:00, 30.00it/s]\n",
      "100%|██████████| 426/426 [00:14<00:00, 28.74it/s]\n"
     ]
    },
    {
     "name": "stdout",
     "output_type": "stream",
     "text": [
      "\n",
      "Computed mAP:\n",
      "mAP@1: 0.8239\n",
      "mAP@5: 0.9507\n",
      "mAP@10: 0.9742\n",
      "mAP@15: 0.9883\n",
      "mAP@20: 0.9906\n",
      "345|347 - Unmasked_Other_species_sea-star-re-id-full_event-unaware_training-split_2024-05-05-15-40__2024-05-08-19-48-45__0__densenet121__PT-True - Unmasked_Other_species_sea-star-re-id-full_event-unaware_training-split_2024-05-05-15-40\n",
      "Gallery dataset path: ..\\..\\data\\Unmasked_Other_species_sea-star-re-id-full_event-unaware_training-split_2024-05-05-15-40\\train True\n",
      "Query dataset path: ..\\..\\data\\Unmasked_Other_species_sea-star-re-id-full_event-unaware_training-split_2024-05-05-15-40\\test True\n",
      "Number of identities: 95\n",
      "Number of gallery images: 1508\n",
      "Number of query images: 426\n"
     ]
    },
    {
     "name": "stderr",
     "output_type": "stream",
     "text": [
      "100%|██████████| 1508/1508 [00:50<00:00, 29.58it/s]\n",
      "100%|██████████| 426/426 [00:14<00:00, 30.26it/s]\n"
     ]
    },
    {
     "name": "stdout",
     "output_type": "stream",
     "text": [
      "\n",
      "Computed mAP:\n",
      "mAP@1: 0.7887\n",
      "mAP@5: 0.9202\n",
      "mAP@10: 0.9531\n",
      "mAP@15: 0.9671\n",
      "mAP@20: 0.9718\n",
      "346|347 - Unmasked_Other_species_sea-star-re-id-full_event-unaware_training-split_2024-05-05-15-40__2024-05-09-00-09-37__0__densenet121__PT-True - Unmasked_Other_species_sea-star-re-id-full_event-unaware_training-split_2024-05-05-15-40\n",
      "Gallery dataset path: ..\\..\\data\\Unmasked_Other_species_sea-star-re-id-full_event-unaware_training-split_2024-05-05-15-40\\train True\n",
      "Query dataset path: ..\\..\\data\\Unmasked_Other_species_sea-star-re-id-full_event-unaware_training-split_2024-05-05-15-40\\test True\n",
      "Number of identities: 95\n",
      "Number of gallery images: 1508\n",
      "Number of query images: 426\n"
     ]
    },
    {
     "name": "stderr",
     "output_type": "stream",
     "text": [
      "100%|██████████| 1508/1508 [00:50<00:00, 30.16it/s]\n",
      "100%|██████████| 426/426 [00:13<00:00, 30.75it/s]\n"
     ]
    },
    {
     "name": "stdout",
     "output_type": "stream",
     "text": [
      "\n",
      "Computed mAP:\n",
      "mAP@1: 0.7793\n",
      "mAP@5: 0.9319\n",
      "mAP@10: 0.9648\n",
      "mAP@15: 0.9718\n",
      "mAP@20: 0.9742\n",
      "347|347 - Unmasked_Other_species_sea-star-re-id-full_event-unaware_training-split_2024-05-05-15-40__2024-05-09-00-19-46__1__densenet121__PT-True - Unmasked_Other_species_sea-star-re-id-full_event-unaware_training-split_2024-05-05-15-40\n",
      "Gallery dataset path: ..\\..\\data\\Unmasked_Other_species_sea-star-re-id-full_event-unaware_training-split_2024-05-05-15-40\\train True\n",
      "Query dataset path: ..\\..\\data\\Unmasked_Other_species_sea-star-re-id-full_event-unaware_training-split_2024-05-05-15-40\\test True\n",
      "Number of identities: 95\n",
      "Number of gallery images: 1508\n",
      "Number of query images: 426\n"
     ]
    },
    {
     "name": "stderr",
     "output_type": "stream",
     "text": [
      "100%|██████████| 1508/1508 [00:50<00:00, 29.77it/s]\n",
      "100%|██████████| 426/426 [00:14<00:00, 30.19it/s]\n"
     ]
    },
    {
     "name": "stdout",
     "output_type": "stream",
     "text": [
      "\n",
      "Computed mAP:\n",
      "mAP@1: 0.8451\n",
      "mAP@5: 0.9507\n",
      "mAP@10: 0.9789\n",
      "mAP@15: 0.9836\n",
      "mAP@20: 0.9906\n"
     ]
    }
   ],
   "source": [
    "date_txt_now = datetime.datetime.now().strftime('%Y-%m-%d-%H-%M-%S')\n",
    "path_results_root = os.path.join(evaluations_root, f'mAP_{date_txt_now}')\n",
    "if not os.path.exists(path_results_root):\n",
    "    os.makedirs(path_results_root)\n",
    "\n",
    "path_results_dict = {}\n",
    "\n",
    "k_values = [1, 5, 10, 15, 20]\n",
    "n = 0\n",
    "for path_model, path_dataset in model_datasets_dict.items():\n",
    "    print(f'{n+1}|{len(model_datasets_dict)} - {os.path.basename(os.path.dirname(path_model))} - {os.path.basename(path_dataset)}')\n",
    "    path_model_dir = os.path.dirname(path_model)\n",
    "\n",
    "    path_settings = os.path.join(path_model_dir, 'logs', 'settings.txt')\n",
    "    number_of_layers = get_number_of_head_layers(path_settings)\n",
    "    embedding_size = get_embedding_size(path_settings)\n",
    "\n",
    "    if number_of_layers == None or embedding_size == None:\n",
    "        print(f'number of layers is: {number_of_layers}. embedding dim is {embedding_size}')\n",
    "        n += 1\n",
    "        continue\n",
    "\n",
    "    # Instantiate the model\n",
    "    model = CustomDenseNet(version='densenet121', pretrained=False,\n",
    "                           embedding_dim=embedding_size, num_embed_layers=number_of_layers)  # Set pretrained=False as we'll load our weights\n",
    "\n",
    "    # Load the trained weights\n",
    "    model.load_state_dict(torch.load(path_model))\n",
    "    device = torch.device('cuda:0' if torch.cuda.is_available() else 'cpu')\n",
    "    model.to(device)\n",
    "\n",
    "    # Check if the model has been loaded correctly\n",
    "    model.eval()\n",
    "\n",
    "    # Gallery dataset path\n",
    "    #path_gallery = r'..\\..\\data\\Pycnopodia_helianthoides_full_event-unaware_training-split_2024-05-03-18-41\\train'\n",
    "    path_gallery = os.path.join(path_dataset, 'train')\n",
    "    print(f'Gallery dataset path: {path_gallery} {os.path.exists(path_gallery)}')\n",
    "    ## each subdirectory in the gallery is a identity class\n",
    "    ## each subdirectory contains images of that identity\n",
    "    ## the subdirectory name is the identity\n",
    "    ## the images are in png or jpg format\n",
    "    ## we need to make a code to num dictionary\n",
    "    ## we need to load each image and pass it through the model to get the embeddings\n",
    "    ## we need to store the embeddings in a list of length equal to the number of images\n",
    "    ## we need to store the identity in a list of length equal to the number of images\n",
    "\n",
    "    # Query dataset path\n",
    "    #path_query = r'..\\..\\data\\Pycnopodia_helianthoides_full_event-unaware_training-split_2024-05-03-18-41\\test'\n",
    "    path_query = os.path.join(path_dataset, 'test')\n",
    "    print(f'Query dataset path: {path_query} {os.path.exists(path_query)}')\n",
    "    ## each subdirectory in the gallery is a identity class\n",
    "    ## each subdirectory contains images of that identity\n",
    "    ## the subdirectory name is the identity\n",
    "    ## the images are in png or jpg format\n",
    "    ## we need to make a code to num dictionary\n",
    "    ## these need to be the same as the gallery dataset\n",
    "    ## we need to load each image and pass it through the model to get the embeddings\n",
    "    ## we need to store the embeddings in a list of length equal to the number of images\n",
    "    ## we need to store the identity in a list of length equal to the number of images\n",
    "\n",
    "    def get_id (path):\n",
    "        return os.path.basename(os.path.dirname(path))\n",
    "\n",
    "    path_gallery_images = glob.glob(os.path.join(path_gallery, '*/*.png'))\n",
    "    path_gallery_images += glob.glob(os.path.join(path_gallery, '*/*.jpg'))\n",
    "    gallery_ids = [get_id(path) for path in path_gallery_images]\n",
    "\n",
    "    path_query_images = glob.glob(os.path.join(path_query, '*/*.png'))\n",
    "    path_query_images += glob.glob(os.path.join(path_query, '*/*.jpg'))\n",
    "    query_ids = [get_id(path) for path in path_query_images]\n",
    "\n",
    "    ids_dict = {id: i for i, id in enumerate(sorted(list(set(gallery_ids + query_ids))))}\n",
    "    num_dict = {i: id for i, id in enumerate(sorted(list(set(gallery_ids + query_ids))))}\n",
    "\n",
    "    gallery_ids = [ids_dict[id] for id in gallery_ids]\n",
    "    query_ids = [ids_dict[id] for id in query_ids]\n",
    "\n",
    "    print(f'Number of identities: {len(ids_dict)}')\n",
    "    print(f'Number of gallery images: {len(path_gallery_images)}')\n",
    "    print(f'Number of query images: {len(path_query_images)}')\n",
    "\n",
    "    # Initialize the runtime transforms\n",
    "    runtime_transforms = RuntimeTransforms(h=256, w=256, resize_ratio=0.5)\n",
    "\n",
    "    gallery_embeddings = []\n",
    "    pbar = tqdm(total=len(path_gallery_images), position=0, leave=True)\n",
    "    for path in path_gallery_images:\n",
    "        img = Image.open(path).convert(\"RGB\")\n",
    "        transformed_images = runtime_transforms.apply_transforms(img) ## returns a list of transformed images\n",
    "\n",
    "        # Embed all the transformed images at once as a batch\n",
    "        batch = torch.stack([transformed_image for transformed_image in transformed_images]).to(device)\n",
    "        with torch.no_grad():\n",
    "            embeddings = model(batch).cpu().numpy()\n",
    "        # Average the embeddings\n",
    "        averaged_embedding = np.mean(embeddings, axis=0)\n",
    "        gallery_embeddings.append(averaged_embedding)\n",
    "        pbar.update(1)\n",
    "    pbar.close()\n",
    "\n",
    "    query_embeddings = []\n",
    "    pbar = tqdm(total=len(path_query_images), position=0, leave=True)\n",
    "    for path in path_query_images:\n",
    "        img = Image.open(path).convert(\"RGB\")\n",
    "        transformed_images = runtime_transforms.apply_transforms(img)  # Returns a list of transformed images\n",
    "\n",
    "        # Embed all the transformed images at once as a batch\n",
    "        batch = torch.stack([transformed_image for transformed_image in transformed_images]).to(device)\n",
    "        with torch.no_grad():\n",
    "            embeddings = model(batch).cpu().numpy()\n",
    "\n",
    "        # Average the embeddings\n",
    "        averaged_embedding = np.mean(embeddings, axis=0)\n",
    "        query_embeddings.append(averaged_embedding)\n",
    "        pbar.update(1)\n",
    "    pbar.close()\n",
    "\n",
    "    # Convert to numpy arrays\n",
    "    gallery_embeddings = np.array(gallery_embeddings)\n",
    "    query_embeddings = np.array(query_embeddings)\n",
    "    gallery_ids = np.array(gallery_ids)\n",
    "    query_ids = np.array(query_ids)\n",
    "\n",
    "    # Compute mAP using the computed embeddings\n",
    "    mAPs_computed = compute_mAP_for_ks_numpy(query_embeddings, gallery_embeddings, query_ids, gallery_ids, k_values)\n",
    "\n",
    "    print(\"\\nComputed mAP:\")\n",
    "    mAP_dict = {k: mAPs_computed[k] for k in k_values}\n",
    "    for k in k_values:\n",
    "        print(f\"mAP@{k}: {mAP_dict[k]:.4f}\")\n",
    "    # save mAP dict\n",
    "    path_npy = os.path.join(path_model_dir, 'logs', 'mAP_dict.npy')\n",
    "    np.save(path_npy, mAP_dict)\n",
    "\n",
    "    ## define a dataframe to store the embeddings\n",
    "    ## columns will be ['image_path', 'identity', 'gallery/query', 'embedding']\n",
    "    ## save the dataframe as a pickle file\n",
    "    dataframe = pd.DataFrame(columns=['image_path', 'identity', 'gallery/query', 'embedding'])\n",
    "    for i, path in enumerate(path_gallery_images):\n",
    "        dataframe.loc[i] = [path, gallery_ids[i], 'gallery', gallery_embeddings[i].tolist()]\n",
    "    for i, path in enumerate(path_query_images):\n",
    "        dataframe.loc[len(path_gallery_images) + i] = [path, query_ids[i], 'query', query_embeddings[i].tolist()]\n",
    "    path_embeddings = os.path.join(path_model_dir, 'logs', 'mAP_embeddings.pkl')\n",
    "    dataframe.to_pickle(path_embeddings)\n",
    "\n",
    "    path_results_dict[path_model] = [path_model, path_dataset, mAP_dict, path_embeddings]\n",
    "\n",
    "    n += 1\n",
    "\n",
    "## save the results dict\n",
    "path_results_dict_pkl = os.path.join(path_results_root, 'mAP_results_dict.pkl')\n",
    "pd.to_pickle(path_results_dict, path_results_dict_pkl)\n"
   ],
   "metadata": {
    "collapsed": false,
    "ExecuteTime": {
     "end_time": "2024-05-31T08:12:43.069937900Z",
     "start_time": "2024-05-30T16:53:30.572635Z"
    }
   }
  }
 ],
 "metadata": {
  "kernelspec": {
   "display_name": "Python 3",
   "language": "python",
   "name": "python3"
  },
  "language_info": {
   "codemirror_mode": {
    "name": "ipython",
    "version": 2
   },
   "file_extension": ".py",
   "mimetype": "text/x-python",
   "name": "python",
   "nbconvert_exporter": "python",
   "pygments_lexer": "ipython2",
   "version": "2.7.6"
  }
 },
 "nbformat": 4,
 "nbformat_minor": 0
}
