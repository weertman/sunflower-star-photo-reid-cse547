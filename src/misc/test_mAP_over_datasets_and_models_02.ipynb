{
 "cells": [
  {
   "cell_type": "code",
   "execution_count": 1,
   "metadata": {
    "collapsed": true,
    "ExecuteTime": {
     "end_time": "2024-05-30T16:55:23.080107500Z",
     "start_time": "2024-05-30T16:55:17.484107200Z"
    }
   },
   "outputs": [],
   "source": [
    "import torch\n",
    "import numpy as np\n",
    "import pandas as pd\n",
    "from sklearn.metrics import pairwise_distances\n",
    "from src.densenet.densenet import CustomDenseNet\n",
    "from src.densenet.runtime_transforms import RuntimeTransforms\n",
    "import os\n",
    "import glob\n",
    "from PIL import Image\n",
    "from tqdm import tqdm\n",
    "from src.densenet.compute_mAP import compute_mAP_for_ks_numpy\n",
    "import datetime"
   ]
  },
  {
   "cell_type": "code",
   "execution_count": 2,
   "outputs": [
    {
     "data": {
      "text/plain": "'C:\\\\Users\\\\wlwee\\\\OneDrive\\\\Documents\\\\sunflower-star-photo-reid\\\\src\\\\misc'"
     },
     "execution_count": 2,
     "metadata": {},
     "output_type": "execute_result"
    }
   ],
   "source": [
    "os.getcwd()"
   ],
   "metadata": {
    "collapsed": false,
    "ExecuteTime": {
     "end_time": "2024-05-30T16:55:23.092108300Z",
     "start_time": "2024-05-30T16:55:23.079106800Z"
    }
   }
  },
  {
   "cell_type": "code",
   "execution_count": 3,
   "outputs": [
    {
     "name": "stdout",
     "output_type": "stream",
     "text": [
      "C:\\Users\\wlwee\\OneDrive\\Documents\\sunflower-star-photo-reid\\src\\misc\n"
     ]
    }
   ],
   "source": [
    "!cd"
   ],
   "metadata": {
    "collapsed": false,
    "ExecuteTime": {
     "end_time": "2024-05-30T16:55:23.159106900Z",
     "start_time": "2024-05-30T16:55:23.088108100Z"
    }
   }
  },
  {
   "cell_type": "code",
   "execution_count": 4,
   "outputs": [
    {
     "name": "stdout",
     "output_type": "stream",
     "text": [
      "found 513 models\n"
     ]
    }
   ],
   "source": [
    "path_models_root = os.path.join('..', '..', 'models', 'reid')\n",
    "path_model_dirs = glob.glob(os.path.join(path_models_root, '*'))\n",
    "print(f'found {len(path_model_dirs)} models')"
   ],
   "metadata": {
    "collapsed": false,
    "ExecuteTime": {
     "end_time": "2024-05-30T16:55:23.160107900Z",
     "start_time": "2024-05-30T16:55:23.137110400Z"
    }
   }
  },
  {
   "cell_type": "code",
   "execution_count": 5,
   "outputs": [
    {
     "name": "stdout",
     "output_type": "stream",
     "text": [
      "found 513 settings files\n"
     ]
    }
   ],
   "source": [
    "path_model_settings = [os.path.join(path_model_dir, 'logs', 'settings.txt') for path_model_dir in path_model_dirs]\n",
    "print(f'found {len(path_model_settings)} settings files')"
   ],
   "metadata": {
    "collapsed": false,
    "ExecuteTime": {
     "end_time": "2024-05-30T16:55:23.386107400Z",
     "start_time": "2024-05-30T16:55:23.152105900Z"
    }
   }
  },
  {
   "cell_type": "code",
   "execution_count": 6,
   "outputs": [],
   "source": [
    "def get_number_of_epochs(file_path):\n",
    "    with open(file_path, 'r') as file:\n",
    "        for line in file:\n",
    "            if \"Number of Epochs\" in line:\n",
    "                # Split the line into key and value parts\n",
    "                key, value = line.split(':')\n",
    "                # Return the value part as an integer\n",
    "                return int(value.strip())\n",
    "\n",
    "def get_number_of_head_layers(file_path):\n",
    "    with open(file_path, 'r') as file:\n",
    "        for line in file:\n",
    "            if \"Number of Layers\" in line:\n",
    "                # Split the line into key and value parts\n",
    "                key, value = line.split(':')\n",
    "                # Return the value part as an integer\n",
    "                return int(value.strip())\n",
    "\n",
    "def get_embedding_size(file_path):\n",
    "    with open(file_path, 'r') as file:\n",
    "        for line in file:\n",
    "            if \"Embedding Size\" in line:\n",
    "                # Split the line into key and value parts\n",
    "                key, value = line.split(':')\n",
    "                # Return the value part as an integer\n",
    "                return int(value.strip())"
   ],
   "metadata": {
    "collapsed": false,
    "ExecuteTime": {
     "end_time": "2024-05-30T16:55:23.410107100Z",
     "start_time": "2024-05-30T16:55:23.170108Z"
    }
   }
  },
  {
   "cell_type": "code",
   "execution_count": 7,
   "outputs": [
    {
     "name": "stdout",
     "output_type": "stream",
     "text": [
      "found 72 settings files\n"
     ]
    }
   ],
   "source": [
    "target_num_epochs = 15\n",
    "path_model_settings = [path for path in path_model_settings if get_number_of_epochs(path) == target_num_epochs]\n",
    "print(f'found {len(path_model_settings)} settings files')"
   ],
   "metadata": {
    "collapsed": false,
    "ExecuteTime": {
     "end_time": "2024-05-30T16:55:23.411109900Z",
     "start_time": "2024-05-30T16:55:23.182108100Z"
    }
   }
  },
  {
   "cell_type": "code",
   "execution_count": 8,
   "outputs": [
    {
     "name": "stdout",
     "output_type": "stream",
     "text": [
      "found 72 models\n"
     ]
    }
   ],
   "source": [
    "path_models = [os.path.join(os.path.dirname(os.path.dirname(path)), 'best_densenet121__PT-True.pth') for path in path_model_settings]\n",
    "print(f'found {len(path_models)} models')"
   ],
   "metadata": {
    "collapsed": false,
    "ExecuteTime": {
     "end_time": "2024-05-30T16:55:23.411109900Z",
     "start_time": "2024-05-30T16:55:23.257106500Z"
    }
   }
  },
  {
   "cell_type": "code",
   "execution_count": 9,
   "outputs": [
    {
     "name": "stdout",
     "output_type": "stream",
     "text": [
      "True\n"
     ]
    }
   ],
   "source": [
    "datasets_root = os.path.join('..', '..', 'data')\n",
    "print(f'{os.path.exists(datasets_root)}')"
   ],
   "metadata": {
    "collapsed": false,
    "ExecuteTime": {
     "end_time": "2024-05-30T16:55:23.411109900Z",
     "start_time": "2024-05-30T16:55:23.271107900Z"
    }
   }
  },
  {
   "cell_type": "code",
   "execution_count": 10,
   "outputs": [
    {
     "name": "stdout",
     "output_type": "stream",
     "text": [
      "for model ..\\..\\models\\reid\\Other_species_sea-star-re-id-full_event-unaware_training-split_2024-05-03-18-13__2024-05-09-21-01-30__0__densenet121__PT-True\\best_densenet121__PT-True.pth\n",
      "\t dataset is Other_species_sea-star-re-id-full_event-unaware_training-split_2024-05-03-18-13\n",
      "\t dataset path is ..\\..\\data\\Other_species_sea-star-re-id-full_event-unaware_training-split_2024-05-03-18-13\n",
      "for model ..\\..\\models\\reid\\Other_species_sea-star-re-id-full_event-unaware_training-split_2024-05-03-18-13__2024-05-09-21-01-30__1__densenet121__PT-True\\best_densenet121__PT-True.pth\n",
      "\t dataset is Other_species_sea-star-re-id-full_event-unaware_training-split_2024-05-03-18-13\n",
      "\t dataset path is ..\\..\\data\\Other_species_sea-star-re-id-full_event-unaware_training-split_2024-05-03-18-13\n",
      "for model ..\\..\\models\\reid\\Other_species_sea-star-re-id-full_event-unaware_training-split_2024-05-03-18-13__2024-05-10-09-59-07__0__densenet121__PT-True\\best_densenet121__PT-True.pth\n",
      "\t dataset is Other_species_sea-star-re-id-full_event-unaware_training-split_2024-05-03-18-13\n",
      "\t dataset path is ..\\..\\data\\Other_species_sea-star-re-id-full_event-unaware_training-split_2024-05-03-18-13\n",
      "for model ..\\..\\models\\reid\\Other_species_sea-star-re-id-full_event-unaware_training-split_2024-05-03-18-13__2024-05-10-09-59-07__1__densenet121__PT-True\\best_densenet121__PT-True.pth\n",
      "\t dataset is Other_species_sea-star-re-id-full_event-unaware_training-split_2024-05-03-18-13\n",
      "\t dataset path is ..\\..\\data\\Other_species_sea-star-re-id-full_event-unaware_training-split_2024-05-03-18-13\n",
      "for model ..\\..\\models\\reid\\Other_species_sea-star-re-id-full_event-unaware_training-split_2024-05-03-18-13__2024-05-10-23-53-56__0__densenet121__PT-True\\best_densenet121__PT-True.pth\n",
      "\t dataset is Other_species_sea-star-re-id-full_event-unaware_training-split_2024-05-03-18-13\n",
      "\t dataset path is ..\\..\\data\\Other_species_sea-star-re-id-full_event-unaware_training-split_2024-05-03-18-13\n",
      "for model ..\\..\\models\\reid\\Other_species_sea-star-re-id-full_event-unaware_training-split_2024-05-03-18-13__2024-05-10-23-53-56__1__densenet121__PT-True\\best_densenet121__PT-True.pth\n",
      "\t dataset is Other_species_sea-star-re-id-full_event-unaware_training-split_2024-05-03-18-13\n",
      "\t dataset path is ..\\..\\data\\Other_species_sea-star-re-id-full_event-unaware_training-split_2024-05-03-18-13\n",
      "for model ..\\..\\models\\reid\\Other_species_sea-star-re-id-full_event-unaware_training-split_2024-05-03-18-20__2024-05-09-21-36-10__0__densenet121__PT-True\\best_densenet121__PT-True.pth\n",
      "\t dataset is Other_species_sea-star-re-id-full_event-unaware_training-split_2024-05-03-18-20\n",
      "\t dataset path is ..\\..\\data\\Other_species_sea-star-re-id-full_event-unaware_training-split_2024-05-03-18-20\n",
      "for model ..\\..\\models\\reid\\Other_species_sea-star-re-id-full_event-unaware_training-split_2024-05-03-18-20__2024-05-09-21-37-22__1__densenet121__PT-True\\best_densenet121__PT-True.pth\n",
      "\t dataset is Other_species_sea-star-re-id-full_event-unaware_training-split_2024-05-03-18-20\n",
      "\t dataset path is ..\\..\\data\\Other_species_sea-star-re-id-full_event-unaware_training-split_2024-05-03-18-20\n",
      "for model ..\\..\\models\\reid\\Other_species_sea-star-re-id-full_event-unaware_training-split_2024-05-03-18-20__2024-05-10-10-34-18__0__densenet121__PT-True\\best_densenet121__PT-True.pth\n",
      "\t dataset is Other_species_sea-star-re-id-full_event-unaware_training-split_2024-05-03-18-20\n",
      "\t dataset path is ..\\..\\data\\Other_species_sea-star-re-id-full_event-unaware_training-split_2024-05-03-18-20\n",
      "for model ..\\..\\models\\reid\\Other_species_sea-star-re-id-full_event-unaware_training-split_2024-05-03-18-20__2024-05-10-10-36-48__1__densenet121__PT-True\\best_densenet121__PT-True.pth\n",
      "\t dataset is Other_species_sea-star-re-id-full_event-unaware_training-split_2024-05-03-18-20\n",
      "\t dataset path is ..\\..\\data\\Other_species_sea-star-re-id-full_event-unaware_training-split_2024-05-03-18-20\n",
      "for model ..\\..\\models\\reid\\Other_species_sea-star-re-id-full_event-unaware_training-split_2024-05-03-18-20__2024-05-11-00-26-46__1__densenet121__PT-True\\best_densenet121__PT-True.pth\n",
      "\t dataset is Other_species_sea-star-re-id-full_event-unaware_training-split_2024-05-03-18-20\n",
      "\t dataset path is ..\\..\\data\\Other_species_sea-star-re-id-full_event-unaware_training-split_2024-05-03-18-20\n",
      "for model ..\\..\\models\\reid\\Other_species_sea-star-re-id-full_event-unaware_training-split_2024-05-03-18-20__2024-05-11-00-31-33__0__densenet121__PT-True\\best_densenet121__PT-True.pth\n",
      "\t dataset is Other_species_sea-star-re-id-full_event-unaware_training-split_2024-05-03-18-20\n",
      "\t dataset path is ..\\..\\data\\Other_species_sea-star-re-id-full_event-unaware_training-split_2024-05-03-18-20\n",
      "for model ..\\..\\models\\reid\\Other_species_sea-star-re-id-full_event-unaware_training-split_2024-05-03-18-28__2024-05-09-22-10-41__0__densenet121__PT-True\\best_densenet121__PT-True.pth\n",
      "\t dataset is Other_species_sea-star-re-id-full_event-unaware_training-split_2024-05-03-18-28\n",
      "\t dataset path is ..\\..\\data\\Other_species_sea-star-re-id-full_event-unaware_training-split_2024-05-03-18-28\n",
      "for model ..\\..\\models\\reid\\Other_species_sea-star-re-id-full_event-unaware_training-split_2024-05-03-18-28__2024-05-09-22-12-58__1__densenet121__PT-True\\best_densenet121__PT-True.pth\n",
      "\t dataset is Other_species_sea-star-re-id-full_event-unaware_training-split_2024-05-03-18-28\n",
      "\t dataset path is ..\\..\\data\\Other_species_sea-star-re-id-full_event-unaware_training-split_2024-05-03-18-28\n",
      "for model ..\\..\\models\\reid\\Other_species_sea-star-re-id-full_event-unaware_training-split_2024-05-03-18-28__2024-05-10-11-09-38__0__densenet121__PT-True\\best_densenet121__PT-True.pth\n",
      "\t dataset is Other_species_sea-star-re-id-full_event-unaware_training-split_2024-05-03-18-28\n",
      "\t dataset path is ..\\..\\data\\Other_species_sea-star-re-id-full_event-unaware_training-split_2024-05-03-18-28\n",
      "for model ..\\..\\models\\reid\\Other_species_sea-star-re-id-full_event-unaware_training-split_2024-05-03-18-28__2024-05-10-11-14-55__1__densenet121__PT-True\\best_densenet121__PT-True.pth\n",
      "\t dataset is Other_species_sea-star-re-id-full_event-unaware_training-split_2024-05-03-18-28\n",
      "\t dataset path is ..\\..\\data\\Other_species_sea-star-re-id-full_event-unaware_training-split_2024-05-03-18-28\n",
      "for model ..\\..\\models\\reid\\Other_species_sea-star-re-id-full_event-unaware_training-split_2024-05-03-18-28__2024-05-11-00-59-40__1__densenet121__PT-True\\best_densenet121__PT-True.pth\n",
      "\t dataset is Other_species_sea-star-re-id-full_event-unaware_training-split_2024-05-03-18-28\n",
      "\t dataset path is ..\\..\\data\\Other_species_sea-star-re-id-full_event-unaware_training-split_2024-05-03-18-28\n",
      "for model ..\\..\\models\\reid\\Other_species_sea-star-re-id-full_event-unaware_training-split_2024-05-03-18-28__2024-05-11-01-09-10__0__densenet121__PT-True\\best_densenet121__PT-True.pth\n",
      "\t dataset is Other_species_sea-star-re-id-full_event-unaware_training-split_2024-05-03-18-28\n",
      "\t dataset path is ..\\..\\data\\Other_species_sea-star-re-id-full_event-unaware_training-split_2024-05-03-18-28\n",
      "for model ..\\..\\models\\reid\\Pycnopodia_helianthoides_full_event-unaware_training-split_2024-05-03-18-13__2024-05-09-22-45-03__0__densenet121__PT-True\\best_densenet121__PT-True.pth\n",
      "\t dataset is Pycnopodia_helianthoides_full_event-unaware_training-split_2024-05-03-18-13\n",
      "\t dataset path is ..\\..\\data\\Pycnopodia_helianthoides_full_event-unaware_training-split_2024-05-03-18-13\n",
      "for model ..\\..\\models\\reid\\Pycnopodia_helianthoides_full_event-unaware_training-split_2024-05-03-18-13__2024-05-09-22-48-17__1__densenet121__PT-True\\best_densenet121__PT-True.pth\n",
      "\t dataset is Pycnopodia_helianthoides_full_event-unaware_training-split_2024-05-03-18-13\n",
      "\t dataset path is ..\\..\\data\\Pycnopodia_helianthoides_full_event-unaware_training-split_2024-05-03-18-13\n",
      "for model ..\\..\\models\\reid\\Pycnopodia_helianthoides_full_event-unaware_training-split_2024-05-03-18-13__2024-05-10-11-45-43__0__densenet121__PT-True\\best_densenet121__PT-True.pth\n",
      "\t dataset is Pycnopodia_helianthoides_full_event-unaware_training-split_2024-05-03-18-13\n",
      "\t dataset path is ..\\..\\data\\Pycnopodia_helianthoides_full_event-unaware_training-split_2024-05-03-18-13\n",
      "for model ..\\..\\models\\reid\\Pycnopodia_helianthoides_full_event-unaware_training-split_2024-05-03-18-13__2024-05-10-11-53-29__1__densenet121__PT-True\\best_densenet121__PT-True.pth\n",
      "\t dataset is Pycnopodia_helianthoides_full_event-unaware_training-split_2024-05-03-18-13\n",
      "\t dataset path is ..\\..\\data\\Pycnopodia_helianthoides_full_event-unaware_training-split_2024-05-03-18-13\n",
      "for model ..\\..\\models\\reid\\Pycnopodia_helianthoides_full_event-unaware_training-split_2024-05-03-18-13__2024-05-11-01-32-36__1__densenet121__PT-True\\best_densenet121__PT-True.pth\n",
      "\t dataset is Pycnopodia_helianthoides_full_event-unaware_training-split_2024-05-03-18-13\n",
      "\t dataset path is ..\\..\\data\\Pycnopodia_helianthoides_full_event-unaware_training-split_2024-05-03-18-13\n",
      "for model ..\\..\\models\\reid\\Pycnopodia_helianthoides_full_event-unaware_training-split_2024-05-03-18-13__2024-05-11-01-46-59__0__densenet121__PT-True\\best_densenet121__PT-True.pth\n",
      "\t dataset is Pycnopodia_helianthoides_full_event-unaware_training-split_2024-05-03-18-13\n",
      "\t dataset path is ..\\..\\data\\Pycnopodia_helianthoides_full_event-unaware_training-split_2024-05-03-18-13\n",
      "for model ..\\..\\models\\reid\\Pycnopodia_helianthoides_full_event-unaware_training-split_2024-05-03-18-41__2024-05-10-00-20-33__0__densenet121__PT-True\\best_densenet121__PT-True.pth\n",
      "\t dataset is Pycnopodia_helianthoides_full_event-unaware_training-split_2024-05-03-18-41\n",
      "\t dataset path is ..\\..\\data\\Pycnopodia_helianthoides_full_event-unaware_training-split_2024-05-03-18-41\n",
      "for model ..\\..\\models\\reid\\Pycnopodia_helianthoides_full_event-unaware_training-split_2024-05-03-18-41__2024-05-10-00-27-01__1__densenet121__PT-True\\best_densenet121__PT-True.pth\n",
      "\t dataset is Pycnopodia_helianthoides_full_event-unaware_training-split_2024-05-03-18-41\n",
      "\t dataset path is ..\\..\\data\\Pycnopodia_helianthoides_full_event-unaware_training-split_2024-05-03-18-41\n",
      "for model ..\\..\\models\\reid\\Pycnopodia_helianthoides_full_event-unaware_training-split_2024-05-03-18-41__2024-05-10-13-25-13__0__densenet121__PT-True\\best_densenet121__PT-True.pth\n",
      "\t dataset is Pycnopodia_helianthoides_full_event-unaware_training-split_2024-05-03-18-41\n",
      "\t dataset path is ..\\..\\data\\Pycnopodia_helianthoides_full_event-unaware_training-split_2024-05-03-18-41\n",
      "for model ..\\..\\models\\reid\\Pycnopodia_helianthoides_full_event-unaware_training-split_2024-05-03-18-41__2024-05-10-13-40-11__1__densenet121__PT-True\\best_densenet121__PT-True.pth\n",
      "\t dataset is Pycnopodia_helianthoides_full_event-unaware_training-split_2024-05-03-18-41\n",
      "\t dataset path is ..\\..\\data\\Pycnopodia_helianthoides_full_event-unaware_training-split_2024-05-03-18-41\n",
      "for model ..\\..\\models\\reid\\Pycnopodia_helianthoides_full_event-unaware_training-split_2024-05-03-18-41__2024-05-11-03-03-11__1__densenet121__PT-True\\best_densenet121__PT-True.pth\n",
      "\t dataset is Pycnopodia_helianthoides_full_event-unaware_training-split_2024-05-03-18-41\n",
      "\t dataset path is ..\\..\\data\\Pycnopodia_helianthoides_full_event-unaware_training-split_2024-05-03-18-41\n",
      "for model ..\\..\\models\\reid\\Pycnopodia_helianthoides_full_event-unaware_training-split_2024-05-03-18-41__2024-05-11-03-32-58__0__densenet121__PT-True\\best_densenet121__PT-True.pth\n",
      "\t dataset is Pycnopodia_helianthoides_full_event-unaware_training-split_2024-05-03-18-41\n",
      "\t dataset path is ..\\..\\data\\Pycnopodia_helianthoides_full_event-unaware_training-split_2024-05-03-18-41\n",
      "for model ..\\..\\models\\reid\\Pycnopodia_helianthoides_full_event-unaware_training-split_2024-05-03-19-10__2024-05-10-01-55-54__0__densenet121__PT-True\\best_densenet121__PT-True.pth\n",
      "\t dataset is Pycnopodia_helianthoides_full_event-unaware_training-split_2024-05-03-19-10\n",
      "\t dataset path is ..\\..\\data\\Pycnopodia_helianthoides_full_event-unaware_training-split_2024-05-03-19-10\n",
      "for model ..\\..\\models\\reid\\Pycnopodia_helianthoides_full_event-unaware_training-split_2024-05-03-19-10__2024-05-10-02-05-25__1__densenet121__PT-True\\best_densenet121__PT-True.pth\n",
      "\t dataset is Pycnopodia_helianthoides_full_event-unaware_training-split_2024-05-03-19-10\n",
      "\t dataset path is ..\\..\\data\\Pycnopodia_helianthoides_full_event-unaware_training-split_2024-05-03-19-10\n",
      "for model ..\\..\\models\\reid\\Pycnopodia_helianthoides_full_event-unaware_training-split_2024-05-03-19-10__2024-05-10-15-03-26__0__densenet121__PT-True\\best_densenet121__PT-True.pth\n",
      "\t dataset is Pycnopodia_helianthoides_full_event-unaware_training-split_2024-05-03-19-10\n",
      "\t dataset path is ..\\..\\data\\Pycnopodia_helianthoides_full_event-unaware_training-split_2024-05-03-19-10\n",
      "for model ..\\..\\models\\reid\\Pycnopodia_helianthoides_full_event-unaware_training-split_2024-05-03-19-10__2024-05-10-15-25-53__1__densenet121__PT-True\\best_densenet121__PT-True.pth\n",
      "\t dataset is Pycnopodia_helianthoides_full_event-unaware_training-split_2024-05-03-19-10\n",
      "\t dataset path is ..\\..\\data\\Pycnopodia_helianthoides_full_event-unaware_training-split_2024-05-03-19-10\n",
      "for model ..\\..\\models\\reid\\Pycnopodia_helianthoides_full_event-unaware_training-split_2024-05-03-19-10__2024-05-11-04-33-59__1__densenet121__PT-True\\best_densenet121__PT-True.pth\n",
      "\t dataset is Pycnopodia_helianthoides_full_event-unaware_training-split_2024-05-03-19-10\n",
      "\t dataset path is ..\\..\\data\\Pycnopodia_helianthoides_full_event-unaware_training-split_2024-05-03-19-10\n",
      "for model ..\\..\\models\\reid\\Pycnopodia_helianthoides_full_event-unaware_training-split_2024-05-03-19-10__2024-05-11-05-19-15__0__densenet121__PT-True\\best_densenet121__PT-True.pth\n",
      "\t dataset is Pycnopodia_helianthoides_full_event-unaware_training-split_2024-05-03-19-10\n",
      "\t dataset path is ..\\..\\data\\Pycnopodia_helianthoides_full_event-unaware_training-split_2024-05-03-19-10\n",
      "for model ..\\..\\models\\reid\\Reduced_Pycnopodia_helianthoides_full_event-unaware_training-split_2024-05-03-19-40__2024-05-10-03-31-10__0__densenet121__PT-True\\best_densenet121__PT-True.pth\n",
      "\t dataset is Reduced_Pycnopodia_helianthoides_full_event-unaware_training-split_2024-05-03-19-40\n",
      "\t dataset path is ..\\..\\data\\Reduced_Pycnopodia_helianthoides_full_event-unaware_training-split_2024-05-03-19-40\n",
      "for model ..\\..\\models\\reid\\Reduced_Pycnopodia_helianthoides_full_event-unaware_training-split_2024-05-03-19-40__2024-05-10-03-44-14__1__densenet121__PT-True\\best_densenet121__PT-True.pth\n",
      "\t dataset is Reduced_Pycnopodia_helianthoides_full_event-unaware_training-split_2024-05-03-19-40\n",
      "\t dataset path is ..\\..\\data\\Reduced_Pycnopodia_helianthoides_full_event-unaware_training-split_2024-05-03-19-40\n",
      "for model ..\\..\\models\\reid\\Reduced_Pycnopodia_helianthoides_full_event-unaware_training-split_2024-05-03-19-40__2024-05-10-16-41-03__0__densenet121__PT-True\\best_densenet121__PT-True.pth\n",
      "\t dataset is Reduced_Pycnopodia_helianthoides_full_event-unaware_training-split_2024-05-03-19-40\n",
      "\t dataset path is ..\\..\\data\\Reduced_Pycnopodia_helianthoides_full_event-unaware_training-split_2024-05-03-19-40\n",
      "for model ..\\..\\models\\reid\\Reduced_Pycnopodia_helianthoides_full_event-unaware_training-split_2024-05-03-19-40__2024-05-10-17-11-15__1__densenet121__PT-True\\best_densenet121__PT-True.pth\n",
      "\t dataset is Reduced_Pycnopodia_helianthoides_full_event-unaware_training-split_2024-05-03-19-40\n",
      "\t dataset path is ..\\..\\data\\Reduced_Pycnopodia_helianthoides_full_event-unaware_training-split_2024-05-03-19-40\n",
      "for model ..\\..\\models\\reid\\Reduced_Pycnopodia_helianthoides_full_event-unaware_training-split_2024-05-03-19-40__2024-05-11-06-04-38__1__densenet121__PT-True\\best_densenet121__PT-True.pth\n",
      "\t dataset is Reduced_Pycnopodia_helianthoides_full_event-unaware_training-split_2024-05-03-19-40\n",
      "\t dataset path is ..\\..\\data\\Reduced_Pycnopodia_helianthoides_full_event-unaware_training-split_2024-05-03-19-40\n",
      "for model ..\\..\\models\\reid\\Reduced_Pycnopodia_helianthoides_full_event-unaware_training-split_2024-05-03-19-40__2024-05-11-07-05-06__0__densenet121__PT-True\\best_densenet121__PT-True.pth\n",
      "\t dataset is Reduced_Pycnopodia_helianthoides_full_event-unaware_training-split_2024-05-03-19-40\n",
      "\t dataset path is ..\\..\\data\\Reduced_Pycnopodia_helianthoides_full_event-unaware_training-split_2024-05-03-19-40\n",
      "for model ..\\..\\models\\reid\\Reduced_Pycnopodia_helianthoides_full_event-unaware_training-split_2024-05-03-20-02__2024-05-10-04-55-16__0__densenet121__PT-True\\best_densenet121__PT-True.pth\n",
      "\t dataset is Reduced_Pycnopodia_helianthoides_full_event-unaware_training-split_2024-05-03-20-02\n",
      "\t dataset path is ..\\..\\data\\Reduced_Pycnopodia_helianthoides_full_event-unaware_training-split_2024-05-03-20-02\n",
      "for model ..\\..\\models\\reid\\Reduced_Pycnopodia_helianthoides_full_event-unaware_training-split_2024-05-03-20-02__2024-05-10-05-10-51__1__densenet121__PT-True\\best_densenet121__PT-True.pth\n",
      "\t dataset is Reduced_Pycnopodia_helianthoides_full_event-unaware_training-split_2024-05-03-20-02\n",
      "\t dataset path is ..\\..\\data\\Reduced_Pycnopodia_helianthoides_full_event-unaware_training-split_2024-05-03-20-02\n",
      "for model ..\\..\\models\\reid\\Reduced_Pycnopodia_helianthoides_full_event-unaware_training-split_2024-05-03-20-02__2024-05-10-18-08-05__0__densenet121__PT-True\\best_densenet121__PT-True.pth\n",
      "\t dataset is Reduced_Pycnopodia_helianthoides_full_event-unaware_training-split_2024-05-03-20-02\n",
      "\t dataset path is ..\\..\\data\\Reduced_Pycnopodia_helianthoides_full_event-unaware_training-split_2024-05-03-20-02\n",
      "for model ..\\..\\models\\reid\\Reduced_Pycnopodia_helianthoides_full_event-unaware_training-split_2024-05-03-20-02__2024-05-10-18-44-54__1__densenet121__PT-True\\best_densenet121__PT-True.pth\n",
      "\t dataset is Reduced_Pycnopodia_helianthoides_full_event-unaware_training-split_2024-05-03-20-02\n",
      "\t dataset path is ..\\..\\data\\Reduced_Pycnopodia_helianthoides_full_event-unaware_training-split_2024-05-03-20-02\n",
      "for model ..\\..\\models\\reid\\Reduced_Pycnopodia_helianthoides_full_event-unaware_training-split_2024-05-03-20-02__2024-05-11-07-24-43__1__densenet121__PT-True\\best_densenet121__PT-True.pth\n",
      "\t dataset is Reduced_Pycnopodia_helianthoides_full_event-unaware_training-split_2024-05-03-20-02\n",
      "\t dataset path is ..\\..\\data\\Reduced_Pycnopodia_helianthoides_full_event-unaware_training-split_2024-05-03-20-02\n",
      "for model ..\\..\\models\\reid\\Reduced_Pycnopodia_helianthoides_full_event-unaware_training-split_2024-05-03-20-02__2024-05-11-08-38-24__0__densenet121__PT-True\\best_densenet121__PT-True.pth\n",
      "\t dataset is Reduced_Pycnopodia_helianthoides_full_event-unaware_training-split_2024-05-03-20-02\n",
      "\t dataset path is ..\\..\\data\\Reduced_Pycnopodia_helianthoides_full_event-unaware_training-split_2024-05-03-20-02\n",
      "for model ..\\..\\models\\reid\\Reduced_Pycnopodia_helianthoides_full_event-unaware_training-split_2024-05-03-20-24__2024-05-10-06-19-02__0__densenet121__PT-True\\best_densenet121__PT-True.pth\n",
      "\t dataset is Reduced_Pycnopodia_helianthoides_full_event-unaware_training-split_2024-05-03-20-24\n",
      "\t dataset path is ..\\..\\data\\Reduced_Pycnopodia_helianthoides_full_event-unaware_training-split_2024-05-03-20-24\n",
      "for model ..\\..\\models\\reid\\Reduced_Pycnopodia_helianthoides_full_event-unaware_training-split_2024-05-03-20-24__2024-05-10-06-37-46__1__densenet121__PT-True\\best_densenet121__PT-True.pth\n",
      "\t dataset is Reduced_Pycnopodia_helianthoides_full_event-unaware_training-split_2024-05-03-20-24\n",
      "\t dataset path is ..\\..\\data\\Reduced_Pycnopodia_helianthoides_full_event-unaware_training-split_2024-05-03-20-24\n",
      "for model ..\\..\\models\\reid\\Reduced_Pycnopodia_helianthoides_full_event-unaware_training-split_2024-05-03-20-24__2024-05-10-19-34-30__0__densenet121__PT-True\\best_densenet121__PT-True.pth\n",
      "\t dataset is Reduced_Pycnopodia_helianthoides_full_event-unaware_training-split_2024-05-03-20-24\n",
      "\t dataset path is ..\\..\\data\\Reduced_Pycnopodia_helianthoides_full_event-unaware_training-split_2024-05-03-20-24\n",
      "for model ..\\..\\models\\reid\\Reduced_Pycnopodia_helianthoides_full_event-unaware_training-split_2024-05-03-20-24__2024-05-10-20-17-50__1__densenet121__PT-True\\best_densenet121__PT-True.pth\n",
      "\t dataset is Reduced_Pycnopodia_helianthoides_full_event-unaware_training-split_2024-05-03-20-24\n",
      "\t dataset path is ..\\..\\data\\Reduced_Pycnopodia_helianthoides_full_event-unaware_training-split_2024-05-03-20-24\n",
      "for model ..\\..\\models\\reid\\Reduced_Pycnopodia_helianthoides_full_event-unaware_training-split_2024-05-03-20-24__2024-05-11-08-44-35__1__densenet121__PT-True\\best_densenet121__PT-True.pth\n",
      "\t dataset is Reduced_Pycnopodia_helianthoides_full_event-unaware_training-split_2024-05-03-20-24\n",
      "\t dataset path is ..\\..\\data\\Reduced_Pycnopodia_helianthoides_full_event-unaware_training-split_2024-05-03-20-24\n",
      "for model ..\\..\\models\\reid\\Reduced_Pycnopodia_helianthoides_full_event-unaware_training-split_2024-05-03-20-24__2024-05-11-10-11-33__0__densenet121__PT-True\\best_densenet121__PT-True.pth\n",
      "\t dataset is Reduced_Pycnopodia_helianthoides_full_event-unaware_training-split_2024-05-03-20-24\n",
      "\t dataset path is ..\\..\\data\\Reduced_Pycnopodia_helianthoides_full_event-unaware_training-split_2024-05-03-20-24\n",
      "for model ..\\..\\models\\reid\\Unmasked_Other_species_sea-star-re-id-full_event-unaware_training-split_2024-05-05-15-26__2024-05-10-07-43-07__0__densenet121__PT-True\\best_densenet121__PT-True.pth\n",
      "\t dataset is Unmasked_Other_species_sea-star-re-id-full_event-unaware_training-split_2024-05-05-15-26\n",
      "\t dataset path is ..\\..\\data\\Unmasked_Other_species_sea-star-re-id-full_event-unaware_training-split_2024-05-05-15-26\n",
      "for model ..\\..\\models\\reid\\Unmasked_Other_species_sea-star-re-id-full_event-unaware_training-split_2024-05-05-15-26__2024-05-10-08-04-52__1__densenet121__PT-True\\best_densenet121__PT-True.pth\n",
      "\t dataset is Unmasked_Other_species_sea-star-re-id-full_event-unaware_training-split_2024-05-05-15-26\n",
      "\t dataset path is ..\\..\\data\\Unmasked_Other_species_sea-star-re-id-full_event-unaware_training-split_2024-05-05-15-26\n",
      "for model ..\\..\\models\\reid\\Unmasked_Other_species_sea-star-re-id-full_event-unaware_training-split_2024-05-05-15-26__2024-05-10-21-01-08__0__densenet121__PT-True\\best_densenet121__PT-True.pth\n",
      "\t dataset is Unmasked_Other_species_sea-star-re-id-full_event-unaware_training-split_2024-05-05-15-26\n",
      "\t dataset path is ..\\..\\data\\Unmasked_Other_species_sea-star-re-id-full_event-unaware_training-split_2024-05-05-15-26\n",
      "for model ..\\..\\models\\reid\\Unmasked_Other_species_sea-star-re-id-full_event-unaware_training-split_2024-05-05-15-26__2024-05-10-21-50-35__1__densenet121__PT-True\\best_densenet121__PT-True.pth\n",
      "\t dataset is Unmasked_Other_species_sea-star-re-id-full_event-unaware_training-split_2024-05-05-15-26\n",
      "\t dataset path is ..\\..\\data\\Unmasked_Other_species_sea-star-re-id-full_event-unaware_training-split_2024-05-05-15-26\n",
      "for model ..\\..\\models\\reid\\Unmasked_Other_species_sea-star-re-id-full_event-unaware_training-split_2024-05-05-15-26__2024-05-11-10-04-42__1__densenet121__PT-True\\best_densenet121__PT-True.pth\n",
      "\t dataset is Unmasked_Other_species_sea-star-re-id-full_event-unaware_training-split_2024-05-05-15-26\n",
      "\t dataset path is ..\\..\\data\\Unmasked_Other_species_sea-star-re-id-full_event-unaware_training-split_2024-05-05-15-26\n",
      "for model ..\\..\\models\\reid\\Unmasked_Other_species_sea-star-re-id-full_event-unaware_training-split_2024-05-05-15-26__2024-05-11-11-45-12__0__densenet121__PT-True\\best_densenet121__PT-True.pth\n",
      "\t dataset is Unmasked_Other_species_sea-star-re-id-full_event-unaware_training-split_2024-05-05-15-26\n",
      "\t dataset path is ..\\..\\data\\Unmasked_Other_species_sea-star-re-id-full_event-unaware_training-split_2024-05-05-15-26\n",
      "for model ..\\..\\models\\reid\\Unmasked_Other_species_sea-star-re-id-full_event-unaware_training-split_2024-05-05-15-33__2024-05-10-08-20-31__0__densenet121__PT-True\\best_densenet121__PT-True.pth\n",
      "\t dataset is Unmasked_Other_species_sea-star-re-id-full_event-unaware_training-split_2024-05-05-15-33\n",
      "\t dataset path is ..\\..\\data\\Unmasked_Other_species_sea-star-re-id-full_event-unaware_training-split_2024-05-05-15-33\n",
      "for model ..\\..\\models\\reid\\Unmasked_Other_species_sea-star-re-id-full_event-unaware_training-split_2024-05-05-15-33__2024-05-10-08-43-16__1__densenet121__PT-True\\best_densenet121__PT-True.pth\n",
      "\t dataset is Unmasked_Other_species_sea-star-re-id-full_event-unaware_training-split_2024-05-05-15-33\n",
      "\t dataset path is ..\\..\\data\\Unmasked_Other_species_sea-star-re-id-full_event-unaware_training-split_2024-05-05-15-33\n",
      "for model ..\\..\\models\\reid\\Unmasked_Other_species_sea-star-re-id-full_event-unaware_training-split_2024-05-05-15-33__2024-05-10-21-39-56__0__densenet121__PT-True\\best_densenet121__PT-True.pth\n",
      "\t dataset is Unmasked_Other_species_sea-star-re-id-full_event-unaware_training-split_2024-05-05-15-33\n",
      "\t dataset path is ..\\..\\data\\Unmasked_Other_species_sea-star-re-id-full_event-unaware_training-split_2024-05-05-15-33\n",
      "for model ..\\..\\models\\reid\\Unmasked_Other_species_sea-star-re-id-full_event-unaware_training-split_2024-05-05-15-33__2024-05-10-22-32-14__1__densenet121__PT-True\\best_densenet121__PT-True.pth\n",
      "\t dataset is Unmasked_Other_species_sea-star-re-id-full_event-unaware_training-split_2024-05-05-15-33\n",
      "\t dataset path is ..\\..\\data\\Unmasked_Other_species_sea-star-re-id-full_event-unaware_training-split_2024-05-05-15-33\n",
      "for model ..\\..\\models\\reid\\Unmasked_Other_species_sea-star-re-id-full_event-unaware_training-split_2024-05-05-15-33__2024-05-11-10-40-43__1__densenet121__PT-True\\best_densenet121__PT-True.pth\n",
      "\t dataset is Unmasked_Other_species_sea-star-re-id-full_event-unaware_training-split_2024-05-05-15-33\n",
      "\t dataset path is ..\\..\\data\\Unmasked_Other_species_sea-star-re-id-full_event-unaware_training-split_2024-05-05-15-33\n",
      "for model ..\\..\\models\\reid\\Unmasked_Other_species_sea-star-re-id-full_event-unaware_training-split_2024-05-05-15-33__2024-05-11-12-26-22__0__densenet121__PT-True\\best_densenet121__PT-True.pth\n",
      "\t dataset is Unmasked_Other_species_sea-star-re-id-full_event-unaware_training-split_2024-05-05-15-33\n",
      "\t dataset path is ..\\..\\data\\Unmasked_Other_species_sea-star-re-id-full_event-unaware_training-split_2024-05-05-15-33\n",
      "for model ..\\..\\models\\reid\\Unmasked_Other_species_sea-star-re-id-full_event-unaware_training-split_2024-05-05-15-40__2024-05-10-08-57-47__0__densenet121__PT-True\\best_densenet121__PT-True.pth\n",
      "\t dataset is Unmasked_Other_species_sea-star-re-id-full_event-unaware_training-split_2024-05-05-15-40\n",
      "\t dataset path is ..\\..\\data\\Unmasked_Other_species_sea-star-re-id-full_event-unaware_training-split_2024-05-05-15-40\n",
      "for model ..\\..\\models\\reid\\Unmasked_Other_species_sea-star-re-id-full_event-unaware_training-split_2024-05-05-15-40__2024-05-10-09-21-40__1__densenet121__PT-True\\best_densenet121__PT-True.pth\n",
      "\t dataset is Unmasked_Other_species_sea-star-re-id-full_event-unaware_training-split_2024-05-05-15-40\n",
      "\t dataset path is ..\\..\\data\\Unmasked_Other_species_sea-star-re-id-full_event-unaware_training-split_2024-05-05-15-40\n",
      "for model ..\\..\\models\\reid\\Unmasked_Other_species_sea-star-re-id-full_event-unaware_training-split_2024-05-05-15-40__2024-05-10-22-18-43__0__densenet121__PT-True\\best_densenet121__PT-True.pth\n",
      "\t dataset is Unmasked_Other_species_sea-star-re-id-full_event-unaware_training-split_2024-05-05-15-40\n",
      "\t dataset path is ..\\..\\data\\Unmasked_Other_species_sea-star-re-id-full_event-unaware_training-split_2024-05-05-15-40\n",
      "for model ..\\..\\models\\reid\\Unmasked_Other_species_sea-star-re-id-full_event-unaware_training-split_2024-05-05-15-40__2024-05-10-23-13-26__1__densenet121__PT-True\\best_densenet121__PT-True.pth\n",
      "\t dataset is Unmasked_Other_species_sea-star-re-id-full_event-unaware_training-split_2024-05-05-15-40\n",
      "\t dataset path is ..\\..\\data\\Unmasked_Other_species_sea-star-re-id-full_event-unaware_training-split_2024-05-05-15-40\n",
      "for model ..\\..\\models\\reid\\Unmasked_Other_species_sea-star-re-id-full_event-unaware_training-split_2024-05-05-15-40__2024-05-11-11-16-35__1__densenet121__PT-True\\best_densenet121__PT-True.pth\n",
      "\t dataset is Unmasked_Other_species_sea-star-re-id-full_event-unaware_training-split_2024-05-05-15-40\n",
      "\t dataset path is ..\\..\\data\\Unmasked_Other_species_sea-star-re-id-full_event-unaware_training-split_2024-05-05-15-40\n",
      "for model ..\\..\\models\\reid\\Unmasked_Other_species_sea-star-re-id-full_event-unaware_training-split_2024-05-05-15-40__2024-05-11-13-07-33__0__densenet121__PT-True\\best_densenet121__PT-True.pth\n",
      "\t dataset is Unmasked_Other_species_sea-star-re-id-full_event-unaware_training-split_2024-05-05-15-40\n",
      "\t dataset path is ..\\..\\data\\Unmasked_Other_species_sea-star-re-id-full_event-unaware_training-split_2024-05-05-15-40\n"
     ]
    }
   ],
   "source": [
    "model_datasets_dict = {}\n",
    "for path_model in path_models:\n",
    "    dataset = os.path.basename(os.path.dirname(path_model)).split('__')[0]\n",
    "    print(f'for model {path_model}\\n\\t dataset is {dataset}')\n",
    "    path_dataset = os.path.join(datasets_root, dataset)\n",
    "    print(f'\\t dataset path is {path_dataset}')\n",
    "    model_datasets_dict[path_model] = path_dataset"
   ],
   "metadata": {
    "collapsed": false,
    "ExecuteTime": {
     "end_time": "2024-05-30T16:55:23.412108200Z",
     "start_time": "2024-05-30T16:55:23.288108600Z"
    }
   }
  },
  {
   "cell_type": "code",
   "execution_count": 11,
   "outputs": [],
   "source": [
    "evaluations_root = os.path.join('..', '..', 'evaluations', 'mAP')\n",
    "if not os.path.exists(evaluations_root):\n",
    "    os.makedirs(evaluations_root)\n"
   ],
   "metadata": {
    "collapsed": false,
    "ExecuteTime": {
     "end_time": "2024-05-30T16:55:23.412108200Z",
     "start_time": "2024-05-30T16:55:23.301106100Z"
    }
   }
  },
  {
   "cell_type": "code",
   "execution_count": 12,
   "outputs": [
    {
     "name": "stdout",
     "output_type": "stream",
     "text": [
      "1|72 - Other_species_sea-star-re-id-full_event-unaware_training-split_2024-05-03-18-13__2024-05-09-21-01-30__0__densenet121__PT-True - Other_species_sea-star-re-id-full_event-unaware_training-split_2024-05-03-18-13\n",
      "Gallery dataset path: ..\\..\\data\\Other_species_sea-star-re-id-full_event-unaware_training-split_2024-05-03-18-13\\train True\n",
      "Query dataset path: ..\\..\\data\\Other_species_sea-star-re-id-full_event-unaware_training-split_2024-05-03-18-13\\test True\n",
      "Number of identities: 95\n",
      "Number of gallery images: 1504\n",
      "Number of query images: 430\n"
     ]
    },
    {
     "name": "stderr",
     "output_type": "stream",
     "text": [
      "100%|██████████| 1504/1504 [01:15<00:00, 19.87it/s]\n",
      "100%|██████████| 430/430 [00:21<00:00, 20.13it/s]\n"
     ]
    },
    {
     "name": "stdout",
     "output_type": "stream",
     "text": [
      "\n",
      "Computed mAP:\n",
      "mAP@1: 0.8698\n",
      "mAP@5: 0.9581\n",
      "mAP@10: 0.9767\n",
      "mAP@15: 0.9814\n",
      "mAP@20: 0.9884\n",
      "2|72 - Other_species_sea-star-re-id-full_event-unaware_training-split_2024-05-03-18-13__2024-05-09-21-01-30__1__densenet121__PT-True - Other_species_sea-star-re-id-full_event-unaware_training-split_2024-05-03-18-13\n",
      "Gallery dataset path: ..\\..\\data\\Other_species_sea-star-re-id-full_event-unaware_training-split_2024-05-03-18-13\\train True\n",
      "Query dataset path: ..\\..\\data\\Other_species_sea-star-re-id-full_event-unaware_training-split_2024-05-03-18-13\\test True\n",
      "Number of identities: 95\n",
      "Number of gallery images: 1504\n",
      "Number of query images: 430\n"
     ]
    },
    {
     "name": "stderr",
     "output_type": "stream",
     "text": [
      "100%|██████████| 1504/1504 [01:14<00:00, 20.20it/s]\n",
      "100%|██████████| 430/430 [00:21<00:00, 20.03it/s]\n"
     ]
    },
    {
     "name": "stdout",
     "output_type": "stream",
     "text": [
      "\n",
      "Computed mAP:\n",
      "mAP@1: 0.8605\n",
      "mAP@5: 0.9651\n",
      "mAP@10: 0.9814\n",
      "mAP@15: 0.9860\n",
      "mAP@20: 0.9907\n",
      "3|72 - Other_species_sea-star-re-id-full_event-unaware_training-split_2024-05-03-18-13__2024-05-10-09-59-07__0__densenet121__PT-True - Other_species_sea-star-re-id-full_event-unaware_training-split_2024-05-03-18-13\n",
      "Gallery dataset path: ..\\..\\data\\Other_species_sea-star-re-id-full_event-unaware_training-split_2024-05-03-18-13\\train True\n",
      "Query dataset path: ..\\..\\data\\Other_species_sea-star-re-id-full_event-unaware_training-split_2024-05-03-18-13\\test True\n",
      "Number of identities: 95\n",
      "Number of gallery images: 1504\n",
      "Number of query images: 430\n"
     ]
    },
    {
     "name": "stderr",
     "output_type": "stream",
     "text": [
      "100%|██████████| 1504/1504 [01:15<00:00, 19.94it/s]\n",
      "100%|██████████| 430/430 [00:21<00:00, 19.70it/s]\n"
     ]
    },
    {
     "name": "stdout",
     "output_type": "stream",
     "text": [
      "\n",
      "Computed mAP:\n",
      "mAP@1: 0.8558\n",
      "mAP@5: 0.9535\n",
      "mAP@10: 0.9674\n",
      "mAP@15: 0.9837\n",
      "mAP@20: 0.9930\n",
      "4|72 - Other_species_sea-star-re-id-full_event-unaware_training-split_2024-05-03-18-13__2024-05-10-09-59-07__1__densenet121__PT-True - Other_species_sea-star-re-id-full_event-unaware_training-split_2024-05-03-18-13\n",
      "Gallery dataset path: ..\\..\\data\\Other_species_sea-star-re-id-full_event-unaware_training-split_2024-05-03-18-13\\train True\n",
      "Query dataset path: ..\\..\\data\\Other_species_sea-star-re-id-full_event-unaware_training-split_2024-05-03-18-13\\test True\n",
      "Number of identities: 95\n",
      "Number of gallery images: 1504\n",
      "Number of query images: 430\n"
     ]
    },
    {
     "name": "stderr",
     "output_type": "stream",
     "text": [
      "100%|██████████| 1504/1504 [01:15<00:00, 19.90it/s]\n",
      "100%|██████████| 430/430 [00:21<00:00, 19.72it/s]\n"
     ]
    },
    {
     "name": "stdout",
     "output_type": "stream",
     "text": [
      "\n",
      "Computed mAP:\n",
      "mAP@1: 0.8721\n",
      "mAP@5: 0.9581\n",
      "mAP@10: 0.9837\n",
      "mAP@15: 0.9860\n",
      "mAP@20: 0.9884\n",
      "5|72 - Other_species_sea-star-re-id-full_event-unaware_training-split_2024-05-03-18-13__2024-05-10-23-53-56__0__densenet121__PT-True - Other_species_sea-star-re-id-full_event-unaware_training-split_2024-05-03-18-13\n",
      "Gallery dataset path: ..\\..\\data\\Other_species_sea-star-re-id-full_event-unaware_training-split_2024-05-03-18-13\\train True\n",
      "Query dataset path: ..\\..\\data\\Other_species_sea-star-re-id-full_event-unaware_training-split_2024-05-03-18-13\\test True\n",
      "Number of identities: 95\n",
      "Number of gallery images: 1504\n",
      "Number of query images: 430\n"
     ]
    },
    {
     "name": "stderr",
     "output_type": "stream",
     "text": [
      "100%|██████████| 1504/1504 [01:15<00:00, 19.86it/s]\n",
      "100%|██████████| 430/430 [00:21<00:00, 19.77it/s]\n"
     ]
    },
    {
     "name": "stdout",
     "output_type": "stream",
     "text": [
      "\n",
      "Computed mAP:\n",
      "mAP@1: 0.8465\n",
      "mAP@5: 0.9628\n",
      "mAP@10: 0.9767\n",
      "mAP@15: 0.9814\n",
      "mAP@20: 0.9837\n",
      "6|72 - Other_species_sea-star-re-id-full_event-unaware_training-split_2024-05-03-18-13__2024-05-10-23-53-56__1__densenet121__PT-True - Other_species_sea-star-re-id-full_event-unaware_training-split_2024-05-03-18-13\n",
      "Gallery dataset path: ..\\..\\data\\Other_species_sea-star-re-id-full_event-unaware_training-split_2024-05-03-18-13\\train True\n",
      "Query dataset path: ..\\..\\data\\Other_species_sea-star-re-id-full_event-unaware_training-split_2024-05-03-18-13\\test True\n",
      "Number of identities: 95\n",
      "Number of gallery images: 1504\n",
      "Number of query images: 430\n"
     ]
    },
    {
     "name": "stderr",
     "output_type": "stream",
     "text": [
      "100%|██████████| 1504/1504 [01:15<00:00, 19.85it/s]\n",
      "100%|██████████| 430/430 [00:21<00:00, 19.75it/s]\n"
     ]
    },
    {
     "name": "stdout",
     "output_type": "stream",
     "text": [
      "\n",
      "Computed mAP:\n",
      "mAP@1: 0.8884\n",
      "mAP@5: 0.9558\n",
      "mAP@10: 0.9744\n",
      "mAP@15: 0.9837\n",
      "mAP@20: 0.9860\n",
      "7|72 - Other_species_sea-star-re-id-full_event-unaware_training-split_2024-05-03-18-20__2024-05-09-21-36-10__0__densenet121__PT-True - Other_species_sea-star-re-id-full_event-unaware_training-split_2024-05-03-18-20\n",
      "Gallery dataset path: ..\\..\\data\\Other_species_sea-star-re-id-full_event-unaware_training-split_2024-05-03-18-20\\train True\n",
      "Query dataset path: ..\\..\\data\\Other_species_sea-star-re-id-full_event-unaware_training-split_2024-05-03-18-20\\test True\n",
      "Number of identities: 95\n",
      "Number of gallery images: 1499\n",
      "Number of query images: 435\n"
     ]
    },
    {
     "name": "stderr",
     "output_type": "stream",
     "text": [
      "100%|██████████| 1499/1499 [01:15<00:00, 19.98it/s]\n",
      "100%|██████████| 435/435 [00:22<00:00, 19.72it/s]\n"
     ]
    },
    {
     "name": "stdout",
     "output_type": "stream",
     "text": [
      "\n",
      "Computed mAP:\n",
      "mAP@1: 0.8736\n",
      "mAP@5: 0.9609\n",
      "mAP@10: 0.9770\n",
      "mAP@15: 0.9816\n",
      "mAP@20: 0.9908\n",
      "8|72 - Other_species_sea-star-re-id-full_event-unaware_training-split_2024-05-03-18-20__2024-05-09-21-37-22__1__densenet121__PT-True - Other_species_sea-star-re-id-full_event-unaware_training-split_2024-05-03-18-20\n",
      "Gallery dataset path: ..\\..\\data\\Other_species_sea-star-re-id-full_event-unaware_training-split_2024-05-03-18-20\\train True\n",
      "Query dataset path: ..\\..\\data\\Other_species_sea-star-re-id-full_event-unaware_training-split_2024-05-03-18-20\\test True\n",
      "Number of identities: 95\n",
      "Number of gallery images: 1499\n",
      "Number of query images: 435\n"
     ]
    },
    {
     "name": "stderr",
     "output_type": "stream",
     "text": [
      "100%|██████████| 1499/1499 [01:15<00:00, 19.95it/s]\n",
      "100%|██████████| 435/435 [00:21<00:00, 19.87it/s]\n"
     ]
    },
    {
     "name": "stdout",
     "output_type": "stream",
     "text": [
      "\n",
      "Computed mAP:\n",
      "mAP@1: 0.8667\n",
      "mAP@5: 0.9609\n",
      "mAP@10: 0.9793\n",
      "mAP@15: 0.9816\n",
      "mAP@20: 0.9954\n",
      "9|72 - Other_species_sea-star-re-id-full_event-unaware_training-split_2024-05-03-18-20__2024-05-10-10-34-18__0__densenet121__PT-True - Other_species_sea-star-re-id-full_event-unaware_training-split_2024-05-03-18-20\n",
      "Gallery dataset path: ..\\..\\data\\Other_species_sea-star-re-id-full_event-unaware_training-split_2024-05-03-18-20\\train True\n",
      "Query dataset path: ..\\..\\data\\Other_species_sea-star-re-id-full_event-unaware_training-split_2024-05-03-18-20\\test True\n",
      "Number of identities: 95\n",
      "Number of gallery images: 1499\n",
      "Number of query images: 435\n"
     ]
    },
    {
     "name": "stderr",
     "output_type": "stream",
     "text": [
      "100%|██████████| 1499/1499 [01:15<00:00, 19.74it/s]\n",
      "100%|██████████| 435/435 [00:22<00:00, 19.49it/s]\n"
     ]
    },
    {
     "name": "stdout",
     "output_type": "stream",
     "text": [
      "\n",
      "Computed mAP:\n",
      "mAP@1: 0.8391\n",
      "mAP@5: 0.9678\n",
      "mAP@10: 0.9724\n",
      "mAP@15: 0.9816\n",
      "mAP@20: 0.9839\n",
      "10|72 - Other_species_sea-star-re-id-full_event-unaware_training-split_2024-05-03-18-20__2024-05-10-10-36-48__1__densenet121__PT-True - Other_species_sea-star-re-id-full_event-unaware_training-split_2024-05-03-18-20\n",
      "Gallery dataset path: ..\\..\\data\\Other_species_sea-star-re-id-full_event-unaware_training-split_2024-05-03-18-20\\train True\n",
      "Query dataset path: ..\\..\\data\\Other_species_sea-star-re-id-full_event-unaware_training-split_2024-05-03-18-20\\test True\n",
      "Number of identities: 95\n",
      "Number of gallery images: 1499\n",
      "Number of query images: 435\n"
     ]
    },
    {
     "name": "stderr",
     "output_type": "stream",
     "text": [
      "100%|██████████| 1499/1499 [01:15<00:00, 19.93it/s]\n",
      "100%|██████████| 435/435 [00:22<00:00, 19.70it/s]\n"
     ]
    },
    {
     "name": "stdout",
     "output_type": "stream",
     "text": [
      "\n",
      "Computed mAP:\n",
      "mAP@1: 0.8437\n",
      "mAP@5: 0.9471\n",
      "mAP@10: 0.9701\n",
      "mAP@15: 0.9793\n",
      "mAP@20: 0.9816\n",
      "11|72 - Other_species_sea-star-re-id-full_event-unaware_training-split_2024-05-03-18-20__2024-05-11-00-26-46__1__densenet121__PT-True - Other_species_sea-star-re-id-full_event-unaware_training-split_2024-05-03-18-20\n",
      "Gallery dataset path: ..\\..\\data\\Other_species_sea-star-re-id-full_event-unaware_training-split_2024-05-03-18-20\\train True\n",
      "Query dataset path: ..\\..\\data\\Other_species_sea-star-re-id-full_event-unaware_training-split_2024-05-03-18-20\\test True\n",
      "Number of identities: 95\n",
      "Number of gallery images: 1499\n",
      "Number of query images: 435\n"
     ]
    },
    {
     "name": "stderr",
     "output_type": "stream",
     "text": [
      "100%|██████████| 1499/1499 [01:15<00:00, 19.87it/s]\n",
      "100%|██████████| 435/435 [00:22<00:00, 19.58it/s]\n"
     ]
    },
    {
     "name": "stdout",
     "output_type": "stream",
     "text": [
      "\n",
      "Computed mAP:\n",
      "mAP@1: 0.8690\n",
      "mAP@5: 0.9655\n",
      "mAP@10: 0.9747\n",
      "mAP@15: 0.9816\n",
      "mAP@20: 0.9862\n",
      "12|72 - Other_species_sea-star-re-id-full_event-unaware_training-split_2024-05-03-18-20__2024-05-11-00-31-33__0__densenet121__PT-True - Other_species_sea-star-re-id-full_event-unaware_training-split_2024-05-03-18-20\n",
      "Gallery dataset path: ..\\..\\data\\Other_species_sea-star-re-id-full_event-unaware_training-split_2024-05-03-18-20\\train True\n",
      "Query dataset path: ..\\..\\data\\Other_species_sea-star-re-id-full_event-unaware_training-split_2024-05-03-18-20\\test True\n",
      "Number of identities: 95\n",
      "Number of gallery images: 1499\n",
      "Number of query images: 435\n"
     ]
    },
    {
     "name": "stderr",
     "output_type": "stream",
     "text": [
      "100%|██████████| 1499/1499 [01:14<00:00, 20.04it/s]\n",
      "100%|██████████| 435/435 [00:21<00:00, 19.77it/s]\n"
     ]
    },
    {
     "name": "stdout",
     "output_type": "stream",
     "text": [
      "\n",
      "Computed mAP:\n",
      "mAP@1: 0.8345\n",
      "mAP@5: 0.9448\n",
      "mAP@10: 0.9747\n",
      "mAP@15: 0.9862\n",
      "mAP@20: 0.9862\n",
      "13|72 - Other_species_sea-star-re-id-full_event-unaware_training-split_2024-05-03-18-28__2024-05-09-22-10-41__0__densenet121__PT-True - Other_species_sea-star-re-id-full_event-unaware_training-split_2024-05-03-18-28\n",
      "Gallery dataset path: ..\\..\\data\\Other_species_sea-star-re-id-full_event-unaware_training-split_2024-05-03-18-28\\train True\n",
      "Query dataset path: ..\\..\\data\\Other_species_sea-star-re-id-full_event-unaware_training-split_2024-05-03-18-28\\test True\n",
      "Number of identities: 95\n",
      "Number of gallery images: 1513\n",
      "Number of query images: 421\n"
     ]
    },
    {
     "name": "stderr",
     "output_type": "stream",
     "text": [
      "100%|██████████| 1513/1513 [01:16<00:00, 19.85it/s]\n",
      "100%|██████████| 421/421 [00:21<00:00, 19.79it/s]\n"
     ]
    },
    {
     "name": "stdout",
     "output_type": "stream",
     "text": [
      "\n",
      "Computed mAP:\n",
      "mAP@1: 0.8622\n",
      "mAP@5: 0.9715\n",
      "mAP@10: 0.9881\n",
      "mAP@15: 0.9929\n",
      "mAP@20: 0.9952\n",
      "14|72 - Other_species_sea-star-re-id-full_event-unaware_training-split_2024-05-03-18-28__2024-05-09-22-12-58__1__densenet121__PT-True - Other_species_sea-star-re-id-full_event-unaware_training-split_2024-05-03-18-28\n",
      "Gallery dataset path: ..\\..\\data\\Other_species_sea-star-re-id-full_event-unaware_training-split_2024-05-03-18-28\\train True\n",
      "Query dataset path: ..\\..\\data\\Other_species_sea-star-re-id-full_event-unaware_training-split_2024-05-03-18-28\\test True\n",
      "Number of identities: 95\n",
      "Number of gallery images: 1513\n",
      "Number of query images: 421\n"
     ]
    },
    {
     "name": "stderr",
     "output_type": "stream",
     "text": [
      "100%|██████████| 1513/1513 [01:14<00:00, 20.20it/s]\n",
      "100%|██████████| 421/421 [00:21<00:00, 20.02it/s]\n"
     ]
    },
    {
     "name": "stdout",
     "output_type": "stream",
     "text": [
      "\n",
      "Computed mAP:\n",
      "mAP@1: 0.8599\n",
      "mAP@5: 0.9620\n",
      "mAP@10: 0.9786\n",
      "mAP@15: 0.9857\n",
      "mAP@20: 0.9881\n",
      "15|72 - Other_species_sea-star-re-id-full_event-unaware_training-split_2024-05-03-18-28__2024-05-10-11-09-38__0__densenet121__PT-True - Other_species_sea-star-re-id-full_event-unaware_training-split_2024-05-03-18-28\n",
      "Gallery dataset path: ..\\..\\data\\Other_species_sea-star-re-id-full_event-unaware_training-split_2024-05-03-18-28\\train True\n",
      "Query dataset path: ..\\..\\data\\Other_species_sea-star-re-id-full_event-unaware_training-split_2024-05-03-18-28\\test True\n",
      "Number of identities: 95\n",
      "Number of gallery images: 1513\n",
      "Number of query images: 421\n"
     ]
    },
    {
     "name": "stderr",
     "output_type": "stream",
     "text": [
      "100%|██████████| 1513/1513 [01:15<00:00, 19.99it/s]\n",
      "100%|██████████| 421/421 [00:21<00:00, 20.03it/s]\n"
     ]
    },
    {
     "name": "stdout",
     "output_type": "stream",
     "text": [
      "\n",
      "Computed mAP:\n",
      "mAP@1: 0.8385\n",
      "mAP@5: 0.9525\n",
      "mAP@10: 0.9762\n",
      "mAP@15: 0.9881\n",
      "mAP@20: 0.9929\n",
      "16|72 - Other_species_sea-star-re-id-full_event-unaware_training-split_2024-05-03-18-28__2024-05-10-11-14-55__1__densenet121__PT-True - Other_species_sea-star-re-id-full_event-unaware_training-split_2024-05-03-18-28\n",
      "Gallery dataset path: ..\\..\\data\\Other_species_sea-star-re-id-full_event-unaware_training-split_2024-05-03-18-28\\train True\n",
      "Query dataset path: ..\\..\\data\\Other_species_sea-star-re-id-full_event-unaware_training-split_2024-05-03-18-28\\test True\n",
      "Number of identities: 95\n",
      "Number of gallery images: 1513\n",
      "Number of query images: 421\n"
     ]
    },
    {
     "name": "stderr",
     "output_type": "stream",
     "text": [
      "100%|██████████| 1513/1513 [01:15<00:00, 19.94it/s]\n",
      "100%|██████████| 421/421 [00:21<00:00, 19.98it/s]\n"
     ]
    },
    {
     "name": "stdout",
     "output_type": "stream",
     "text": [
      "\n",
      "Computed mAP:\n",
      "mAP@1: 0.8694\n",
      "mAP@5: 0.9525\n",
      "mAP@10: 0.9810\n",
      "mAP@15: 0.9834\n",
      "mAP@20: 0.9881\n",
      "17|72 - Other_species_sea-star-re-id-full_event-unaware_training-split_2024-05-03-18-28__2024-05-11-00-59-40__1__densenet121__PT-True - Other_species_sea-star-re-id-full_event-unaware_training-split_2024-05-03-18-28\n",
      "Gallery dataset path: ..\\..\\data\\Other_species_sea-star-re-id-full_event-unaware_training-split_2024-05-03-18-28\\train True\n",
      "Query dataset path: ..\\..\\data\\Other_species_sea-star-re-id-full_event-unaware_training-split_2024-05-03-18-28\\test True\n",
      "Number of identities: 95\n",
      "Number of gallery images: 1513\n",
      "Number of query images: 421\n"
     ]
    },
    {
     "name": "stderr",
     "output_type": "stream",
     "text": [
      "100%|██████████| 1513/1513 [01:15<00:00, 20.13it/s]\n",
      "100%|██████████| 421/421 [00:21<00:00, 20.04it/s]\n"
     ]
    },
    {
     "name": "stdout",
     "output_type": "stream",
     "text": [
      "\n",
      "Computed mAP:\n",
      "mAP@1: 0.8741\n",
      "mAP@5: 0.9644\n",
      "mAP@10: 0.9857\n",
      "mAP@15: 0.9881\n",
      "mAP@20: 0.9905\n",
      "18|72 - Other_species_sea-star-re-id-full_event-unaware_training-split_2024-05-03-18-28__2024-05-11-01-09-10__0__densenet121__PT-True - Other_species_sea-star-re-id-full_event-unaware_training-split_2024-05-03-18-28\n",
      "Gallery dataset path: ..\\..\\data\\Other_species_sea-star-re-id-full_event-unaware_training-split_2024-05-03-18-28\\train True\n",
      "Query dataset path: ..\\..\\data\\Other_species_sea-star-re-id-full_event-unaware_training-split_2024-05-03-18-28\\test True\n",
      "Number of identities: 95\n",
      "Number of gallery images: 1513\n",
      "Number of query images: 421\n"
     ]
    },
    {
     "name": "stderr",
     "output_type": "stream",
     "text": [
      "100%|██████████| 1513/1513 [01:16<00:00, 19.87it/s]\n",
      "100%|██████████| 421/421 [00:21<00:00, 19.92it/s]\n"
     ]
    },
    {
     "name": "stdout",
     "output_type": "stream",
     "text": [
      "\n",
      "Computed mAP:\n",
      "mAP@1: 0.8575\n",
      "mAP@5: 0.9596\n",
      "mAP@10: 0.9810\n",
      "mAP@15: 0.9881\n",
      "mAP@20: 0.9905\n",
      "19|72 - Pycnopodia_helianthoides_full_event-unaware_training-split_2024-05-03-18-13__2024-05-09-22-45-03__0__densenet121__PT-True - Pycnopodia_helianthoides_full_event-unaware_training-split_2024-05-03-18-13\n",
      "Gallery dataset path: ..\\..\\data\\Pycnopodia_helianthoides_full_event-unaware_training-split_2024-05-03-18-13\\train True\n",
      "Query dataset path: ..\\..\\data\\Pycnopodia_helianthoides_full_event-unaware_training-split_2024-05-03-18-13\\test True\n",
      "Number of identities: 271\n",
      "Number of gallery images: 5163\n",
      "Number of query images: 1458\n"
     ]
    },
    {
     "name": "stderr",
     "output_type": "stream",
     "text": [
      "100%|██████████| 5163/5163 [04:31<00:00, 19.00it/s]\n",
      "100%|██████████| 1458/1458 [01:15<00:00, 19.24it/s]\n"
     ]
    },
    {
     "name": "stdout",
     "output_type": "stream",
     "text": [
      "\n",
      "Computed mAP:\n",
      "mAP@1: 0.9143\n",
      "mAP@5: 0.9527\n",
      "mAP@10: 0.9684\n",
      "mAP@15: 0.9733\n",
      "mAP@20: 0.9767\n",
      "20|72 - Pycnopodia_helianthoides_full_event-unaware_training-split_2024-05-03-18-13__2024-05-09-22-48-17__1__densenet121__PT-True - Pycnopodia_helianthoides_full_event-unaware_training-split_2024-05-03-18-13\n",
      "Gallery dataset path: ..\\..\\data\\Pycnopodia_helianthoides_full_event-unaware_training-split_2024-05-03-18-13\\train True\n",
      "Query dataset path: ..\\..\\data\\Pycnopodia_helianthoides_full_event-unaware_training-split_2024-05-03-18-13\\test True\n",
      "Number of identities: 271\n",
      "Number of gallery images: 5163\n",
      "Number of query images: 1458\n"
     ]
    },
    {
     "name": "stderr",
     "output_type": "stream",
     "text": [
      "100%|██████████| 5163/5163 [04:32<00:00, 18.94it/s]\n",
      "100%|██████████| 1458/1458 [01:17<00:00, 18.93it/s]\n"
     ]
    },
    {
     "name": "stdout",
     "output_type": "stream",
     "text": [
      "\n",
      "Computed mAP:\n",
      "mAP@1: 0.9129\n",
      "mAP@5: 0.9595\n",
      "mAP@10: 0.9678\n",
      "mAP@15: 0.9726\n",
      "mAP@20: 0.9753\n",
      "21|72 - Pycnopodia_helianthoides_full_event-unaware_training-split_2024-05-03-18-13__2024-05-10-11-45-43__0__densenet121__PT-True - Pycnopodia_helianthoides_full_event-unaware_training-split_2024-05-03-18-13\n",
      "Gallery dataset path: ..\\..\\data\\Pycnopodia_helianthoides_full_event-unaware_training-split_2024-05-03-18-13\\train True\n",
      "Query dataset path: ..\\..\\data\\Pycnopodia_helianthoides_full_event-unaware_training-split_2024-05-03-18-13\\test True\n",
      "Number of identities: 271\n",
      "Number of gallery images: 5163\n",
      "Number of query images: 1458\n"
     ]
    },
    {
     "name": "stderr",
     "output_type": "stream",
     "text": [
      "100%|██████████| 5163/5163 [04:31<00:00, 19.04it/s]\n",
      "100%|██████████| 1458/1458 [01:16<00:00, 19.08it/s]\n"
     ]
    },
    {
     "name": "stdout",
     "output_type": "stream",
     "text": [
      "\n",
      "Computed mAP:\n",
      "mAP@1: 0.9095\n",
      "mAP@5: 0.9486\n",
      "mAP@10: 0.9602\n",
      "mAP@15: 0.9671\n",
      "mAP@20: 0.9705\n",
      "22|72 - Pycnopodia_helianthoides_full_event-unaware_training-split_2024-05-03-18-13__2024-05-10-11-53-29__1__densenet121__PT-True - Pycnopodia_helianthoides_full_event-unaware_training-split_2024-05-03-18-13\n",
      "Gallery dataset path: ..\\..\\data\\Pycnopodia_helianthoides_full_event-unaware_training-split_2024-05-03-18-13\\train True\n",
      "Query dataset path: ..\\..\\data\\Pycnopodia_helianthoides_full_event-unaware_training-split_2024-05-03-18-13\\test True\n",
      "Number of identities: 271\n",
      "Number of gallery images: 5163\n",
      "Number of query images: 1458\n"
     ]
    },
    {
     "name": "stderr",
     "output_type": "stream",
     "text": [
      "100%|██████████| 5163/5163 [04:32<00:00, 18.95it/s]\n",
      "100%|██████████| 1458/1458 [01:17<00:00, 18.93it/s]\n"
     ]
    },
    {
     "name": "stdout",
     "output_type": "stream",
     "text": [
      "\n",
      "Computed mAP:\n",
      "mAP@1: 0.9108\n",
      "mAP@5: 0.9506\n",
      "mAP@10: 0.9671\n",
      "mAP@15: 0.9733\n",
      "mAP@20: 0.9753\n",
      "23|72 - Pycnopodia_helianthoides_full_event-unaware_training-split_2024-05-03-18-13__2024-05-11-01-32-36__1__densenet121__PT-True - Pycnopodia_helianthoides_full_event-unaware_training-split_2024-05-03-18-13\n",
      "Gallery dataset path: ..\\..\\data\\Pycnopodia_helianthoides_full_event-unaware_training-split_2024-05-03-18-13\\train True\n",
      "Query dataset path: ..\\..\\data\\Pycnopodia_helianthoides_full_event-unaware_training-split_2024-05-03-18-13\\test True\n",
      "Number of identities: 271\n",
      "Number of gallery images: 5163\n",
      "Number of query images: 1458\n"
     ]
    },
    {
     "name": "stderr",
     "output_type": "stream",
     "text": [
      "100%|██████████| 5163/5163 [04:33<00:00, 18.87it/s]\n",
      "100%|██████████| 1458/1458 [01:17<00:00, 18.93it/s]\n"
     ]
    },
    {
     "name": "stdout",
     "output_type": "stream",
     "text": [
      "\n",
      "Computed mAP:\n",
      "mAP@1: 0.9129\n",
      "mAP@5: 0.9547\n",
      "mAP@10: 0.9678\n",
      "mAP@15: 0.9739\n",
      "mAP@20: 0.9753\n",
      "24|72 - Pycnopodia_helianthoides_full_event-unaware_training-split_2024-05-03-18-13__2024-05-11-01-46-59__0__densenet121__PT-True - Pycnopodia_helianthoides_full_event-unaware_training-split_2024-05-03-18-13\n",
      "Gallery dataset path: ..\\..\\data\\Pycnopodia_helianthoides_full_event-unaware_training-split_2024-05-03-18-13\\train True\n",
      "Query dataset path: ..\\..\\data\\Pycnopodia_helianthoides_full_event-unaware_training-split_2024-05-03-18-13\\test True\n",
      "Number of identities: 271\n",
      "Number of gallery images: 5163\n",
      "Number of query images: 1458\n"
     ]
    },
    {
     "name": "stderr",
     "output_type": "stream",
     "text": [
      "100%|██████████| 5163/5163 [04:33<00:00, 18.89it/s]\n",
      "100%|██████████| 1458/1458 [01:17<00:00, 18.81it/s]\n"
     ]
    },
    {
     "name": "stdout",
     "output_type": "stream",
     "text": [
      "\n",
      "Computed mAP:\n",
      "mAP@1: 0.9129\n",
      "mAP@5: 0.9561\n",
      "mAP@10: 0.9671\n",
      "mAP@15: 0.9753\n",
      "mAP@20: 0.9774\n",
      "25|72 - Pycnopodia_helianthoides_full_event-unaware_training-split_2024-05-03-18-41__2024-05-10-00-20-33__0__densenet121__PT-True - Pycnopodia_helianthoides_full_event-unaware_training-split_2024-05-03-18-41\n",
      "Gallery dataset path: ..\\..\\data\\Pycnopodia_helianthoides_full_event-unaware_training-split_2024-05-03-18-41\\train True\n",
      "Query dataset path: ..\\..\\data\\Pycnopodia_helianthoides_full_event-unaware_training-split_2024-05-03-18-41\\test True\n",
      "Number of identities: 271\n",
      "Number of gallery images: 5159\n",
      "Number of query images: 1455\n"
     ]
    },
    {
     "name": "stderr",
     "output_type": "stream",
     "text": [
      "100%|██████████| 5159/5159 [04:30<00:00, 19.09it/s]\n",
      "100%|██████████| 1455/1455 [01:16<00:00, 19.14it/s]\n"
     ]
    },
    {
     "name": "stdout",
     "output_type": "stream",
     "text": [
      "\n",
      "Computed mAP:\n",
      "mAP@1: 0.9175\n",
      "mAP@5: 0.9560\n",
      "mAP@10: 0.9649\n",
      "mAP@15: 0.9718\n",
      "mAP@20: 0.9759\n",
      "26|72 - Pycnopodia_helianthoides_full_event-unaware_training-split_2024-05-03-18-41__2024-05-10-00-27-01__1__densenet121__PT-True - Pycnopodia_helianthoides_full_event-unaware_training-split_2024-05-03-18-41\n",
      "Gallery dataset path: ..\\..\\data\\Pycnopodia_helianthoides_full_event-unaware_training-split_2024-05-03-18-41\\train True\n",
      "Query dataset path: ..\\..\\data\\Pycnopodia_helianthoides_full_event-unaware_training-split_2024-05-03-18-41\\test True\n",
      "Number of identities: 271\n",
      "Number of gallery images: 5159\n",
      "Number of query images: 1455\n"
     ]
    },
    {
     "name": "stderr",
     "output_type": "stream",
     "text": [
      "100%|██████████| 5159/5159 [04:31<00:00, 19.03it/s]\n",
      "100%|██████████| 1455/1455 [01:16<00:00, 18.95it/s]\n"
     ]
    },
    {
     "name": "stdout",
     "output_type": "stream",
     "text": [
      "\n",
      "Computed mAP:\n",
      "mAP@1: 0.9210\n",
      "mAP@5: 0.9567\n",
      "mAP@10: 0.9691\n",
      "mAP@15: 0.9759\n",
      "mAP@20: 0.9794\n",
      "27|72 - Pycnopodia_helianthoides_full_event-unaware_training-split_2024-05-03-18-41__2024-05-10-13-25-13__0__densenet121__PT-True - Pycnopodia_helianthoides_full_event-unaware_training-split_2024-05-03-18-41\n",
      "Gallery dataset path: ..\\..\\data\\Pycnopodia_helianthoides_full_event-unaware_training-split_2024-05-03-18-41\\train True\n",
      "Query dataset path: ..\\..\\data\\Pycnopodia_helianthoides_full_event-unaware_training-split_2024-05-03-18-41\\test True\n",
      "Number of identities: 271\n",
      "Number of gallery images: 5159\n",
      "Number of query images: 1455\n"
     ]
    },
    {
     "name": "stderr",
     "output_type": "stream",
     "text": [
      "100%|██████████| 5159/5159 [04:32<00:00, 18.95it/s]\n",
      "100%|██████████| 1455/1455 [01:16<00:00, 19.00it/s]\n"
     ]
    },
    {
     "name": "stdout",
     "output_type": "stream",
     "text": [
      "\n",
      "Computed mAP:\n",
      "mAP@1: 0.9210\n",
      "mAP@5: 0.9608\n",
      "mAP@10: 0.9725\n",
      "mAP@15: 0.9787\n",
      "mAP@20: 0.9828\n",
      "28|72 - Pycnopodia_helianthoides_full_event-unaware_training-split_2024-05-03-18-41__2024-05-10-13-40-11__1__densenet121__PT-True - Pycnopodia_helianthoides_full_event-unaware_training-split_2024-05-03-18-41\n",
      "Gallery dataset path: ..\\..\\data\\Pycnopodia_helianthoides_full_event-unaware_training-split_2024-05-03-18-41\\train True\n",
      "Query dataset path: ..\\..\\data\\Pycnopodia_helianthoides_full_event-unaware_training-split_2024-05-03-18-41\\test True\n",
      "Number of identities: 271\n",
      "Number of gallery images: 5159\n",
      "Number of query images: 1455\n"
     ]
    },
    {
     "name": "stderr",
     "output_type": "stream",
     "text": [
      "100%|██████████| 5159/5159 [04:31<00:00, 18.99it/s]\n",
      "100%|██████████| 1455/1455 [01:16<00:00, 19.00it/s]\n"
     ]
    },
    {
     "name": "stdout",
     "output_type": "stream",
     "text": [
      "\n",
      "Computed mAP:\n",
      "mAP@1: 0.9175\n",
      "mAP@5: 0.9574\n",
      "mAP@10: 0.9739\n",
      "mAP@15: 0.9794\n",
      "mAP@20: 0.9808\n",
      "29|72 - Pycnopodia_helianthoides_full_event-unaware_training-split_2024-05-03-18-41__2024-05-11-03-03-11__1__densenet121__PT-True - Pycnopodia_helianthoides_full_event-unaware_training-split_2024-05-03-18-41\n",
      "Gallery dataset path: ..\\..\\data\\Pycnopodia_helianthoides_full_event-unaware_training-split_2024-05-03-18-41\\train True\n",
      "Query dataset path: ..\\..\\data\\Pycnopodia_helianthoides_full_event-unaware_training-split_2024-05-03-18-41\\test True\n",
      "Number of identities: 271\n",
      "Number of gallery images: 5159\n",
      "Number of query images: 1455\n"
     ]
    },
    {
     "name": "stderr",
     "output_type": "stream",
     "text": [
      "100%|██████████| 5159/5159 [04:32<00:00, 18.90it/s]\n",
      "100%|██████████| 1455/1455 [01:17<00:00, 18.81it/s]\n"
     ]
    },
    {
     "name": "stdout",
     "output_type": "stream",
     "text": [
      "\n",
      "Computed mAP:\n",
      "mAP@1: 0.9100\n",
      "mAP@5: 0.9560\n",
      "mAP@10: 0.9677\n",
      "mAP@15: 0.9746\n",
      "mAP@20: 0.9780\n",
      "30|72 - Pycnopodia_helianthoides_full_event-unaware_training-split_2024-05-03-18-41__2024-05-11-03-32-58__0__densenet121__PT-True - Pycnopodia_helianthoides_full_event-unaware_training-split_2024-05-03-18-41\n",
      "Gallery dataset path: ..\\..\\data\\Pycnopodia_helianthoides_full_event-unaware_training-split_2024-05-03-18-41\\train True\n",
      "Query dataset path: ..\\..\\data\\Pycnopodia_helianthoides_full_event-unaware_training-split_2024-05-03-18-41\\test True\n",
      "Number of identities: 271\n",
      "Number of gallery images: 5159\n",
      "Number of query images: 1455\n"
     ]
    },
    {
     "name": "stderr",
     "output_type": "stream",
     "text": [
      "100%|██████████| 5159/5159 [04:33<00:00, 18.89it/s]\n",
      "100%|██████████| 1455/1455 [01:16<00:00, 18.96it/s]\n"
     ]
    },
    {
     "name": "stdout",
     "output_type": "stream",
     "text": [
      "\n",
      "Computed mAP:\n",
      "mAP@1: 0.9100\n",
      "mAP@5: 0.9567\n",
      "mAP@10: 0.9691\n",
      "mAP@15: 0.9753\n",
      "mAP@20: 0.9766\n",
      "31|72 - Pycnopodia_helianthoides_full_event-unaware_training-split_2024-05-03-19-10__2024-05-10-01-55-54__0__densenet121__PT-True - Pycnopodia_helianthoides_full_event-unaware_training-split_2024-05-03-19-10\n",
      "Gallery dataset path: ..\\..\\data\\Pycnopodia_helianthoides_full_event-unaware_training-split_2024-05-03-19-10\\train True\n",
      "Query dataset path: ..\\..\\data\\Pycnopodia_helianthoides_full_event-unaware_training-split_2024-05-03-19-10\\test True\n",
      "Number of identities: 271\n",
      "Number of gallery images: 5154\n",
      "Number of query images: 1453\n"
     ]
    },
    {
     "name": "stderr",
     "output_type": "stream",
     "text": [
      "100%|██████████| 5154/5154 [04:32<00:00, 18.95it/s]\n",
      "100%|██████████| 1453/1453 [01:16<00:00, 18.88it/s]\n"
     ]
    },
    {
     "name": "stdout",
     "output_type": "stream",
     "text": [
      "\n",
      "Computed mAP:\n",
      "mAP@1: 0.9119\n",
      "mAP@5: 0.9573\n",
      "mAP@10: 0.9670\n",
      "mAP@15: 0.9718\n",
      "mAP@20: 0.9766\n",
      "32|72 - Pycnopodia_helianthoides_full_event-unaware_training-split_2024-05-03-19-10__2024-05-10-02-05-25__1__densenet121__PT-True - Pycnopodia_helianthoides_full_event-unaware_training-split_2024-05-03-19-10\n",
      "Gallery dataset path: ..\\..\\data\\Pycnopodia_helianthoides_full_event-unaware_training-split_2024-05-03-19-10\\train True\n",
      "Query dataset path: ..\\..\\data\\Pycnopodia_helianthoides_full_event-unaware_training-split_2024-05-03-19-10\\test True\n",
      "Number of identities: 271\n",
      "Number of gallery images: 5154\n",
      "Number of query images: 1453\n"
     ]
    },
    {
     "name": "stderr",
     "output_type": "stream",
     "text": [
      "100%|██████████| 5154/5154 [04:32<00:00, 18.94it/s]\n",
      "100%|██████████| 1453/1453 [01:16<00:00, 18.95it/s]\n"
     ]
    },
    {
     "name": "stdout",
     "output_type": "stream",
     "text": [
      "\n",
      "Computed mAP:\n",
      "mAP@1: 0.9188\n",
      "mAP@5: 0.9553\n",
      "mAP@10: 0.9718\n",
      "mAP@15: 0.9766\n",
      "mAP@20: 0.9787\n",
      "33|72 - Pycnopodia_helianthoides_full_event-unaware_training-split_2024-05-03-19-10__2024-05-10-15-03-26__0__densenet121__PT-True - Pycnopodia_helianthoides_full_event-unaware_training-split_2024-05-03-19-10\n",
      "Gallery dataset path: ..\\..\\data\\Pycnopodia_helianthoides_full_event-unaware_training-split_2024-05-03-19-10\\train True\n",
      "Query dataset path: ..\\..\\data\\Pycnopodia_helianthoides_full_event-unaware_training-split_2024-05-03-19-10\\test True\n",
      "Number of identities: 271\n",
      "Number of gallery images: 5154\n",
      "Number of query images: 1453\n"
     ]
    },
    {
     "name": "stderr",
     "output_type": "stream",
     "text": [
      "100%|██████████| 5154/5154 [04:31<00:00, 18.96it/s]\n",
      "100%|██████████| 1453/1453 [01:17<00:00, 18.72it/s]\n"
     ]
    },
    {
     "name": "stdout",
     "output_type": "stream",
     "text": [
      "\n",
      "Computed mAP:\n",
      "mAP@1: 0.9057\n",
      "mAP@5: 0.9546\n",
      "mAP@10: 0.9621\n",
      "mAP@15: 0.9663\n",
      "mAP@20: 0.9677\n",
      "34|72 - Pycnopodia_helianthoides_full_event-unaware_training-split_2024-05-03-19-10__2024-05-10-15-25-53__1__densenet121__PT-True - Pycnopodia_helianthoides_full_event-unaware_training-split_2024-05-03-19-10\n",
      "Gallery dataset path: ..\\..\\data\\Pycnopodia_helianthoides_full_event-unaware_training-split_2024-05-03-19-10\\train True\n",
      "Query dataset path: ..\\..\\data\\Pycnopodia_helianthoides_full_event-unaware_training-split_2024-05-03-19-10\\test True\n",
      "Number of identities: 271\n",
      "Number of gallery images: 5154\n",
      "Number of query images: 1453\n"
     ]
    },
    {
     "name": "stderr",
     "output_type": "stream",
     "text": [
      "100%|██████████| 5154/5154 [04:33<00:00, 18.85it/s]\n",
      "100%|██████████| 1453/1453 [01:16<00:00, 18.98it/s]\n"
     ]
    },
    {
     "name": "stdout",
     "output_type": "stream",
     "text": [
      "\n",
      "Computed mAP:\n",
      "mAP@1: 0.9105\n",
      "mAP@5: 0.9546\n",
      "mAP@10: 0.9649\n",
      "mAP@15: 0.9697\n",
      "mAP@20: 0.9738\n",
      "35|72 - Pycnopodia_helianthoides_full_event-unaware_training-split_2024-05-03-19-10__2024-05-11-04-33-59__1__densenet121__PT-True - Pycnopodia_helianthoides_full_event-unaware_training-split_2024-05-03-19-10\n",
      "Gallery dataset path: ..\\..\\data\\Pycnopodia_helianthoides_full_event-unaware_training-split_2024-05-03-19-10\\train True\n",
      "Query dataset path: ..\\..\\data\\Pycnopodia_helianthoides_full_event-unaware_training-split_2024-05-03-19-10\\test True\n",
      "Number of identities: 271\n",
      "Number of gallery images: 5154\n",
      "Number of query images: 1453\n"
     ]
    },
    {
     "name": "stderr",
     "output_type": "stream",
     "text": [
      "100%|██████████| 5154/5154 [04:33<00:00, 18.85it/s]\n",
      "100%|██████████| 1453/1453 [01:17<00:00, 18.68it/s]\n"
     ]
    },
    {
     "name": "stdout",
     "output_type": "stream",
     "text": [
      "\n",
      "Computed mAP:\n",
      "mAP@1: 0.9078\n",
      "mAP@5: 0.9546\n",
      "mAP@10: 0.9663\n",
      "mAP@15: 0.9738\n",
      "mAP@20: 0.9780\n",
      "36|72 - Pycnopodia_helianthoides_full_event-unaware_training-split_2024-05-03-19-10__2024-05-11-05-19-15__0__densenet121__PT-True - Pycnopodia_helianthoides_full_event-unaware_training-split_2024-05-03-19-10\n",
      "Gallery dataset path: ..\\..\\data\\Pycnopodia_helianthoides_full_event-unaware_training-split_2024-05-03-19-10\\train True\n",
      "Query dataset path: ..\\..\\data\\Pycnopodia_helianthoides_full_event-unaware_training-split_2024-05-03-19-10\\test True\n",
      "Number of identities: 271\n",
      "Number of gallery images: 5154\n",
      "Number of query images: 1453\n"
     ]
    },
    {
     "name": "stderr",
     "output_type": "stream",
     "text": [
      "100%|██████████| 5154/5154 [04:32<00:00, 18.88it/s]\n",
      "100%|██████████| 1453/1453 [01:17<00:00, 18.81it/s]\n"
     ]
    },
    {
     "name": "stdout",
     "output_type": "stream",
     "text": [
      "\n",
      "Computed mAP:\n",
      "mAP@1: 0.9078\n",
      "mAP@5: 0.9546\n",
      "mAP@10: 0.9670\n",
      "mAP@15: 0.9759\n",
      "mAP@20: 0.9773\n",
      "37|72 - Reduced_Pycnopodia_helianthoides_full_event-unaware_training-split_2024-05-03-19-40__2024-05-10-03-31-10__0__densenet121__PT-True - Reduced_Pycnopodia_helianthoides_full_event-unaware_training-split_2024-05-03-19-40\n",
      "Gallery dataset path: ..\\..\\data\\Reduced_Pycnopodia_helianthoides_full_event-unaware_training-split_2024-05-03-19-40\\train True\n",
      "Query dataset path: ..\\..\\data\\Reduced_Pycnopodia_helianthoides_full_event-unaware_training-split_2024-05-03-19-40\\test True\n",
      "Number of identities: 219\n",
      "Number of gallery images: 4507\n",
      "Number of query images: 1286\n"
     ]
    },
    {
     "name": "stderr",
     "output_type": "stream",
     "text": [
      "100%|██████████| 4507/4507 [04:00<00:00, 18.73it/s]\n",
      "100%|██████████| 1286/1286 [01:07<00:00, 19.00it/s]\n"
     ]
    },
    {
     "name": "stdout",
     "output_type": "stream",
     "text": [
      "\n",
      "Computed mAP:\n",
      "mAP@1: 0.9222\n",
      "mAP@5: 0.9666\n",
      "mAP@10: 0.9774\n",
      "mAP@15: 0.9821\n",
      "mAP@20: 0.9852\n",
      "38|72 - Reduced_Pycnopodia_helianthoides_full_event-unaware_training-split_2024-05-03-19-40__2024-05-10-03-44-14__1__densenet121__PT-True - Reduced_Pycnopodia_helianthoides_full_event-unaware_training-split_2024-05-03-19-40\n",
      "Gallery dataset path: ..\\..\\data\\Reduced_Pycnopodia_helianthoides_full_event-unaware_training-split_2024-05-03-19-40\\train True\n",
      "Query dataset path: ..\\..\\data\\Reduced_Pycnopodia_helianthoides_full_event-unaware_training-split_2024-05-03-19-40\\test True\n",
      "Number of identities: 219\n",
      "Number of gallery images: 4507\n",
      "Number of query images: 1286\n"
     ]
    },
    {
     "name": "stderr",
     "output_type": "stream",
     "text": [
      "100%|██████████| 4507/4507 [03:56<00:00, 19.06it/s]\n",
      "100%|██████████| 1286/1286 [01:08<00:00, 18.90it/s]\n"
     ]
    },
    {
     "name": "stdout",
     "output_type": "stream",
     "text": [
      "\n",
      "Computed mAP:\n",
      "mAP@1: 0.9090\n",
      "mAP@5: 0.9627\n",
      "mAP@10: 0.9736\n",
      "mAP@15: 0.9798\n",
      "mAP@20: 0.9852\n",
      "39|72 - Reduced_Pycnopodia_helianthoides_full_event-unaware_training-split_2024-05-03-19-40__2024-05-10-16-41-03__0__densenet121__PT-True - Reduced_Pycnopodia_helianthoides_full_event-unaware_training-split_2024-05-03-19-40\n",
      "Gallery dataset path: ..\\..\\data\\Reduced_Pycnopodia_helianthoides_full_event-unaware_training-split_2024-05-03-19-40\\train True\n",
      "Query dataset path: ..\\..\\data\\Reduced_Pycnopodia_helianthoides_full_event-unaware_training-split_2024-05-03-19-40\\test True\n",
      "Number of identities: 219\n",
      "Number of gallery images: 4507\n",
      "Number of query images: 1286\n"
     ]
    },
    {
     "name": "stderr",
     "output_type": "stream",
     "text": [
      "100%|██████████| 4507/4507 [03:56<00:00, 19.08it/s]\n",
      "100%|██████████| 1286/1286 [01:08<00:00, 18.68it/s]\n"
     ]
    },
    {
     "name": "stdout",
     "output_type": "stream",
     "text": [
      "\n",
      "Computed mAP:\n",
      "mAP@1: 0.9075\n",
      "mAP@5: 0.9627\n",
      "mAP@10: 0.9774\n",
      "mAP@15: 0.9829\n",
      "mAP@20: 0.9883\n",
      "40|72 - Reduced_Pycnopodia_helianthoides_full_event-unaware_training-split_2024-05-03-19-40__2024-05-10-17-11-15__1__densenet121__PT-True - Reduced_Pycnopodia_helianthoides_full_event-unaware_training-split_2024-05-03-19-40\n",
      "Gallery dataset path: ..\\..\\data\\Reduced_Pycnopodia_helianthoides_full_event-unaware_training-split_2024-05-03-19-40\\train True\n",
      "Query dataset path: ..\\..\\data\\Reduced_Pycnopodia_helianthoides_full_event-unaware_training-split_2024-05-03-19-40\\test True\n",
      "Number of identities: 219\n",
      "Number of gallery images: 4507\n",
      "Number of query images: 1286\n"
     ]
    },
    {
     "name": "stderr",
     "output_type": "stream",
     "text": [
      "100%|██████████| 4507/4507 [03:56<00:00, 19.06it/s]\n",
      "100%|██████████| 1286/1286 [01:09<00:00, 18.60it/s]\n"
     ]
    },
    {
     "name": "stdout",
     "output_type": "stream",
     "text": [
      "\n",
      "Computed mAP:\n",
      "mAP@1: 0.9207\n",
      "mAP@5: 0.9619\n",
      "mAP@10: 0.9759\n",
      "mAP@15: 0.9821\n",
      "mAP@20: 0.9868\n",
      "41|72 - Reduced_Pycnopodia_helianthoides_full_event-unaware_training-split_2024-05-03-19-40__2024-05-11-06-04-38__1__densenet121__PT-True - Reduced_Pycnopodia_helianthoides_full_event-unaware_training-split_2024-05-03-19-40\n",
      "Gallery dataset path: ..\\..\\data\\Reduced_Pycnopodia_helianthoides_full_event-unaware_training-split_2024-05-03-19-40\\train True\n",
      "Query dataset path: ..\\..\\data\\Reduced_Pycnopodia_helianthoides_full_event-unaware_training-split_2024-05-03-19-40\\test True\n",
      "Number of identities: 219\n",
      "Number of gallery images: 4507\n",
      "Number of query images: 1286\n"
     ]
    },
    {
     "name": "stderr",
     "output_type": "stream",
     "text": [
      "100%|██████████| 4507/4507 [04:01<00:00, 18.64it/s]\n",
      "100%|██████████| 1286/1286 [01:08<00:00, 18.89it/s]\n"
     ]
    },
    {
     "name": "stdout",
     "output_type": "stream",
     "text": [
      "\n",
      "Computed mAP:\n",
      "mAP@1: 0.9121\n",
      "mAP@5: 0.9658\n",
      "mAP@10: 0.9829\n",
      "mAP@15: 0.9852\n",
      "mAP@20: 0.9868\n",
      "42|72 - Reduced_Pycnopodia_helianthoides_full_event-unaware_training-split_2024-05-03-19-40__2024-05-11-07-05-06__0__densenet121__PT-True - Reduced_Pycnopodia_helianthoides_full_event-unaware_training-split_2024-05-03-19-40\n",
      "Gallery dataset path: ..\\..\\data\\Reduced_Pycnopodia_helianthoides_full_event-unaware_training-split_2024-05-03-19-40\\train True\n",
      "Query dataset path: ..\\..\\data\\Reduced_Pycnopodia_helianthoides_full_event-unaware_training-split_2024-05-03-19-40\\test True\n",
      "Number of identities: 219\n",
      "Number of gallery images: 4507\n",
      "Number of query images: 1286\n"
     ]
    },
    {
     "name": "stderr",
     "output_type": "stream",
     "text": [
      "100%|██████████| 4507/4507 [04:01<00:00, 18.69it/s]\n",
      "100%|██████████| 1286/1286 [01:07<00:00, 19.06it/s]\n"
     ]
    },
    {
     "name": "stdout",
     "output_type": "stream",
     "text": [
      "\n",
      "Computed mAP:\n",
      "mAP@1: 0.9114\n",
      "mAP@5: 0.9650\n",
      "mAP@10: 0.9782\n",
      "mAP@15: 0.9837\n",
      "mAP@20: 0.9860\n",
      "43|72 - Reduced_Pycnopodia_helianthoides_full_event-unaware_training-split_2024-05-03-20-02__2024-05-10-04-55-16__0__densenet121__PT-True - Reduced_Pycnopodia_helianthoides_full_event-unaware_training-split_2024-05-03-20-02\n",
      "Gallery dataset path: ..\\..\\data\\Reduced_Pycnopodia_helianthoides_full_event-unaware_training-split_2024-05-03-20-02\\train True\n",
      "Query dataset path: ..\\..\\data\\Reduced_Pycnopodia_helianthoides_full_event-unaware_training-split_2024-05-03-20-02\\test True\n",
      "Number of identities: 219\n",
      "Number of gallery images: 4513\n",
      "Number of query images: 1276\n"
     ]
    },
    {
     "name": "stderr",
     "output_type": "stream",
     "text": [
      "100%|██████████| 4513/4513 [04:02<00:00, 18.65it/s]\n",
      "100%|██████████| 1276/1276 [01:08<00:00, 18.63it/s]\n"
     ]
    },
    {
     "name": "stdout",
     "output_type": "stream",
     "text": [
      "\n",
      "Computed mAP:\n",
      "mAP@1: 0.9099\n",
      "mAP@5: 0.9498\n",
      "mAP@10: 0.9663\n",
      "mAP@15: 0.9749\n",
      "mAP@20: 0.9773\n",
      "44|72 - Reduced_Pycnopodia_helianthoides_full_event-unaware_training-split_2024-05-03-20-02__2024-05-10-05-10-51__1__densenet121__PT-True - Reduced_Pycnopodia_helianthoides_full_event-unaware_training-split_2024-05-03-20-02\n",
      "Gallery dataset path: ..\\..\\data\\Reduced_Pycnopodia_helianthoides_full_event-unaware_training-split_2024-05-03-20-02\\train True\n",
      "Query dataset path: ..\\..\\data\\Reduced_Pycnopodia_helianthoides_full_event-unaware_training-split_2024-05-03-20-02\\test True\n",
      "Number of identities: 219\n",
      "Number of gallery images: 4513\n",
      "Number of query images: 1276\n"
     ]
    },
    {
     "name": "stderr",
     "output_type": "stream",
     "text": [
      "100%|██████████| 4513/4513 [04:02<00:00, 18.65it/s]\n",
      "100%|██████████| 1276/1276 [01:08<00:00, 18.57it/s]\n"
     ]
    },
    {
     "name": "stdout",
     "output_type": "stream",
     "text": [
      "\n",
      "Computed mAP:\n",
      "mAP@1: 0.9122\n",
      "mAP@5: 0.9538\n",
      "mAP@10: 0.9671\n",
      "mAP@15: 0.9765\n",
      "mAP@20: 0.9796\n",
      "45|72 - Reduced_Pycnopodia_helianthoides_full_event-unaware_training-split_2024-05-03-20-02__2024-05-10-18-08-05__0__densenet121__PT-True - Reduced_Pycnopodia_helianthoides_full_event-unaware_training-split_2024-05-03-20-02\n",
      "Gallery dataset path: ..\\..\\data\\Reduced_Pycnopodia_helianthoides_full_event-unaware_training-split_2024-05-03-20-02\\train True\n",
      "Query dataset path: ..\\..\\data\\Reduced_Pycnopodia_helianthoides_full_event-unaware_training-split_2024-05-03-20-02\\test True\n",
      "Number of identities: 219\n",
      "Number of gallery images: 4513\n",
      "Number of query images: 1276\n"
     ]
    },
    {
     "name": "stderr",
     "output_type": "stream",
     "text": [
      "100%|██████████| 4513/4513 [04:00<00:00, 18.79it/s]\n",
      "100%|██████████| 1276/1276 [01:08<00:00, 18.61it/s]\n"
     ]
    },
    {
     "name": "stdout",
     "output_type": "stream",
     "text": [
      "\n",
      "Computed mAP:\n",
      "mAP@1: 0.9114\n",
      "mAP@5: 0.9569\n",
      "mAP@10: 0.9718\n",
      "mAP@15: 0.9765\n",
      "mAP@20: 0.9788\n",
      "46|72 - Reduced_Pycnopodia_helianthoides_full_event-unaware_training-split_2024-05-03-20-02__2024-05-10-18-44-54__1__densenet121__PT-True - Reduced_Pycnopodia_helianthoides_full_event-unaware_training-split_2024-05-03-20-02\n",
      "Gallery dataset path: ..\\..\\data\\Reduced_Pycnopodia_helianthoides_full_event-unaware_training-split_2024-05-03-20-02\\train True\n",
      "Query dataset path: ..\\..\\data\\Reduced_Pycnopodia_helianthoides_full_event-unaware_training-split_2024-05-03-20-02\\test True\n",
      "Number of identities: 219\n",
      "Number of gallery images: 4513\n",
      "Number of query images: 1276\n"
     ]
    },
    {
     "name": "stderr",
     "output_type": "stream",
     "text": [
      "100%|██████████| 4513/4513 [04:01<00:00, 18.69it/s]\n",
      "100%|██████████| 1276/1276 [01:08<00:00, 18.65it/s]\n"
     ]
    },
    {
     "name": "stdout",
     "output_type": "stream",
     "text": [
      "\n",
      "Computed mAP:\n",
      "mAP@1: 0.9099\n",
      "mAP@5: 0.9569\n",
      "mAP@10: 0.9687\n",
      "mAP@15: 0.9734\n",
      "mAP@20: 0.9781\n",
      "47|72 - Reduced_Pycnopodia_helianthoides_full_event-unaware_training-split_2024-05-03-20-02__2024-05-11-07-24-43__1__densenet121__PT-True - Reduced_Pycnopodia_helianthoides_full_event-unaware_training-split_2024-05-03-20-02\n",
      "Gallery dataset path: ..\\..\\data\\Reduced_Pycnopodia_helianthoides_full_event-unaware_training-split_2024-05-03-20-02\\train True\n",
      "Query dataset path: ..\\..\\data\\Reduced_Pycnopodia_helianthoides_full_event-unaware_training-split_2024-05-03-20-02\\test True\n",
      "Number of identities: 219\n",
      "Number of gallery images: 4513\n",
      "Number of query images: 1276\n"
     ]
    },
    {
     "name": "stderr",
     "output_type": "stream",
     "text": [
      "100%|██████████| 4513/4513 [04:01<00:00, 18.68it/s]\n",
      "100%|██████████| 1276/1276 [01:08<00:00, 18.68it/s]\n"
     ]
    },
    {
     "name": "stdout",
     "output_type": "stream",
     "text": [
      "\n",
      "Computed mAP:\n",
      "mAP@1: 0.9075\n",
      "mAP@5: 0.9522\n",
      "mAP@10: 0.9726\n",
      "mAP@15: 0.9788\n",
      "mAP@20: 0.9828\n",
      "48|72 - Reduced_Pycnopodia_helianthoides_full_event-unaware_training-split_2024-05-03-20-02__2024-05-11-08-38-24__0__densenet121__PT-True - Reduced_Pycnopodia_helianthoides_full_event-unaware_training-split_2024-05-03-20-02\n",
      "Gallery dataset path: ..\\..\\data\\Reduced_Pycnopodia_helianthoides_full_event-unaware_training-split_2024-05-03-20-02\\train True\n",
      "Query dataset path: ..\\..\\data\\Reduced_Pycnopodia_helianthoides_full_event-unaware_training-split_2024-05-03-20-02\\test True\n",
      "Number of identities: 219\n",
      "Number of gallery images: 4513\n",
      "Number of query images: 1276\n"
     ]
    },
    {
     "name": "stderr",
     "output_type": "stream",
     "text": [
      "100%|██████████| 4513/4513 [04:00<00:00, 18.73it/s]\n",
      "100%|██████████| 1276/1276 [01:08<00:00, 18.67it/s]\n"
     ]
    },
    {
     "name": "stdout",
     "output_type": "stream",
     "text": [
      "\n",
      "Computed mAP:\n",
      "mAP@1: 0.9161\n",
      "mAP@5: 0.9545\n",
      "mAP@10: 0.9734\n",
      "mAP@15: 0.9773\n",
      "mAP@20: 0.9835\n",
      "49|72 - Reduced_Pycnopodia_helianthoides_full_event-unaware_training-split_2024-05-03-20-24__2024-05-10-06-19-02__0__densenet121__PT-True - Reduced_Pycnopodia_helianthoides_full_event-unaware_training-split_2024-05-03-20-24\n",
      "Gallery dataset path: ..\\..\\data\\Reduced_Pycnopodia_helianthoides_full_event-unaware_training-split_2024-05-03-20-24\\train True\n",
      "Query dataset path: ..\\..\\data\\Reduced_Pycnopodia_helianthoides_full_event-unaware_training-split_2024-05-03-20-24\\test True\n",
      "Number of identities: 219\n",
      "Number of gallery images: 4522\n",
      "Number of query images: 1288\n"
     ]
    },
    {
     "name": "stderr",
     "output_type": "stream",
     "text": [
      "100%|██████████| 4522/4522 [04:02<00:00, 18.68it/s]\n",
      "100%|██████████| 1288/1288 [01:08<00:00, 18.82it/s]\n"
     ]
    },
    {
     "name": "stdout",
     "output_type": "stream",
     "text": [
      "\n",
      "Computed mAP:\n",
      "mAP@1: 0.9014\n",
      "mAP@5: 0.9534\n",
      "mAP@10: 0.9643\n",
      "mAP@15: 0.9689\n",
      "mAP@20: 0.9736\n",
      "50|72 - Reduced_Pycnopodia_helianthoides_full_event-unaware_training-split_2024-05-03-20-24__2024-05-10-06-37-46__1__densenet121__PT-True - Reduced_Pycnopodia_helianthoides_full_event-unaware_training-split_2024-05-03-20-24\n",
      "Gallery dataset path: ..\\..\\data\\Reduced_Pycnopodia_helianthoides_full_event-unaware_training-split_2024-05-03-20-24\\train True\n",
      "Query dataset path: ..\\..\\data\\Reduced_Pycnopodia_helianthoides_full_event-unaware_training-split_2024-05-03-20-24\\test True\n",
      "Number of identities: 219\n",
      "Number of gallery images: 4522\n",
      "Number of query images: 1288\n"
     ]
    },
    {
     "name": "stderr",
     "output_type": "stream",
     "text": [
      "100%|██████████| 4522/4522 [04:03<00:00, 18.61it/s]\n",
      "100%|██████████| 1288/1288 [01:08<00:00, 18.90it/s]\n"
     ]
    },
    {
     "name": "stdout",
     "output_type": "stream",
     "text": [
      "\n",
      "Computed mAP:\n",
      "mAP@1: 0.9076\n",
      "mAP@5: 0.9596\n",
      "mAP@10: 0.9728\n",
      "mAP@15: 0.9775\n",
      "mAP@20: 0.9829\n",
      "51|72 - Reduced_Pycnopodia_helianthoides_full_event-unaware_training-split_2024-05-03-20-24__2024-05-10-19-34-30__0__densenet121__PT-True - Reduced_Pycnopodia_helianthoides_full_event-unaware_training-split_2024-05-03-20-24\n",
      "Gallery dataset path: ..\\..\\data\\Reduced_Pycnopodia_helianthoides_full_event-unaware_training-split_2024-05-03-20-24\\train True\n",
      "Query dataset path: ..\\..\\data\\Reduced_Pycnopodia_helianthoides_full_event-unaware_training-split_2024-05-03-20-24\\test True\n",
      "Number of identities: 219\n",
      "Number of gallery images: 4522\n",
      "Number of query images: 1288\n"
     ]
    },
    {
     "name": "stderr",
     "output_type": "stream",
     "text": [
      "100%|██████████| 4522/4522 [04:04<00:00, 18.52it/s]\n",
      "100%|██████████| 1288/1288 [01:09<00:00, 18.49it/s]\n"
     ]
    },
    {
     "name": "stdout",
     "output_type": "stream",
     "text": [
      "\n",
      "Computed mAP:\n",
      "mAP@1: 0.8944\n",
      "mAP@5: 0.9526\n",
      "mAP@10: 0.9674\n",
      "mAP@15: 0.9759\n",
      "mAP@20: 0.9783\n",
      "52|72 - Reduced_Pycnopodia_helianthoides_full_event-unaware_training-split_2024-05-03-20-24__2024-05-10-20-17-50__1__densenet121__PT-True - Reduced_Pycnopodia_helianthoides_full_event-unaware_training-split_2024-05-03-20-24\n",
      "Gallery dataset path: ..\\..\\data\\Reduced_Pycnopodia_helianthoides_full_event-unaware_training-split_2024-05-03-20-24\\train True\n",
      "Query dataset path: ..\\..\\data\\Reduced_Pycnopodia_helianthoides_full_event-unaware_training-split_2024-05-03-20-24\\test True\n",
      "Number of identities: 219\n",
      "Number of gallery images: 4522\n",
      "Number of query images: 1288\n"
     ]
    },
    {
     "name": "stderr",
     "output_type": "stream",
     "text": [
      "100%|██████████| 4522/4522 [04:01<00:00, 18.72it/s]\n",
      "100%|██████████| 1288/1288 [01:09<00:00, 18.65it/s]\n"
     ]
    },
    {
     "name": "stdout",
     "output_type": "stream",
     "text": [
      "\n",
      "Computed mAP:\n",
      "mAP@1: 0.9014\n",
      "mAP@5: 0.9526\n",
      "mAP@10: 0.9705\n",
      "mAP@15: 0.9767\n",
      "mAP@20: 0.9837\n",
      "53|72 - Reduced_Pycnopodia_helianthoides_full_event-unaware_training-split_2024-05-03-20-24__2024-05-11-08-44-35__1__densenet121__PT-True - Reduced_Pycnopodia_helianthoides_full_event-unaware_training-split_2024-05-03-20-24\n",
      "Gallery dataset path: ..\\..\\data\\Reduced_Pycnopodia_helianthoides_full_event-unaware_training-split_2024-05-03-20-24\\train True\n",
      "Query dataset path: ..\\..\\data\\Reduced_Pycnopodia_helianthoides_full_event-unaware_training-split_2024-05-03-20-24\\test True\n",
      "Number of identities: 219\n",
      "Number of gallery images: 4522\n",
      "Number of query images: 1288\n"
     ]
    },
    {
     "name": "stderr",
     "output_type": "stream",
     "text": [
      "100%|██████████| 4522/4522 [04:01<00:00, 18.74it/s]\n",
      "100%|██████████| 1288/1288 [01:09<00:00, 18.63it/s]\n"
     ]
    },
    {
     "name": "stdout",
     "output_type": "stream",
     "text": [
      "\n",
      "Computed mAP:\n",
      "mAP@1: 0.9053\n",
      "mAP@5: 0.9488\n",
      "mAP@10: 0.9682\n",
      "mAP@15: 0.9736\n",
      "mAP@20: 0.9790\n",
      "54|72 - Reduced_Pycnopodia_helianthoides_full_event-unaware_training-split_2024-05-03-20-24__2024-05-11-10-11-33__0__densenet121__PT-True - Reduced_Pycnopodia_helianthoides_full_event-unaware_training-split_2024-05-03-20-24\n",
      "Gallery dataset path: ..\\..\\data\\Reduced_Pycnopodia_helianthoides_full_event-unaware_training-split_2024-05-03-20-24\\train True\n",
      "Query dataset path: ..\\..\\data\\Reduced_Pycnopodia_helianthoides_full_event-unaware_training-split_2024-05-03-20-24\\test True\n",
      "Number of identities: 219\n",
      "Number of gallery images: 4522\n",
      "Number of query images: 1288\n"
     ]
    },
    {
     "name": "stderr",
     "output_type": "stream",
     "text": [
      "100%|██████████| 4522/4522 [04:01<00:00, 18.69it/s]\n",
      "100%|██████████| 1288/1288 [01:09<00:00, 18.57it/s]\n"
     ]
    },
    {
     "name": "stdout",
     "output_type": "stream",
     "text": [
      "\n",
      "Computed mAP:\n",
      "mAP@1: 0.9037\n",
      "mAP@5: 0.9589\n",
      "mAP@10: 0.9674\n",
      "mAP@15: 0.9720\n",
      "mAP@20: 0.9775\n",
      "55|72 - Unmasked_Other_species_sea-star-re-id-full_event-unaware_training-split_2024-05-05-15-26__2024-05-10-07-43-07__0__densenet121__PT-True - Unmasked_Other_species_sea-star-re-id-full_event-unaware_training-split_2024-05-05-15-26\n",
      "Gallery dataset path: ..\\..\\data\\Unmasked_Other_species_sea-star-re-id-full_event-unaware_training-split_2024-05-05-15-26\\train True\n",
      "Query dataset path: ..\\..\\data\\Unmasked_Other_species_sea-star-re-id-full_event-unaware_training-split_2024-05-05-15-26\\test True\n",
      "Number of identities: 95\n",
      "Number of gallery images: 1509\n",
      "Number of query images: 425\n"
     ]
    },
    {
     "name": "stderr",
     "output_type": "stream",
     "text": [
      "100%|██████████| 1509/1509 [01:17<00:00, 19.36it/s]\n",
      "100%|██████████| 425/425 [00:21<00:00, 19.39it/s]\n"
     ]
    },
    {
     "name": "stdout",
     "output_type": "stream",
     "text": [
      "\n",
      "Computed mAP:\n",
      "mAP@1: 0.8706\n",
      "mAP@5: 0.9694\n",
      "mAP@10: 0.9859\n",
      "mAP@15: 0.9906\n",
      "mAP@20: 0.9929\n",
      "56|72 - Unmasked_Other_species_sea-star-re-id-full_event-unaware_training-split_2024-05-05-15-26__2024-05-10-08-04-52__1__densenet121__PT-True - Unmasked_Other_species_sea-star-re-id-full_event-unaware_training-split_2024-05-05-15-26\n",
      "Gallery dataset path: ..\\..\\data\\Unmasked_Other_species_sea-star-re-id-full_event-unaware_training-split_2024-05-05-15-26\\train True\n",
      "Query dataset path: ..\\..\\data\\Unmasked_Other_species_sea-star-re-id-full_event-unaware_training-split_2024-05-05-15-26\\test True\n",
      "Number of identities: 95\n",
      "Number of gallery images: 1509\n",
      "Number of query images: 425\n"
     ]
    },
    {
     "name": "stderr",
     "output_type": "stream",
     "text": [
      "100%|██████████| 1509/1509 [01:16<00:00, 19.74it/s]\n",
      "100%|██████████| 425/425 [00:21<00:00, 19.62it/s]\n"
     ]
    },
    {
     "name": "stdout",
     "output_type": "stream",
     "text": [
      "\n",
      "Computed mAP:\n",
      "mAP@1: 0.8800\n",
      "mAP@5: 0.9576\n",
      "mAP@10: 0.9788\n",
      "mAP@15: 0.9906\n",
      "mAP@20: 0.9976\n",
      "57|72 - Unmasked_Other_species_sea-star-re-id-full_event-unaware_training-split_2024-05-05-15-26__2024-05-10-21-01-08__0__densenet121__PT-True - Unmasked_Other_species_sea-star-re-id-full_event-unaware_training-split_2024-05-05-15-26\n",
      "Gallery dataset path: ..\\..\\data\\Unmasked_Other_species_sea-star-re-id-full_event-unaware_training-split_2024-05-05-15-26\\train True\n",
      "Query dataset path: ..\\..\\data\\Unmasked_Other_species_sea-star-re-id-full_event-unaware_training-split_2024-05-05-15-26\\test True\n",
      "Number of identities: 95\n",
      "Number of gallery images: 1509\n",
      "Number of query images: 425\n"
     ]
    },
    {
     "name": "stderr",
     "output_type": "stream",
     "text": [
      "100%|██████████| 1509/1509 [01:17<00:00, 19.48it/s]\n",
      "100%|██████████| 425/425 [00:21<00:00, 19.58it/s]\n"
     ]
    },
    {
     "name": "stdout",
     "output_type": "stream",
     "text": [
      "\n",
      "Computed mAP:\n",
      "mAP@1: 0.8682\n",
      "mAP@5: 0.9694\n",
      "mAP@10: 0.9882\n",
      "mAP@15: 0.9953\n",
      "mAP@20: 0.9953\n",
      "58|72 - Unmasked_Other_species_sea-star-re-id-full_event-unaware_training-split_2024-05-05-15-26__2024-05-10-21-50-35__1__densenet121__PT-True - Unmasked_Other_species_sea-star-re-id-full_event-unaware_training-split_2024-05-05-15-26\n",
      "Gallery dataset path: ..\\..\\data\\Unmasked_Other_species_sea-star-re-id-full_event-unaware_training-split_2024-05-05-15-26\\train True\n",
      "Query dataset path: ..\\..\\data\\Unmasked_Other_species_sea-star-re-id-full_event-unaware_training-split_2024-05-05-15-26\\test True\n",
      "Number of identities: 95\n",
      "Number of gallery images: 1509\n",
      "Number of query images: 425\n"
     ]
    },
    {
     "name": "stderr",
     "output_type": "stream",
     "text": [
      "100%|██████████| 1509/1509 [01:17<00:00, 19.49it/s]\n",
      "100%|██████████| 425/425 [00:21<00:00, 19.41it/s]\n"
     ]
    },
    {
     "name": "stdout",
     "output_type": "stream",
     "text": [
      "\n",
      "Computed mAP:\n",
      "mAP@1: 0.8706\n",
      "mAP@5: 0.9694\n",
      "mAP@10: 0.9882\n",
      "mAP@15: 0.9906\n",
      "mAP@20: 0.9929\n",
      "59|72 - Unmasked_Other_species_sea-star-re-id-full_event-unaware_training-split_2024-05-05-15-26__2024-05-11-10-04-42__1__densenet121__PT-True - Unmasked_Other_species_sea-star-re-id-full_event-unaware_training-split_2024-05-05-15-26\n",
      "Gallery dataset path: ..\\..\\data\\Unmasked_Other_species_sea-star-re-id-full_event-unaware_training-split_2024-05-05-15-26\\train True\n",
      "Query dataset path: ..\\..\\data\\Unmasked_Other_species_sea-star-re-id-full_event-unaware_training-split_2024-05-05-15-26\\test True\n",
      "Number of identities: 95\n",
      "Number of gallery images: 1509\n",
      "Number of query images: 425\n"
     ]
    },
    {
     "name": "stderr",
     "output_type": "stream",
     "text": [
      "100%|██████████| 1509/1509 [01:16<00:00, 19.67it/s]\n",
      "100%|██████████| 425/425 [00:21<00:00, 19.71it/s]\n"
     ]
    },
    {
     "name": "stdout",
     "output_type": "stream",
     "text": [
      "\n",
      "Computed mAP:\n",
      "mAP@1: 0.8706\n",
      "mAP@5: 0.9835\n",
      "mAP@10: 0.9953\n",
      "mAP@15: 0.9976\n",
      "mAP@20: 0.9976\n",
      "60|72 - Unmasked_Other_species_sea-star-re-id-full_event-unaware_training-split_2024-05-05-15-26__2024-05-11-11-45-12__0__densenet121__PT-True - Unmasked_Other_species_sea-star-re-id-full_event-unaware_training-split_2024-05-05-15-26\n",
      "Gallery dataset path: ..\\..\\data\\Unmasked_Other_species_sea-star-re-id-full_event-unaware_training-split_2024-05-05-15-26\\train True\n",
      "Query dataset path: ..\\..\\data\\Unmasked_Other_species_sea-star-re-id-full_event-unaware_training-split_2024-05-05-15-26\\test True\n",
      "Number of identities: 95\n",
      "Number of gallery images: 1509\n",
      "Number of query images: 425\n"
     ]
    },
    {
     "name": "stderr",
     "output_type": "stream",
     "text": [
      "100%|██████████| 1509/1509 [01:15<00:00, 19.93it/s]\n",
      "100%|██████████| 425/425 [00:21<00:00, 19.63it/s]\n"
     ]
    },
    {
     "name": "stdout",
     "output_type": "stream",
     "text": [
      "\n",
      "Computed mAP:\n",
      "mAP@1: 0.8447\n",
      "mAP@5: 0.9600\n",
      "mAP@10: 0.9694\n",
      "mAP@15: 0.9835\n",
      "mAP@20: 0.9906\n",
      "61|72 - Unmasked_Other_species_sea-star-re-id-full_event-unaware_training-split_2024-05-05-15-33__2024-05-10-08-20-31__0__densenet121__PT-True - Unmasked_Other_species_sea-star-re-id-full_event-unaware_training-split_2024-05-05-15-33\n",
      "Gallery dataset path: ..\\..\\data\\Unmasked_Other_species_sea-star-re-id-full_event-unaware_training-split_2024-05-05-15-33\\train True\n",
      "Query dataset path: ..\\..\\data\\Unmasked_Other_species_sea-star-re-id-full_event-unaware_training-split_2024-05-05-15-33\\test True\n",
      "Number of identities: 95\n",
      "Number of gallery images: 1512\n",
      "Number of query images: 422\n"
     ]
    },
    {
     "name": "stderr",
     "output_type": "stream",
     "text": [
      "100%|██████████| 1512/1512 [01:17<00:00, 19.40it/s]\n",
      "100%|██████████| 422/422 [00:21<00:00, 19.37it/s]\n"
     ]
    },
    {
     "name": "stdout",
     "output_type": "stream",
     "text": [
      "\n",
      "Computed mAP:\n",
      "mAP@1: 0.8649\n",
      "mAP@5: 0.9692\n",
      "mAP@10: 0.9882\n",
      "mAP@15: 0.9882\n",
      "mAP@20: 0.9882\n",
      "62|72 - Unmasked_Other_species_sea-star-re-id-full_event-unaware_training-split_2024-05-05-15-33__2024-05-10-08-43-16__1__densenet121__PT-True - Unmasked_Other_species_sea-star-re-id-full_event-unaware_training-split_2024-05-05-15-33\n",
      "Gallery dataset path: ..\\..\\data\\Unmasked_Other_species_sea-star-re-id-full_event-unaware_training-split_2024-05-05-15-33\\train True\n",
      "Query dataset path: ..\\..\\data\\Unmasked_Other_species_sea-star-re-id-full_event-unaware_training-split_2024-05-05-15-33\\test True\n",
      "Number of identities: 95\n",
      "Number of gallery images: 1512\n",
      "Number of query images: 422\n"
     ]
    },
    {
     "name": "stderr",
     "output_type": "stream",
     "text": [
      "100%|██████████| 1512/1512 [01:16<00:00, 19.67it/s]\n",
      "100%|██████████| 422/422 [00:21<00:00, 19.75it/s]\n"
     ]
    },
    {
     "name": "stdout",
     "output_type": "stream",
     "text": [
      "\n",
      "Computed mAP:\n",
      "mAP@1: 0.8886\n",
      "mAP@5: 0.9645\n",
      "mAP@10: 0.9882\n",
      "mAP@15: 0.9976\n",
      "mAP@20: 0.9976\n",
      "63|72 - Unmasked_Other_species_sea-star-re-id-full_event-unaware_training-split_2024-05-05-15-33__2024-05-10-21-39-56__0__densenet121__PT-True - Unmasked_Other_species_sea-star-re-id-full_event-unaware_training-split_2024-05-05-15-33\n",
      "Gallery dataset path: ..\\..\\data\\Unmasked_Other_species_sea-star-re-id-full_event-unaware_training-split_2024-05-05-15-33\\train True\n",
      "Query dataset path: ..\\..\\data\\Unmasked_Other_species_sea-star-re-id-full_event-unaware_training-split_2024-05-05-15-33\\test True\n",
      "Number of identities: 95\n",
      "Number of gallery images: 1512\n",
      "Number of query images: 422\n"
     ]
    },
    {
     "name": "stderr",
     "output_type": "stream",
     "text": [
      "100%|██████████| 1512/1512 [01:15<00:00, 20.06it/s]\n",
      "100%|██████████| 422/422 [00:21<00:00, 19.58it/s]\n"
     ]
    },
    {
     "name": "stdout",
     "output_type": "stream",
     "text": [
      "\n",
      "Computed mAP:\n",
      "mAP@1: 0.8863\n",
      "mAP@5: 0.9763\n",
      "mAP@10: 0.9858\n",
      "mAP@15: 0.9929\n",
      "mAP@20: 0.9929\n",
      "64|72 - Unmasked_Other_species_sea-star-re-id-full_event-unaware_training-split_2024-05-05-15-33__2024-05-10-22-32-14__1__densenet121__PT-True - Unmasked_Other_species_sea-star-re-id-full_event-unaware_training-split_2024-05-05-15-33\n",
      "Gallery dataset path: ..\\..\\data\\Unmasked_Other_species_sea-star-re-id-full_event-unaware_training-split_2024-05-05-15-33\\train True\n",
      "Query dataset path: ..\\..\\data\\Unmasked_Other_species_sea-star-re-id-full_event-unaware_training-split_2024-05-05-15-33\\test True\n",
      "Number of identities: 95\n",
      "Number of gallery images: 1512\n",
      "Number of query images: 422\n"
     ]
    },
    {
     "name": "stderr",
     "output_type": "stream",
     "text": [
      "100%|██████████| 1512/1512 [01:17<00:00, 19.58it/s]\n",
      "100%|██████████| 422/422 [00:21<00:00, 19.48it/s]\n"
     ]
    },
    {
     "name": "stdout",
     "output_type": "stream",
     "text": [
      "\n",
      "Computed mAP:\n",
      "mAP@1: 0.8602\n",
      "mAP@5: 0.9573\n",
      "mAP@10: 0.9763\n",
      "mAP@15: 0.9882\n",
      "mAP@20: 0.9905\n",
      "65|72 - Unmasked_Other_species_sea-star-re-id-full_event-unaware_training-split_2024-05-05-15-33__2024-05-11-10-40-43__1__densenet121__PT-True - Unmasked_Other_species_sea-star-re-id-full_event-unaware_training-split_2024-05-05-15-33\n",
      "Gallery dataset path: ..\\..\\data\\Unmasked_Other_species_sea-star-re-id-full_event-unaware_training-split_2024-05-05-15-33\\train True\n",
      "Query dataset path: ..\\..\\data\\Unmasked_Other_species_sea-star-re-id-full_event-unaware_training-split_2024-05-05-15-33\\test True\n",
      "Number of identities: 95\n",
      "Number of gallery images: 1512\n",
      "Number of query images: 422\n"
     ]
    },
    {
     "name": "stderr",
     "output_type": "stream",
     "text": [
      "100%|██████████| 1512/1512 [01:17<00:00, 19.61it/s]\n",
      "100%|██████████| 422/422 [00:21<00:00, 19.66it/s]\n"
     ]
    },
    {
     "name": "stdout",
     "output_type": "stream",
     "text": [
      "\n",
      "Computed mAP:\n",
      "mAP@1: 0.8910\n",
      "mAP@5: 0.9739\n",
      "mAP@10: 0.9905\n",
      "mAP@15: 0.9929\n",
      "mAP@20: 0.9976\n",
      "66|72 - Unmasked_Other_species_sea-star-re-id-full_event-unaware_training-split_2024-05-05-15-33__2024-05-11-12-26-22__0__densenet121__PT-True - Unmasked_Other_species_sea-star-re-id-full_event-unaware_training-split_2024-05-05-15-33\n",
      "Gallery dataset path: ..\\..\\data\\Unmasked_Other_species_sea-star-re-id-full_event-unaware_training-split_2024-05-05-15-33\\train True\n",
      "Query dataset path: ..\\..\\data\\Unmasked_Other_species_sea-star-re-id-full_event-unaware_training-split_2024-05-05-15-33\\test True\n",
      "Number of identities: 95\n",
      "Number of gallery images: 1512\n",
      "Number of query images: 422\n"
     ]
    },
    {
     "name": "stderr",
     "output_type": "stream",
     "text": [
      "100%|██████████| 1512/1512 [01:17<00:00, 19.48it/s]\n",
      "100%|██████████| 422/422 [00:21<00:00, 19.49it/s]\n"
     ]
    },
    {
     "name": "stdout",
     "output_type": "stream",
     "text": [
      "\n",
      "Computed mAP:\n",
      "mAP@1: 0.8555\n",
      "mAP@5: 0.9739\n",
      "mAP@10: 0.9882\n",
      "mAP@15: 0.9929\n",
      "mAP@20: 0.9953\n",
      "67|72 - Unmasked_Other_species_sea-star-re-id-full_event-unaware_training-split_2024-05-05-15-40__2024-05-10-08-57-47__0__densenet121__PT-True - Unmasked_Other_species_sea-star-re-id-full_event-unaware_training-split_2024-05-05-15-40\n",
      "Gallery dataset path: ..\\..\\data\\Unmasked_Other_species_sea-star-re-id-full_event-unaware_training-split_2024-05-05-15-40\\train True\n",
      "Query dataset path: ..\\..\\data\\Unmasked_Other_species_sea-star-re-id-full_event-unaware_training-split_2024-05-05-15-40\\test True\n",
      "Number of identities: 95\n",
      "Number of gallery images: 1508\n",
      "Number of query images: 426\n"
     ]
    },
    {
     "name": "stderr",
     "output_type": "stream",
     "text": [
      "100%|██████████| 1508/1508 [01:16<00:00, 19.71it/s]\n",
      "100%|██████████| 426/426 [00:21<00:00, 19.50it/s]\n"
     ]
    },
    {
     "name": "stdout",
     "output_type": "stream",
     "text": [
      "\n",
      "Computed mAP:\n",
      "mAP@1: 0.8685\n",
      "mAP@5: 0.9601\n",
      "mAP@10: 0.9836\n",
      "mAP@15: 0.9836\n",
      "mAP@20: 0.9883\n",
      "68|72 - Unmasked_Other_species_sea-star-re-id-full_event-unaware_training-split_2024-05-05-15-40__2024-05-10-09-21-40__1__densenet121__PT-True - Unmasked_Other_species_sea-star-re-id-full_event-unaware_training-split_2024-05-05-15-40\n",
      "Gallery dataset path: ..\\..\\data\\Unmasked_Other_species_sea-star-re-id-full_event-unaware_training-split_2024-05-05-15-40\\train True\n",
      "Query dataset path: ..\\..\\data\\Unmasked_Other_species_sea-star-re-id-full_event-unaware_training-split_2024-05-05-15-40\\test True\n",
      "Number of identities: 95\n",
      "Number of gallery images: 1508\n",
      "Number of query images: 426\n"
     ]
    },
    {
     "name": "stderr",
     "output_type": "stream",
     "text": [
      "100%|██████████| 1508/1508 [01:17<00:00, 19.51it/s]\n",
      "100%|██████████| 426/426 [00:21<00:00, 19.57it/s]\n"
     ]
    },
    {
     "name": "stdout",
     "output_type": "stream",
     "text": [
      "\n",
      "Computed mAP:\n",
      "mAP@1: 0.8662\n",
      "mAP@5: 0.9671\n",
      "mAP@10: 0.9812\n",
      "mAP@15: 0.9930\n",
      "mAP@20: 0.9930\n",
      "69|72 - Unmasked_Other_species_sea-star-re-id-full_event-unaware_training-split_2024-05-05-15-40__2024-05-10-22-18-43__0__densenet121__PT-True - Unmasked_Other_species_sea-star-re-id-full_event-unaware_training-split_2024-05-05-15-40\n",
      "Gallery dataset path: ..\\..\\data\\Unmasked_Other_species_sea-star-re-id-full_event-unaware_training-split_2024-05-05-15-40\\train True\n",
      "Query dataset path: ..\\..\\data\\Unmasked_Other_species_sea-star-re-id-full_event-unaware_training-split_2024-05-05-15-40\\test True\n",
      "Number of identities: 95\n",
      "Number of gallery images: 1508\n",
      "Number of query images: 426\n"
     ]
    },
    {
     "name": "stderr",
     "output_type": "stream",
     "text": [
      "100%|██████████| 1508/1508 [01:16<00:00, 19.61it/s]\n",
      "100%|██████████| 426/426 [00:21<00:00, 19.60it/s]\n"
     ]
    },
    {
     "name": "stdout",
     "output_type": "stream",
     "text": [
      "\n",
      "Computed mAP:\n",
      "mAP@1: 0.8709\n",
      "mAP@5: 0.9648\n",
      "mAP@10: 0.9742\n",
      "mAP@15: 0.9906\n",
      "mAP@20: 0.9930\n",
      "70|72 - Unmasked_Other_species_sea-star-re-id-full_event-unaware_training-split_2024-05-05-15-40__2024-05-10-23-13-26__1__densenet121__PT-True - Unmasked_Other_species_sea-star-re-id-full_event-unaware_training-split_2024-05-05-15-40\n",
      "Gallery dataset path: ..\\..\\data\\Unmasked_Other_species_sea-star-re-id-full_event-unaware_training-split_2024-05-05-15-40\\train True\n",
      "Query dataset path: ..\\..\\data\\Unmasked_Other_species_sea-star-re-id-full_event-unaware_training-split_2024-05-05-15-40\\test True\n",
      "Number of identities: 95\n",
      "Number of gallery images: 1508\n",
      "Number of query images: 426\n"
     ]
    },
    {
     "name": "stderr",
     "output_type": "stream",
     "text": [
      "100%|██████████| 1508/1508 [01:16<00:00, 19.75it/s]\n",
      "100%|██████████| 426/426 [00:21<00:00, 19.52it/s]\n"
     ]
    },
    {
     "name": "stdout",
     "output_type": "stream",
     "text": [
      "\n",
      "Computed mAP:\n",
      "mAP@1: 0.8709\n",
      "mAP@5: 0.9531\n",
      "mAP@10: 0.9671\n",
      "mAP@15: 0.9742\n",
      "mAP@20: 0.9859\n",
      "71|72 - Unmasked_Other_species_sea-star-re-id-full_event-unaware_training-split_2024-05-05-15-40__2024-05-11-11-16-35__1__densenet121__PT-True - Unmasked_Other_species_sea-star-re-id-full_event-unaware_training-split_2024-05-05-15-40\n",
      "Gallery dataset path: ..\\..\\data\\Unmasked_Other_species_sea-star-re-id-full_event-unaware_training-split_2024-05-05-15-40\\train True\n",
      "Query dataset path: ..\\..\\data\\Unmasked_Other_species_sea-star-re-id-full_event-unaware_training-split_2024-05-05-15-40\\test True\n",
      "Number of identities: 95\n",
      "Number of gallery images: 1508\n",
      "Number of query images: 426\n"
     ]
    },
    {
     "name": "stderr",
     "output_type": "stream",
     "text": [
      "100%|██████████| 1508/1508 [01:16<00:00, 19.63it/s]\n",
      "100%|██████████| 426/426 [00:21<00:00, 19.56it/s]\n"
     ]
    },
    {
     "name": "stdout",
     "output_type": "stream",
     "text": [
      "\n",
      "Computed mAP:\n",
      "mAP@1: 0.8568\n",
      "mAP@5: 0.9484\n",
      "mAP@10: 0.9765\n",
      "mAP@15: 0.9859\n",
      "mAP@20: 0.9883\n",
      "72|72 - Unmasked_Other_species_sea-star-re-id-full_event-unaware_training-split_2024-05-05-15-40__2024-05-11-13-07-33__0__densenet121__PT-True - Unmasked_Other_species_sea-star-re-id-full_event-unaware_training-split_2024-05-05-15-40\n",
      "Gallery dataset path: ..\\..\\data\\Unmasked_Other_species_sea-star-re-id-full_event-unaware_training-split_2024-05-05-15-40\\train True\n",
      "Query dataset path: ..\\..\\data\\Unmasked_Other_species_sea-star-re-id-full_event-unaware_training-split_2024-05-05-15-40\\test True\n",
      "Number of identities: 95\n",
      "Number of gallery images: 1508\n",
      "Number of query images: 426\n"
     ]
    },
    {
     "name": "stderr",
     "output_type": "stream",
     "text": [
      "100%|██████████| 1508/1508 [01:16<00:00, 19.61it/s]\n",
      "100%|██████████| 426/426 [00:21<00:00, 19.57it/s]\n"
     ]
    },
    {
     "name": "stdout",
     "output_type": "stream",
     "text": [
      "\n",
      "Computed mAP:\n",
      "mAP@1: 0.8615\n",
      "mAP@5: 0.9671\n",
      "mAP@10: 0.9765\n",
      "mAP@15: 0.9906\n",
      "mAP@20: 0.9906\n"
     ]
    }
   ],
   "source": [
    "date_txt_now = datetime.datetime.now().strftime('%Y-%m-%d-%H-%M-%S')\n",
    "path_results_root = os.path.join(evaluations_root, f'mAP_{date_txt_now}')\n",
    "if not os.path.exists(path_results_root):\n",
    "    os.makedirs(path_results_root)\n",
    "\n",
    "path_results_dict = {}\n",
    "\n",
    "k_values = [1, 5, 10, 15, 20]\n",
    "n = 0\n",
    "for path_model, path_dataset in model_datasets_dict.items():\n",
    "    print(f'{n+1}|{len(model_datasets_dict)} - {os.path.basename(os.path.dirname(path_model))} - {os.path.basename(path_dataset)}')\n",
    "    path_model_dir = os.path.dirname(path_model)\n",
    "\n",
    "    path_settings = os.path.join(path_model_dir, 'logs', 'settings.txt')\n",
    "    number_of_layers = get_number_of_head_layers(path_settings)\n",
    "    embedding_size = get_embedding_size(path_settings)\n",
    "\n",
    "    if number_of_layers == None or embedding_size == None:\n",
    "        print(f'number of layers is: {number_of_layers}. embedding dim is {embedding_size}')\n",
    "        n += 1\n",
    "        continue\n",
    "\n",
    "    # Instantiate the model\n",
    "    model = CustomDenseNet(version='densenet121', pretrained=False,\n",
    "                           embedding_dim=embedding_size, num_embed_layers=number_of_layers)  # Set pretrained=False as we'll load our weights\n",
    "\n",
    "    # Load the trained weights\n",
    "    model.load_state_dict(torch.load(path_model))\n",
    "    device = torch.device('cuda:0' if torch.cuda.is_available() else 'cpu')\n",
    "    model.to(device)\n",
    "\n",
    "    # Check if the model has been loaded correctly\n",
    "    model.eval()\n",
    "\n",
    "    # Gallery dataset path\n",
    "    #path_gallery = r'..\\..\\data\\Pycnopodia_helianthoides_full_event-unaware_training-split_2024-05-03-18-41\\train'\n",
    "    path_gallery = os.path.join(path_dataset, 'train')\n",
    "    print(f'Gallery dataset path: {path_gallery} {os.path.exists(path_gallery)}')\n",
    "    ## each subdirectory in the gallery is a identity class\n",
    "    ## each subdirectory contains images of that identity\n",
    "    ## the subdirectory name is the identity\n",
    "    ## the images are in png or jpg format\n",
    "    ## we need to make a code to num dictionary\n",
    "    ## we need to load each image and pass it through the model to get the embeddings\n",
    "    ## we need to store the embeddings in a list of length equal to the number of images\n",
    "    ## we need to store the identity in a list of length equal to the number of images\n",
    "\n",
    "    # Query dataset path\n",
    "    #path_query = r'..\\..\\data\\Pycnopodia_helianthoides_full_event-unaware_training-split_2024-05-03-18-41\\test'\n",
    "    path_query = os.path.join(path_dataset, 'test')\n",
    "    print(f'Query dataset path: {path_query} {os.path.exists(path_query)}')\n",
    "    ## each subdirectory in the gallery is a identity class\n",
    "    ## each subdirectory contains images of that identity\n",
    "    ## the subdirectory name is the identity\n",
    "    ## the images are in png or jpg format\n",
    "    ## we need to make a code to num dictionary\n",
    "    ## these need to be the same as the gallery dataset\n",
    "    ## we need to load each image and pass it through the model to get the embeddings\n",
    "    ## we need to store the embeddings in a list of length equal to the number of images\n",
    "    ## we need to store the identity in a list of length equal to the number of images\n",
    "\n",
    "    def get_id (path):\n",
    "        return os.path.basename(os.path.dirname(path))\n",
    "\n",
    "    path_gallery_images = glob.glob(os.path.join(path_gallery, '*/*.png'))\n",
    "    path_gallery_images += glob.glob(os.path.join(path_gallery, '*/*.jpg'))\n",
    "    gallery_ids = [get_id(path) for path in path_gallery_images]\n",
    "\n",
    "    path_query_images = glob.glob(os.path.join(path_query, '*/*.png'))\n",
    "    path_query_images += glob.glob(os.path.join(path_query, '*/*.jpg'))\n",
    "    query_ids = [get_id(path) for path in path_query_images]\n",
    "\n",
    "    ids_dict = {id: i for i, id in enumerate(sorted(list(set(gallery_ids + query_ids))))}\n",
    "    num_dict = {i: id for i, id in enumerate(sorted(list(set(gallery_ids + query_ids))))}\n",
    "\n",
    "    gallery_ids = [ids_dict[id] for id in gallery_ids]\n",
    "    query_ids = [ids_dict[id] for id in query_ids]\n",
    "\n",
    "    print(f'Number of identities: {len(ids_dict)}')\n",
    "    print(f'Number of gallery images: {len(path_gallery_images)}')\n",
    "    print(f'Number of query images: {len(path_query_images)}')\n",
    "\n",
    "    # Initialize the runtime transforms\n",
    "    runtime_transforms = RuntimeTransforms(h=256, w=256, resize_ratio=0.5)\n",
    "\n",
    "    gallery_embeddings = []\n",
    "    pbar = tqdm(total=len(path_gallery_images), position=0, leave=True)\n",
    "    for path in path_gallery_images:\n",
    "        img = Image.open(path).convert(\"RGB\")\n",
    "        transformed_images = runtime_transforms.apply_transforms(img) ## returns a list of transformed images\n",
    "\n",
    "        # Embed all the transformed images at once as a batch\n",
    "        batch = torch.stack([transformed_image for transformed_image in transformed_images]).to(device)\n",
    "        with torch.no_grad():\n",
    "            embeddings = model(batch).cpu().numpy()\n",
    "        # Average the embeddings\n",
    "        averaged_embedding = np.mean(embeddings, axis=0)\n",
    "        gallery_embeddings.append(averaged_embedding)\n",
    "        pbar.update(1)\n",
    "    pbar.close()\n",
    "\n",
    "    query_embeddings = []\n",
    "    pbar = tqdm(total=len(path_query_images), position=0, leave=True)\n",
    "    for path in path_query_images:\n",
    "        img = Image.open(path).convert(\"RGB\")\n",
    "        transformed_images = runtime_transforms.apply_transforms(img)  # Returns a list of transformed images\n",
    "\n",
    "        # Embed all the transformed images at once as a batch\n",
    "        batch = torch.stack([transformed_image for transformed_image in transformed_images]).to(device)\n",
    "        with torch.no_grad():\n",
    "            embeddings = model(batch).cpu().numpy()\n",
    "\n",
    "        # Average the embeddings\n",
    "        averaged_embedding = np.mean(embeddings, axis=0)\n",
    "        query_embeddings.append(averaged_embedding)\n",
    "        pbar.update(1)\n",
    "    pbar.close()\n",
    "\n",
    "    # Convert to numpy arrays\n",
    "    gallery_embeddings = np.array(gallery_embeddings)\n",
    "    query_embeddings = np.array(query_embeddings)\n",
    "    gallery_ids = np.array(gallery_ids)\n",
    "    query_ids = np.array(query_ids)\n",
    "\n",
    "    # Compute mAP using the computed embeddings\n",
    "    mAPs_computed = compute_mAP_for_ks_numpy(query_embeddings, gallery_embeddings, query_ids, gallery_ids, k_values)\n",
    "\n",
    "    print(\"\\nComputed mAP:\")\n",
    "    mAP_dict = {k: mAPs_computed[k] for k in k_values}\n",
    "    for k in k_values:\n",
    "        print(f\"mAP@{k}: {mAP_dict[k]:.4f}\")\n",
    "    # save mAP dict\n",
    "    path_npy = os.path.join(path_model_dir, 'logs', 'mAP_dict.npy')\n",
    "    np.save(path_npy, mAP_dict)\n",
    "\n",
    "    ## define a dataframe to store the embeddings\n",
    "    ## columns will be ['image_path', 'identity', 'gallery/query', 'embedding']\n",
    "    ## save the dataframe as a pickle file\n",
    "    dataframe = pd.DataFrame(columns=['image_path', 'identity', 'gallery/query', 'embedding'])\n",
    "    for i, path in enumerate(path_gallery_images):\n",
    "        dataframe.loc[i] = [path, gallery_ids[i], 'gallery', gallery_embeddings[i].tolist()]\n",
    "    for i, path in enumerate(path_query_images):\n",
    "        dataframe.loc[len(path_gallery_images) + i] = [path, query_ids[i], 'query', query_embeddings[i].tolist()]\n",
    "    path_embeddings = os.path.join(path_model_dir, 'logs', 'mAP_embeddings.pkl')\n",
    "    dataframe.to_pickle(path_embeddings)\n",
    "\n",
    "    path_results_dict[path_model] = [path_model, path_dataset, mAP_dict, path_embeddings]\n",
    "\n",
    "    n += 1\n",
    "\n",
    "## save the results dict\n",
    "path_results_dict_pkl = os.path.join(path_results_root, 'mAP_results_dict.pkl')\n",
    "pd.to_pickle(path_results_dict, path_results_dict_pkl)\n"
   ],
   "metadata": {
    "collapsed": false,
    "ExecuteTime": {
     "end_time": "2024-05-30T21:17:37.992224700Z",
     "start_time": "2024-05-30T16:55:23.315110900Z"
    }
   }
  }
 ],
 "metadata": {
  "kernelspec": {
   "display_name": "Python 3",
   "language": "python",
   "name": "python3"
  },
  "language_info": {
   "codemirror_mode": {
    "name": "ipython",
    "version": 2
   },
   "file_extension": ".py",
   "mimetype": "text/x-python",
   "name": "python",
   "nbconvert_exporter": "python",
   "pygments_lexer": "ipython2",
   "version": "2.7.6"
  }
 },
 "nbformat": 4,
 "nbformat_minor": 0
}
